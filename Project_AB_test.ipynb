{
 "cells": [
  {
   "cell_type": "markdown",
   "metadata": {},
   "source": [
    "Задача:\n",
    "\n",
    "В дейтинговом приложении тестируется гипотеза:\n",
    "\n",
    "Помимо базовых функций, в приложении также имеется премиум-подписка, которая дает доступ к ряду важных дополнительных возможностей. Был проведен A/B тест, в рамках которого для новых пользователей из нескольких стран была изменена стоимость премиум-подписки при покупке через две новые платежные системы. При этом стоимость пробного периода оставалась прежней.\n",
    "\n",
    "Проверьте:\n",
    "\n",
    "Был ли эксперимент успешен в целом.\n",
    "Проанализируйте, имеет ли нововведение смысл среди каких-либо конкретных групп пользователей."
   ]
  },
  {
   "cell_type": "code",
   "execution_count": 1,
   "metadata": {},
   "outputs": [],
   "source": [
    "import pandas as pd\n",
    "import numpy as np\n",
    "import pylab\n",
    "\n",
    "from datetime import datetime\n",
    "from datetime import timedelta\n",
    "from dateutil.relativedelta import *\n",
    "\n",
    "from scipy import stats\n",
    "from scipy.stats import norm\n",
    "import scipy.stats as ss\n",
    "from scipy.stats import mannwhitneyu\n",
    "\n",
    "import matplotlib.pyplot as plt\n",
    "import seaborn as sns\n",
    "\n",
    "from tqdm.auto import tqdm"
   ]
  },
  {
   "cell_type": "code",
   "execution_count": 2,
   "metadata": {},
   "outputs": [],
   "source": [
    "users_control_1 = pd.read_csv(\n",
    "    r'C:\\Users\\User\\Desktop\\Карпов_курсы\\Итоговый_проект\\Вариант_3\\Проект_3_users_control_1.csv',\n",
    "    sep=';')"
   ]
  },
  {
   "cell_type": "code",
   "execution_count": 3,
   "metadata": {},
   "outputs": [
    {
     "data": {
      "text/html": [
       "<div>\n",
       "<style scoped>\n",
       "    .dataframe tbody tr th:only-of-type {\n",
       "        vertical-align: middle;\n",
       "    }\n",
       "\n",
       "    .dataframe tbody tr th {\n",
       "        vertical-align: top;\n",
       "    }\n",
       "\n",
       "    .dataframe thead th {\n",
       "        text-align: right;\n",
       "    }\n",
       "</style>\n",
       "<table border=\"1\" class=\"dataframe\">\n",
       "  <thead>\n",
       "    <tr style=\"text-align: right;\">\n",
       "      <th></th>\n",
       "      <th>uid</th>\n",
       "      <th>age</th>\n",
       "      <th>attraction_coeff</th>\n",
       "      <th>coins</th>\n",
       "      <th>country</th>\n",
       "      <th>visit_days</th>\n",
       "      <th>gender</th>\n",
       "      <th>age_filter_start</th>\n",
       "      <th>age_filter_end</th>\n",
       "      <th>views_count</th>\n",
       "      <th>was_premium</th>\n",
       "      <th>is_premium</th>\n",
       "      <th>total_revenue</th>\n",
       "    </tr>\n",
       "  </thead>\n",
       "  <tbody>\n",
       "    <tr>\n",
       "      <th>0</th>\n",
       "      <td>892319115</td>\n",
       "      <td>25</td>\n",
       "      <td>435</td>\n",
       "      <td>NaN</td>\n",
       "      <td>United States of America</td>\n",
       "      <td>1,2,3,4,5,6</td>\n",
       "      <td>0</td>\n",
       "      <td>22</td>\n",
       "      <td>32</td>\n",
       "      <td>982</td>\n",
       "      <td>NaN</td>\n",
       "      <td>NaN</td>\n",
       "      <td>0</td>\n",
       "    </tr>\n",
       "    <tr>\n",
       "      <th>1</th>\n",
       "      <td>891248523</td>\n",
       "      <td>29</td>\n",
       "      <td>500</td>\n",
       "      <td>NaN</td>\n",
       "      <td>United States of America</td>\n",
       "      <td>1,2</td>\n",
       "      <td>1</td>\n",
       "      <td>26</td>\n",
       "      <td>32</td>\n",
       "      <td>12</td>\n",
       "      <td>NaN</td>\n",
       "      <td>NaN</td>\n",
       "      <td>0</td>\n",
       "    </tr>\n",
       "  </tbody>\n",
       "</table>\n",
       "</div>"
      ],
      "text/plain": [
       "         uid  age  attraction_coeff  coins                   country  \\\n",
       "0  892319115   25               435    NaN  United States of America   \n",
       "1  891248523   29               500    NaN  United States of America   \n",
       "\n",
       "    visit_days  gender  age_filter_start  age_filter_end  views_count  \\\n",
       "0  1,2,3,4,5,6       0                22              32          982   \n",
       "1          1,2       1                26              32           12   \n",
       "\n",
       "   was_premium  is_premium  total_revenue  \n",
       "0          NaN         NaN              0  \n",
       "1          NaN         NaN              0  "
      ]
     },
     "execution_count": 3,
     "metadata": {},
     "output_type": "execute_result"
    }
   ],
   "source": [
    "users_control_1.head(2)"
   ]
  },
  {
   "cell_type": "code",
   "execution_count": 4,
   "metadata": {},
   "outputs": [
    {
     "name": "stdout",
     "output_type": "stream",
     "text": [
      "<class 'pandas.core.frame.DataFrame'>\n",
      "RangeIndex: 4340 entries, 0 to 4339\n",
      "Data columns (total 13 columns):\n",
      " #   Column            Non-Null Count  Dtype  \n",
      "---  ------            --------------  -----  \n",
      " 0   uid               4340 non-null   int64  \n",
      " 1   age               4340 non-null   int64  \n",
      " 2   attraction_coeff  4340 non-null   int64  \n",
      " 3   coins             60 non-null     float64\n",
      " 4   country           4340 non-null   object \n",
      " 5   visit_days        3016 non-null   object \n",
      " 6   gender            4340 non-null   int64  \n",
      " 7   age_filter_start  4340 non-null   int64  \n",
      " 8   age_filter_end    4340 non-null   int64  \n",
      " 9   views_count       4340 non-null   int64  \n",
      " 10  was_premium       436 non-null    float64\n",
      " 11  is_premium        192 non-null    float64\n",
      " 12  total_revenue     4340 non-null   int64  \n",
      "dtypes: float64(3), int64(8), object(2)\n",
      "memory usage: 440.9+ KB\n"
     ]
    }
   ],
   "source": [
    "users_control_1.info()"
   ]
  },
  {
   "cell_type": "code",
   "execution_count": 5,
   "metadata": {
    "scrolled": true
   },
   "outputs": [],
   "source": [
    "users_control_2 = pd.read_csv(\n",
    "    r'C:\\Users\\User\\Desktop\\Карпов_курсы\\Итоговый_проект\\Вариант_3\\Проект_3_users_control_2.csv',\n",
    "    sep=';')"
   ]
  },
  {
   "cell_type": "code",
   "execution_count": 6,
   "metadata": {},
   "outputs": [
    {
     "name": "stdout",
     "output_type": "stream",
     "text": [
      "<class 'pandas.core.frame.DataFrame'>\n",
      "RangeIndex: 4264 entries, 0 to 4263\n",
      "Data columns (total 13 columns):\n",
      " #   Column            Non-Null Count  Dtype  \n",
      "---  ------            --------------  -----  \n",
      " 0   uid               4264 non-null   int64  \n",
      " 1   age               4264 non-null   int64  \n",
      " 2   attraction_coeff  4264 non-null   int64  \n",
      " 3   coins             61 non-null     float64\n",
      " 4   country           4264 non-null   object \n",
      " 5   visit_days        2900 non-null   object \n",
      " 6   gender            4264 non-null   int64  \n",
      " 7   age_filter_start  4264 non-null   int64  \n",
      " 8   age_filter_end    4264 non-null   int64  \n",
      " 9   views_count       4264 non-null   int64  \n",
      " 10  was_premium       411 non-null    float64\n",
      " 11  is_premium        191 non-null    float64\n",
      " 12  total_revenue     4264 non-null   int64  \n",
      "dtypes: float64(3), int64(8), object(2)\n",
      "memory usage: 433.2+ KB\n"
     ]
    }
   ],
   "source": [
    "users_control_2.info()"
   ]
  },
  {
   "cell_type": "code",
   "execution_count": 7,
   "metadata": {},
   "outputs": [],
   "source": [
    "users_test = pd.read_csv(\n",
    "    r'C:\\Users\\User\\Desktop\\Карпов_курсы\\Итоговый_проект\\Вариант_3\\Проект_3_users_test.csv',\n",
    "    sep=';')"
   ]
  },
  {
   "cell_type": "code",
   "execution_count": 8,
   "metadata": {},
   "outputs": [
    {
     "name": "stdout",
     "output_type": "stream",
     "text": [
      "<class 'pandas.core.frame.DataFrame'>\n",
      "RangeIndex: 4308 entries, 0 to 4307\n",
      "Data columns (total 13 columns):\n",
      " #   Column            Non-Null Count  Dtype  \n",
      "---  ------            --------------  -----  \n",
      " 0   uid               4308 non-null   int64  \n",
      " 1   age               4308 non-null   int64  \n",
      " 2   attraction_coeff  4308 non-null   int64  \n",
      " 3   coins             49 non-null     float64\n",
      " 4   country           4308 non-null   object \n",
      " 5   visit_days        2978 non-null   object \n",
      " 6   gender            4308 non-null   int64  \n",
      " 7   age_filter_start  4308 non-null   int64  \n",
      " 8   age_filter_end    4308 non-null   int64  \n",
      " 9   views_count       4308 non-null   int64  \n",
      " 10  was_premium       408 non-null    float64\n",
      " 11  is_premium        157 non-null    float64\n",
      " 12  total_revenue     4308 non-null   int64  \n",
      "dtypes: float64(3), int64(8), object(2)\n",
      "memory usage: 437.7+ KB\n"
     ]
    }
   ],
   "source": [
    "users_test.info()"
   ]
  },
  {
   "cell_type": "code",
   "execution_count": 9,
   "metadata": {
    "scrolled": true
   },
   "outputs": [],
   "source": [
    "transactions_control_1 = pd.read_csv(\n",
    "    r'C:\\Users\\User\\Desktop\\Карпов_курсы\\Итоговый_проект\\Вариант_3\\Проект_3_transactions_control_1.csv',\n",
    "    sep=';', \n",
    "    parse_dates=['joined_at','paid_at'])"
   ]
  },
  {
   "cell_type": "code",
   "execution_count": 10,
   "metadata": {},
   "outputs": [
    {
     "data": {
      "text/html": [
       "<div>\n",
       "<style scoped>\n",
       "    .dataframe tbody tr th:only-of-type {\n",
       "        vertical-align: middle;\n",
       "    }\n",
       "\n",
       "    .dataframe tbody tr th {\n",
       "        vertical-align: top;\n",
       "    }\n",
       "\n",
       "    .dataframe thead th {\n",
       "        text-align: right;\n",
       "    }\n",
       "</style>\n",
       "<table border=\"1\" class=\"dataframe\">\n",
       "  <thead>\n",
       "    <tr style=\"text-align: right;\">\n",
       "      <th></th>\n",
       "      <th>uid</th>\n",
       "      <th>country</th>\n",
       "      <th>joined_at</th>\n",
       "      <th>paid_at</th>\n",
       "      <th>revenue</th>\n",
       "      <th>payment_id</th>\n",
       "      <th>from_page</th>\n",
       "      <th>product_type</th>\n",
       "    </tr>\n",
       "  </thead>\n",
       "  <tbody>\n",
       "    <tr>\n",
       "      <th>0</th>\n",
       "      <td>891319275.0</td>\n",
       "      <td>France</td>\n",
       "      <td>2017-05-11 19:57:00</td>\n",
       "      <td>2017-12-11 21:57:00</td>\n",
       "      <td>12727.0</td>\n",
       "      <td>147.0</td>\n",
       "      <td>trial_vip_popup</td>\n",
       "      <td>trial_premium</td>\n",
       "    </tr>\n",
       "    <tr>\n",
       "      <th>1</th>\n",
       "      <td>892421826.0</td>\n",
       "      <td>Israel</td>\n",
       "      <td>2017-10-14 12:46:00</td>\n",
       "      <td>2017-10-23 12:54:00</td>\n",
       "      <td>14586.0</td>\n",
       "      <td>147.0</td>\n",
       "      <td>trial_vip_popup</td>\n",
       "      <td>trial_premium</td>\n",
       "    </tr>\n",
       "  </tbody>\n",
       "</table>\n",
       "</div>"
      ],
      "text/plain": [
       "           uid country           joined_at             paid_at  revenue  \\\n",
       "0  891319275.0  France 2017-05-11 19:57:00 2017-12-11 21:57:00  12727.0   \n",
       "1  892421826.0  Israel 2017-10-14 12:46:00 2017-10-23 12:54:00  14586.0   \n",
       "\n",
       "   payment_id        from_page   product_type  \n",
       "0       147.0  trial_vip_popup  trial_premium  \n",
       "1       147.0  trial_vip_popup  trial_premium  "
      ]
     },
     "execution_count": 10,
     "metadata": {},
     "output_type": "execute_result"
    }
   ],
   "source": [
    "transactions_control_1.head(2)"
   ]
  },
  {
   "cell_type": "code",
   "execution_count": 11,
   "metadata": {},
   "outputs": [
    {
     "name": "stdout",
     "output_type": "stream",
     "text": [
      "<class 'pandas.core.frame.DataFrame'>\n",
      "RangeIndex: 1007 entries, 0 to 1006\n",
      "Data columns (total 8 columns):\n",
      " #   Column        Non-Null Count  Dtype         \n",
      "---  ------        --------------  -----         \n",
      " 0   uid           377 non-null    float64       \n",
      " 1   country       377 non-null    object        \n",
      " 2   joined_at     377 non-null    datetime64[ns]\n",
      " 3   paid_at       377 non-null    datetime64[ns]\n",
      " 4   revenue       377 non-null    float64       \n",
      " 5   payment_id    377 non-null    float64       \n",
      " 6   from_page     377 non-null    object        \n",
      " 7   product_type  377 non-null    object        \n",
      "dtypes: datetime64[ns](2), float64(3), object(3)\n",
      "memory usage: 63.1+ KB\n"
     ]
    }
   ],
   "source": [
    "transactions_control_1.info()"
   ]
  },
  {
   "cell_type": "code",
   "execution_count": null,
   "metadata": {},
   "outputs": [],
   "source": [
    "# видим что считалось много пустых сторк. Удалим их из датафрэйма"
   ]
  },
  {
   "cell_type": "code",
   "execution_count": 12,
   "metadata": {},
   "outputs": [],
   "source": [
    "transactions_control_1 = transactions_control_1[transactions_control_1.uid.notnull()]"
   ]
  },
  {
   "cell_type": "code",
   "execution_count": 13,
   "metadata": {
    "scrolled": true
   },
   "outputs": [
    {
     "name": "stdout",
     "output_type": "stream",
     "text": [
      "<class 'pandas.core.frame.DataFrame'>\n",
      "Int64Index: 377 entries, 0 to 376\n",
      "Data columns (total 8 columns):\n",
      " #   Column        Non-Null Count  Dtype         \n",
      "---  ------        --------------  -----         \n",
      " 0   uid           377 non-null    float64       \n",
      " 1   country       377 non-null    object        \n",
      " 2   joined_at     377 non-null    datetime64[ns]\n",
      " 3   paid_at       377 non-null    datetime64[ns]\n",
      " 4   revenue       377 non-null    float64       \n",
      " 5   payment_id    377 non-null    float64       \n",
      " 6   from_page     377 non-null    object        \n",
      " 7   product_type  377 non-null    object        \n",
      "dtypes: datetime64[ns](2), float64(3), object(3)\n",
      "memory usage: 26.5+ KB\n"
     ]
    }
   ],
   "source": [
    "transactions_control_1.info()"
   ]
  },
  {
   "cell_type": "code",
   "execution_count": 14,
   "metadata": {},
   "outputs": [],
   "source": [
    "transactions_control_2 = pd.read_csv(\n",
    "    r'C:\\Users\\User\\Desktop\\Карпов_курсы\\Итоговый_проект\\Вариант_3\\Проект_3_transactions_control_2.csv',\n",
    "    sep=';', \n",
    "    parse_dates=['joined_at','paid_at'])"
   ]
  },
  {
   "cell_type": "code",
   "execution_count": 15,
   "metadata": {},
   "outputs": [
    {
     "name": "stdout",
     "output_type": "stream",
     "text": [
      "<class 'pandas.core.frame.DataFrame'>\n",
      "RangeIndex: 328 entries, 0 to 327\n",
      "Data columns (total 8 columns):\n",
      " #   Column        Non-Null Count  Dtype         \n",
      "---  ------        --------------  -----         \n",
      " 0   uid           328 non-null    int64         \n",
      " 1   country       328 non-null    object        \n",
      " 2   joined_at     328 non-null    datetime64[ns]\n",
      " 3   paid_at       328 non-null    datetime64[ns]\n",
      " 4   revenue       328 non-null    int64         \n",
      " 5   payment_id    328 non-null    int64         \n",
      " 6   from_page     328 non-null    object        \n",
      " 7   product_type  328 non-null    object        \n",
      "dtypes: datetime64[ns](2), int64(3), object(3)\n",
      "memory usage: 20.6+ KB\n"
     ]
    }
   ],
   "source": [
    "transactions_control_2.info()"
   ]
  },
  {
   "cell_type": "code",
   "execution_count": 16,
   "metadata": {},
   "outputs": [],
   "source": [
    "transactions_test = pd.read_csv(\n",
    "    r'C:\\Users\\User\\Desktop\\Карпов_курсы\\Итоговый_проект\\Вариант_3\\Проект_3_transactions_test.csv', \n",
    "    sep=';', \n",
    "    parse_dates=['joined_at','paid_at'])"
   ]
  },
  {
   "cell_type": "code",
   "execution_count": 17,
   "metadata": {},
   "outputs": [
    {
     "name": "stdout",
     "output_type": "stream",
     "text": [
      "<class 'pandas.core.frame.DataFrame'>\n",
      "RangeIndex: 273 entries, 0 to 272\n",
      "Data columns (total 8 columns):\n",
      " #   Column        Non-Null Count  Dtype         \n",
      "---  ------        --------------  -----         \n",
      " 0   uid           273 non-null    int64         \n",
      " 1   country       273 non-null    object        \n",
      " 2   joined_at     273 non-null    datetime64[ns]\n",
      " 3   paid_at       273 non-null    datetime64[ns]\n",
      " 4   revenue       273 non-null    int64         \n",
      " 5   payment_id    273 non-null    int64         \n",
      " 6   from_page     273 non-null    object        \n",
      " 7   product_type  273 non-null    object        \n",
      "dtypes: datetime64[ns](2), int64(3), object(3)\n",
      "memory usage: 17.2+ KB\n"
     ]
    }
   ],
   "source": [
    "transactions_test.info()"
   ]
  },
  {
   "cell_type": "code",
   "execution_count": null,
   "metadata": {},
   "outputs": [],
   "source": []
  },
  {
   "cell_type": "code",
   "execution_count": null,
   "metadata": {},
   "outputs": [],
   "source": []
  },
  {
   "cell_type": "code",
   "execution_count": null,
   "metadata": {},
   "outputs": [],
   "source": [
    "# определим по данным о транзакциях сроки проведения теста"
   ]
  },
  {
   "cell_type": "code",
   "execution_count": 18,
   "metadata": {},
   "outputs": [
    {
     "data": {
      "text/html": [
       "<div>\n",
       "<style scoped>\n",
       "    .dataframe tbody tr th:only-of-type {\n",
       "        vertical-align: middle;\n",
       "    }\n",
       "\n",
       "    .dataframe tbody tr th {\n",
       "        vertical-align: top;\n",
       "    }\n",
       "\n",
       "    .dataframe thead th {\n",
       "        text-align: right;\n",
       "    }\n",
       "</style>\n",
       "<table border=\"1\" class=\"dataframe\">\n",
       "  <thead>\n",
       "    <tr style=\"text-align: right;\">\n",
       "      <th></th>\n",
       "      <th>joined_at</th>\n",
       "      <th>paid_at</th>\n",
       "    </tr>\n",
       "  </thead>\n",
       "  <tbody>\n",
       "    <tr>\n",
       "      <th>count</th>\n",
       "      <td>273</td>\n",
       "      <td>273</td>\n",
       "    </tr>\n",
       "    <tr>\n",
       "      <th>mean</th>\n",
       "      <td>2017-09-05 09:39:38.021978112</td>\n",
       "      <td>2017-09-05 17:54:49.230770176</td>\n",
       "    </tr>\n",
       "    <tr>\n",
       "      <th>min</th>\n",
       "      <td>2017-01-11 03:07:00</td>\n",
       "      <td>2017-01-11 04:37:00</td>\n",
       "    </tr>\n",
       "    <tr>\n",
       "      <th>25%</th>\n",
       "      <td>2017-08-11 03:54:00</td>\n",
       "      <td>2017-07-11 21:21:00</td>\n",
       "    </tr>\n",
       "    <tr>\n",
       "      <th>50%</th>\n",
       "      <td>2017-10-18 19:20:00</td>\n",
       "      <td>2017-10-22 16:23:00</td>\n",
       "    </tr>\n",
       "    <tr>\n",
       "      <th>75%</th>\n",
       "      <td>2017-10-23 08:21:00</td>\n",
       "      <td>2017-10-29 05:50:00</td>\n",
       "    </tr>\n",
       "    <tr>\n",
       "      <th>max</th>\n",
       "      <td>2017-10-31 23:40:00</td>\n",
       "      <td>2017-12-11 22:06:00</td>\n",
       "    </tr>\n",
       "  </tbody>\n",
       "</table>\n",
       "</div>"
      ],
      "text/plain": [
       "                           joined_at                        paid_at\n",
       "count                            273                            273\n",
       "mean   2017-09-05 09:39:38.021978112  2017-09-05 17:54:49.230770176\n",
       "min              2017-01-11 03:07:00            2017-01-11 04:37:00\n",
       "25%              2017-08-11 03:54:00            2017-07-11 21:21:00\n",
       "50%              2017-10-18 19:20:00            2017-10-22 16:23:00\n",
       "75%              2017-10-23 08:21:00            2017-10-29 05:50:00\n",
       "max              2017-10-31 23:40:00            2017-12-11 22:06:00"
      ]
     },
     "execution_count": 18,
     "metadata": {},
     "output_type": "execute_result"
    }
   ],
   "source": [
    "transactions_test[['joined_at','paid_at']].describe(datetime_is_numeric=True)"
   ]
  },
  {
   "cell_type": "code",
   "execution_count": 19,
   "metadata": {},
   "outputs": [
    {
     "data": {
      "text/html": [
       "<div>\n",
       "<style scoped>\n",
       "    .dataframe tbody tr th:only-of-type {\n",
       "        vertical-align: middle;\n",
       "    }\n",
       "\n",
       "    .dataframe tbody tr th {\n",
       "        vertical-align: top;\n",
       "    }\n",
       "\n",
       "    .dataframe thead th {\n",
       "        text-align: right;\n",
       "    }\n",
       "</style>\n",
       "<table border=\"1\" class=\"dataframe\">\n",
       "  <thead>\n",
       "    <tr style=\"text-align: right;\">\n",
       "      <th></th>\n",
       "      <th>joined_at</th>\n",
       "      <th>paid_at</th>\n",
       "    </tr>\n",
       "  </thead>\n",
       "  <tbody>\n",
       "    <tr>\n",
       "      <th>count</th>\n",
       "      <td>377</td>\n",
       "      <td>377</td>\n",
       "    </tr>\n",
       "    <tr>\n",
       "      <th>mean</th>\n",
       "      <td>2017-08-22 02:04:00.636606464</td>\n",
       "      <td>2017-09-05 07:39:33.262598656</td>\n",
       "    </tr>\n",
       "    <tr>\n",
       "      <th>min</th>\n",
       "      <td>2015-01-19 11:49:00</td>\n",
       "      <td>2016-12-14 16:16:00</td>\n",
       "    </tr>\n",
       "    <tr>\n",
       "      <th>25%</th>\n",
       "      <td>2017-06-11 17:23:00</td>\n",
       "      <td>2017-07-11 12:47:00</td>\n",
       "    </tr>\n",
       "    <tr>\n",
       "      <th>50%</th>\n",
       "      <td>2017-10-16 22:33:00</td>\n",
       "      <td>2017-10-17 00:40:00</td>\n",
       "    </tr>\n",
       "    <tr>\n",
       "      <th>75%</th>\n",
       "      <td>2017-10-22 22:07:00</td>\n",
       "      <td>2017-10-28 03:14:00</td>\n",
       "    </tr>\n",
       "    <tr>\n",
       "      <th>max</th>\n",
       "      <td>2017-10-31 22:17:00</td>\n",
       "      <td>2017-12-11 21:57:00</td>\n",
       "    </tr>\n",
       "  </tbody>\n",
       "</table>\n",
       "</div>"
      ],
      "text/plain": [
       "                           joined_at                        paid_at\n",
       "count                            377                            377\n",
       "mean   2017-08-22 02:04:00.636606464  2017-09-05 07:39:33.262598656\n",
       "min              2015-01-19 11:49:00            2016-12-14 16:16:00\n",
       "25%              2017-06-11 17:23:00            2017-07-11 12:47:00\n",
       "50%              2017-10-16 22:33:00            2017-10-17 00:40:00\n",
       "75%              2017-10-22 22:07:00            2017-10-28 03:14:00\n",
       "max              2017-10-31 22:17:00            2017-12-11 21:57:00"
      ]
     },
     "execution_count": 19,
     "metadata": {},
     "output_type": "execute_result"
    }
   ],
   "source": [
    "transactions_control_1[['joined_at','paid_at']].describe(datetime_is_numeric=True)"
   ]
  },
  {
   "cell_type": "code",
   "execution_count": 20,
   "metadata": {
    "scrolled": true
   },
   "outputs": [
    {
     "data": {
      "text/html": [
       "<div>\n",
       "<style scoped>\n",
       "    .dataframe tbody tr th:only-of-type {\n",
       "        vertical-align: middle;\n",
       "    }\n",
       "\n",
       "    .dataframe tbody tr th {\n",
       "        vertical-align: top;\n",
       "    }\n",
       "\n",
       "    .dataframe thead th {\n",
       "        text-align: right;\n",
       "    }\n",
       "</style>\n",
       "<table border=\"1\" class=\"dataframe\">\n",
       "  <thead>\n",
       "    <tr style=\"text-align: right;\">\n",
       "      <th></th>\n",
       "      <th>joined_at</th>\n",
       "      <th>paid_at</th>\n",
       "    </tr>\n",
       "  </thead>\n",
       "  <tbody>\n",
       "    <tr>\n",
       "      <th>count</th>\n",
       "      <td>328</td>\n",
       "      <td>328</td>\n",
       "    </tr>\n",
       "    <tr>\n",
       "      <th>mean</th>\n",
       "      <td>2017-09-19 07:38:22.500000512</td>\n",
       "      <td>2017-09-04 16:16:01.463415296</td>\n",
       "    </tr>\n",
       "    <tr>\n",
       "      <th>min</th>\n",
       "      <td>2017-01-11 08:36:00</td>\n",
       "      <td>2017-01-11 05:34:00</td>\n",
       "    </tr>\n",
       "    <tr>\n",
       "      <th>25%</th>\n",
       "      <td>2017-10-13 09:36:45</td>\n",
       "      <td>2017-07-11 13:26:30</td>\n",
       "    </tr>\n",
       "    <tr>\n",
       "      <th>50%</th>\n",
       "      <td>2017-10-20 14:49:00</td>\n",
       "      <td>2017-10-22 00:15:00</td>\n",
       "    </tr>\n",
       "    <tr>\n",
       "      <th>75%</th>\n",
       "      <td>2017-10-26 01:40:00</td>\n",
       "      <td>2017-10-28 13:35:00</td>\n",
       "    </tr>\n",
       "    <tr>\n",
       "      <th>max</th>\n",
       "      <td>2017-10-31 17:43:00</td>\n",
       "      <td>2017-12-11 23:28:00</td>\n",
       "    </tr>\n",
       "  </tbody>\n",
       "</table>\n",
       "</div>"
      ],
      "text/plain": [
       "                           joined_at                        paid_at\n",
       "count                            328                            328\n",
       "mean   2017-09-19 07:38:22.500000512  2017-09-04 16:16:01.463415296\n",
       "min              2017-01-11 08:36:00            2017-01-11 05:34:00\n",
       "25%              2017-10-13 09:36:45            2017-07-11 13:26:30\n",
       "50%              2017-10-20 14:49:00            2017-10-22 00:15:00\n",
       "75%              2017-10-26 01:40:00            2017-10-28 13:35:00\n",
       "max              2017-10-31 17:43:00            2017-12-11 23:28:00"
      ]
     },
     "execution_count": 20,
     "metadata": {},
     "output_type": "execute_result"
    }
   ],
   "source": [
    "transactions_control_2[['joined_at','paid_at']].describe(datetime_is_numeric=True)"
   ]
  },
  {
   "cell_type": "code",
   "execution_count": null,
   "metadata": {},
   "outputs": [],
   "source": [
    "#  видим что тест проходил с 11.01.2017 по 11.12.2017\n",
    "# по условиям в тесте участвовали только новые юзеры\n",
    "# в первой группе контроля есть транзакции, которые были произведены ранее"
   ]
  },
  {
   "cell_type": "code",
   "execution_count": 21,
   "metadata": {},
   "outputs": [
    {
     "data": {
      "text/html": [
       "<div>\n",
       "<style scoped>\n",
       "    .dataframe tbody tr th:only-of-type {\n",
       "        vertical-align: middle;\n",
       "    }\n",
       "\n",
       "    .dataframe tbody tr th {\n",
       "        vertical-align: top;\n",
       "    }\n",
       "\n",
       "    .dataframe thead th {\n",
       "        text-align: right;\n",
       "    }\n",
       "</style>\n",
       "<table border=\"1\" class=\"dataframe\">\n",
       "  <thead>\n",
       "    <tr style=\"text-align: right;\">\n",
       "      <th></th>\n",
       "      <th>uid</th>\n",
       "      <th>country</th>\n",
       "      <th>joined_at</th>\n",
       "      <th>paid_at</th>\n",
       "      <th>revenue</th>\n",
       "      <th>payment_id</th>\n",
       "      <th>from_page</th>\n",
       "      <th>product_type</th>\n",
       "    </tr>\n",
       "  </thead>\n",
       "  <tbody>\n",
       "    <tr>\n",
       "      <th>65</th>\n",
       "      <td>960936960.0</td>\n",
       "      <td>Russian Federation</td>\n",
       "      <td>2015-01-19 11:49:00</td>\n",
       "      <td>2016-12-14 17:30:00</td>\n",
       "      <td>26.0</td>\n",
       "      <td>0.0</td>\n",
       "      <td>refund_VP</td>\n",
       "      <td>other_type</td>\n",
       "    </tr>\n",
       "    <tr>\n",
       "      <th>101</th>\n",
       "      <td>960936960.0</td>\n",
       "      <td>Russian Federation</td>\n",
       "      <td>2015-01-19 11:49:00</td>\n",
       "      <td>2016-12-14 17:35:00</td>\n",
       "      <td>637.0</td>\n",
       "      <td>0.0</td>\n",
       "      <td>refung_AP</td>\n",
       "      <td>other_type</td>\n",
       "    </tr>\n",
       "    <tr>\n",
       "      <th>224</th>\n",
       "      <td>960936960.0</td>\n",
       "      <td>Russian Federation</td>\n",
       "      <td>2015-01-19 11:49:00</td>\n",
       "      <td>2016-12-14 16:16:00</td>\n",
       "      <td>143.0</td>\n",
       "      <td>0.0</td>\n",
       "      <td>refund_WP</td>\n",
       "      <td>other_type</td>\n",
       "    </tr>\n",
       "  </tbody>\n",
       "</table>\n",
       "</div>"
      ],
      "text/plain": [
       "             uid             country           joined_at             paid_at  \\\n",
       "65   960936960.0  Russian Federation 2015-01-19 11:49:00 2016-12-14 17:30:00   \n",
       "101  960936960.0  Russian Federation 2015-01-19 11:49:00 2016-12-14 17:35:00   \n",
       "224  960936960.0  Russian Federation 2015-01-19 11:49:00 2016-12-14 16:16:00   \n",
       "\n",
       "     revenue  payment_id  from_page product_type  \n",
       "65      26.0         0.0  refund_VP   other_type  \n",
       "101    637.0         0.0  refung_AP   other_type  \n",
       "224    143.0         0.0  refund_WP   other_type  "
      ]
     },
     "execution_count": 21,
     "metadata": {},
     "output_type": "execute_result"
    }
   ],
   "source": [
    "transactions_control_1.query('joined_at < \"2017-01-11\"')"
   ]
  },
  {
   "cell_type": "code",
   "execution_count": 22,
   "metadata": {},
   "outputs": [
    {
     "data": {
      "text/html": [
       "<div>\n",
       "<style scoped>\n",
       "    .dataframe tbody tr th:only-of-type {\n",
       "        vertical-align: middle;\n",
       "    }\n",
       "\n",
       "    .dataframe tbody tr th {\n",
       "        vertical-align: top;\n",
       "    }\n",
       "\n",
       "    .dataframe thead th {\n",
       "        text-align: right;\n",
       "    }\n",
       "</style>\n",
       "<table border=\"1\" class=\"dataframe\">\n",
       "  <thead>\n",
       "    <tr style=\"text-align: right;\">\n",
       "      <th></th>\n",
       "      <th>uid</th>\n",
       "      <th>country</th>\n",
       "      <th>joined_at</th>\n",
       "      <th>paid_at</th>\n",
       "      <th>revenue</th>\n",
       "      <th>payment_id</th>\n",
       "      <th>from_page</th>\n",
       "      <th>product_type</th>\n",
       "    </tr>\n",
       "  </thead>\n",
       "  <tbody>\n",
       "    <tr>\n",
       "      <th>65</th>\n",
       "      <td>960936960.0</td>\n",
       "      <td>Russian Federation</td>\n",
       "      <td>2015-01-19 11:49:00</td>\n",
       "      <td>2016-12-14 17:30:00</td>\n",
       "      <td>26.0</td>\n",
       "      <td>0.0</td>\n",
       "      <td>refund_VP</td>\n",
       "      <td>other_type</td>\n",
       "    </tr>\n",
       "    <tr>\n",
       "      <th>101</th>\n",
       "      <td>960936960.0</td>\n",
       "      <td>Russian Federation</td>\n",
       "      <td>2015-01-19 11:49:00</td>\n",
       "      <td>2016-12-14 17:35:00</td>\n",
       "      <td>637.0</td>\n",
       "      <td>0.0</td>\n",
       "      <td>refung_AP</td>\n",
       "      <td>other_type</td>\n",
       "    </tr>\n",
       "    <tr>\n",
       "      <th>224</th>\n",
       "      <td>960936960.0</td>\n",
       "      <td>Russian Federation</td>\n",
       "      <td>2015-01-19 11:49:00</td>\n",
       "      <td>2016-12-14 16:16:00</td>\n",
       "      <td>143.0</td>\n",
       "      <td>0.0</td>\n",
       "      <td>refund_WP</td>\n",
       "      <td>other_type</td>\n",
       "    </tr>\n",
       "  </tbody>\n",
       "</table>\n",
       "</div>"
      ],
      "text/plain": [
       "             uid             country           joined_at             paid_at  \\\n",
       "65   960936960.0  Russian Federation 2015-01-19 11:49:00 2016-12-14 17:30:00   \n",
       "101  960936960.0  Russian Federation 2015-01-19 11:49:00 2016-12-14 17:35:00   \n",
       "224  960936960.0  Russian Federation 2015-01-19 11:49:00 2016-12-14 16:16:00   \n",
       "\n",
       "     revenue  payment_id  from_page product_type  \n",
       "65      26.0         0.0  refund_VP   other_type  \n",
       "101    637.0         0.0  refung_AP   other_type  \n",
       "224    143.0         0.0  refund_WP   other_type  "
      ]
     },
     "execution_count": 22,
     "metadata": {},
     "output_type": "execute_result"
    }
   ],
   "source": [
    "transactions_control_1.query('paid_at < \"2017-01-11\"')"
   ]
  },
  {
   "cell_type": "code",
   "execution_count": 23,
   "metadata": {
    "scrolled": true
   },
   "outputs": [
    {
     "data": {
      "text/html": [
       "<div>\n",
       "<style scoped>\n",
       "    .dataframe tbody tr th:only-of-type {\n",
       "        vertical-align: middle;\n",
       "    }\n",
       "\n",
       "    .dataframe tbody tr th {\n",
       "        vertical-align: top;\n",
       "    }\n",
       "\n",
       "    .dataframe thead th {\n",
       "        text-align: right;\n",
       "    }\n",
       "</style>\n",
       "<table border=\"1\" class=\"dataframe\">\n",
       "  <thead>\n",
       "    <tr style=\"text-align: right;\">\n",
       "      <th></th>\n",
       "      <th>uid</th>\n",
       "      <th>country</th>\n",
       "      <th>joined_at</th>\n",
       "      <th>paid_at</th>\n",
       "      <th>revenue</th>\n",
       "      <th>payment_id</th>\n",
       "      <th>from_page</th>\n",
       "      <th>product_type</th>\n",
       "    </tr>\n",
       "  </thead>\n",
       "  <tbody>\n",
       "    <tr>\n",
       "      <th>65</th>\n",
       "      <td>960936960.0</td>\n",
       "      <td>Russian Federation</td>\n",
       "      <td>2015-01-19 11:49:00</td>\n",
       "      <td>2016-12-14 17:30:00</td>\n",
       "      <td>26.0</td>\n",
       "      <td>0.0</td>\n",
       "      <td>refund_VP</td>\n",
       "      <td>other_type</td>\n",
       "    </tr>\n",
       "    <tr>\n",
       "      <th>101</th>\n",
       "      <td>960936960.0</td>\n",
       "      <td>Russian Federation</td>\n",
       "      <td>2015-01-19 11:49:00</td>\n",
       "      <td>2016-12-14 17:35:00</td>\n",
       "      <td>637.0</td>\n",
       "      <td>0.0</td>\n",
       "      <td>refung_AP</td>\n",
       "      <td>other_type</td>\n",
       "    </tr>\n",
       "    <tr>\n",
       "      <th>224</th>\n",
       "      <td>960936960.0</td>\n",
       "      <td>Russian Federation</td>\n",
       "      <td>2015-01-19 11:49:00</td>\n",
       "      <td>2016-12-14 16:16:00</td>\n",
       "      <td>143.0</td>\n",
       "      <td>0.0</td>\n",
       "      <td>refund_WP</td>\n",
       "      <td>other_type</td>\n",
       "    </tr>\n",
       "  </tbody>\n",
       "</table>\n",
       "</div>"
      ],
      "text/plain": [
       "             uid             country           joined_at             paid_at  \\\n",
       "65   960936960.0  Russian Federation 2015-01-19 11:49:00 2016-12-14 17:30:00   \n",
       "101  960936960.0  Russian Federation 2015-01-19 11:49:00 2016-12-14 17:35:00   \n",
       "224  960936960.0  Russian Federation 2015-01-19 11:49:00 2016-12-14 16:16:00   \n",
       "\n",
       "     revenue  payment_id  from_page product_type  \n",
       "65      26.0         0.0  refund_VP   other_type  \n",
       "101    637.0         0.0  refung_AP   other_type  \n",
       "224    143.0         0.0  refund_WP   other_type  "
      ]
     },
     "execution_count": 23,
     "metadata": {},
     "output_type": "execute_result"
    }
   ],
   "source": [
    "transactions_control_1.query('uid == 960936960')"
   ]
  },
  {
   "cell_type": "code",
   "execution_count": null,
   "metadata": {},
   "outputs": [],
   "source": [
    "# видим что в первую контрольную группу попал один юзер, который не подходит под условия нашего теста\n",
    "# удалим данные о нём и его транзакциях"
   ]
  },
  {
   "cell_type": "code",
   "execution_count": 24,
   "metadata": {},
   "outputs": [],
   "source": [
    "transactions_control_1 = transactions_control_1.query('uid != 960936960')"
   ]
  },
  {
   "cell_type": "code",
   "execution_count": 25,
   "metadata": {},
   "outputs": [],
   "source": [
    "users_control_1 = users_control_1.query('uid != 960936960')"
   ]
  },
  {
   "cell_type": "code",
   "execution_count": null,
   "metadata": {},
   "outputs": [],
   "source": []
  },
  {
   "cell_type": "code",
   "execution_count": null,
   "metadata": {},
   "outputs": [],
   "source": []
  },
  {
   "cell_type": "code",
   "execution_count": null,
   "metadata": {},
   "outputs": [],
   "source": [
    "# проверим пересечение юзеров в выборках"
   ]
  },
  {
   "cell_type": "code",
   "execution_count": 26,
   "metadata": {},
   "outputs": [],
   "source": [
    "uid_test = users_test.uid.unique()"
   ]
  },
  {
   "cell_type": "code",
   "execution_count": 27,
   "metadata": {},
   "outputs": [],
   "source": [
    "uid_control_1 = users_control_1.uid.unique()"
   ]
  },
  {
   "cell_type": "code",
   "execution_count": 28,
   "metadata": {},
   "outputs": [],
   "source": [
    "uid_control_2 = users_control_2.uid.unique()"
   ]
  },
  {
   "cell_type": "code",
   "execution_count": 29,
   "metadata": {},
   "outputs": [
    {
     "data": {
      "text/plain": [
       "array([], dtype=int64)"
      ]
     },
     "execution_count": 29,
     "metadata": {},
     "output_type": "execute_result"
    }
   ],
   "source": [
    "np.intersect1d(uid_test, uid_control_1)"
   ]
  },
  {
   "cell_type": "code",
   "execution_count": 30,
   "metadata": {},
   "outputs": [
    {
     "data": {
      "text/plain": [
       "array([], dtype=int64)"
      ]
     },
     "execution_count": 30,
     "metadata": {},
     "output_type": "execute_result"
    }
   ],
   "source": [
    "np.intersect1d(uid_test, uid_control_2)"
   ]
  },
  {
   "cell_type": "code",
   "execution_count": 31,
   "metadata": {},
   "outputs": [
    {
     "data": {
      "text/plain": [
       "array([], dtype=int64)"
      ]
     },
     "execution_count": 31,
     "metadata": {},
     "output_type": "execute_result"
    }
   ],
   "source": [
    "np.intersect1d(uid_control_1, uid_control_2)"
   ]
  },
  {
   "cell_type": "code",
   "execution_count": 580,
   "metadata": {},
   "outputs": [],
   "source": [
    "# как видно пересечений в группах нет"
   ]
  },
  {
   "cell_type": "code",
   "execution_count": null,
   "metadata": {},
   "outputs": [],
   "source": [
    "# проверим пересечение юзеров в данных о транзакциях"
   ]
  },
  {
   "cell_type": "code",
   "execution_count": 32,
   "metadata": {},
   "outputs": [],
   "source": [
    "uid_test_tr = transactions_test.uid.unique()"
   ]
  },
  {
   "cell_type": "code",
   "execution_count": 33,
   "metadata": {},
   "outputs": [],
   "source": [
    "uid_control_1_tr = transactions_control_1.uid.unique()"
   ]
  },
  {
   "cell_type": "code",
   "execution_count": 34,
   "metadata": {},
   "outputs": [],
   "source": [
    "uid_control_2_tr = transactions_control_2.uid.unique()"
   ]
  },
  {
   "cell_type": "code",
   "execution_count": 35,
   "metadata": {},
   "outputs": [
    {
     "data": {
      "text/plain": [
       "array([], dtype=float64)"
      ]
     },
     "execution_count": 35,
     "metadata": {},
     "output_type": "execute_result"
    }
   ],
   "source": [
    "np.intersect1d(uid_test_tr, uid_control_1_tr)"
   ]
  },
  {
   "cell_type": "code",
   "execution_count": 36,
   "metadata": {},
   "outputs": [
    {
     "data": {
      "text/plain": [
       "array([], dtype=int64)"
      ]
     },
     "execution_count": 36,
     "metadata": {},
     "output_type": "execute_result"
    }
   ],
   "source": [
    "np.intersect1d(uid_test_tr, uid_control_2_tr)"
   ]
  },
  {
   "cell_type": "code",
   "execution_count": 37,
   "metadata": {},
   "outputs": [
    {
     "data": {
      "text/plain": [
       "array([], dtype=float64)"
      ]
     },
     "execution_count": 37,
     "metadata": {},
     "output_type": "execute_result"
    }
   ],
   "source": [
    "np.intersect1d(uid_control_1_tr, uid_control_2_tr)"
   ]
  },
  {
   "cell_type": "code",
   "execution_count": null,
   "metadata": {},
   "outputs": [],
   "source": [
    "# как видно пересечений в группах нет"
   ]
  },
  {
   "cell_type": "code",
   "execution_count": null,
   "metadata": {},
   "outputs": [],
   "source": []
  },
  {
   "cell_type": "code",
   "execution_count": null,
   "metadata": {},
   "outputs": [],
   "source": [
    "# сопоставим данные о юзерах и суммах транзакций внутри групп"
   ]
  },
  {
   "cell_type": "code",
   "execution_count": 38,
   "metadata": {
    "scrolled": true
   },
   "outputs": [
    {
     "data": {
      "text/plain": [
       "146"
      ]
     },
     "execution_count": 38,
     "metadata": {},
     "output_type": "execute_result"
    }
   ],
   "source": [
    "# количество юзеров, которые производили транзакции в тестовой группе\n",
    "len(uid_test_tr)"
   ]
  },
  {
   "cell_type": "code",
   "execution_count": 39,
   "metadata": {},
   "outputs": [
    {
     "data": {
      "text/plain": [
       "0"
      ]
     },
     "execution_count": 39,
     "metadata": {},
     "output_type": "execute_result"
    }
   ],
   "source": [
    "# сумма выручки юзеров, данные которых не присутствуют в таблице транзакций\n",
    "users_test.query('uid not in @uid_test_tr').total_revenue.sum()"
   ]
  },
  {
   "cell_type": "code",
   "execution_count": 40,
   "metadata": {},
   "outputs": [
    {
     "data": {
      "text/plain": [
       "44083"
      ]
     },
     "execution_count": 40,
     "metadata": {},
     "output_type": "execute_result"
    }
   ],
   "source": [
    "# разница в суммарной выручке по таблице транзакций и траблице юзерс\n",
    "transactions_test.revenue.sum() - users_test.query('uid in @uid_test_tr').total_revenue.sum()"
   ]
  },
  {
   "cell_type": "code",
   "execution_count": 624,
   "metadata": {},
   "outputs": [],
   "source": [
    "# видим что наши итоговые суммы не совпадают, определим такие расхождения по каждому юзеру"
   ]
  },
  {
   "cell_type": "code",
   "execution_count": 41,
   "metadata": {},
   "outputs": [
    {
     "name": "stdout",
     "output_type": "stream",
     "text": [
      "892275462\n"
     ]
    }
   ],
   "source": [
    "for id in uid_test_tr:\n",
    "    if transactions_test.query('uid == @id').revenue.sum() - users_test.query('uid == @id').total_revenue.sum() != 0:\n",
    "        print(id)"
   ]
  },
  {
   "cell_type": "code",
   "execution_count": null,
   "metadata": {},
   "outputs": [],
   "source": [
    "# мы выявили id по которому не совпадает выручка"
   ]
  },
  {
   "cell_type": "code",
   "execution_count": 42,
   "metadata": {},
   "outputs": [
    {
     "data": {
      "text/html": [
       "<div>\n",
       "<style scoped>\n",
       "    .dataframe tbody tr th:only-of-type {\n",
       "        vertical-align: middle;\n",
       "    }\n",
       "\n",
       "    .dataframe tbody tr th {\n",
       "        vertical-align: top;\n",
       "    }\n",
       "\n",
       "    .dataframe thead th {\n",
       "        text-align: right;\n",
       "    }\n",
       "</style>\n",
       "<table border=\"1\" class=\"dataframe\">\n",
       "  <thead>\n",
       "    <tr style=\"text-align: right;\">\n",
       "      <th></th>\n",
       "      <th>uid</th>\n",
       "      <th>country</th>\n",
       "      <th>joined_at</th>\n",
       "      <th>paid_at</th>\n",
       "      <th>revenue</th>\n",
       "      <th>payment_id</th>\n",
       "      <th>from_page</th>\n",
       "      <th>product_type</th>\n",
       "    </tr>\n",
       "  </thead>\n",
       "  <tbody>\n",
       "    <tr>\n",
       "      <th>64</th>\n",
       "      <td>892275462</td>\n",
       "      <td>France</td>\n",
       "      <td>2017-10-17 05:56:00</td>\n",
       "      <td>2017-02-11 18:24:00</td>\n",
       "      <td>44083</td>\n",
       "      <td>19</td>\n",
       "      <td>coins_popup</td>\n",
       "      <td>other_type</td>\n",
       "    </tr>\n",
       "    <tr>\n",
       "      <th>154</th>\n",
       "      <td>892275462</td>\n",
       "      <td>France</td>\n",
       "      <td>2017-10-17 05:56:00</td>\n",
       "      <td>2017-10-20 17:00:00</td>\n",
       "      <td>14885</td>\n",
       "      <td>68</td>\n",
       "      <td>super_popup</td>\n",
       "      <td>other_type</td>\n",
       "    </tr>\n",
       "  </tbody>\n",
       "</table>\n",
       "</div>"
      ],
      "text/plain": [
       "           uid country           joined_at             paid_at  revenue  \\\n",
       "64   892275462  France 2017-10-17 05:56:00 2017-02-11 18:24:00    44083   \n",
       "154  892275462  France 2017-10-17 05:56:00 2017-10-20 17:00:00    14885   \n",
       "\n",
       "     payment_id    from_page product_type  \n",
       "64           19  coins_popup   other_type  \n",
       "154          68  super_popup   other_type  "
      ]
     },
     "execution_count": 42,
     "metadata": {},
     "output_type": "execute_result"
    }
   ],
   "source": [
    "# проверим все транзакции этого пользователя\n",
    "transactions_test.query('uid == 892275462')"
   ]
  },
  {
   "cell_type": "code",
   "execution_count": 43,
   "metadata": {},
   "outputs": [
    {
     "data": {
      "text/html": [
       "<div>\n",
       "<style scoped>\n",
       "    .dataframe tbody tr th:only-of-type {\n",
       "        vertical-align: middle;\n",
       "    }\n",
       "\n",
       "    .dataframe tbody tr th {\n",
       "        vertical-align: top;\n",
       "    }\n",
       "\n",
       "    .dataframe thead th {\n",
       "        text-align: right;\n",
       "    }\n",
       "</style>\n",
       "<table border=\"1\" class=\"dataframe\">\n",
       "  <thead>\n",
       "    <tr style=\"text-align: right;\">\n",
       "      <th></th>\n",
       "      <th>uid</th>\n",
       "      <th>age</th>\n",
       "      <th>attraction_coeff</th>\n",
       "      <th>coins</th>\n",
       "      <th>country</th>\n",
       "      <th>visit_days</th>\n",
       "      <th>gender</th>\n",
       "      <th>age_filter_start</th>\n",
       "      <th>age_filter_end</th>\n",
       "      <th>views_count</th>\n",
       "      <th>was_premium</th>\n",
       "      <th>is_premium</th>\n",
       "      <th>total_revenue</th>\n",
       "    </tr>\n",
       "  </thead>\n",
       "  <tbody>\n",
       "    <tr>\n",
       "      <th>2070</th>\n",
       "      <td>892275462</td>\n",
       "      <td>31</td>\n",
       "      <td>310</td>\n",
       "      <td>NaN</td>\n",
       "      <td>France</td>\n",
       "      <td>1,2,3,4,5,9,13,15,16</td>\n",
       "      <td>1</td>\n",
       "      <td>36</td>\n",
       "      <td>68</td>\n",
       "      <td>58</td>\n",
       "      <td>1.0</td>\n",
       "      <td>1.0</td>\n",
       "      <td>14885</td>\n",
       "    </tr>\n",
       "  </tbody>\n",
       "</table>\n",
       "</div>"
      ],
      "text/plain": [
       "            uid  age  attraction_coeff  coins country            visit_days  \\\n",
       "2070  892275462   31               310    NaN  France  1,2,3,4,5,9,13,15,16   \n",
       "\n",
       "      gender  age_filter_start  age_filter_end  views_count  was_premium  \\\n",
       "2070       1                36              68           58          1.0   \n",
       "\n",
       "      is_premium  total_revenue  \n",
       "2070         1.0          14885  "
      ]
     },
     "execution_count": 43,
     "metadata": {},
     "output_type": "execute_result"
    }
   ],
   "source": [
    "users_test.query('uid == 892275462')"
   ]
  },
  {
   "cell_type": "code",
   "execution_count": null,
   "metadata": {},
   "outputs": [],
   "source": [
    "# видим что есть одна транзакция, которая не отображена в таблице о юзерах\n",
    "# возможно, это баг или данная транзакция была отменена\n",
    "# исключим данную транзакцию"
   ]
  },
  {
   "cell_type": "code",
   "execution_count": 44,
   "metadata": {},
   "outputs": [],
   "source": [
    "transactions_test = transactions_test.drop(index=(64))"
   ]
  },
  {
   "cell_type": "code",
   "execution_count": 45,
   "metadata": {
    "scrolled": true
   },
   "outputs": [
    {
     "data": {
      "text/plain": [
       "0"
      ]
     },
     "execution_count": 45,
     "metadata": {},
     "output_type": "execute_result"
    }
   ],
   "source": [
    "transactions_test.revenue.sum() - users_test.query('uid in @uid_test_tr').total_revenue.sum()"
   ]
  },
  {
   "cell_type": "code",
   "execution_count": null,
   "metadata": {},
   "outputs": [],
   "source": []
  },
  {
   "cell_type": "code",
   "execution_count": 46,
   "metadata": {
    "scrolled": true
   },
   "outputs": [
    {
     "data": {
      "text/plain": [
       "192"
      ]
     },
     "execution_count": 46,
     "metadata": {},
     "output_type": "execute_result"
    }
   ],
   "source": [
    "# количество юзеров, которые производили транзакции в первой контрольной группе\n",
    "len(uid_control_1_tr)"
   ]
  },
  {
   "cell_type": "code",
   "execution_count": 47,
   "metadata": {},
   "outputs": [
    {
     "data": {
      "text/plain": [
       "0"
      ]
     },
     "execution_count": 47,
     "metadata": {},
     "output_type": "execute_result"
    }
   ],
   "source": [
    "# сумма выручки юзеров, данные которых не присутствуют в таблице транзакций\n",
    "users_control_1.query('uid not in @uid_control_1_tr').total_revenue.sum()"
   ]
  },
  {
   "cell_type": "code",
   "execution_count": 48,
   "metadata": {},
   "outputs": [
    {
     "data": {
      "text/plain": [
       "30264.0"
      ]
     },
     "execution_count": 48,
     "metadata": {},
     "output_type": "execute_result"
    }
   ],
   "source": [
    "# разница в суммарной выручке по таблице транзакций и траблице юзерс\n",
    "transactions_control_1.revenue.sum() - users_control_1.query('uid in @uid_control_1_tr').total_revenue.sum()"
   ]
  },
  {
   "cell_type": "code",
   "execution_count": 49,
   "metadata": {},
   "outputs": [],
   "source": [
    "# видим что наши итоговые суммы не совпадают, определим такие расхождения по каждому юзеру"
   ]
  },
  {
   "cell_type": "code",
   "execution_count": 50,
   "metadata": {},
   "outputs": [
    {
     "name": "stdout",
     "output_type": "stream",
     "text": [
      "892355163.0\n"
     ]
    }
   ],
   "source": [
    "for id in uid_control_1_tr:\n",
    "    if transactions_control_1.query('uid == @id').revenue.sum() - users_control_1.query('uid == @id').total_revenue.sum() != 0:\n",
    "        print(id)"
   ]
  },
  {
   "cell_type": "code",
   "execution_count": null,
   "metadata": {},
   "outputs": [],
   "source": [
    "# мы выявили id по которому не совпадает выручка"
   ]
  },
  {
   "cell_type": "code",
   "execution_count": 51,
   "metadata": {},
   "outputs": [
    {
     "data": {
      "text/html": [
       "<div>\n",
       "<style scoped>\n",
       "    .dataframe tbody tr th:only-of-type {\n",
       "        vertical-align: middle;\n",
       "    }\n",
       "\n",
       "    .dataframe tbody tr th {\n",
       "        vertical-align: top;\n",
       "    }\n",
       "\n",
       "    .dataframe thead th {\n",
       "        text-align: right;\n",
       "    }\n",
       "</style>\n",
       "<table border=\"1\" class=\"dataframe\">\n",
       "  <thead>\n",
       "    <tr style=\"text-align: right;\">\n",
       "      <th></th>\n",
       "      <th>uid</th>\n",
       "      <th>country</th>\n",
       "      <th>joined_at</th>\n",
       "      <th>paid_at</th>\n",
       "      <th>revenue</th>\n",
       "      <th>payment_id</th>\n",
       "      <th>from_page</th>\n",
       "      <th>product_type</th>\n",
       "    </tr>\n",
       "  </thead>\n",
       "  <tbody>\n",
       "    <tr>\n",
       "      <th>303</th>\n",
       "      <td>892355163.0</td>\n",
       "      <td>United States of America</td>\n",
       "      <td>2017-10-15 18:45:00</td>\n",
       "      <td>2017-10-16 09:52:00</td>\n",
       "      <td>30264.0</td>\n",
       "      <td>68.0</td>\n",
       "      <td>super_popup</td>\n",
       "      <td>other_type</td>\n",
       "    </tr>\n",
       "  </tbody>\n",
       "</table>\n",
       "</div>"
      ],
      "text/plain": [
       "             uid                   country           joined_at  \\\n",
       "303  892355163.0  United States of America 2017-10-15 18:45:00   \n",
       "\n",
       "                paid_at  revenue  payment_id    from_page product_type  \n",
       "303 2017-10-16 09:52:00  30264.0        68.0  super_popup   other_type  "
      ]
     },
     "execution_count": 51,
     "metadata": {},
     "output_type": "execute_result"
    }
   ],
   "source": [
    "# проверим все транзакции этого пользователя\n",
    "transactions_control_1.query('uid == 892355163')"
   ]
  },
  {
   "cell_type": "code",
   "execution_count": 52,
   "metadata": {},
   "outputs": [
    {
     "data": {
      "text/html": [
       "<div>\n",
       "<style scoped>\n",
       "    .dataframe tbody tr th:only-of-type {\n",
       "        vertical-align: middle;\n",
       "    }\n",
       "\n",
       "    .dataframe tbody tr th {\n",
       "        vertical-align: top;\n",
       "    }\n",
       "\n",
       "    .dataframe thead th {\n",
       "        text-align: right;\n",
       "    }\n",
       "</style>\n",
       "<table border=\"1\" class=\"dataframe\">\n",
       "  <thead>\n",
       "    <tr style=\"text-align: right;\">\n",
       "      <th></th>\n",
       "      <th>uid</th>\n",
       "      <th>age</th>\n",
       "      <th>attraction_coeff</th>\n",
       "      <th>coins</th>\n",
       "      <th>country</th>\n",
       "      <th>visit_days</th>\n",
       "      <th>gender</th>\n",
       "      <th>age_filter_start</th>\n",
       "      <th>age_filter_end</th>\n",
       "      <th>views_count</th>\n",
       "      <th>was_premium</th>\n",
       "      <th>is_premium</th>\n",
       "      <th>total_revenue</th>\n",
       "    </tr>\n",
       "  </thead>\n",
       "  <tbody>\n",
       "    <tr>\n",
       "      <th>3370</th>\n",
       "      <td>892355163</td>\n",
       "      <td>40</td>\n",
       "      <td>640</td>\n",
       "      <td>NaN</td>\n",
       "      <td>United States of America</td>\n",
       "      <td>1,2,3,4,5,6,7,8,9,10,11,12,13,14,15,16,17,18,1...</td>\n",
       "      <td>1</td>\n",
       "      <td>25</td>\n",
       "      <td>60</td>\n",
       "      <td>700</td>\n",
       "      <td>1.0</td>\n",
       "      <td>NaN</td>\n",
       "      <td>0</td>\n",
       "    </tr>\n",
       "  </tbody>\n",
       "</table>\n",
       "</div>"
      ],
      "text/plain": [
       "            uid  age  attraction_coeff  coins                   country  \\\n",
       "3370  892355163   40               640    NaN  United States of America   \n",
       "\n",
       "                                             visit_days  gender  \\\n",
       "3370  1,2,3,4,5,6,7,8,9,10,11,12,13,14,15,16,17,18,1...       1   \n",
       "\n",
       "      age_filter_start  age_filter_end  views_count  was_premium  is_premium  \\\n",
       "3370                25              60          700          1.0         NaN   \n",
       "\n",
       "      total_revenue  \n",
       "3370              0  "
      ]
     },
     "execution_count": 52,
     "metadata": {},
     "output_type": "execute_result"
    }
   ],
   "source": [
    "users_control_1.query('uid == 892355163')"
   ]
  },
  {
   "cell_type": "code",
   "execution_count": 582,
   "metadata": {},
   "outputs": [],
   "source": [
    "# видим что есть одна транзакция, которая не отображена в таблице о юзерах\n",
    "# возможно, это баг или данная транзакция была отменена\n",
    "# исключим данную транзакцию"
   ]
  },
  {
   "cell_type": "code",
   "execution_count": 53,
   "metadata": {},
   "outputs": [],
   "source": [
    "transactions_control_1 = transactions_control_1.drop(index=(303))"
   ]
  },
  {
   "cell_type": "code",
   "execution_count": 54,
   "metadata": {},
   "outputs": [
    {
     "data": {
      "text/plain": [
       "0.0"
      ]
     },
     "execution_count": 54,
     "metadata": {},
     "output_type": "execute_result"
    }
   ],
   "source": [
    "transactions_control_1.revenue.sum() - users_control_1.query('uid in @uid_control_1_tr').total_revenue.sum()"
   ]
  },
  {
   "cell_type": "code",
   "execution_count": 55,
   "metadata": {},
   "outputs": [
    {
     "data": {
      "text/plain": [
       "187"
      ]
     },
     "execution_count": 55,
     "metadata": {},
     "output_type": "execute_result"
    }
   ],
   "source": [
    "# количество юзеров, которые производили транзакции во второй контрольной группе\n",
    "len(uid_control_2_tr)"
   ]
  },
  {
   "cell_type": "code",
   "execution_count": 56,
   "metadata": {},
   "outputs": [
    {
     "data": {
      "text/plain": [
       "0"
      ]
     },
     "execution_count": 56,
     "metadata": {},
     "output_type": "execute_result"
    }
   ],
   "source": [
    "# сумма выручки юзеров, данные которых не присутствуют в таблице транзакций\n",
    "users_control_2.query('uid not in @uid_control_2_tr').total_revenue.sum()"
   ]
  },
  {
   "cell_type": "code",
   "execution_count": 57,
   "metadata": {},
   "outputs": [
    {
     "data": {
      "text/plain": [
       "0"
      ]
     },
     "execution_count": 57,
     "metadata": {},
     "output_type": "execute_result"
    }
   ],
   "source": [
    "# разница в суммарной выручке по таблице транзакций и траблице юзерс\n",
    "transactions_control_2.revenue.sum() - users_control_2.query('uid in @uid_control_2_tr').total_revenue.sum()"
   ]
  },
  {
   "cell_type": "code",
   "execution_count": null,
   "metadata": {},
   "outputs": [],
   "source": []
  },
  {
   "cell_type": "code",
   "execution_count": null,
   "metadata": {},
   "outputs": [],
   "source": []
  },
  {
   "cell_type": "code",
   "execution_count": null,
   "metadata": {},
   "outputs": [],
   "source": [
    "# Проведем A/A тесты, чтобы понять насколько качественно проведено сплитование \n",
    "# и нет ли выбросов и других багов в наших данных"
   ]
  },
  {
   "cell_type": "code",
   "execution_count": null,
   "metadata": {},
   "outputs": [],
   "source": [
    "# сперва сравним данные о пользователях"
   ]
  },
  {
   "cell_type": "code",
   "execution_count": 61,
   "metadata": {},
   "outputs": [],
   "source": [
    "data_a_a_users_control_1 = users_control_1\\\n",
    "                    .loc[:,['uid', 'age', 'country', 'gender', 'total_revenue']]\\\n",
    "                    .assign(group='control_1')"
   ]
  },
  {
   "cell_type": "code",
   "execution_count": 62,
   "metadata": {},
   "outputs": [],
   "source": [
    "data_a_a_users_control_2 = users_control_2\\\n",
    "                                .loc[:,['uid', 'age', 'country', 'gender', 'total_revenue']]\\\n",
    "                                .assign(group='control_2')"
   ]
  },
  {
   "cell_type": "code",
   "execution_count": 64,
   "metadata": {},
   "outputs": [],
   "source": [
    "data_a_a_users = pd.concat([data_a_a_users_control_1, data_a_a_users_control_2], ignore_index=True)"
   ]
  },
  {
   "cell_type": "code",
   "execution_count": 65,
   "metadata": {
    "scrolled": true
   },
   "outputs": [
    {
     "data": {
      "text/plain": [
       "group\n",
       "control_1    4339\n",
       "control_2    4264\n",
       "dtype: int64"
      ]
     },
     "execution_count": 65,
     "metadata": {},
     "output_type": "execute_result"
    }
   ],
   "source": [
    "data_a_a_users.value_counts('group')"
   ]
  },
  {
   "cell_type": "code",
   "execution_count": 66,
   "metadata": {},
   "outputs": [
    {
     "data": {
      "text/plain": [
       "<AxesSubplot:xlabel='group', ylabel='total_revenue'>"
      ]
     },
     "execution_count": 66,
     "metadata": {},
     "output_type": "execute_result"
    },
    {
     "data": {
      "image/png": "[encoded data removed]",
      "text/plain": [
       "<Figure size 432x288 with 1 Axes>"
      ]
     },
     "metadata": {
      "needs_background": "light"
     },
     "output_type": "display_data"
    }
   ],
   "source": [
    "# построим boxplot , чтобы увидеть выбросы в наших данных\n",
    "sns.boxplot(data=data_a_a_users,\n",
    "           y='total_revenue',\n",
    "           x='group')"
   ]
  },
  {
   "cell_type": "code",
   "execution_count": null,
   "metadata": {},
   "outputs": [],
   "source": [
    "# видим что в первой группе присутсвует существенный выброс, проверим с чем он связан"
   ]
  },
  {
   "cell_type": "code",
   "execution_count": 67,
   "metadata": {},
   "outputs": [
    {
     "data": {
      "text/html": [
       "<div>\n",
       "<style scoped>\n",
       "    .dataframe tbody tr th:only-of-type {\n",
       "        vertical-align: middle;\n",
       "    }\n",
       "\n",
       "    .dataframe tbody tr th {\n",
       "        vertical-align: top;\n",
       "    }\n",
       "\n",
       "    .dataframe thead th {\n",
       "        text-align: right;\n",
       "    }\n",
       "</style>\n",
       "<table border=\"1\" class=\"dataframe\">\n",
       "  <thead>\n",
       "    <tr style=\"text-align: right;\">\n",
       "      <th></th>\n",
       "      <th>uid</th>\n",
       "      <th>age</th>\n",
       "      <th>country</th>\n",
       "      <th>gender</th>\n",
       "      <th>total_revenue</th>\n",
       "      <th>group</th>\n",
       "    </tr>\n",
       "  </thead>\n",
       "  <tbody>\n",
       "    <tr>\n",
       "      <th>1426</th>\n",
       "      <td>892333905</td>\n",
       "      <td>22</td>\n",
       "      <td>Italy</td>\n",
       "      <td>1</td>\n",
       "      <td>486330</td>\n",
       "      <td>control_1</td>\n",
       "    </tr>\n",
       "  </tbody>\n",
       "</table>\n",
       "</div>"
      ],
      "text/plain": [
       "            uid  age country  gender  total_revenue      group\n",
       "1426  892333905   22   Italy       1         486330  control_1"
      ]
     },
     "execution_count": 67,
     "metadata": {},
     "output_type": "execute_result"
    }
   ],
   "source": [
    "data_a_a_users.query('total_revenue > 100000')"
   ]
  },
  {
   "cell_type": "code",
   "execution_count": null,
   "metadata": {},
   "outputs": [],
   "source": [
    "# выброс связан с активностью всего 1 пользователя из первой контрольной группы, проверим его транзакции"
   ]
  },
  {
   "cell_type": "code",
   "execution_count": 68,
   "metadata": {},
   "outputs": [
    {
     "data": {
      "text/html": [
       "<div>\n",
       "<style scoped>\n",
       "    .dataframe tbody tr th:only-of-type {\n",
       "        vertical-align: middle;\n",
       "    }\n",
       "\n",
       "    .dataframe tbody tr th {\n",
       "        vertical-align: top;\n",
       "    }\n",
       "\n",
       "    .dataframe thead th {\n",
       "        text-align: right;\n",
       "    }\n",
       "</style>\n",
       "<table border=\"1\" class=\"dataframe\">\n",
       "  <thead>\n",
       "    <tr style=\"text-align: right;\">\n",
       "      <th></th>\n",
       "      <th>uid</th>\n",
       "      <th>country</th>\n",
       "      <th>joined_at</th>\n",
       "      <th>paid_at</th>\n",
       "      <th>revenue</th>\n",
       "      <th>payment_id</th>\n",
       "      <th>from_page</th>\n",
       "      <th>product_type</th>\n",
       "    </tr>\n",
       "  </thead>\n",
       "  <tbody>\n",
       "    <tr>\n",
       "      <th>49</th>\n",
       "      <td>892333905.0</td>\n",
       "      <td>Italy</td>\n",
       "      <td>2017-10-16 01:38:00</td>\n",
       "      <td>2017-10-16 01:42:00</td>\n",
       "      <td>3783.0</td>\n",
       "      <td>67.0</td>\n",
       "      <td>menu</td>\n",
       "      <td>other_type</td>\n",
       "    </tr>\n",
       "    <tr>\n",
       "      <th>13</th>\n",
       "      <td>892333905.0</td>\n",
       "      <td>Italy</td>\n",
       "      <td>2017-10-16 01:38:00</td>\n",
       "      <td>2017-10-16 01:44:00</td>\n",
       "      <td>3783.0</td>\n",
       "      <td>67.0</td>\n",
       "      <td>menu</td>\n",
       "      <td>other_type</td>\n",
       "    </tr>\n",
       "    <tr>\n",
       "      <th>47</th>\n",
       "      <td>892333905.0</td>\n",
       "      <td>Italy</td>\n",
       "      <td>2017-10-16 01:38:00</td>\n",
       "      <td>2017-10-16 01:44:00</td>\n",
       "      <td>3783.0</td>\n",
       "      <td>67.0</td>\n",
       "      <td>menu</td>\n",
       "      <td>other_type</td>\n",
       "    </tr>\n",
       "    <tr>\n",
       "      <th>169</th>\n",
       "      <td>892333905.0</td>\n",
       "      <td>Italy</td>\n",
       "      <td>2017-10-16 01:38:00</td>\n",
       "      <td>2017-10-16 01:44:00</td>\n",
       "      <td>3783.0</td>\n",
       "      <td>67.0</td>\n",
       "      <td>menu</td>\n",
       "      <td>other_type</td>\n",
       "    </tr>\n",
       "    <tr>\n",
       "      <th>28</th>\n",
       "      <td>892333905.0</td>\n",
       "      <td>Italy</td>\n",
       "      <td>2017-10-16 01:38:00</td>\n",
       "      <td>2017-10-16 01:57:00</td>\n",
       "      <td>3783.0</td>\n",
       "      <td>67.0</td>\n",
       "      <td>empty_admins</td>\n",
       "      <td>other_type</td>\n",
       "    </tr>\n",
       "    <tr>\n",
       "      <th>296</th>\n",
       "      <td>892333905.0</td>\n",
       "      <td>Italy</td>\n",
       "      <td>2017-10-16 01:38:00</td>\n",
       "      <td>2017-10-16 01:57:00</td>\n",
       "      <td>3783.0</td>\n",
       "      <td>67.0</td>\n",
       "      <td>empty_admins</td>\n",
       "      <td>other_type</td>\n",
       "    </tr>\n",
       "    <tr>\n",
       "      <th>43</th>\n",
       "      <td>892333905.0</td>\n",
       "      <td>Italy</td>\n",
       "      <td>2017-10-16 01:38:00</td>\n",
       "      <td>2017-10-16 01:58:00</td>\n",
       "      <td>3783.0</td>\n",
       "      <td>67.0</td>\n",
       "      <td>empty_admins</td>\n",
       "      <td>other_type</td>\n",
       "    </tr>\n",
       "    <tr>\n",
       "      <th>198</th>\n",
       "      <td>892333905.0</td>\n",
       "      <td>Italy</td>\n",
       "      <td>2017-10-16 01:38:00</td>\n",
       "      <td>2017-10-16 01:58:00</td>\n",
       "      <td>3783.0</td>\n",
       "      <td>67.0</td>\n",
       "      <td>empty_admins</td>\n",
       "      <td>other_type</td>\n",
       "    </tr>\n",
       "    <tr>\n",
       "      <th>88</th>\n",
       "      <td>892333905.0</td>\n",
       "      <td>Italy</td>\n",
       "      <td>2017-10-16 01:38:00</td>\n",
       "      <td>2017-10-16 01:58:00</td>\n",
       "      <td>3783.0</td>\n",
       "      <td>67.0</td>\n",
       "      <td>empty_admins</td>\n",
       "      <td>other_type</td>\n",
       "    </tr>\n",
       "    <tr>\n",
       "      <th>6</th>\n",
       "      <td>892333905.0</td>\n",
       "      <td>Italy</td>\n",
       "      <td>2017-10-16 01:38:00</td>\n",
       "      <td>2017-10-16 02:08:00</td>\n",
       "      <td>12610.0</td>\n",
       "      <td>19.0</td>\n",
       "      <td>gifts</td>\n",
       "      <td>coins</td>\n",
       "    </tr>\n",
       "    <tr>\n",
       "      <th>149</th>\n",
       "      <td>892333905.0</td>\n",
       "      <td>Italy</td>\n",
       "      <td>2017-10-16 01:38:00</td>\n",
       "      <td>2017-10-16 02:08:00</td>\n",
       "      <td>1261.0</td>\n",
       "      <td>19.0</td>\n",
       "      <td>gifts</td>\n",
       "      <td>coins</td>\n",
       "    </tr>\n",
       "    <tr>\n",
       "      <th>289</th>\n",
       "      <td>892333905.0</td>\n",
       "      <td>Italy</td>\n",
       "      <td>2017-10-16 01:38:00</td>\n",
       "      <td>2017-10-16 02:08:00</td>\n",
       "      <td>3783.0</td>\n",
       "      <td>67.0</td>\n",
       "      <td>gifts</td>\n",
       "      <td>other_type</td>\n",
       "    </tr>\n",
       "    <tr>\n",
       "      <th>137</th>\n",
       "      <td>892333905.0</td>\n",
       "      <td>Italy</td>\n",
       "      <td>2017-10-16 01:38:00</td>\n",
       "      <td>2017-10-16 02:08:00</td>\n",
       "      <td>31525.0</td>\n",
       "      <td>19.0</td>\n",
       "      <td>gifts</td>\n",
       "      <td>coins</td>\n",
       "    </tr>\n",
       "    <tr>\n",
       "      <th>274</th>\n",
       "      <td>892333905.0</td>\n",
       "      <td>Italy</td>\n",
       "      <td>2017-10-16 01:38:00</td>\n",
       "      <td>2017-10-16 02:08:00</td>\n",
       "      <td>1261.0</td>\n",
       "      <td>19.0</td>\n",
       "      <td>gifts</td>\n",
       "      <td>coins</td>\n",
       "    </tr>\n",
       "    <tr>\n",
       "      <th>297</th>\n",
       "      <td>892333905.0</td>\n",
       "      <td>Italy</td>\n",
       "      <td>2017-10-16 01:38:00</td>\n",
       "      <td>2017-10-16 02:26:00</td>\n",
       "      <td>31525.0</td>\n",
       "      <td>19.0</td>\n",
       "      <td>menu</td>\n",
       "      <td>coins</td>\n",
       "    </tr>\n",
       "    <tr>\n",
       "      <th>304</th>\n",
       "      <td>892333905.0</td>\n",
       "      <td>Italy</td>\n",
       "      <td>2017-10-16 01:38:00</td>\n",
       "      <td>2017-10-16 02:26:00</td>\n",
       "      <td>31525.0</td>\n",
       "      <td>19.0</td>\n",
       "      <td>menu</td>\n",
       "      <td>coins</td>\n",
       "    </tr>\n",
       "    <tr>\n",
       "      <th>316</th>\n",
       "      <td>892333905.0</td>\n",
       "      <td>Italy</td>\n",
       "      <td>2017-10-16 01:38:00</td>\n",
       "      <td>2017-10-16 02:52:00</td>\n",
       "      <td>31525.0</td>\n",
       "      <td>19.0</td>\n",
       "      <td>menu</td>\n",
       "      <td>coins</td>\n",
       "    </tr>\n",
       "    <tr>\n",
       "      <th>306</th>\n",
       "      <td>892333905.0</td>\n",
       "      <td>Italy</td>\n",
       "      <td>2017-10-16 01:38:00</td>\n",
       "      <td>2017-10-16 10:24:00</td>\n",
       "      <td>31525.0</td>\n",
       "      <td>19.0</td>\n",
       "      <td>menu</td>\n",
       "      <td>coins</td>\n",
       "    </tr>\n",
       "    <tr>\n",
       "      <th>143</th>\n",
       "      <td>892333905.0</td>\n",
       "      <td>Italy</td>\n",
       "      <td>2017-10-16 01:38:00</td>\n",
       "      <td>2017-10-16 13:10:00</td>\n",
       "      <td>63037.0</td>\n",
       "      <td>147.0</td>\n",
       "      <td>no_sympathy</td>\n",
       "      <td>premium_no_trial</td>\n",
       "    </tr>\n",
       "    <tr>\n",
       "      <th>359</th>\n",
       "      <td>892333905.0</td>\n",
       "      <td>Italy</td>\n",
       "      <td>2017-10-16 01:38:00</td>\n",
       "      <td>2017-10-16 18:42:00</td>\n",
       "      <td>31525.0</td>\n",
       "      <td>19.0</td>\n",
       "      <td>fans</td>\n",
       "      <td>coins</td>\n",
       "    </tr>\n",
       "    <tr>\n",
       "      <th>76</th>\n",
       "      <td>892333905.0</td>\n",
       "      <td>Italy</td>\n",
       "      <td>2017-10-16 01:38:00</td>\n",
       "      <td>2017-10-16 18:42:00</td>\n",
       "      <td>31525.0</td>\n",
       "      <td>19.0</td>\n",
       "      <td>fans</td>\n",
       "      <td>coins</td>\n",
       "    </tr>\n",
       "    <tr>\n",
       "      <th>63</th>\n",
       "      <td>892333905.0</td>\n",
       "      <td>Italy</td>\n",
       "      <td>2017-10-16 01:38:00</td>\n",
       "      <td>2017-10-16 22:35:00</td>\n",
       "      <td>31525.0</td>\n",
       "      <td>19.0</td>\n",
       "      <td>menu</td>\n",
       "      <td>coins</td>\n",
       "    </tr>\n",
       "    <tr>\n",
       "      <th>126</th>\n",
       "      <td>892333905.0</td>\n",
       "      <td>Italy</td>\n",
       "      <td>2017-10-16 01:38:00</td>\n",
       "      <td>2017-10-16 22:39:00</td>\n",
       "      <td>19773.0</td>\n",
       "      <td>146.0</td>\n",
       "      <td>menu</td>\n",
       "      <td>coins</td>\n",
       "    </tr>\n",
       "    <tr>\n",
       "      <th>256</th>\n",
       "      <td>892333905.0</td>\n",
       "      <td>Italy</td>\n",
       "      <td>2017-10-16 01:38:00</td>\n",
       "      <td>2017-10-17 00:40:00</td>\n",
       "      <td>31525.0</td>\n",
       "      <td>19.0</td>\n",
       "      <td>menu</td>\n",
       "      <td>coins</td>\n",
       "    </tr>\n",
       "    <tr>\n",
       "      <th>358</th>\n",
       "      <td>892333905.0</td>\n",
       "      <td>Italy</td>\n",
       "      <td>2017-10-16 01:38:00</td>\n",
       "      <td>2017-10-17 02:23:00</td>\n",
       "      <td>3783.0</td>\n",
       "      <td>67.0</td>\n",
       "      <td>menu</td>\n",
       "      <td>other_type</td>\n",
       "    </tr>\n",
       "    <tr>\n",
       "      <th>166</th>\n",
       "      <td>892333905.0</td>\n",
       "      <td>Italy</td>\n",
       "      <td>2017-10-16 01:38:00</td>\n",
       "      <td>2017-10-17 02:23:00</td>\n",
       "      <td>31525.0</td>\n",
       "      <td>19.0</td>\n",
       "      <td>menu</td>\n",
       "      <td>coins</td>\n",
       "    </tr>\n",
       "    <tr>\n",
       "      <th>335</th>\n",
       "      <td>892333905.0</td>\n",
       "      <td>Italy</td>\n",
       "      <td>2017-10-16 01:38:00</td>\n",
       "      <td>2017-10-17 20:53:00</td>\n",
       "      <td>31525.0</td>\n",
       "      <td>19.0</td>\n",
       "      <td>menu</td>\n",
       "      <td>coins</td>\n",
       "    </tr>\n",
       "  </tbody>\n",
       "</table>\n",
       "</div>"
      ],
      "text/plain": [
       "             uid country           joined_at             paid_at  revenue  \\\n",
       "49   892333905.0   Italy 2017-10-16 01:38:00 2017-10-16 01:42:00   3783.0   \n",
       "13   892333905.0   Italy 2017-10-16 01:38:00 2017-10-16 01:44:00   3783.0   \n",
       "47   892333905.0   Italy 2017-10-16 01:38:00 2017-10-16 01:44:00   3783.0   \n",
       "169  892333905.0   Italy 2017-10-16 01:38:00 2017-10-16 01:44:00   3783.0   \n",
       "28   892333905.0   Italy 2017-10-16 01:38:00 2017-10-16 01:57:00   3783.0   \n",
       "296  892333905.0   Italy 2017-10-16 01:38:00 2017-10-16 01:57:00   3783.0   \n",
       "43   892333905.0   Italy 2017-10-16 01:38:00 2017-10-16 01:58:00   3783.0   \n",
       "198  892333905.0   Italy 2017-10-16 01:38:00 2017-10-16 01:58:00   3783.0   \n",
       "88   892333905.0   Italy 2017-10-16 01:38:00 2017-10-16 01:58:00   3783.0   \n",
       "6    892333905.0   Italy 2017-10-16 01:38:00 2017-10-16 02:08:00  12610.0   \n",
       "149  892333905.0   Italy 2017-10-16 01:38:00 2017-10-16 02:08:00   1261.0   \n",
       "289  892333905.0   Italy 2017-10-16 01:38:00 2017-10-16 02:08:00   3783.0   \n",
       "137  892333905.0   Italy 2017-10-16 01:38:00 2017-10-16 02:08:00  31525.0   \n",
       "274  892333905.0   Italy 2017-10-16 01:38:00 2017-10-16 02:08:00   1261.0   \n",
       "297  892333905.0   Italy 2017-10-16 01:38:00 2017-10-16 02:26:00  31525.0   \n",
       "304  892333905.0   Italy 2017-10-16 01:38:00 2017-10-16 02:26:00  31525.0   \n",
       "316  892333905.0   Italy 2017-10-16 01:38:00 2017-10-16 02:52:00  31525.0   \n",
       "306  892333905.0   Italy 2017-10-16 01:38:00 2017-10-16 10:24:00  31525.0   \n",
       "143  892333905.0   Italy 2017-10-16 01:38:00 2017-10-16 13:10:00  63037.0   \n",
       "359  892333905.0   Italy 2017-10-16 01:38:00 2017-10-16 18:42:00  31525.0   \n",
       "76   892333905.0   Italy 2017-10-16 01:38:00 2017-10-16 18:42:00  31525.0   \n",
       "63   892333905.0   Italy 2017-10-16 01:38:00 2017-10-16 22:35:00  31525.0   \n",
       "126  892333905.0   Italy 2017-10-16 01:38:00 2017-10-16 22:39:00  19773.0   \n",
       "256  892333905.0   Italy 2017-10-16 01:38:00 2017-10-17 00:40:00  31525.0   \n",
       "358  892333905.0   Italy 2017-10-16 01:38:00 2017-10-17 02:23:00   3783.0   \n",
       "166  892333905.0   Italy 2017-10-16 01:38:00 2017-10-17 02:23:00  31525.0   \n",
       "335  892333905.0   Italy 2017-10-16 01:38:00 2017-10-17 20:53:00  31525.0   \n",
       "\n",
       "     payment_id     from_page      product_type  \n",
       "49         67.0          menu        other_type  \n",
       "13         67.0          menu        other_type  \n",
       "47         67.0          menu        other_type  \n",
       "169        67.0          menu        other_type  \n",
       "28         67.0  empty_admins        other_type  \n",
       "296        67.0  empty_admins        other_type  \n",
       "43         67.0  empty_admins        other_type  \n",
       "198        67.0  empty_admins        other_type  \n",
       "88         67.0  empty_admins        other_type  \n",
       "6          19.0         gifts             coins  \n",
       "149        19.0         gifts             coins  \n",
       "289        67.0         gifts        other_type  \n",
       "137        19.0         gifts             coins  \n",
       "274        19.0         gifts             coins  \n",
       "297        19.0          menu             coins  \n",
       "304        19.0          menu             coins  \n",
       "316        19.0          menu             coins  \n",
       "306        19.0          menu             coins  \n",
       "143       147.0   no_sympathy  premium_no_trial  \n",
       "359        19.0          fans             coins  \n",
       "76         19.0          fans             coins  \n",
       "63         19.0          menu             coins  \n",
       "126       146.0          menu             coins  \n",
       "256        19.0          menu             coins  \n",
       "358        67.0          menu        other_type  \n",
       "166        19.0          menu             coins  \n",
       "335        19.0          menu             coins  "
      ]
     },
     "execution_count": 68,
     "metadata": {},
     "output_type": "execute_result"
    }
   ],
   "source": [
    "transactions_control_1.query('uid == 892333905').sort_values('paid_at')"
   ]
  },
  {
   "cell_type": "code",
   "execution_count": null,
   "metadata": {},
   "outputs": [],
   "source": [
    "# видим что было совершено большое количество транзакции в короткий временной промежуток\n",
    "# имеет мсысл предроложить, что это активность бота или баг\n",
    "# исключим данные об этом пользоветеле"
   ]
  },
  {
   "cell_type": "code",
   "execution_count": 69,
   "metadata": {},
   "outputs": [],
   "source": [
    "users_control_1 = users_control_1.query('uid != 892333905.0')"
   ]
  },
  {
   "cell_type": "code",
   "execution_count": 70,
   "metadata": {},
   "outputs": [],
   "source": [
    "transactions_control_1 = transactions_control_1.query('uid != 892333905.0')"
   ]
  },
  {
   "cell_type": "code",
   "execution_count": 72,
   "metadata": {},
   "outputs": [],
   "source": [
    "data_a_a_users = data_a_a_users.query('uid != 892333905.0')"
   ]
  },
  {
   "cell_type": "code",
   "execution_count": null,
   "metadata": {},
   "outputs": [],
   "source": [
    "# Проведем симуляцию A/A тестов и посчитаем FPR"
   ]
  },
  {
   "cell_type": "code",
   "execution_count": 73,
   "metadata": {
    "scrolled": true
   },
   "outputs": [
    {
     "data": {
      "application/vnd.jupyter.widget-view+json": {
       "model_id": "a72c971468424e25ab3687e6b7dc4a3d",
       "version_major": 2,
       "version_minor": 0
      },
      "text/plain": [
       "HBox(children=(HTML(value=''), FloatProgress(value=0.0, max=10000.0), HTML(value='')))"
      ]
     },
     "metadata": {},
     "output_type": "display_data"
    },
    {
     "name": "stdout",
     "output_type": "stream",
     "text": [
      "\n"
     ]
    },
    {
     "data": {
      "image/png": "[encoded data removed]",
      "text/plain": [
       "<Figure size 432x288 with 1 Axes>"
      ]
     },
     "metadata": {
      "needs_background": "light"
     },
     "output_type": "display_data"
    },
    {
     "data": {
      "text/plain": [
       "0.0295"
      ]
     },
     "execution_count": 73,
     "metadata": {},
     "output_type": "execute_result"
    }
   ],
   "source": [
    "simulations = 10000\n",
    "n_s = 1000\n",
    "res = []\n",
    "\n",
    "# Запуск симуляций A/A теста\n",
    "for i in tqdm(range(simulations)):\n",
    "    s1 = data_a_a_users[data_a_a_users.group == 'control_1'].total_revenue.sample(n_s, replace = False).values\n",
    "    s2 = data_a_a_users[data_a_a_users.group == 'control_2'].total_revenue.sample(n_s, replace = False).values\n",
    "    res.append(stats.ttest_ind(s1, s2, equal_var = False)[1]) # сохраняем pvalue\n",
    "\n",
    "plt.hist(res, bins = 50)\n",
    "plt.style.use('ggplot')\n",
    "plt.xlabel('pvalues')\n",
    "plt.ylabel('frequency')\n",
    "plt.title(\"Histogram of ttest A/A simulations \")\n",
    "plt.show()\n",
    "\n",
    "# Проверяем, что количество ложноположительных случаев не превышает альфа\n",
    "sum(np.array(res) <0.05) / simulations"
   ]
  },
  {
   "cell_type": "markdown",
   "metadata": {},
   "source": [
    "Мы видим что распределение близко к равномерному и индекс FPR меньше заданного уровня. Следовательно данные в наших контрльных группах схожи"
   ]
  },
  {
   "cell_type": "code",
   "execution_count": null,
   "metadata": {},
   "outputs": [],
   "source": [
    "# сравним данные о транзакциях пользователях"
   ]
  },
  {
   "cell_type": "code",
   "execution_count": 74,
   "metadata": {},
   "outputs": [],
   "source": [
    "data_a_a_tr_control_1 = users_control_1\\\n",
    "                    .loc[:,['uid', 'age', 'country', 'gender']]\\\n",
    "                    .assign(group='control_1')\\\n",
    "                    .merge(transactions_control_1, on='uid')"
   ]
  },
  {
   "cell_type": "code",
   "execution_count": 75,
   "metadata": {},
   "outputs": [],
   "source": [
    "ata_a_a_tr_control_2 = users_control_2\\\n",
    "                    .loc[:,['uid', 'age', 'country', 'gender']]\\\n",
    "                    .assign(group='control_2')\\\n",
    "                    .merge(transactions_control_2, on='uid')"
   ]
  },
  {
   "cell_type": "code",
   "execution_count": 76,
   "metadata": {},
   "outputs": [],
   "source": [
    "data_a_a_tr = pd.concat([data_a_a_tr_control_1, ata_a_a_tr_control_2], ignore_index=True)"
   ]
  },
  {
   "cell_type": "code",
   "execution_count": 77,
   "metadata": {},
   "outputs": [
    {
     "data": {
      "text/plain": [
       "group\n",
       "control_1    346\n",
       "control_2    328\n",
       "dtype: int64"
      ]
     },
     "execution_count": 77,
     "metadata": {},
     "output_type": "execute_result"
    }
   ],
   "source": [
    "data_a_a_tr.value_counts('group')"
   ]
  },
  {
   "cell_type": "code",
   "execution_count": 78,
   "metadata": {},
   "outputs": [
    {
     "data": {
      "text/plain": [
       "<AxesSubplot:xlabel='group', ylabel='revenue'>"
      ]
     },
     "execution_count": 78,
     "metadata": {},
     "output_type": "execute_result"
    },
    {
     "data": {
      "image/png": "[encoded data removed]",
      "text/plain": [
       "<Figure size 432x288 with 1 Axes>"
      ]
     },
     "metadata": {},
     "output_type": "display_data"
    }
   ],
   "source": [
    "# построим boxplot чтобы увидеть есть ли ещё выбросы\n",
    "sns.boxplot(data=data_a_a_tr,\n",
    "           y='revenue',\n",
    "           x='group')"
   ]
  },
  {
   "cell_type": "code",
   "execution_count": null,
   "metadata": {},
   "outputs": [],
   "source": [
    "# в обеих группах есть выбросы, проверим их"
   ]
  },
  {
   "cell_type": "code",
   "execution_count": 79,
   "metadata": {
    "scrolled": true
   },
   "outputs": [
    {
     "data": {
      "text/html": [
       "<div>\n",
       "<style scoped>\n",
       "    .dataframe tbody tr th:only-of-type {\n",
       "        vertical-align: middle;\n",
       "    }\n",
       "\n",
       "    .dataframe tbody tr th {\n",
       "        vertical-align: top;\n",
       "    }\n",
       "\n",
       "    .dataframe thead th {\n",
       "        text-align: right;\n",
       "    }\n",
       "</style>\n",
       "<table border=\"1\" class=\"dataframe\">\n",
       "  <thead>\n",
       "    <tr style=\"text-align: right;\">\n",
       "      <th></th>\n",
       "      <th>uid</th>\n",
       "      <th>age</th>\n",
       "      <th>country_x</th>\n",
       "      <th>gender</th>\n",
       "      <th>group</th>\n",
       "      <th>country_y</th>\n",
       "      <th>joined_at</th>\n",
       "      <th>paid_at</th>\n",
       "      <th>revenue</th>\n",
       "      <th>payment_id</th>\n",
       "      <th>from_page</th>\n",
       "      <th>product_type</th>\n",
       "    </tr>\n",
       "  </thead>\n",
       "  <tbody>\n",
       "    <tr>\n",
       "      <th>19</th>\n",
       "      <td>892421277</td>\n",
       "      <td>22</td>\n",
       "      <td>United States of America</td>\n",
       "      <td>1</td>\n",
       "      <td>control_1</td>\n",
       "      <td>United States of America</td>\n",
       "      <td>2017-10-14 13:05:00</td>\n",
       "      <td>2017-10-15 13:11:00</td>\n",
       "      <td>47723.0</td>\n",
       "      <td>147.0</td>\n",
       "      <td>promo_09</td>\n",
       "      <td>premium_no_trial</td>\n",
       "    </tr>\n",
       "    <tr>\n",
       "      <th>51</th>\n",
       "      <td>891383310</td>\n",
       "      <td>22</td>\n",
       "      <td>Turkey</td>\n",
       "      <td>1</td>\n",
       "      <td>control_1</td>\n",
       "      <td>Turkey</td>\n",
       "      <td>2017-04-11 20:47:00</td>\n",
       "      <td>2017-04-11 22:17:00</td>\n",
       "      <td>63037.0</td>\n",
       "      <td>147.0</td>\n",
       "      <td>autoreply_message</td>\n",
       "      <td>premium_no_trial</td>\n",
       "    </tr>\n",
       "    <tr>\n",
       "      <th>174</th>\n",
       "      <td>892216461</td>\n",
       "      <td>19</td>\n",
       "      <td>United States of America</td>\n",
       "      <td>1</td>\n",
       "      <td>control_1</td>\n",
       "      <td>United States of America</td>\n",
       "      <td>2017-10-18 14:41:00</td>\n",
       "      <td>2017-10-18 15:02:00</td>\n",
       "      <td>63037.0</td>\n",
       "      <td>147.0</td>\n",
       "      <td>autoreply_message</td>\n",
       "      <td>premium_no_trial</td>\n",
       "    </tr>\n",
       "    <tr>\n",
       "      <th>465</th>\n",
       "      <td>892307238</td>\n",
       "      <td>29</td>\n",
       "      <td>Spain</td>\n",
       "      <td>1</td>\n",
       "      <td>control_2</td>\n",
       "      <td>Spain</td>\n",
       "      <td>2017-10-16 16:01:00</td>\n",
       "      <td>2017-10-16 20:41:00</td>\n",
       "      <td>63037.0</td>\n",
       "      <td>147.0</td>\n",
       "      <td>left_sidebar_menu</td>\n",
       "      <td>premium_no_trial</td>\n",
       "    </tr>\n",
       "    <tr>\n",
       "      <th>479</th>\n",
       "      <td>891778551</td>\n",
       "      <td>30</td>\n",
       "      <td>United Arab Emirates</td>\n",
       "      <td>1</td>\n",
       "      <td>control_2</td>\n",
       "      <td>United Arab Emirates</td>\n",
       "      <td>2017-10-27 21:26:00</td>\n",
       "      <td>2017-10-27 22:30:00</td>\n",
       "      <td>81796.0</td>\n",
       "      <td>147.0</td>\n",
       "      <td>left_sidebar_menu</td>\n",
       "      <td>premium_no_trial</td>\n",
       "    </tr>\n",
       "  </tbody>\n",
       "</table>\n",
       "</div>"
      ],
      "text/plain": [
       "           uid  age                 country_x  gender      group  \\\n",
       "19   892421277   22  United States of America       1  control_1   \n",
       "51   891383310   22                    Turkey       1  control_1   \n",
       "174  892216461   19  United States of America       1  control_1   \n",
       "465  892307238   29                     Spain       1  control_2   \n",
       "479  891778551   30      United Arab Emirates       1  control_2   \n",
       "\n",
       "                    country_y           joined_at             paid_at  \\\n",
       "19   United States of America 2017-10-14 13:05:00 2017-10-15 13:11:00   \n",
       "51                     Turkey 2017-04-11 20:47:00 2017-04-11 22:17:00   \n",
       "174  United States of America 2017-10-18 14:41:00 2017-10-18 15:02:00   \n",
       "465                     Spain 2017-10-16 16:01:00 2017-10-16 20:41:00   \n",
       "479      United Arab Emirates 2017-10-27 21:26:00 2017-10-27 22:30:00   \n",
       "\n",
       "     revenue  payment_id          from_page      product_type  \n",
       "19   47723.0       147.0           promo_09  premium_no_trial  \n",
       "51   63037.0       147.0  autoreply_message  premium_no_trial  \n",
       "174  63037.0       147.0  autoreply_message  premium_no_trial  \n",
       "465  63037.0       147.0  left_sidebar_menu  premium_no_trial  \n",
       "479  81796.0       147.0  left_sidebar_menu  premium_no_trial  "
      ]
     },
     "execution_count": 79,
     "metadata": {},
     "output_type": "execute_result"
    }
   ],
   "source": [
    "data_a_a_tr.query('revenue > 40000')"
   ]
  },
  {
   "cell_type": "code",
   "execution_count": 80,
   "metadata": {},
   "outputs": [
    {
     "data": {
      "text/html": [
       "<div>\n",
       "<style scoped>\n",
       "    .dataframe tbody tr th:only-of-type {\n",
       "        vertical-align: middle;\n",
       "    }\n",
       "\n",
       "    .dataframe tbody tr th {\n",
       "        vertical-align: top;\n",
       "    }\n",
       "\n",
       "    .dataframe thead th {\n",
       "        text-align: right;\n",
       "    }\n",
       "</style>\n",
       "<table border=\"1\" class=\"dataframe\">\n",
       "  <thead>\n",
       "    <tr style=\"text-align: right;\">\n",
       "      <th></th>\n",
       "      <th>uid</th>\n",
       "      <th>country</th>\n",
       "      <th>joined_at</th>\n",
       "      <th>paid_at</th>\n",
       "      <th>revenue</th>\n",
       "      <th>payment_id</th>\n",
       "      <th>from_page</th>\n",
       "      <th>product_type</th>\n",
       "    </tr>\n",
       "  </thead>\n",
       "  <tbody>\n",
       "    <tr>\n",
       "      <th>30</th>\n",
       "      <td>892421277.0</td>\n",
       "      <td>United States of America</td>\n",
       "      <td>2017-10-14 13:05:00</td>\n",
       "      <td>2017-10-15 13:11:00</td>\n",
       "      <td>47723.0</td>\n",
       "      <td>147.0</td>\n",
       "      <td>promo_09</td>\n",
       "      <td>premium_no_trial</td>\n",
       "    </tr>\n",
       "    <tr>\n",
       "      <th>100</th>\n",
       "      <td>892421277.0</td>\n",
       "      <td>United States of America</td>\n",
       "      <td>2017-10-14 13:05:00</td>\n",
       "      <td>2017-02-11 02:12:00</td>\n",
       "      <td>12610.0</td>\n",
       "      <td>19.0</td>\n",
       "      <td>empty_likes</td>\n",
       "      <td>coins</td>\n",
       "    </tr>\n",
       "  </tbody>\n",
       "</table>\n",
       "</div>"
      ],
      "text/plain": [
       "             uid                   country           joined_at  \\\n",
       "30   892421277.0  United States of America 2017-10-14 13:05:00   \n",
       "100  892421277.0  United States of America 2017-10-14 13:05:00   \n",
       "\n",
       "                paid_at  revenue  payment_id    from_page      product_type  \n",
       "30  2017-10-15 13:11:00  47723.0       147.0     promo_09  premium_no_trial  \n",
       "100 2017-02-11 02:12:00  12610.0        19.0  empty_likes             coins  "
      ]
     },
     "execution_count": 80,
     "metadata": {},
     "output_type": "execute_result"
    }
   ],
   "source": [
    "transactions_control_1.query('uid == 892421277')"
   ]
  },
  {
   "cell_type": "code",
   "execution_count": 81,
   "metadata": {},
   "outputs": [
    {
     "data": {
      "text/html": [
       "<div>\n",
       "<style scoped>\n",
       "    .dataframe tbody tr th:only-of-type {\n",
       "        vertical-align: middle;\n",
       "    }\n",
       "\n",
       "    .dataframe tbody tr th {\n",
       "        vertical-align: top;\n",
       "    }\n",
       "\n",
       "    .dataframe thead th {\n",
       "        text-align: right;\n",
       "    }\n",
       "</style>\n",
       "<table border=\"1\" class=\"dataframe\">\n",
       "  <thead>\n",
       "    <tr style=\"text-align: right;\">\n",
       "      <th></th>\n",
       "      <th>uid</th>\n",
       "      <th>country</th>\n",
       "      <th>joined_at</th>\n",
       "      <th>paid_at</th>\n",
       "      <th>revenue</th>\n",
       "      <th>payment_id</th>\n",
       "      <th>from_page</th>\n",
       "      <th>product_type</th>\n",
       "    </tr>\n",
       "  </thead>\n",
       "  <tbody>\n",
       "    <tr>\n",
       "      <th>317</th>\n",
       "      <td>891383310.0</td>\n",
       "      <td>Turkey</td>\n",
       "      <td>2017-04-11 20:47:00</td>\n",
       "      <td>2017-04-11 22:17:00</td>\n",
       "      <td>63037.0</td>\n",
       "      <td>147.0</td>\n",
       "      <td>autoreply_message</td>\n",
       "      <td>premium_no_trial</td>\n",
       "    </tr>\n",
       "  </tbody>\n",
       "</table>\n",
       "</div>"
      ],
      "text/plain": [
       "             uid country           joined_at             paid_at  revenue  \\\n",
       "317  891383310.0  Turkey 2017-04-11 20:47:00 2017-04-11 22:17:00  63037.0   \n",
       "\n",
       "     payment_id          from_page      product_type  \n",
       "317       147.0  autoreply_message  premium_no_trial  "
      ]
     },
     "execution_count": 81,
     "metadata": {},
     "output_type": "execute_result"
    }
   ],
   "source": [
    "transactions_control_1.query('uid == 891383310')"
   ]
  },
  {
   "cell_type": "code",
   "execution_count": 82,
   "metadata": {},
   "outputs": [
    {
     "data": {
      "text/html": [
       "<div>\n",
       "<style scoped>\n",
       "    .dataframe tbody tr th:only-of-type {\n",
       "        vertical-align: middle;\n",
       "    }\n",
       "\n",
       "    .dataframe tbody tr th {\n",
       "        vertical-align: top;\n",
       "    }\n",
       "\n",
       "    .dataframe thead th {\n",
       "        text-align: right;\n",
       "    }\n",
       "</style>\n",
       "<table border=\"1\" class=\"dataframe\">\n",
       "  <thead>\n",
       "    <tr style=\"text-align: right;\">\n",
       "      <th></th>\n",
       "      <th>uid</th>\n",
       "      <th>country</th>\n",
       "      <th>joined_at</th>\n",
       "      <th>paid_at</th>\n",
       "      <th>revenue</th>\n",
       "      <th>payment_id</th>\n",
       "      <th>from_page</th>\n",
       "      <th>product_type</th>\n",
       "    </tr>\n",
       "  </thead>\n",
       "  <tbody>\n",
       "    <tr>\n",
       "      <th>175</th>\n",
       "      <td>892216461.0</td>\n",
       "      <td>United States of America</td>\n",
       "      <td>2017-10-18 14:41:00</td>\n",
       "      <td>2017-10-18 16:05:00</td>\n",
       "      <td>1261.0</td>\n",
       "      <td>19.0</td>\n",
       "      <td>empty_likes</td>\n",
       "      <td>coins</td>\n",
       "    </tr>\n",
       "    <tr>\n",
       "      <th>277</th>\n",
       "      <td>892216461.0</td>\n",
       "      <td>United States of America</td>\n",
       "      <td>2017-10-18 14:41:00</td>\n",
       "      <td>2017-10-18 15:02:00</td>\n",
       "      <td>63037.0</td>\n",
       "      <td>147.0</td>\n",
       "      <td>autoreply_message</td>\n",
       "      <td>premium_no_trial</td>\n",
       "    </tr>\n",
       "  </tbody>\n",
       "</table>\n",
       "</div>"
      ],
      "text/plain": [
       "             uid                   country           joined_at  \\\n",
       "175  892216461.0  United States of America 2017-10-18 14:41:00   \n",
       "277  892216461.0  United States of America 2017-10-18 14:41:00   \n",
       "\n",
       "                paid_at  revenue  payment_id          from_page  \\\n",
       "175 2017-10-18 16:05:00   1261.0        19.0        empty_likes   \n",
       "277 2017-10-18 15:02:00  63037.0       147.0  autoreply_message   \n",
       "\n",
       "         product_type  \n",
       "175             coins  \n",
       "277  premium_no_trial  "
      ]
     },
     "execution_count": 82,
     "metadata": {},
     "output_type": "execute_result"
    }
   ],
   "source": [
    "transactions_control_1.query('uid == 892216461')"
   ]
  },
  {
   "cell_type": "code",
   "execution_count": 83,
   "metadata": {},
   "outputs": [
    {
     "data": {
      "text/html": [
       "<div>\n",
       "<style scoped>\n",
       "    .dataframe tbody tr th:only-of-type {\n",
       "        vertical-align: middle;\n",
       "    }\n",
       "\n",
       "    .dataframe tbody tr th {\n",
       "        vertical-align: top;\n",
       "    }\n",
       "\n",
       "    .dataframe thead th {\n",
       "        text-align: right;\n",
       "    }\n",
       "</style>\n",
       "<table border=\"1\" class=\"dataframe\">\n",
       "  <thead>\n",
       "    <tr style=\"text-align: right;\">\n",
       "      <th></th>\n",
       "      <th>uid</th>\n",
       "      <th>country</th>\n",
       "      <th>joined_at</th>\n",
       "      <th>paid_at</th>\n",
       "      <th>revenue</th>\n",
       "      <th>payment_id</th>\n",
       "      <th>from_page</th>\n",
       "      <th>product_type</th>\n",
       "    </tr>\n",
       "  </thead>\n",
       "  <tbody>\n",
       "    <tr>\n",
       "      <th>22</th>\n",
       "      <td>892307238</td>\n",
       "      <td>Spain</td>\n",
       "      <td>2017-10-16 16:01:00</td>\n",
       "      <td>2017-10-16 20:41:00</td>\n",
       "      <td>63037</td>\n",
       "      <td>147</td>\n",
       "      <td>left_sidebar_menu</td>\n",
       "      <td>premium_no_trial</td>\n",
       "    </tr>\n",
       "    <tr>\n",
       "      <th>87</th>\n",
       "      <td>892307238</td>\n",
       "      <td>Spain</td>\n",
       "      <td>2017-10-16 16:01:00</td>\n",
       "      <td>2017-10-16 20:42:00</td>\n",
       "      <td>12610</td>\n",
       "      <td>19</td>\n",
       "      <td>menu</td>\n",
       "      <td>coins</td>\n",
       "    </tr>\n",
       "  </tbody>\n",
       "</table>\n",
       "</div>"
      ],
      "text/plain": [
       "          uid country           joined_at             paid_at  revenue  \\\n",
       "22  892307238   Spain 2017-10-16 16:01:00 2017-10-16 20:41:00    63037   \n",
       "87  892307238   Spain 2017-10-16 16:01:00 2017-10-16 20:42:00    12610   \n",
       "\n",
       "    payment_id          from_page      product_type  \n",
       "22         147  left_sidebar_menu  premium_no_trial  \n",
       "87          19               menu             coins  "
      ]
     },
     "execution_count": 83,
     "metadata": {},
     "output_type": "execute_result"
    }
   ],
   "source": [
    "transactions_control_2.query('uid == 892307238')"
   ]
  },
  {
   "cell_type": "code",
   "execution_count": 84,
   "metadata": {},
   "outputs": [
    {
     "data": {
      "text/html": [
       "<div>\n",
       "<style scoped>\n",
       "    .dataframe tbody tr th:only-of-type {\n",
       "        vertical-align: middle;\n",
       "    }\n",
       "\n",
       "    .dataframe tbody tr th {\n",
       "        vertical-align: top;\n",
       "    }\n",
       "\n",
       "    .dataframe thead th {\n",
       "        text-align: right;\n",
       "    }\n",
       "</style>\n",
       "<table border=\"1\" class=\"dataframe\">\n",
       "  <thead>\n",
       "    <tr style=\"text-align: right;\">\n",
       "      <th></th>\n",
       "      <th>uid</th>\n",
       "      <th>country</th>\n",
       "      <th>joined_at</th>\n",
       "      <th>paid_at</th>\n",
       "      <th>revenue</th>\n",
       "      <th>payment_id</th>\n",
       "      <th>from_page</th>\n",
       "      <th>product_type</th>\n",
       "    </tr>\n",
       "  </thead>\n",
       "  <tbody>\n",
       "    <tr>\n",
       "      <th>47</th>\n",
       "      <td>891778551</td>\n",
       "      <td>United Arab Emirates</td>\n",
       "      <td>2017-10-27 21:26:00</td>\n",
       "      <td>2017-10-27 22:30:00</td>\n",
       "      <td>81796</td>\n",
       "      <td>147</td>\n",
       "      <td>left_sidebar_menu</td>\n",
       "      <td>premium_no_trial</td>\n",
       "    </tr>\n",
       "  </tbody>\n",
       "</table>\n",
       "</div>"
      ],
      "text/plain": [
       "          uid               country           joined_at             paid_at  \\\n",
       "47  891778551  United Arab Emirates 2017-10-27 21:26:00 2017-10-27 22:30:00   \n",
       "\n",
       "    revenue  payment_id          from_page      product_type  \n",
       "47    81796         147  left_sidebar_menu  premium_no_trial  "
      ]
     },
     "execution_count": 84,
     "metadata": {},
     "output_type": "execute_result"
    }
   ],
   "source": [
    "transactions_control_2.query('uid == 891778551')"
   ]
  },
  {
   "cell_type": "code",
   "execution_count": null,
   "metadata": {},
   "outputs": [],
   "source": [
    "# как видно выбросы связаны либо с единичными транзакциями пользователей\n",
    "# либо пользователь делал транзакции с разные временные периоды\n",
    "# таким образом мы не можем предпологать, что данные выбросы не являются реальными транзакциями пользователей"
   ]
  },
  {
   "cell_type": "code",
   "execution_count": 85,
   "metadata": {},
   "outputs": [
    {
     "data": {
      "application/vnd.jupyter.widget-view+json": {
       "model_id": "d368e4095eb54f22845f652977b37e9e",
       "version_major": 2,
       "version_minor": 0
      },
      "text/plain": [
       "HBox(children=(HTML(value=''), FloatProgress(value=0.0, max=10000.0), HTML(value='')))"
      ]
     },
     "metadata": {},
     "output_type": "display_data"
    },
    {
     "name": "stdout",
     "output_type": "stream",
     "text": [
      "\n"
     ]
    },
    {
     "data": {
      "image/png": "[encoded data removed]",
      "text/plain": [
       "<Figure size 432x288 with 1 Axes>"
      ]
     },
     "metadata": {},
     "output_type": "display_data"
    },
    {
     "data": {
      "text/plain": [
       "0.0225"
      ]
     },
     "execution_count": 85,
     "metadata": {},
     "output_type": "execute_result"
    }
   ],
   "source": [
    "simulations = 10000\n",
    "n_s = 100\n",
    "res = []\n",
    "\n",
    "# Запуск симуляций A/A теста\n",
    "for i in tqdm(range(simulations)):\n",
    "    s1 = data_a_a_tr[data_a_a_tr.group == 'control_1'].revenue.sample(n_s, replace = False).values\n",
    "    s2 = data_a_a_tr[data_a_a_tr.group == 'control_2'].revenue.sample(n_s, replace = False).values\n",
    "    res.append(stats.ttest_ind(s1, s2, equal_var = False)[1]) # сохраняем pvalue\n",
    "\n",
    "plt.hist(res, bins = 50)\n",
    "plt.style.use('ggplot')\n",
    "plt.xlabel('pvalues')\n",
    "plt.ylabel('frequency')\n",
    "plt.title(\"Histogram of ttest A/A simulations \")\n",
    "plt.show()\n",
    "\n",
    "# Проверяем, что количество ложноположительных случаев не превышает альфа\n",
    "sum(np.array(res) <0.05) / simulations"
   ]
  },
  {
   "cell_type": "markdown",
   "metadata": {},
   "source": [
    "Мы видим что распределение близко к равномерному и индекс FPR меньше заданного уровня. Следовательно данные в наших контрльных группах схожи"
   ]
  },
  {
   "cell_type": "code",
   "execution_count": null,
   "metadata": {},
   "outputs": [],
   "source": []
  },
  {
   "cell_type": "code",
   "execution_count": null,
   "metadata": {},
   "outputs": [],
   "source": []
  },
  {
   "cell_type": "markdown",
   "metadata": {},
   "source": [
    "Для сравнения групп будем использовать такие метрики как:\n",
    " - ARPU (посчитав его на основании данных о всех пользователях) и средний чек (посчитв его на основании транзакций)\n",
    " - доля транзакций типа \"premium_no_trial\" и конверсия данного типа продукта в повторную покупку \n",
    "\n",
    "Первые две метрики дадут нам общее понимание об результатах нашего теста\n",
    "Вторые дадут нам понимание о наших рисках"
   ]
  },
  {
   "cell_type": "code",
   "execution_count": 86,
   "metadata": {},
   "outputs": [],
   "source": [
    "users_control_1['group'] = 'control_1'"
   ]
  },
  {
   "cell_type": "code",
   "execution_count": 87,
   "metadata": {},
   "outputs": [],
   "source": [
    "users_control_2['group'] = 'control_2'"
   ]
  },
  {
   "cell_type": "code",
   "execution_count": 88,
   "metadata": {},
   "outputs": [],
   "source": [
    "users_test['group'] = 'test'"
   ]
  },
  {
   "cell_type": "code",
   "execution_count": 89,
   "metadata": {},
   "outputs": [],
   "source": [
    "all_data_users = pd.concat([users_control_1, users_control_2, users_test], ignore_index=False)"
   ]
  },
  {
   "cell_type": "code",
   "execution_count": null,
   "metadata": {},
   "outputs": [],
   "source": [
    "# проверим наши данные на то как они сбалансированы по качественным признакам"
   ]
  },
  {
   "cell_type": "code",
   "execution_count": 90,
   "metadata": {
    "scrolled": true
   },
   "outputs": [
    {
     "data": {
      "text/html": [
       "<div>\n",
       "<style scoped>\n",
       "    .dataframe tbody tr th:only-of-type {\n",
       "        vertical-align: middle;\n",
       "    }\n",
       "\n",
       "    .dataframe tbody tr th {\n",
       "        vertical-align: top;\n",
       "    }\n",
       "\n",
       "    .dataframe thead tr th {\n",
       "        text-align: left;\n",
       "    }\n",
       "\n",
       "    .dataframe thead tr:last-of-type th {\n",
       "        text-align: right;\n",
       "    }\n",
       "</style>\n",
       "<table border=\"1\" class=\"dataframe\">\n",
       "  <thead>\n",
       "    <tr>\n",
       "      <th></th>\n",
       "      <th colspan=\"2\" halign=\"left\">gender</th>\n",
       "    </tr>\n",
       "    <tr>\n",
       "      <th>gender</th>\n",
       "      <th>0</th>\n",
       "      <th>1</th>\n",
       "    </tr>\n",
       "    <tr>\n",
       "      <th>group</th>\n",
       "      <th></th>\n",
       "      <th></th>\n",
       "    </tr>\n",
       "  </thead>\n",
       "  <tbody>\n",
       "    <tr>\n",
       "      <th>control_1</th>\n",
       "      <td>0.041955</td>\n",
       "      <td>0.958045</td>\n",
       "    </tr>\n",
       "    <tr>\n",
       "      <th>control_2</th>\n",
       "      <td>0.045732</td>\n",
       "      <td>0.954268</td>\n",
       "    </tr>\n",
       "    <tr>\n",
       "      <th>test</th>\n",
       "      <td>0.046890</td>\n",
       "      <td>0.953110</td>\n",
       "    </tr>\n",
       "  </tbody>\n",
       "</table>\n",
       "</div>"
      ],
      "text/plain": [
       "             gender          \n",
       "gender            0         1\n",
       "group                        \n",
       "control_1  0.041955  0.958045\n",
       "control_2  0.045732  0.954268\n",
       "test       0.046890  0.953110"
      ]
     },
     "execution_count": 90,
     "metadata": {},
     "output_type": "execute_result"
    }
   ],
   "source": [
    "pd.DataFrame(all_data_users.groupby('group')\\\n",
    "             .gender.value_counts(normalize=True))\\\n",
    "             .unstack(level=1)"
   ]
  },
  {
   "cell_type": "code",
   "execution_count": null,
   "metadata": {},
   "outputs": [],
   "source": [
    "# как видно группы сбалансированы по полу\n",
    "# но стоит обратить внимание, что в наших выборках само соотношение полов нарушено\n",
    "# юолее 95% выборок это пользователи с gender=1"
   ]
  },
  {
   "cell_type": "code",
   "execution_count": 91,
   "metadata": {
    "scrolled": false
   },
   "outputs": [
    {
     "data": {
      "text/html": [
       "<div>\n",
       "<style scoped>\n",
       "    .dataframe tbody tr th:only-of-type {\n",
       "        vertical-align: middle;\n",
       "    }\n",
       "\n",
       "    .dataframe tbody tr th {\n",
       "        vertical-align: top;\n",
       "    }\n",
       "\n",
       "    .dataframe thead tr th {\n",
       "        text-align: left;\n",
       "    }\n",
       "\n",
       "    .dataframe thead tr:last-of-type th {\n",
       "        text-align: right;\n",
       "    }\n",
       "</style>\n",
       "<table border=\"1\" class=\"dataframe\">\n",
       "  <thead>\n",
       "    <tr>\n",
       "      <th></th>\n",
       "      <th colspan=\"21\" halign=\"left\">country</th>\n",
       "    </tr>\n",
       "    <tr>\n",
       "      <th>country</th>\n",
       "      <th>Algeria</th>\n",
       "      <th>Argentina</th>\n",
       "      <th>Armenia</th>\n",
       "      <th>Australia</th>\n",
       "      <th>Austria</th>\n",
       "      <th>Azerbaijan</th>\n",
       "      <th>Belarus</th>\n",
       "      <th>Belgium</th>\n",
       "      <th>Bolivia</th>\n",
       "      <th>Brazil</th>\n",
       "      <th>...</th>\n",
       "      <th>Tunisia</th>\n",
       "      <th>Turkey</th>\n",
       "      <th>Uganda</th>\n",
       "      <th>Ukraine</th>\n",
       "      <th>United Arab Emirates</th>\n",
       "      <th>United Kingdom (Great Britain)</th>\n",
       "      <th>United States of America</th>\n",
       "      <th>Uruguay</th>\n",
       "      <th>Uzbekistan</th>\n",
       "      <th>Venezuela</th>\n",
       "    </tr>\n",
       "    <tr>\n",
       "      <th>group</th>\n",
       "      <th></th>\n",
       "      <th></th>\n",
       "      <th></th>\n",
       "      <th></th>\n",
       "      <th></th>\n",
       "      <th></th>\n",
       "      <th></th>\n",
       "      <th></th>\n",
       "      <th></th>\n",
       "      <th></th>\n",
       "      <th></th>\n",
       "      <th></th>\n",
       "      <th></th>\n",
       "      <th></th>\n",
       "      <th></th>\n",
       "      <th></th>\n",
       "      <th></th>\n",
       "      <th></th>\n",
       "      <th></th>\n",
       "      <th></th>\n",
       "      <th></th>\n",
       "    </tr>\n",
       "  </thead>\n",
       "  <tbody>\n",
       "    <tr>\n",
       "      <th>control_1</th>\n",
       "      <td>0.000461</td>\n",
       "      <td>0.089673</td>\n",
       "      <td>0.000231</td>\n",
       "      <td>0.011526</td>\n",
       "      <td>NaN</td>\n",
       "      <td>NaN</td>\n",
       "      <td>NaN</td>\n",
       "      <td>0.024896</td>\n",
       "      <td>NaN</td>\n",
       "      <td>NaN</td>\n",
       "      <td>...</td>\n",
       "      <td>0.000692</td>\n",
       "      <td>0.001844</td>\n",
       "      <td>NaN</td>\n",
       "      <td>0.001844</td>\n",
       "      <td>0.047718</td>\n",
       "      <td>0.033656</td>\n",
       "      <td>0.339096</td>\n",
       "      <td>NaN</td>\n",
       "      <td>NaN</td>\n",
       "      <td>0.000461</td>\n",
       "    </tr>\n",
       "    <tr>\n",
       "      <th>control_2</th>\n",
       "      <td>NaN</td>\n",
       "      <td>0.093105</td>\n",
       "      <td>NaN</td>\n",
       "      <td>0.011961</td>\n",
       "      <td>0.000469</td>\n",
       "      <td>NaN</td>\n",
       "      <td>0.000235</td>\n",
       "      <td>0.021107</td>\n",
       "      <td>NaN</td>\n",
       "      <td>NaN</td>\n",
       "      <td>...</td>\n",
       "      <td>NaN</td>\n",
       "      <td>0.001173</td>\n",
       "      <td>0.000235</td>\n",
       "      <td>0.004221</td>\n",
       "      <td>0.049484</td>\n",
       "      <td>0.034240</td>\n",
       "      <td>0.348499</td>\n",
       "      <td>0.000235</td>\n",
       "      <td>NaN</td>\n",
       "      <td>NaN</td>\n",
       "    </tr>\n",
       "    <tr>\n",
       "      <th>test</th>\n",
       "      <td>0.000464</td>\n",
       "      <td>0.091922</td>\n",
       "      <td>NaN</td>\n",
       "      <td>0.014392</td>\n",
       "      <td>NaN</td>\n",
       "      <td>0.000232</td>\n",
       "      <td>NaN</td>\n",
       "      <td>0.021356</td>\n",
       "      <td>0.000232</td>\n",
       "      <td>0.000232</td>\n",
       "      <td>...</td>\n",
       "      <td>0.000696</td>\n",
       "      <td>0.001161</td>\n",
       "      <td>NaN</td>\n",
       "      <td>0.003482</td>\n",
       "      <td>0.052461</td>\n",
       "      <td>0.039229</td>\n",
       "      <td>0.336583</td>\n",
       "      <td>0.000232</td>\n",
       "      <td>0.000232</td>\n",
       "      <td>NaN</td>\n",
       "    </tr>\n",
       "  </tbody>\n",
       "</table>\n",
       "<p>3 rows × 72 columns</p>\n",
       "</div>"
      ],
      "text/plain": [
       "            country                                                     \\\n",
       "country     Algeria Argentina   Armenia Australia   Austria Azerbaijan   \n",
       "group                                                                    \n",
       "control_1  0.000461  0.089673  0.000231  0.011526       NaN        NaN   \n",
       "control_2       NaN  0.093105       NaN  0.011961  0.000469        NaN   \n",
       "test       0.000464  0.091922       NaN  0.014392       NaN   0.000232   \n",
       "\n",
       "                                                   ...                      \\\n",
       "country     Belarus   Belgium   Bolivia    Brazil  ...   Tunisia    Turkey   \n",
       "group                                              ...                       \n",
       "control_1       NaN  0.024896       NaN       NaN  ...  0.000692  0.001844   \n",
       "control_2  0.000235  0.021107       NaN       NaN  ...       NaN  0.001173   \n",
       "test            NaN  0.021356  0.000232  0.000232  ...  0.000696  0.001161   \n",
       "\n",
       "                                                    \\\n",
       "country      Uganda   Ukraine United Arab Emirates   \n",
       "group                                                \n",
       "control_1       NaN  0.001844             0.047718   \n",
       "control_2  0.000235  0.004221             0.049484   \n",
       "test            NaN  0.003482             0.052461   \n",
       "\n",
       "                                                                             \\\n",
       "country   United Kingdom (Great Britain) United States of America   Uruguay   \n",
       "group                                                                         \n",
       "control_1                       0.033656                 0.339096       NaN   \n",
       "control_2                       0.034240                 0.348499  0.000235   \n",
       "test                            0.039229                 0.336583  0.000232   \n",
       "\n",
       "                                \n",
       "country   Uzbekistan Venezuela  \n",
       "group                           \n",
       "control_1        NaN  0.000461  \n",
       "control_2        NaN       NaN  \n",
       "test        0.000232       NaN  \n",
       "\n",
       "[3 rows x 72 columns]"
      ]
     },
     "execution_count": 91,
     "metadata": {},
     "output_type": "execute_result"
    }
   ],
   "source": [
    "pd.DataFrame(all_data_users.groupby('group')\\\n",
    "             .country.value_counts(normalize=True))\\\n",
    "             .unstack(level=1)"
   ]
  },
  {
   "cell_type": "code",
   "execution_count": null,
   "metadata": {},
   "outputs": [],
   "source": [
    "# наши группы сбалансированы по региональному признаку"
   ]
  },
  {
   "cell_type": "code",
   "execution_count": 92,
   "metadata": {},
   "outputs": [
    {
     "data": {
      "text/plain": [
       "0.25    25.0\n",
       "0.50    30.0\n",
       "0.75    38.0\n",
       "Name: age, dtype: float64"
      ]
     },
     "execution_count": 92,
     "metadata": {},
     "output_type": "execute_result"
    }
   ],
   "source": [
    "all_data_users.age.quantile([0.25, 0.5, 0.75])"
   ]
  },
  {
   "cell_type": "code",
   "execution_count": 93,
   "metadata": {},
   "outputs": [],
   "source": [
    "def age_group(x):\n",
    "    if x < 25:\n",
    "        return 1\n",
    "    elif x < 30 and x >= 25:\n",
    "        return 2\n",
    "    elif x < 38 and x >= 30:\n",
    "        return 3\n",
    "    else:\n",
    "        return 4\n",
    "all_data_users['age_group'] = all_data_users.age.apply(age_group)"
   ]
  },
  {
   "cell_type": "code",
   "execution_count": 94,
   "metadata": {
    "scrolled": true
   },
   "outputs": [
    {
     "data": {
      "text/html": [
       "<div>\n",
       "<style scoped>\n",
       "    .dataframe tbody tr th:only-of-type {\n",
       "        vertical-align: middle;\n",
       "    }\n",
       "\n",
       "    .dataframe tbody tr th {\n",
       "        vertical-align: top;\n",
       "    }\n",
       "\n",
       "    .dataframe thead tr th {\n",
       "        text-align: left;\n",
       "    }\n",
       "\n",
       "    .dataframe thead tr:last-of-type th {\n",
       "        text-align: right;\n",
       "    }\n",
       "</style>\n",
       "<table border=\"1\" class=\"dataframe\">\n",
       "  <thead>\n",
       "    <tr>\n",
       "      <th></th>\n",
       "      <th colspan=\"3\" halign=\"left\">age_group</th>\n",
       "    </tr>\n",
       "    <tr>\n",
       "      <th>group</th>\n",
       "      <th>control_1</th>\n",
       "      <th>control_2</th>\n",
       "      <th>test</th>\n",
       "    </tr>\n",
       "    <tr>\n",
       "      <th>age_group</th>\n",
       "      <th></th>\n",
       "      <th></th>\n",
       "      <th></th>\n",
       "    </tr>\n",
       "  </thead>\n",
       "  <tbody>\n",
       "    <tr>\n",
       "      <th>1</th>\n",
       "      <td>0.251268</td>\n",
       "      <td>0.247889</td>\n",
       "      <td>0.247679</td>\n",
       "    </tr>\n",
       "    <tr>\n",
       "      <th>2</th>\n",
       "      <td>0.224527</td>\n",
       "      <td>0.232176</td>\n",
       "      <td>0.244429</td>\n",
       "    </tr>\n",
       "    <tr>\n",
       "      <th>3</th>\n",
       "      <td>0.251037</td>\n",
       "      <td>0.252580</td>\n",
       "      <td>0.248143</td>\n",
       "    </tr>\n",
       "    <tr>\n",
       "      <th>4</th>\n",
       "      <td>0.273167</td>\n",
       "      <td>0.267355</td>\n",
       "      <td>0.259749</td>\n",
       "    </tr>\n",
       "  </tbody>\n",
       "</table>\n",
       "</div>"
      ],
      "text/plain": [
       "          age_group                    \n",
       "group     control_1 control_2      test\n",
       "age_group                              \n",
       "1          0.251268  0.247889  0.247679\n",
       "2          0.224527  0.232176  0.244429\n",
       "3          0.251037  0.252580  0.248143\n",
       "4          0.273167  0.267355  0.259749"
      ]
     },
     "execution_count": 94,
     "metadata": {},
     "output_type": "execute_result"
    }
   ],
   "source": [
    "pd.DataFrame(all_data_users.groupby('group').age_group.value_counts(normalize=True)).unstack(level=0)"
   ]
  },
  {
   "cell_type": "code",
   "execution_count": null,
   "metadata": {},
   "outputs": [],
   "source": [
    "# наши группы сбалансированы по возростному признаку"
   ]
  },
  {
   "cell_type": "code",
   "execution_count": 95,
   "metadata": {
    "scrolled": true
   },
   "outputs": [
    {
     "data": {
      "text/html": [
       "<div>\n",
       "<style scoped>\n",
       "    .dataframe tbody tr th:only-of-type {\n",
       "        vertical-align: middle;\n",
       "    }\n",
       "\n",
       "    .dataframe tbody tr th {\n",
       "        vertical-align: top;\n",
       "    }\n",
       "\n",
       "    .dataframe thead th {\n",
       "        text-align: right;\n",
       "    }\n",
       "</style>\n",
       "<table border=\"1\" class=\"dataframe\">\n",
       "  <thead>\n",
       "    <tr style=\"text-align: right;\">\n",
       "      <th></th>\n",
       "      <th>total_revenue</th>\n",
       "    </tr>\n",
       "    <tr>\n",
       "      <th>group</th>\n",
       "      <th></th>\n",
       "    </tr>\n",
       "  </thead>\n",
       "  <tbody>\n",
       "    <tr>\n",
       "      <th>control_1</th>\n",
       "      <td>482.920931</td>\n",
       "    </tr>\n",
       "    <tr>\n",
       "      <th>control_2</th>\n",
       "      <td>450.384146</td>\n",
       "    </tr>\n",
       "    <tr>\n",
       "      <th>test</th>\n",
       "      <td>534.080316</td>\n",
       "    </tr>\n",
       "  </tbody>\n",
       "</table>\n",
       "</div>"
      ],
      "text/plain": [
       "           total_revenue\n",
       "group                   \n",
       "control_1     482.920931\n",
       "control_2     450.384146\n",
       "test          534.080316"
      ]
     },
     "execution_count": 95,
     "metadata": {},
     "output_type": "execute_result"
    }
   ],
   "source": [
    "# посчитаем ARPU по группам\n",
    "all_data_users.groupby('group').agg({'total_revenue': 'mean'})"
   ]
  },
  {
   "cell_type": "code",
   "execution_count": null,
   "metadata": {
    "scrolled": true
   },
   "outputs": [],
   "source": [
    "#  как видно точечная оценка метрики в тестовой группе выше\n",
    "# проверим это с помощью статистического теста"
   ]
  },
  {
   "cell_type": "code",
   "execution_count": 96,
   "metadata": {},
   "outputs": [
    {
     "data": {
      "image/png": "[encoded data removed]",
      "text/plain": [
       "<Figure size 432x288 with 1 Axes>"
      ]
     },
     "metadata": {},
     "output_type": "display_data"
    }
   ],
   "source": [
    "# построим qqplot для того чтобы визуально оценить нормальность нашего распределения\n",
    "stats.probplot(all_data_users.query('group == \"control_1\"').total_revenue, dist='norm', plot=pylab)\n",
    "pylab.show()"
   ]
  },
  {
   "cell_type": "code",
   "execution_count": null,
   "metadata": {},
   "outputs": [],
   "source": [
    "# как видно наше распределение сильно отличается от нормального\n",
    "# очень много значений лежит в нуле и есть выбросы\n",
    "# скорее всего наше рспределение имеет экспоненциальный вид\n",
    "# но в любом случае проверим гипотизу о нормальности распределения с помощью стат теста"
   ]
  },
  {
   "cell_type": "code",
   "execution_count": 97,
   "metadata": {},
   "outputs": [
    {
     "data": {
      "text/plain": [
       "NormaltestResult(statistic=7444.266297309236, pvalue=0.0)"
      ]
     },
     "execution_count": 97,
     "metadata": {},
     "output_type": "execute_result"
    }
   ],
   "source": [
    "ss.normaltest(all_data_users.query('group == \"control_1\"').total_revenue)"
   ]
  },
  {
   "cell_type": "code",
   "execution_count": null,
   "metadata": {},
   "outputs": [],
   "source": [
    "# p-value меньше 0.05 соотвествнно мы отвергаем гипотизу, что наше распределение имеет нормальный вид"
   ]
  },
  {
   "cell_type": "code",
   "execution_count": 98,
   "metadata": {},
   "outputs": [
    {
     "data": {
      "image/png": "[encoded data removed]",
      "text/plain": [
       "<Figure size 432x288 with 1 Axes>"
      ]
     },
     "metadata": {},
     "output_type": "display_data"
    }
   ],
   "source": [
    "# построим qqplot для того чтобы визуально оценить нормальность нашего распределения\n",
    "stats.probplot(all_data_users.query('group == \"control_2\"').total_revenue, dist='norm', plot=pylab)\n",
    "pylab.show()"
   ]
  },
  {
   "cell_type": "code",
   "execution_count": null,
   "metadata": {},
   "outputs": [],
   "source": [
    "# как видно наше распределение сильно отличается от нормального\n",
    "# очень много значений лежит в нуле и есть выбросы\n",
    "# скорее всего наше рспределение имеет экспоненциальный вид\n",
    "# но в любом случае проверим гипотизу о нормальности распределения с помощью стат теста"
   ]
  },
  {
   "cell_type": "code",
   "execution_count": 99,
   "metadata": {
    "scrolled": true
   },
   "outputs": [
    {
     "data": {
      "text/plain": [
       "NormaltestResult(statistic=7811.263351276203, pvalue=0.0)"
      ]
     },
     "execution_count": 99,
     "metadata": {},
     "output_type": "execute_result"
    }
   ],
   "source": [
    "ss.normaltest(all_data_users.query('group == \"control_2\"').total_revenue)"
   ]
  },
  {
   "cell_type": "code",
   "execution_count": null,
   "metadata": {},
   "outputs": [],
   "source": [
    "# p-value меньше 0.05 соотвествнно мы отвергаем гипотизу, что наше распределение имеет нормальный вид"
   ]
  },
  {
   "cell_type": "code",
   "execution_count": 100,
   "metadata": {},
   "outputs": [
    {
     "data": {
      "image/png": "[encoded data removed]",
      "text/plain": [
       "<Figure size 432x288 with 1 Axes>"
      ]
     },
     "metadata": {},
     "output_type": "display_data"
    }
   ],
   "source": [
    "# построим qqplot для того чтобы визуально оценить нормальность нашего распределения\n",
    "stats.probplot(all_data_users.query('group == \"test\"').total_revenue, dist='norm', plot=pylab)\n",
    "pylab.show()"
   ]
  },
  {
   "cell_type": "code",
   "execution_count": null,
   "metadata": {},
   "outputs": [],
   "source": [
    "# как видно наше распределение сильно отличается от нормального\n",
    "# очень много значений лежит в нуле и есть выбросы\n",
    "# скорее всего наше рспределение имеет экспоненциальный вид\n",
    "# но в любом случае проверим гипотизу о нормальности распределения с помощью стат теста"
   ]
  },
  {
   "cell_type": "code",
   "execution_count": 101,
   "metadata": {},
   "outputs": [
    {
     "data": {
      "text/plain": [
       "NormaltestResult(statistic=8916.392317282456, pvalue=0.0)"
      ]
     },
     "execution_count": 101,
     "metadata": {},
     "output_type": "execute_result"
    }
   ],
   "source": [
    "ss.normaltest(all_data_users.query('group == \"test\"').total_revenue)"
   ]
  },
  {
   "cell_type": "code",
   "execution_count": null,
   "metadata": {},
   "outputs": [],
   "source": [
    "# p-value меньше 0.05 соотвествнно мы отвергаем гипотизу, что наше распределение имеет нормальный вид"
   ]
  },
  {
   "cell_type": "code",
   "execution_count": null,
   "metadata": {},
   "outputs": [],
   "source": [
    "# так как наши данные имеют не нормальное распределение и имеют выбросы, хотя и нвши выборки достаточно большого размера\n",
    "# мы будем использовать непараметрический тест Мана-Уитни"
   ]
  },
  {
   "cell_type": "code",
   "execution_count": 102,
   "metadata": {},
   "outputs": [
    {
     "data": {
      "text/plain": [
       "MannwhitneyuResult(statistic=9254731.5, pvalue=0.010759107826516442)"
      ]
     },
     "execution_count": 102,
     "metadata": {},
     "output_type": "execute_result"
    }
   ],
   "source": [
    "mannwhitneyu(all_data_users.query('group == \"test\"').total_revenue, \n",
    "             all_data_users.query('group == \"control_1\"').total_revenue)"
   ]
  },
  {
   "cell_type": "code",
   "execution_count": 103,
   "metadata": {},
   "outputs": [
    {
     "data": {
      "text/plain": [
       "MannwhitneyuResult(statistic=9096934.5, pvalue=0.011088105649639897)"
      ]
     },
     "execution_count": 103,
     "metadata": {},
     "output_type": "execute_result"
    }
   ],
   "source": [
    "mannwhitneyu(all_data_users.query('group == \"test\"').total_revenue, \n",
    "             all_data_users.query('group == \"control_2\"').total_revenue)"
   ]
  },
  {
   "cell_type": "code",
   "execution_count": null,
   "metadata": {},
   "outputs": [],
   "source": [
    "# ARPU в обеих контрольных группах статистически отличается от тестового"
   ]
  },
  {
   "cell_type": "code",
   "execution_count": null,
   "metadata": {},
   "outputs": [],
   "source": []
  },
  {
   "cell_type": "code",
   "execution_count": null,
   "metadata": {},
   "outputs": [],
   "source": [
    "# проверим гипотизу о различиях в величине среднего чека"
   ]
  },
  {
   "cell_type": "code",
   "execution_count": 104,
   "metadata": {},
   "outputs": [],
   "source": [
    "all_data_test = (transactions_test\n",
    "                 .merge(users_test.loc[:,['uid', 'age', 'attraction_coeff', 'gender', 'views_count']],\n",
    "                                        how='left', on='uid')\n",
    "                )\n",
    "all_data_test['group'] = 'test'"
   ]
  },
  {
   "cell_type": "code",
   "execution_count": 105,
   "metadata": {},
   "outputs": [
    {
     "data": {
      "image/png": "[encoded data removed]",
      "text/plain": [
       "<Figure size 432x288 with 1 Axes>"
      ]
     },
     "metadata": {},
     "output_type": "display_data"
    }
   ],
   "source": [
    "# построим qqplot для того чтобы визуально оценить нормальность нашего распределения\n",
    "stats.probplot(all_data_test.revenue, dist='norm', plot=pylab)\n",
    "pylab.show()"
   ]
  },
  {
   "cell_type": "code",
   "execution_count": null,
   "metadata": {},
   "outputs": [],
   "source": [
    "# как видно у нашего распределения есть отличия от номального\n",
    "# много значений близких к нулю и есть выбросы\n",
    "# возможно наше распределение имеет log-нормальный вид\n",
    "# но в любом случае проверим гипотизу о нормальности распределения с помощью стат теста"
   ]
  },
  {
   "cell_type": "code",
   "execution_count": 106,
   "metadata": {},
   "outputs": [
    {
     "name": "stdout",
     "output_type": "stream",
     "text": [
      "NormaltestResult(statistic=385.237454837701, pvalue=2.222028222760863e-84)\n"
     ]
    }
   ],
   "source": [
    "print(ss.normaltest(all_data_test.revenue))"
   ]
  },
  {
   "cell_type": "code",
   "execution_count": 107,
   "metadata": {},
   "outputs": [
    {
     "name": "stdout",
     "output_type": "stream",
     "text": [
      "NormaltestResult(statistic=6.218645427265555, pvalue=0.04463117319120573)\n"
     ]
    }
   ],
   "source": [
    "print(ss.normaltest(np.log(all_data_test.revenue)))"
   ]
  },
  {
   "cell_type": "code",
   "execution_count": null,
   "metadata": {},
   "outputs": [],
   "source": [
    "# как видно из тестов наши данные имеют ненормальное распределение"
   ]
  },
  {
   "cell_type": "code",
   "execution_count": 108,
   "metadata": {},
   "outputs": [],
   "source": [
    "all_data_contriol_1 = (transactions_control_1\n",
    "                       .merge(users_control_1.loc[:,['uid', 'age', 'attraction_coeff', 'gender', 'views_count']],\n",
    "                                                   how='left', on='uid')\n",
    "                      .query('country != \"United Kingdom (Great Britain)\" & uid != 892333905')\n",
    "                      )\n",
    "all_data_contriol_1['group'] = 'control_1'"
   ]
  },
  {
   "cell_type": "code",
   "execution_count": 109,
   "metadata": {},
   "outputs": [
    {
     "data": {
      "image/png": "[encoded data removed]",
      "text/plain": [
       "<Figure size 432x288 with 1 Axes>"
      ]
     },
     "metadata": {},
     "output_type": "display_data"
    }
   ],
   "source": [
    "# построим qqplot для того чтобы визуально оценить нормальность нашего распределения\n",
    "stats.probplot(all_data_contriol_1.revenue, dist='norm', plot=pylab)\n",
    "pylab.show()"
   ]
  },
  {
   "cell_type": "code",
   "execution_count": null,
   "metadata": {},
   "outputs": [],
   "source": [
    "# как видно у нашего распределения есть отличия от номального\n",
    "# много значений близких к нулю и есть выбросы\n",
    "# возможно наше распределение имеет log-нормальный вид\n",
    "# но в любом случае проверим гипотизу о нормальности распределения с помощью стат теста"
   ]
  },
  {
   "cell_type": "code",
   "execution_count": 110,
   "metadata": {},
   "outputs": [
    {
     "name": "stdout",
     "output_type": "stream",
     "text": [
      "NormaltestResult(statistic=383.72665472070935, pvalue=4.729504552023357e-84)\n"
     ]
    }
   ],
   "source": [
    "print(ss.normaltest(all_data_contriol_1.revenue))"
   ]
  },
  {
   "cell_type": "code",
   "execution_count": 111,
   "metadata": {},
   "outputs": [
    {
     "name": "stdout",
     "output_type": "stream",
     "text": [
      "NormaltestResult(statistic=4.184795600496162, pvalue=0.12339091405474123)\n"
     ]
    }
   ],
   "source": [
    "print(ss.normaltest(np.log(all_data_contriol_1.revenue)))"
   ]
  },
  {
   "cell_type": "code",
   "execution_count": null,
   "metadata": {},
   "outputs": [],
   "source": [
    "# как видно из тестов наши данные имеют нормальное распределение в логарифмированном виде"
   ]
  },
  {
   "cell_type": "code",
   "execution_count": 112,
   "metadata": {},
   "outputs": [],
   "source": [
    "all_data_contriol_2 = (transactions_control_2\n",
    "                       .merge(users_control_2.loc[:,['uid', 'age', 'attraction_coeff', 'gender', 'views_count']],\n",
    "                              how='left', on='uid')\n",
    "                      .query('country != \"United Kingdom (Great Britain)\" & uid != 892333905')\n",
    "                      )\n",
    "all_data_contriol_2['group'] = 'control_2'"
   ]
  },
  {
   "cell_type": "code",
   "execution_count": 113,
   "metadata": {},
   "outputs": [
    {
     "data": {
      "image/png": "[encoded data removed]",
      "text/plain": [
       "<Figure size 432x288 with 1 Axes>"
      ]
     },
     "metadata": {},
     "output_type": "display_data"
    }
   ],
   "source": [
    "# построим qqplot для того чтобы визуально оценить нормальность нашего распределения\n",
    "stats.probplot(all_data_contriol_2.revenue, dist='norm', plot=pylab)\n",
    "pylab.show()"
   ]
  },
  {
   "cell_type": "code",
   "execution_count": null,
   "metadata": {},
   "outputs": [],
   "source": [
    "# как видно у нашего распределения есть отличия от номального\n",
    "# много значений близких к нулю и есть выбросы\n",
    "# возможно наше распределение имеет log-нормальный вид\n",
    "# но в любом случае проверим гипотизу о нормальности распределения с помощью стат теста"
   ]
  },
  {
   "cell_type": "code",
   "execution_count": 114,
   "metadata": {},
   "outputs": [
    {
     "name": "stdout",
     "output_type": "stream",
     "text": [
      "NormaltestResult(statistic=431.1100912010253, pvalue=2.430150381740779e-94)\n"
     ]
    }
   ],
   "source": [
    "print(ss.normaltest(all_data_contriol_2.revenue))"
   ]
  },
  {
   "cell_type": "code",
   "execution_count": 115,
   "metadata": {},
   "outputs": [
    {
     "name": "stdout",
     "output_type": "stream",
     "text": [
      "NormaltestResult(statistic=3.4939663254558155, pvalue=0.1742989827408031)\n"
     ]
    }
   ],
   "source": [
    "print(ss.normaltest(np.log(all_data_contriol_2.revenue)))"
   ]
  },
  {
   "cell_type": "code",
   "execution_count": null,
   "metadata": {},
   "outputs": [],
   "source": [
    "# как видно из тестов наши данные имеют нормальное распределение в логарифмированном виде"
   ]
  },
  {
   "cell_type": "code",
   "execution_count": null,
   "metadata": {},
   "outputs": [],
   "source": [
    "# так как наше тестовое рапределение не имеет нормального вида и все распределения имеют выбросы\n",
    "# воспользуемся методом bootstrap для анализа медиан распределений"
   ]
  },
  {
   "cell_type": "code",
   "execution_count": 116,
   "metadata": {},
   "outputs": [],
   "source": [
    "all_data = pd.concat([all_data_test, all_data_contriol_1, all_data_contriol_2], ignore_index=True)"
   ]
  },
  {
   "cell_type": "code",
   "execution_count": 117,
   "metadata": {},
   "outputs": [],
   "source": [
    "# Объявим функцию, которая позволит проверять гипотезы с помощью бутстрапа\n",
    "def get_bootstrap(\n",
    "    data_column_1, # числовые значения первой выборки\n",
    "    data_column_2, # числовые значения второй выборки\n",
    "    boot_it = 2000, # количество бутстрэп-подвыборок\n",
    "    statistic = np.mean, # интересующая нас статистика\n",
    "    bootstrap_conf_level = 0.95 # уровень значимости\n",
    "):\n",
    "    boot_len = max([len(data_column_1), len(data_column_2)])\n",
    "    boot_data = []\n",
    "    for i in tqdm(range(boot_it)): # извлекаем подвыборки\n",
    "        samples_1 = data_column_1.sample(\n",
    "            boot_len, \n",
    "            replace = True # параметр возвращения\n",
    "        ).values\n",
    "        \n",
    "        samples_2 = data_column_2.sample(\n",
    "            boot_len, \n",
    "            replace = True\n",
    "        ).values\n",
    "        \n",
    "        boot_data.append(statistic(samples_1-samples_2)) # median() - применяем статистику\n",
    "        \n",
    "    pd_boot_data = pd.DataFrame(boot_data)\n",
    "        \n",
    "    left_quant = (1 - bootstrap_conf_level)/2\n",
    "    right_quant = 1 - (1 - bootstrap_conf_level) / 2\n",
    "    ci = pd_boot_data.quantile([left_quant, right_quant])\n",
    "        \n",
    "    p_1 = norm.cdf(\n",
    "        x = 0, \n",
    "        loc = np.mean(boot_data), \n",
    "        scale = np.std(boot_data)\n",
    "    )\n",
    "    p_2 = norm.cdf(\n",
    "        x = 0, \n",
    "        loc = -np.mean(boot_data), \n",
    "        scale = np.std(boot_data)\n",
    "    )\n",
    "    p_value = min(p_1, p_2) * 2\n",
    "        \n",
    "    # Визуализация\n",
    "    plt.hist(pd_boot_data[0], bins = 50)\n",
    "    \n",
    "    plt.style.use('ggplot')\n",
    "    plt.vlines(ci,ymin=0,ymax=50,linestyle='--')\n",
    "    plt.xlabel('boot_data')\n",
    "    plt.ylabel('frequency')\n",
    "    plt.title(\"Histogram of boot_data\")\n",
    "    plt.show()\n",
    "       \n",
    "    return {\"boot_data\": boot_data, \n",
    "            \"ci\": ci, \n",
    "            \"p_value\": p_value}"
   ]
  },
  {
   "cell_type": "code",
   "execution_count": 119,
   "metadata": {},
   "outputs": [
    {
     "data": {
      "application/vnd.jupyter.widget-view+json": {
       "model_id": "894ac353769343618eeb526fb0d6a005",
       "version_major": 2,
       "version_minor": 0
      },
      "text/plain": [
       "HBox(children=(HTML(value=''), FloatProgress(value=0.0, max=2000.0), HTML(value='')))"
      ]
     },
     "metadata": {},
     "output_type": "display_data"
    },
    {
     "name": "stdout",
     "output_type": "stream",
     "text": [
      "\n"
     ]
    },
    {
     "data": {
      "image/png": "[encoded data removed]",
      "text/plain": [
       "<Figure size 432x288 with 1 Axes>"
      ]
     },
     "metadata": {},
     "output_type": "display_data"
    }
   ],
   "source": [
    "booted_data_median1 = get_bootstrap(\n",
    "    all_data[all_data.group == 'test'].revenue,\n",
    "    all_data[all_data.group == 'control_1'].revenue,\n",
    "    statistic = np.median\n",
    "    )"
   ]
  },
  {
   "cell_type": "code",
   "execution_count": 120,
   "metadata": {},
   "outputs": [
    {
     "data": {
      "text/plain": [
       "0.009858074694533248"
      ]
     },
     "execution_count": 120,
     "metadata": {},
     "output_type": "execute_result"
    }
   ],
   "source": [
    "booted_data_median1[\"p_value\"]"
   ]
  },
  {
   "cell_type": "code",
   "execution_count": 121,
   "metadata": {},
   "outputs": [
    {
     "data": {
      "text/html": [
       "<div>\n",
       "<style scoped>\n",
       "    .dataframe tbody tr th:only-of-type {\n",
       "        vertical-align: middle;\n",
       "    }\n",
       "\n",
       "    .dataframe tbody tr th {\n",
       "        vertical-align: top;\n",
       "    }\n",
       "\n",
       "    .dataframe thead th {\n",
       "        text-align: right;\n",
       "    }\n",
       "</style>\n",
       "<table border=\"1\" class=\"dataframe\">\n",
       "  <thead>\n",
       "    <tr style=\"text-align: right;\">\n",
       "      <th></th>\n",
       "      <th>0</th>\n",
       "    </tr>\n",
       "  </thead>\n",
       "  <tbody>\n",
       "    <tr>\n",
       "      <th>0.025</th>\n",
       "      <td>234.0</td>\n",
       "    </tr>\n",
       "    <tr>\n",
       "      <th>0.975</th>\n",
       "      <td>2522.0</td>\n",
       "    </tr>\n",
       "  </tbody>\n",
       "</table>\n",
       "</div>"
      ],
      "text/plain": [
       "            0\n",
       "0.025   234.0\n",
       "0.975  2522.0"
      ]
     },
     "execution_count": 121,
     "metadata": {},
     "output_type": "execute_result"
    }
   ],
   "source": [
    "booted_data_median1['ci']"
   ]
  },
  {
   "cell_type": "code",
   "execution_count": null,
   "metadata": {},
   "outputs": [],
   "source": [
    "# как видно p-value меньше 0.05 и доверительный интервал распроложен выше нуля\n",
    "# можно сделать вывод что медианные значения чеков в выборках статистически отличаются"
   ]
  },
  {
   "cell_type": "code",
   "execution_count": 122,
   "metadata": {},
   "outputs": [
    {
     "data": {
      "application/vnd.jupyter.widget-view+json": {
       "model_id": "f1067447e9964b89b465fe9eccb5b0d7",
       "version_major": 2,
       "version_minor": 0
      },
      "text/plain": [
       "HBox(children=(HTML(value=''), FloatProgress(value=0.0, max=2000.0), HTML(value='')))"
      ]
     },
     "metadata": {},
     "output_type": "display_data"
    },
    {
     "name": "stdout",
     "output_type": "stream",
     "text": [
      "\n"
     ]
    },
    {
     "data": {
      "image/png": "[encoded data removed]",
      "text/plain": [
       "<Figure size 432x288 with 1 Axes>"
      ]
     },
     "metadata": {},
     "output_type": "display_data"
    }
   ],
   "source": [
    "booted_data_median2 = get_bootstrap(\n",
    "    all_data[all_data.group == 'test'].revenue,\n",
    "    all_data[all_data.group == 'control_2'].revenue,\n",
    "    statistic = np.median\n",
    "    )"
   ]
  },
  {
   "cell_type": "code",
   "execution_count": 123,
   "metadata": {},
   "outputs": [
    {
     "data": {
      "text/plain": [
       "0.004266345392533408"
      ]
     },
     "execution_count": 123,
     "metadata": {},
     "output_type": "execute_result"
    }
   ],
   "source": [
    "booted_data_median2[\"p_value\"]"
   ]
  },
  {
   "cell_type": "code",
   "execution_count": 124,
   "metadata": {},
   "outputs": [
    {
     "data": {
      "text/html": [
       "<div>\n",
       "<style scoped>\n",
       "    .dataframe tbody tr th:only-of-type {\n",
       "        vertical-align: middle;\n",
       "    }\n",
       "\n",
       "    .dataframe tbody tr th {\n",
       "        vertical-align: top;\n",
       "    }\n",
       "\n",
       "    .dataframe thead th {\n",
       "        text-align: right;\n",
       "    }\n",
       "</style>\n",
       "<table border=\"1\" class=\"dataframe\">\n",
       "  <thead>\n",
       "    <tr style=\"text-align: right;\">\n",
       "      <th></th>\n",
       "      <th>0</th>\n",
       "    </tr>\n",
       "  </thead>\n",
       "  <tbody>\n",
       "    <tr>\n",
       "      <th>0.025</th>\n",
       "      <td>416.0</td>\n",
       "    </tr>\n",
       "    <tr>\n",
       "      <th>0.975</th>\n",
       "      <td>2587.0</td>\n",
       "    </tr>\n",
       "  </tbody>\n",
       "</table>\n",
       "</div>"
      ],
      "text/plain": [
       "            0\n",
       "0.025   416.0\n",
       "0.975  2587.0"
      ]
     },
     "execution_count": 124,
     "metadata": {},
     "output_type": "execute_result"
    }
   ],
   "source": [
    "booted_data_median2['ci']"
   ]
  },
  {
   "cell_type": "code",
   "execution_count": null,
   "metadata": {},
   "outputs": [],
   "source": [
    "# как видно p-value меньше 0.05 и доверительный интервал распроложен выше нуля\n",
    "# можно сделать вывод что медианные значения чеков в выборках статистически отличаются"
   ]
  },
  {
   "cell_type": "code",
   "execution_count": null,
   "metadata": {},
   "outputs": [],
   "source": [
    "# с помощью метода bootstrap проверим отличаются ли доли продукта \"premium_no_trial\" в наших выборках"
   ]
  },
  {
   "cell_type": "code",
   "execution_count": 125,
   "metadata": {},
   "outputs": [],
   "source": [
    "all_data['is_premium'] = all_data.product_type.apply(lambda x: 1 if x == 'premium_no_trial' else 0)"
   ]
  },
  {
   "cell_type": "code",
   "execution_count": 126,
   "metadata": {},
   "outputs": [
    {
     "data": {
      "text/html": [
       "<div>\n",
       "<style scoped>\n",
       "    .dataframe tbody tr th:only-of-type {\n",
       "        vertical-align: middle;\n",
       "    }\n",
       "\n",
       "    .dataframe tbody tr th {\n",
       "        vertical-align: top;\n",
       "    }\n",
       "\n",
       "    .dataframe thead th {\n",
       "        text-align: right;\n",
       "    }\n",
       "</style>\n",
       "<table border=\"1\" class=\"dataframe\">\n",
       "  <thead>\n",
       "    <tr style=\"text-align: right;\">\n",
       "      <th></th>\n",
       "      <th>is_premium</th>\n",
       "    </tr>\n",
       "    <tr>\n",
       "      <th>group</th>\n",
       "      <th></th>\n",
       "    </tr>\n",
       "  </thead>\n",
       "  <tbody>\n",
       "    <tr>\n",
       "      <th>control_1</th>\n",
       "      <td>0.316456</td>\n",
       "    </tr>\n",
       "    <tr>\n",
       "      <th>control_2</th>\n",
       "      <td>0.311688</td>\n",
       "    </tr>\n",
       "    <tr>\n",
       "      <th>test</th>\n",
       "      <td>0.279412</td>\n",
       "    </tr>\n",
       "  </tbody>\n",
       "</table>\n",
       "</div>"
      ],
      "text/plain": [
       "           is_premium\n",
       "group                \n",
       "control_1    0.316456\n",
       "control_2    0.311688\n",
       "test         0.279412"
      ]
     },
     "execution_count": 126,
     "metadata": {},
     "output_type": "execute_result"
    }
   ],
   "source": [
    "all_data.groupby('group').agg({'is_premium': 'mean'})"
   ]
  },
  {
   "cell_type": "code",
   "execution_count": 127,
   "metadata": {},
   "outputs": [
    {
     "data": {
      "application/vnd.jupyter.widget-view+json": {
       "model_id": "a0942f0f8e854fd4a055cf585fcfc974",
       "version_major": 2,
       "version_minor": 0
      },
      "text/plain": [
       "HBox(children=(HTML(value=''), FloatProgress(value=0.0, max=2000.0), HTML(value='')))"
      ]
     },
     "metadata": {},
     "output_type": "display_data"
    },
    {
     "name": "stdout",
     "output_type": "stream",
     "text": [
      "\n"
     ]
    },
    {
     "data": {
      "image/png": "[encoded data removed]",
      "text/plain": [
       "<Figure size 432x288 with 1 Axes>"
      ]
     },
     "metadata": {},
     "output_type": "display_data"
    }
   ],
   "source": [
    "booted_data_conversion_to_premium1 = get_bootstrap(\n",
    "    all_data[all_data.group == 'test'].is_premium,\n",
    "    all_data[all_data.group == 'control_1'].is_premium\n",
    "    )"
   ]
  },
  {
   "cell_type": "code",
   "execution_count": 128,
   "metadata": {},
   "outputs": [
    {
     "data": {
      "text/plain": [
       "0.3066176827577737"
      ]
     },
     "execution_count": 128,
     "metadata": {},
     "output_type": "execute_result"
    }
   ],
   "source": [
    "booted_data_conversion_to_premium1[\"p_value\"]"
   ]
  },
  {
   "cell_type": "code",
   "execution_count": 129,
   "metadata": {},
   "outputs": [
    {
     "data": {
      "text/html": [
       "<div>\n",
       "<style scoped>\n",
       "    .dataframe tbody tr th:only-of-type {\n",
       "        vertical-align: middle;\n",
       "    }\n",
       "\n",
       "    .dataframe tbody tr th {\n",
       "        vertical-align: top;\n",
       "    }\n",
       "\n",
       "    .dataframe thead th {\n",
       "        text-align: right;\n",
       "    }\n",
       "</style>\n",
       "<table border=\"1\" class=\"dataframe\">\n",
       "  <thead>\n",
       "    <tr style=\"text-align: right;\">\n",
       "      <th></th>\n",
       "      <th>0</th>\n",
       "    </tr>\n",
       "  </thead>\n",
       "  <tbody>\n",
       "    <tr>\n",
       "      <th>0.025</th>\n",
       "      <td>-0.107595</td>\n",
       "    </tr>\n",
       "    <tr>\n",
       "      <th>0.975</th>\n",
       "      <td>0.031646</td>\n",
       "    </tr>\n",
       "  </tbody>\n",
       "</table>\n",
       "</div>"
      ],
      "text/plain": [
       "              0\n",
       "0.025 -0.107595\n",
       "0.975  0.031646"
      ]
     },
     "execution_count": 129,
     "metadata": {},
     "output_type": "execute_result"
    }
   ],
   "source": [
    "booted_data_conversion_to_premium1['ci']"
   ]
  },
  {
   "cell_type": "code",
   "execution_count": null,
   "metadata": {},
   "outputs": [],
   "source": [
    "# как видно p-value больше 0.05 и доверительный интервал захватывает нулевое значение\n",
    "# таким образом нельзя сделать вывод что отличия статистически значимы и получены не случайно"
   ]
  },
  {
   "cell_type": "code",
   "execution_count": 130,
   "metadata": {},
   "outputs": [
    {
     "data": {
      "application/vnd.jupyter.widget-view+json": {
       "model_id": "384a8a56704c4100bca4a00a1c8bcbde",
       "version_major": 2,
       "version_minor": 0
      },
      "text/plain": [
       "HBox(children=(HTML(value=''), FloatProgress(value=0.0, max=2000.0), HTML(value='')))"
      ]
     },
     "metadata": {},
     "output_type": "display_data"
    },
    {
     "name": "stdout",
     "output_type": "stream",
     "text": [
      "\n"
     ]
    },
    {
     "data": {
      "image/png": "[encoded data removed]",
      "text/plain": [
       "<Figure size 432x288 with 1 Axes>"
      ]
     },
     "metadata": {},
     "output_type": "display_data"
    }
   ],
   "source": [
    "booted_data_conversion_to_premium2 = get_bootstrap(\n",
    "    all_data[all_data.group == 'test'].is_premium,\n",
    "    all_data[all_data.group == 'control_2'].is_premium\n",
    "    )"
   ]
  },
  {
   "cell_type": "code",
   "execution_count": 131,
   "metadata": {},
   "outputs": [
    {
     "data": {
      "text/plain": [
       "0.4025295932692564"
      ]
     },
     "execution_count": 131,
     "metadata": {},
     "output_type": "execute_result"
    }
   ],
   "source": [
    "booted_data_conversion_to_premium2[\"p_value\"]"
   ]
  },
  {
   "cell_type": "code",
   "execution_count": 132,
   "metadata": {},
   "outputs": [
    {
     "data": {
      "text/html": [
       "<div>\n",
       "<style scoped>\n",
       "    .dataframe tbody tr th:only-of-type {\n",
       "        vertical-align: middle;\n",
       "    }\n",
       "\n",
       "    .dataframe tbody tr th {\n",
       "        vertical-align: top;\n",
       "    }\n",
       "\n",
       "    .dataframe thead th {\n",
       "        text-align: right;\n",
       "    }\n",
       "</style>\n",
       "<table border=\"1\" class=\"dataframe\">\n",
       "  <thead>\n",
       "    <tr style=\"text-align: right;\">\n",
       "      <th></th>\n",
       "      <th>0</th>\n",
       "    </tr>\n",
       "  </thead>\n",
       "  <tbody>\n",
       "    <tr>\n",
       "      <th>0.025</th>\n",
       "      <td>-0.100731</td>\n",
       "    </tr>\n",
       "    <tr>\n",
       "      <th>0.975</th>\n",
       "      <td>0.042208</td>\n",
       "    </tr>\n",
       "  </tbody>\n",
       "</table>\n",
       "</div>"
      ],
      "text/plain": [
       "              0\n",
       "0.025 -0.100731\n",
       "0.975  0.042208"
      ]
     },
     "execution_count": 132,
     "metadata": {},
     "output_type": "execute_result"
    }
   ],
   "source": [
    "booted_data_conversion_to_premium2['ci']"
   ]
  },
  {
   "cell_type": "code",
   "execution_count": null,
   "metadata": {},
   "outputs": [],
   "source": [
    "# как видно p-value больше 0.05 и доверительный интервал захватывает нулевое значение\n",
    "# таким образом нельзя сделать вывод что отличия статистически значимы и получены не случайно"
   ]
  },
  {
   "cell_type": "code",
   "execution_count": null,
   "metadata": {},
   "outputs": [],
   "source": [
    "# проверим с помощью метода bootsrap различие в величине повторных покупок продукта \"premium_no_trial\""
   ]
  },
  {
   "cell_type": "code",
   "execution_count": 133,
   "metadata": {},
   "outputs": [],
   "source": [
    "aps_premium = all_data.query('is_premium == 1')\\\n",
    "                    .groupby(['group', 'uid'], as_index=False)\\\n",
    "                    .agg({'is_premium': 'sum'})\\\n",
    "                    .rename(columns={'is_premium': 'aps'})"
   ]
  },
  {
   "cell_type": "code",
   "execution_count": 134,
   "metadata": {},
   "outputs": [
    {
     "data": {
      "text/html": [
       "<div>\n",
       "<style scoped>\n",
       "    .dataframe tbody tr th:only-of-type {\n",
       "        vertical-align: middle;\n",
       "    }\n",
       "\n",
       "    .dataframe tbody tr th {\n",
       "        vertical-align: top;\n",
       "    }\n",
       "\n",
       "    .dataframe thead th {\n",
       "        text-align: right;\n",
       "    }\n",
       "</style>\n",
       "<table border=\"1\" class=\"dataframe\">\n",
       "  <thead>\n",
       "    <tr style=\"text-align: right;\">\n",
       "      <th></th>\n",
       "      <th>aps</th>\n",
       "    </tr>\n",
       "    <tr>\n",
       "      <th>group</th>\n",
       "      <th></th>\n",
       "    </tr>\n",
       "  </thead>\n",
       "  <tbody>\n",
       "    <tr>\n",
       "      <th>control_1</th>\n",
       "      <td>1.063830</td>\n",
       "    </tr>\n",
       "    <tr>\n",
       "      <th>control_2</th>\n",
       "      <td>1.032258</td>\n",
       "    </tr>\n",
       "    <tr>\n",
       "      <th>test</th>\n",
       "      <td>1.134328</td>\n",
       "    </tr>\n",
       "  </tbody>\n",
       "</table>\n",
       "</div>"
      ],
      "text/plain": [
       "                aps\n",
       "group              \n",
       "control_1  1.063830\n",
       "control_2  1.032258\n",
       "test       1.134328"
      ]
     },
     "execution_count": 134,
     "metadata": {},
     "output_type": "execute_result"
    }
   ],
   "source": [
    "aps_premium.groupby('group').agg({'aps': 'mean'})"
   ]
  },
  {
   "cell_type": "code",
   "execution_count": 135,
   "metadata": {
    "scrolled": true
   },
   "outputs": [
    {
     "data": {
      "application/vnd.jupyter.widget-view+json": {
       "model_id": "a6f2c559eaf4430ab0e3a74e4ae1d63f",
       "version_major": 2,
       "version_minor": 0
      },
      "text/plain": [
       "HBox(children=(HTML(value=''), FloatProgress(value=0.0, max=2000.0), HTML(value='')))"
      ]
     },
     "metadata": {},
     "output_type": "display_data"
    },
    {
     "name": "stdout",
     "output_type": "stream",
     "text": [
      "\n"
     ]
    },
    {
     "data": {
      "image/png": "[encoded data removed]",
      "text/plain": [
       "<Figure size 432x288 with 1 Axes>"
      ]
     },
     "metadata": {},
     "output_type": "display_data"
    }
   ],
   "source": [
    "booted_data_aps_premium1= get_bootstrap(\n",
    "    aps_premium[aps_premium.group == 'test'].aps,\n",
    "    aps_premium[aps_premium.group == 'control_1'].aps\n",
    "    )"
   ]
  },
  {
   "cell_type": "code",
   "execution_count": 136,
   "metadata": {},
   "outputs": [
    {
     "data": {
      "text/plain": [
       "0.18679963161990853"
      ]
     },
     "execution_count": 136,
     "metadata": {},
     "output_type": "execute_result"
    }
   ],
   "source": [
    "booted_data_aps_premium1[\"p_value\"]"
   ]
  },
  {
   "cell_type": "code",
   "execution_count": 137,
   "metadata": {},
   "outputs": [
    {
     "data": {
      "text/html": [
       "<div>\n",
       "<style scoped>\n",
       "    .dataframe tbody tr th:only-of-type {\n",
       "        vertical-align: middle;\n",
       "    }\n",
       "\n",
       "    .dataframe tbody tr th {\n",
       "        vertical-align: top;\n",
       "    }\n",
       "\n",
       "    .dataframe thead th {\n",
       "        text-align: right;\n",
       "    }\n",
       "</style>\n",
       "<table border=\"1\" class=\"dataframe\">\n",
       "  <thead>\n",
       "    <tr style=\"text-align: right;\">\n",
       "      <th></th>\n",
       "      <th>0</th>\n",
       "    </tr>\n",
       "  </thead>\n",
       "  <tbody>\n",
       "    <tr>\n",
       "      <th>0.025</th>\n",
       "      <td>-0.031915</td>\n",
       "    </tr>\n",
       "    <tr>\n",
       "      <th>0.975</th>\n",
       "      <td>0.170479</td>\n",
       "    </tr>\n",
       "  </tbody>\n",
       "</table>\n",
       "</div>"
      ],
      "text/plain": [
       "              0\n",
       "0.025 -0.031915\n",
       "0.975  0.170479"
      ]
     },
     "execution_count": 137,
     "metadata": {},
     "output_type": "execute_result"
    }
   ],
   "source": [
    "booted_data_aps_premium1['ci']"
   ]
  },
  {
   "cell_type": "code",
   "execution_count": null,
   "metadata": {},
   "outputs": [],
   "source": [
    "# как видно p-value больше 0.05 и доверительный интервал захватывает нулевое значение\n",
    "# таким образом нельзя сделать вывод что отличия статистически значимы и получены не случайно"
   ]
  },
  {
   "cell_type": "code",
   "execution_count": 138,
   "metadata": {},
   "outputs": [
    {
     "data": {
      "application/vnd.jupyter.widget-view+json": {
       "model_id": "280a319724c84c88a5588a85187db783",
       "version_major": 2,
       "version_minor": 0
      },
      "text/plain": [
       "HBox(children=(HTML(value=''), FloatProgress(value=0.0, max=2000.0), HTML(value='')))"
      ]
     },
     "metadata": {},
     "output_type": "display_data"
    },
    {
     "name": "stdout",
     "output_type": "stream",
     "text": [
      "\n"
     ]
    },
    {
     "data": {
      "image/png": "[encoded data removed]",
      "text/plain": [
       "<Figure size 432x288 with 1 Axes>"
      ]
     },
     "metadata": {},
     "output_type": "display_data"
    }
   ],
   "source": [
    "booted_data_aps_premium2= get_bootstrap(\n",
    "    aps_premium[aps_premium.group == 'test'].aps,\n",
    "    aps_premium[aps_premium.group == 'control_2'].aps\n",
    "    )"
   ]
  },
  {
   "cell_type": "code",
   "execution_count": 139,
   "metadata": {},
   "outputs": [
    {
     "data": {
      "text/plain": [
       "0.04613029656825835"
      ]
     },
     "execution_count": 139,
     "metadata": {},
     "output_type": "execute_result"
    }
   ],
   "source": [
    "booted_data_aps_premium2[\"p_value\"]"
   ]
  },
  {
   "cell_type": "code",
   "execution_count": 140,
   "metadata": {},
   "outputs": [
    {
     "data": {
      "text/html": [
       "<div>\n",
       "<style scoped>\n",
       "    .dataframe tbody tr th:only-of-type {\n",
       "        vertical-align: middle;\n",
       "    }\n",
       "\n",
       "    .dataframe tbody tr th {\n",
       "        vertical-align: top;\n",
       "    }\n",
       "\n",
       "    .dataframe thead th {\n",
       "        text-align: right;\n",
       "    }\n",
       "</style>\n",
       "<table border=\"1\" class=\"dataframe\">\n",
       "  <thead>\n",
       "    <tr style=\"text-align: right;\">\n",
       "      <th></th>\n",
       "      <th>0</th>\n",
       "    </tr>\n",
       "  </thead>\n",
       "  <tbody>\n",
       "    <tr>\n",
       "      <th>0.025</th>\n",
       "      <td>0.010753</td>\n",
       "    </tr>\n",
       "    <tr>\n",
       "      <th>0.975</th>\n",
       "      <td>0.204301</td>\n",
       "    </tr>\n",
       "  </tbody>\n",
       "</table>\n",
       "</div>"
      ],
      "text/plain": [
       "              0\n",
       "0.025  0.010753\n",
       "0.975  0.204301"
      ]
     },
     "execution_count": 140,
     "metadata": {},
     "output_type": "execute_result"
    }
   ],
   "source": [
    "booted_data_aps_premium2['ci']"
   ]
  },
  {
   "cell_type": "code",
   "execution_count": null,
   "metadata": {},
   "outputs": [],
   "source": [
    "# как видно p-value меньше 0.05 и доверительный интервал незахватывает нулевое значение\n",
    "# таким образом можно сделать вывод что различия статистически значимы"
   ]
  },
  {
   "cell_type": "markdown",
   "metadata": {},
   "source": [
    "На основании проведенных тестов можно сделать вывод, что наш эксперимент был в целом удачным. Значения ARPU и величина медианного чека выросли по отношению к обоим контрольным группа.\n",
    "Доля платежей продукта \"premium_no_trial\" статистически не изменилась, то есть пользователи не стали реже подписываться на premium.\n",
    "Стоит обратить внимание, что величина повторных покупок тарифа premium в тестовой группе возросла. В сравнении с первой контрольной группой это изменение нельзя считать статистически значимым, а в сранение со второй можно."
   ]
  },
  {
   "cell_type": "code",
   "execution_count": null,
   "metadata": {},
   "outputs": [],
   "source": [
    "# проверим влияние отдельных признаков на результат.\n",
    "# так как наш тест связан с премиум подпиской будем исследовать только данные транзакций с соотвествующим типом продукта\n",
    "# как было выявлено ранее мы имеем значительный перикос по полу наших пользователей\n",
    "# таким образом не имеет смысла исследовать этот признак"
   ]
  },
  {
   "cell_type": "code",
   "execution_count": null,
   "metadata": {},
   "outputs": [],
   "source": [
    "# спрева проверим влияние такого факора как страна"
   ]
  },
  {
   "cell_type": "code",
   "execution_count": 141,
   "metadata": {},
   "outputs": [],
   "source": [
    "transactions_test['group'] = 'test'"
   ]
  },
  {
   "cell_type": "code",
   "execution_count": 142,
   "metadata": {},
   "outputs": [],
   "source": [
    "transactions_control_1['group'] = 'control_1'"
   ]
  },
  {
   "cell_type": "code",
   "execution_count": 143,
   "metadata": {},
   "outputs": [],
   "source": [
    "transactions_control_2['group'] = 'control_2'"
   ]
  },
  {
   "cell_type": "code",
   "execution_count": 144,
   "metadata": {},
   "outputs": [],
   "source": [
    "all_transactions = pd.concat([transactions_test, transactions_control_1, transactions_control_2]\n",
    "                             , ignore_index=False)\\\n",
    "                    .query('product_type ==\"premium_no_trial\"')"
   ]
  },
  {
   "cell_type": "code",
   "execution_count": 145,
   "metadata": {},
   "outputs": [],
   "source": [
    "users_test['group'] = 'test'"
   ]
  },
  {
   "cell_type": "code",
   "execution_count": 146,
   "metadata": {},
   "outputs": [],
   "source": [
    "users_control_1['group'] = 'control_1'"
   ]
  },
  {
   "cell_type": "code",
   "execution_count": 147,
   "metadata": {},
   "outputs": [],
   "source": [
    "users_control_2['group'] = 'control_2'"
   ]
  },
  {
   "cell_type": "code",
   "execution_count": 148,
   "metadata": {},
   "outputs": [],
   "source": [
    "all_users = pd.concat([users_test, users_control_1, users_control_2], ignore_index=False)"
   ]
  },
  {
   "cell_type": "code",
   "execution_count": 149,
   "metadata": {},
   "outputs": [],
   "source": [
    "all_transactions = all_transactions.groupby(['group', 'uid'], as_index=False)\\\n",
    "                                .agg({'revenue': 'sum'})\\\n",
    "                                .merge(all_users.loc[:,['uid', 'age', 'country']], how='left', on='uid')"
   ]
  },
  {
   "cell_type": "code",
   "execution_count": 150,
   "metadata": {
    "scrolled": true
   },
   "outputs": [
    {
     "data": {
      "text/plain": [
       "United States of America          76\n",
       "France                            24\n",
       "Italy                             23\n",
       "Spain                             21\n",
       "United Kingdom (Great Britain)    18\n",
       "Argentina                         17\n",
       "Chile                             14\n",
       "Israel                            14\n",
       "United Arab Emirates              13\n",
       "Germany                            9\n",
       "Canada                             8\n",
       "Belgium                            7\n",
       "Portugal                           6\n",
       "Switzerland                        4\n",
       "Turkey                             4\n",
       "Australia                          3\n",
       "India                              2\n",
       "Ukraine                            1\n",
       "Mexico                             1\n",
       "Latvia                             1\n",
       "Austria                            1\n",
       "Name: country, dtype: int64"
      ]
     },
     "execution_count": 150,
     "metadata": {},
     "output_type": "execute_result"
    }
   ],
   "source": [
    "all_transactions.country.value_counts()"
   ]
  },
  {
   "cell_type": "code",
   "execution_count": null,
   "metadata": {},
   "outputs": [],
   "source": [
    "# так как в наших выборках представлено много стран и по многим из них количество наблюдений достаточно мало\n",
    "# сгруппируем данные по регионам"
   ]
  },
  {
   "cell_type": "code",
   "execution_count": 151,
   "metadata": {},
   "outputs": [],
   "source": [
    "condlist_countrys = [\n",
    "    (all_transactions.country.isin(['United States of America', 'Canada'])),\n",
    "    (all_transactions.country.isin(['France', 'Italy', 'Spain','United Kingdom (Great Britain)',\n",
    "                                    'Germany', 'Belgium', 'Portugal', 'Switzerland', 'Latvia',\n",
    "                                    'Ukraine', 'Austria'])),\n",
    "    (all_transactions.country.isin(['Argentina', 'Chile', 'Mexico'])),\n",
    "    (all_transactions.country.isin(['Israel', 'United Arab Emirates', 'Turkey'])),\n",
    "    (all_transactions.country.isin(['Australia'])),\n",
    "    (all_transactions.country.isin(['India']))]"
   ]
  },
  {
   "cell_type": "code",
   "execution_count": 152,
   "metadata": {},
   "outputs": [],
   "source": [
    "choicelist_countrys = ['North America',\n",
    "                      'Europe',\n",
    "                      'Latin America',\n",
    "                      'Middle East',\n",
    "                      'Asia',\n",
    "                      'Australia']"
   ]
  },
  {
   "cell_type": "code",
   "execution_count": 153,
   "metadata": {},
   "outputs": [],
   "source": [
    "all_transactions['region'] = np.select(condlist_countrys, choicelist_countrys)"
   ]
  },
  {
   "cell_type": "code",
   "execution_count": 154,
   "metadata": {},
   "outputs": [
    {
     "data": {
      "text/html": [
       "<div>\n",
       "<style scoped>\n",
       "    .dataframe tbody tr th:only-of-type {\n",
       "        vertical-align: middle;\n",
       "    }\n",
       "\n",
       "    .dataframe tbody tr th {\n",
       "        vertical-align: top;\n",
       "    }\n",
       "\n",
       "    .dataframe thead th {\n",
       "        text-align: right;\n",
       "    }\n",
       "</style>\n",
       "<table border=\"1\" class=\"dataframe\">\n",
       "  <thead>\n",
       "    <tr style=\"text-align: right;\">\n",
       "      <th></th>\n",
       "      <th></th>\n",
       "      <th>count</th>\n",
       "      <th>mean</th>\n",
       "      <th>std</th>\n",
       "      <th>min</th>\n",
       "      <th>25%</th>\n",
       "      <th>50%</th>\n",
       "      <th>75%</th>\n",
       "      <th>max</th>\n",
       "    </tr>\n",
       "    <tr>\n",
       "      <th>region</th>\n",
       "      <th>group</th>\n",
       "      <th></th>\n",
       "      <th></th>\n",
       "      <th></th>\n",
       "      <th></th>\n",
       "      <th></th>\n",
       "      <th></th>\n",
       "      <th></th>\n",
       "      <th></th>\n",
       "    </tr>\n",
       "  </thead>\n",
       "  <tbody>\n",
       "    <tr>\n",
       "      <th rowspan=\"3\" valign=\"top\">Asia</th>\n",
       "      <th>control_1</th>\n",
       "      <td>1.0</td>\n",
       "      <td>3588.000000</td>\n",
       "      <td>NaN</td>\n",
       "      <td>3588.0</td>\n",
       "      <td>3588.00</td>\n",
       "      <td>3588.0</td>\n",
       "      <td>3588.00</td>\n",
       "      <td>3588.0</td>\n",
       "    </tr>\n",
       "    <tr>\n",
       "      <th>control_2</th>\n",
       "      <td>1.0</td>\n",
       "      <td>9438.000000</td>\n",
       "      <td>NaN</td>\n",
       "      <td>9438.0</td>\n",
       "      <td>9438.00</td>\n",
       "      <td>9438.0</td>\n",
       "      <td>9438.00</td>\n",
       "      <td>9438.0</td>\n",
       "    </tr>\n",
       "    <tr>\n",
       "      <th>test</th>\n",
       "      <td>1.0</td>\n",
       "      <td>12597.000000</td>\n",
       "      <td>NaN</td>\n",
       "      <td>12597.0</td>\n",
       "      <td>12597.00</td>\n",
       "      <td>12597.0</td>\n",
       "      <td>12597.00</td>\n",
       "      <td>12597.0</td>\n",
       "    </tr>\n",
       "    <tr>\n",
       "      <th>Australia</th>\n",
       "      <th>control_1</th>\n",
       "      <td>2.0</td>\n",
       "      <td>4810.000000</td>\n",
       "      <td>147.078210</td>\n",
       "      <td>4706.0</td>\n",
       "      <td>4758.00</td>\n",
       "      <td>4810.0</td>\n",
       "      <td>4862.00</td>\n",
       "      <td>4914.0</td>\n",
       "    </tr>\n",
       "    <tr>\n",
       "      <th rowspan=\"3\" valign=\"top\">Europe</th>\n",
       "      <th>control_1</th>\n",
       "      <td>40.0</td>\n",
       "      <td>5897.125000</td>\n",
       "      <td>2266.965216</td>\n",
       "      <td>1898.0</td>\n",
       "      <td>4524.00</td>\n",
       "      <td>6292.0</td>\n",
       "      <td>6438.25</td>\n",
       "      <td>12844.0</td>\n",
       "    </tr>\n",
       "    <tr>\n",
       "      <th>control_2</th>\n",
       "      <td>49.0</td>\n",
       "      <td>7212.081633</td>\n",
       "      <td>8464.008915</td>\n",
       "      <td>1482.0</td>\n",
       "      <td>4797.00</td>\n",
       "      <td>6292.0</td>\n",
       "      <td>6409.00</td>\n",
       "      <td>63037.0</td>\n",
       "    </tr>\n",
       "    <tr>\n",
       "      <th>test</th>\n",
       "      <td>26.0</td>\n",
       "      <td>11938.500000</td>\n",
       "      <td>21118.460569</td>\n",
       "      <td>1898.0</td>\n",
       "      <td>5378.75</td>\n",
       "      <td>6844.5</td>\n",
       "      <td>11833.25</td>\n",
       "      <td>113477.0</td>\n",
       "    </tr>\n",
       "    <tr>\n",
       "      <th rowspan=\"3\" valign=\"top\">Latin America</th>\n",
       "      <th>control_1</th>\n",
       "      <td>9.0</td>\n",
       "      <td>6007.444444</td>\n",
       "      <td>580.157115</td>\n",
       "      <td>4745.0</td>\n",
       "      <td>6292.00</td>\n",
       "      <td>6292.0</td>\n",
       "      <td>6292.00</td>\n",
       "      <td>6292.0</td>\n",
       "    </tr>\n",
       "    <tr>\n",
       "      <th>control_2</th>\n",
       "      <td>13.0</td>\n",
       "      <td>6529.000000</td>\n",
       "      <td>1829.963797</td>\n",
       "      <td>4732.0</td>\n",
       "      <td>5278.00</td>\n",
       "      <td>6292.0</td>\n",
       "      <td>6292.00</td>\n",
       "      <td>10413.0</td>\n",
       "    </tr>\n",
       "    <tr>\n",
       "      <th>test</th>\n",
       "      <td>10.0</td>\n",
       "      <td>10471.500000</td>\n",
       "      <td>5666.062424</td>\n",
       "      <td>5330.0</td>\n",
       "      <td>6750.25</td>\n",
       "      <td>8216.0</td>\n",
       "      <td>12597.00</td>\n",
       "      <td>24531.0</td>\n",
       "    </tr>\n",
       "    <tr>\n",
       "      <th rowspan=\"3\" valign=\"top\">Middle East</th>\n",
       "      <th>control_1</th>\n",
       "      <td>16.0</td>\n",
       "      <td>9100.812500</td>\n",
       "      <td>14414.227001</td>\n",
       "      <td>3432.0</td>\n",
       "      <td>5343.00</td>\n",
       "      <td>5908.5</td>\n",
       "      <td>6292.00</td>\n",
       "      <td>63037.0</td>\n",
       "    </tr>\n",
       "    <tr>\n",
       "      <th>control_2</th>\n",
       "      <td>6.0</td>\n",
       "      <td>18646.333333</td>\n",
       "      <td>30941.802104</td>\n",
       "      <td>4914.0</td>\n",
       "      <td>6292.00</td>\n",
       "      <td>6292.0</td>\n",
       "      <td>6292.00</td>\n",
       "      <td>81796.0</td>\n",
       "    </tr>\n",
       "    <tr>\n",
       "      <th>test</th>\n",
       "      <td>9.0</td>\n",
       "      <td>21418.222222</td>\n",
       "      <td>34799.965685</td>\n",
       "      <td>3614.0</td>\n",
       "      <td>8697.00</td>\n",
       "      <td>9217.0</td>\n",
       "      <td>12597.00</td>\n",
       "      <td>113477.0</td>\n",
       "    </tr>\n",
       "    <tr>\n",
       "      <th rowspan=\"3\" valign=\"top\">North America</th>\n",
       "      <th>control_1</th>\n",
       "      <td>30.0</td>\n",
       "      <td>8914.966667</td>\n",
       "      <td>12979.695035</td>\n",
       "      <td>1508.0</td>\n",
       "      <td>4537.00</td>\n",
       "      <td>6292.0</td>\n",
       "      <td>6292.00</td>\n",
       "      <td>63037.0</td>\n",
       "    </tr>\n",
       "    <tr>\n",
       "      <th>control_2</th>\n",
       "      <td>33.0</td>\n",
       "      <td>5612.848485</td>\n",
       "      <td>1603.722800</td>\n",
       "      <td>2756.0</td>\n",
       "      <td>4537.00</td>\n",
       "      <td>5265.0</td>\n",
       "      <td>6292.00</td>\n",
       "      <td>9360.0</td>\n",
       "    </tr>\n",
       "    <tr>\n",
       "      <th>test</th>\n",
       "      <td>21.0</td>\n",
       "      <td>9058.523810</td>\n",
       "      <td>2470.446814</td>\n",
       "      <td>4706.0</td>\n",
       "      <td>7774.00</td>\n",
       "      <td>9100.0</td>\n",
       "      <td>11115.00</td>\n",
       "      <td>12597.0</td>\n",
       "    </tr>\n",
       "  </tbody>\n",
       "</table>\n",
       "</div>"
      ],
      "text/plain": [
       "                         count          mean           std      min       25%  \\\n",
       "region        group                                                             \n",
       "Asia          control_1    1.0   3588.000000           NaN   3588.0   3588.00   \n",
       "              control_2    1.0   9438.000000           NaN   9438.0   9438.00   \n",
       "              test         1.0  12597.000000           NaN  12597.0  12597.00   \n",
       "Australia     control_1    2.0   4810.000000    147.078210   4706.0   4758.00   \n",
       "Europe        control_1   40.0   5897.125000   2266.965216   1898.0   4524.00   \n",
       "              control_2   49.0   7212.081633   8464.008915   1482.0   4797.00   \n",
       "              test        26.0  11938.500000  21118.460569   1898.0   5378.75   \n",
       "Latin America control_1    9.0   6007.444444    580.157115   4745.0   6292.00   \n",
       "              control_2   13.0   6529.000000   1829.963797   4732.0   5278.00   \n",
       "              test        10.0  10471.500000   5666.062424   5330.0   6750.25   \n",
       "Middle East   control_1   16.0   9100.812500  14414.227001   3432.0   5343.00   \n",
       "              control_2    6.0  18646.333333  30941.802104   4914.0   6292.00   \n",
       "              test         9.0  21418.222222  34799.965685   3614.0   8697.00   \n",
       "North America control_1   30.0   8914.966667  12979.695035   1508.0   4537.00   \n",
       "              control_2   33.0   5612.848485   1603.722800   2756.0   4537.00   \n",
       "              test        21.0   9058.523810   2470.446814   4706.0   7774.00   \n",
       "\n",
       "                             50%       75%       max  \n",
       "region        group                                   \n",
       "Asia          control_1   3588.0   3588.00    3588.0  \n",
       "              control_2   9438.0   9438.00    9438.0  \n",
       "              test       12597.0  12597.00   12597.0  \n",
       "Australia     control_1   4810.0   4862.00    4914.0  \n",
       "Europe        control_1   6292.0   6438.25   12844.0  \n",
       "              control_2   6292.0   6409.00   63037.0  \n",
       "              test        6844.5  11833.25  113477.0  \n",
       "Latin America control_1   6292.0   6292.00    6292.0  \n",
       "              control_2   6292.0   6292.00   10413.0  \n",
       "              test        8216.0  12597.00   24531.0  \n",
       "Middle East   control_1   5908.5   6292.00   63037.0  \n",
       "              control_2   6292.0   6292.00   81796.0  \n",
       "              test        9217.0  12597.00  113477.0  \n",
       "North America control_1   6292.0   6292.00   63037.0  \n",
       "              control_2   5265.0   6292.00    9360.0  \n",
       "              test        9100.0  11115.00   12597.0  "
      ]
     },
     "execution_count": 154,
     "metadata": {},
     "output_type": "execute_result"
    }
   ],
   "source": [
    "all_transactions.groupby(['region', 'group']).revenue.describe()"
   ]
  },
  {
   "cell_type": "code",
   "execution_count": null,
   "metadata": {},
   "outputs": [],
   "source": [
    "#  из точечных оценок видно что средний и медианный чеки выросли во всех группах\n",
    "# простроим график враимосвязи факторов"
   ]
  },
  {
   "cell_type": "code",
   "execution_count": 155,
   "metadata": {},
   "outputs": [
    {
     "data": {
      "text/plain": [
       "<AxesSubplot:xlabel='region', ylabel='revenue'>"
      ]
     },
     "execution_count": 155,
     "metadata": {},
     "output_type": "execute_result"
    },
    {
     "data": {
      "image/png": "[encoded data removed]",
      "text/plain": [
       "<Figure size 864x576 with 1 Axes>"
      ]
     },
     "metadata": {},
     "output_type": "display_data"
    }
   ],
   "source": [
    "plt.figure(figsize=(12,8))\n",
    "sns.pointplot(x='region', y='revenue', data=all_transactions, hue='group', capsize= .1)"
   ]
  },
  {
   "cell_type": "code",
   "execution_count": null,
   "metadata": {},
   "outputs": [],
   "source": [
    "#  как видно из графика хотя средние величины в тестовой группе и выше\n",
    "# но доверительные интервалы достаочно широкие и пересекаются\n",
    "# поэтому проверим стат значимость этих изменений\n",
    "# так как не во всех группах имеется достаточное количество наблюдений тесты проведем только для Европы и Северной Америки"
   ]
  },
  {
   "cell_type": "code",
   "execution_count": 156,
   "metadata": {},
   "outputs": [
    {
     "name": "stdout",
     "output_type": "stream",
     "text": [
      "MannwhitneyuResult(statistic=379.5, pvalue=0.032397898277440156)\n",
      "MannwhitneyuResult(statistic=487.5, pvalue=0.04696354298884014)\n"
     ]
    }
   ],
   "source": [
    "print(mannwhitneyu(all_transactions.query('group == \"test\" &  region == \"Europe\"').revenue, \n",
    "             all_transactions.query('group == \"control_1\" & region == \"Europe\"').revenue))\n",
    "print(mannwhitneyu(all_transactions.query('group == \"test\" &  region == \"Europe\"').revenue, \n",
    "             all_transactions.query('group == \"control_2\" & region == \"Europe\"').revenue))"
   ]
  },
  {
   "cell_type": "code",
   "execution_count": 157,
   "metadata": {
    "scrolled": true
   },
   "outputs": [
    {
     "name": "stdout",
     "output_type": "stream",
     "text": [
      "MannwhitneyuResult(statistic=118.5, pvalue=7.544922007046259e-05)\n",
      "MannwhitneyuResult(statistic=83.0, pvalue=1.2189922675104164e-06)\n"
     ]
    }
   ],
   "source": [
    "print(mannwhitneyu(all_transactions.query('group == \"test\" &  region == \"North America\"').revenue, \n",
    "             all_transactions.query('group == \"control_1\" & region == \"North America\"').revenue))\n",
    "print(mannwhitneyu(all_transactions.query('group == \"test\" &  region == \"North America\"').revenue, \n",
    "             all_transactions.query('group == \"control_2\" & region == \"North America\"').revenue))"
   ]
  },
  {
   "cell_type": "code",
   "execution_count": null,
   "metadata": {},
   "outputs": [],
   "source": [
    "# как видно из тестов изменения имеют стат значимость для обеих групп"
   ]
  },
  {
   "cell_type": "code",
   "execution_count": null,
   "metadata": {},
   "outputs": [],
   "source": [
    "# проверим влияние такого факора как возраст"
   ]
  },
  {
   "cell_type": "code",
   "execution_count": 158,
   "metadata": {},
   "outputs": [
    {
     "data": {
      "text/plain": [
       "0.25    24.0\n",
       "0.50    29.0\n",
       "0.75    36.5\n",
       "Name: age, dtype: float64"
      ]
     },
     "execution_count": 158,
     "metadata": {},
     "output_type": "execute_result"
    }
   ],
   "source": [
    "all_transactions.age.quantile([0.25, 0.5, 0.75])"
   ]
  },
  {
   "cell_type": "code",
   "execution_count": null,
   "metadata": {},
   "outputs": [],
   "source": [
    "#  разделим пользователей на возростные группы"
   ]
  },
  {
   "cell_type": "code",
   "execution_count": 159,
   "metadata": {},
   "outputs": [],
   "source": [
    "condlist_age = [\n",
    "                (all_transactions.age < 25),\n",
    "                (all_transactions.age >= 25) & (all_transactions.age < 35),\n",
    "                (all_transactions.age >=35) & (all_transactions.age < 50),\n",
    "                (all_transactions.age >=50)\n",
    "]"
   ]
  },
  {
   "cell_type": "code",
   "execution_count": 160,
   "metadata": {},
   "outputs": [],
   "source": [
    "choicelist_age = ['1', '2', '3', '4']"
   ]
  },
  {
   "cell_type": "code",
   "execution_count": 161,
   "metadata": {},
   "outputs": [],
   "source": [
    "all_transactions['age_group'] = np.select(condlist_age, choicelist_age)"
   ]
  },
  {
   "cell_type": "code",
   "execution_count": 162,
   "metadata": {},
   "outputs": [
    {
     "data": {
      "text/html": [
       "<div>\n",
       "<style scoped>\n",
       "    .dataframe tbody tr th:only-of-type {\n",
       "        vertical-align: middle;\n",
       "    }\n",
       "\n",
       "    .dataframe tbody tr th {\n",
       "        vertical-align: top;\n",
       "    }\n",
       "\n",
       "    .dataframe thead th {\n",
       "        text-align: right;\n",
       "    }\n",
       "</style>\n",
       "<table border=\"1\" class=\"dataframe\">\n",
       "  <thead>\n",
       "    <tr style=\"text-align: right;\">\n",
       "      <th></th>\n",
       "      <th></th>\n",
       "      <th>count</th>\n",
       "      <th>mean</th>\n",
       "      <th>std</th>\n",
       "      <th>min</th>\n",
       "      <th>25%</th>\n",
       "      <th>50%</th>\n",
       "      <th>75%</th>\n",
       "      <th>max</th>\n",
       "    </tr>\n",
       "    <tr>\n",
       "      <th>age_group</th>\n",
       "      <th>group</th>\n",
       "      <th></th>\n",
       "      <th></th>\n",
       "      <th></th>\n",
       "      <th></th>\n",
       "      <th></th>\n",
       "      <th></th>\n",
       "      <th></th>\n",
       "      <th></th>\n",
       "    </tr>\n",
       "  </thead>\n",
       "  <tbody>\n",
       "    <tr>\n",
       "      <th rowspan=\"3\" valign=\"top\">1</th>\n",
       "      <th>control_1</th>\n",
       "      <td>28.0</td>\n",
       "      <td>11263.107143</td>\n",
       "      <td>16796.084348</td>\n",
       "      <td>1898.0</td>\n",
       "      <td>4306.25</td>\n",
       "      <td>6292.0</td>\n",
       "      <td>6844.50</td>\n",
       "      <td>63037.0</td>\n",
       "    </tr>\n",
       "    <tr>\n",
       "      <th>control_2</th>\n",
       "      <td>30.0</td>\n",
       "      <td>6364.800000</td>\n",
       "      <td>1793.160423</td>\n",
       "      <td>3900.0</td>\n",
       "      <td>4865.25</td>\n",
       "      <td>6292.0</td>\n",
       "      <td>6454.50</td>\n",
       "      <td>10608.0</td>\n",
       "    </tr>\n",
       "    <tr>\n",
       "      <th>test</th>\n",
       "      <td>18.0</td>\n",
       "      <td>8928.833333</td>\n",
       "      <td>4592.425276</td>\n",
       "      <td>3614.0</td>\n",
       "      <td>6292.00</td>\n",
       "      <td>8632.0</td>\n",
       "      <td>9187.75</td>\n",
       "      <td>24531.0</td>\n",
       "    </tr>\n",
       "    <tr>\n",
       "      <th rowspan=\"3\" valign=\"top\">2</th>\n",
       "      <th>control_1</th>\n",
       "      <td>42.0</td>\n",
       "      <td>5761.476190</td>\n",
       "      <td>2091.088295</td>\n",
       "      <td>1898.0</td>\n",
       "      <td>4712.50</td>\n",
       "      <td>6292.0</td>\n",
       "      <td>6292.00</td>\n",
       "      <td>12844.0</td>\n",
       "    </tr>\n",
       "    <tr>\n",
       "      <th>control_2</th>\n",
       "      <td>46.0</td>\n",
       "      <td>8378.500000</td>\n",
       "      <td>14104.042307</td>\n",
       "      <td>1482.0</td>\n",
       "      <td>4537.00</td>\n",
       "      <td>6292.0</td>\n",
       "      <td>6292.00</td>\n",
       "      <td>81796.0</td>\n",
       "    </tr>\n",
       "    <tr>\n",
       "      <th>test</th>\n",
       "      <td>23.0</td>\n",
       "      <td>13711.043478</td>\n",
       "      <td>22030.493094</td>\n",
       "      <td>4537.0</td>\n",
       "      <td>6838.00</td>\n",
       "      <td>8268.0</td>\n",
       "      <td>12597.00</td>\n",
       "      <td>113477.0</td>\n",
       "    </tr>\n",
       "    <tr>\n",
       "      <th rowspan=\"3\" valign=\"top\">3</th>\n",
       "      <th>control_1</th>\n",
       "      <td>21.0</td>\n",
       "      <td>5693.380952</td>\n",
       "      <td>1301.769890</td>\n",
       "      <td>1508.0</td>\n",
       "      <td>5512.00</td>\n",
       "      <td>6292.0</td>\n",
       "      <td>6292.00</td>\n",
       "      <td>6448.0</td>\n",
       "    </tr>\n",
       "    <tr>\n",
       "      <th>control_2</th>\n",
       "      <td>22.0</td>\n",
       "      <td>6510.045455</td>\n",
       "      <td>2011.464060</td>\n",
       "      <td>4056.0</td>\n",
       "      <td>6292.00</td>\n",
       "      <td>6292.0</td>\n",
       "      <td>6448.00</td>\n",
       "      <td>12688.0</td>\n",
       "    </tr>\n",
       "    <tr>\n",
       "      <th>test</th>\n",
       "      <td>23.0</td>\n",
       "      <td>12527.478261</td>\n",
       "      <td>22244.465865</td>\n",
       "      <td>1898.0</td>\n",
       "      <td>6285.50</td>\n",
       "      <td>7774.0</td>\n",
       "      <td>11856.00</td>\n",
       "      <td>113477.0</td>\n",
       "    </tr>\n",
       "    <tr>\n",
       "      <th rowspan=\"3\" valign=\"top\">4</th>\n",
       "      <th>control_1</th>\n",
       "      <td>7.0</td>\n",
       "      <td>5616.000000</td>\n",
       "      <td>1420.890683</td>\n",
       "      <td>3042.0</td>\n",
       "      <td>5031.00</td>\n",
       "      <td>6292.0</td>\n",
       "      <td>6292.00</td>\n",
       "      <td>7332.0</td>\n",
       "    </tr>\n",
       "    <tr>\n",
       "      <th>control_2</th>\n",
       "      <td>4.0</td>\n",
       "      <td>6308.250000</td>\n",
       "      <td>32.500000</td>\n",
       "      <td>6292.0</td>\n",
       "      <td>6292.00</td>\n",
       "      <td>6292.0</td>\n",
       "      <td>6308.25</td>\n",
       "      <td>6357.0</td>\n",
       "    </tr>\n",
       "    <tr>\n",
       "      <th>test</th>\n",
       "      <td>3.0</td>\n",
       "      <td>15500.333333</td>\n",
       "      <td>5028.720845</td>\n",
       "      <td>12597.0</td>\n",
       "      <td>12597.00</td>\n",
       "      <td>12597.0</td>\n",
       "      <td>16952.00</td>\n",
       "      <td>21307.0</td>\n",
       "    </tr>\n",
       "  </tbody>\n",
       "</table>\n",
       "</div>"
      ],
      "text/plain": [
       "                     count          mean           std      min       25%  \\\n",
       "age_group group                                                             \n",
       "1         control_1   28.0  11263.107143  16796.084348   1898.0   4306.25   \n",
       "          control_2   30.0   6364.800000   1793.160423   3900.0   4865.25   \n",
       "          test        18.0   8928.833333   4592.425276   3614.0   6292.00   \n",
       "2         control_1   42.0   5761.476190   2091.088295   1898.0   4712.50   \n",
       "          control_2   46.0   8378.500000  14104.042307   1482.0   4537.00   \n",
       "          test        23.0  13711.043478  22030.493094   4537.0   6838.00   \n",
       "3         control_1   21.0   5693.380952   1301.769890   1508.0   5512.00   \n",
       "          control_2   22.0   6510.045455   2011.464060   4056.0   6292.00   \n",
       "          test        23.0  12527.478261  22244.465865   1898.0   6285.50   \n",
       "4         control_1    7.0   5616.000000   1420.890683   3042.0   5031.00   \n",
       "          control_2    4.0   6308.250000     32.500000   6292.0   6292.00   \n",
       "          test         3.0  15500.333333   5028.720845  12597.0  12597.00   \n",
       "\n",
       "                         50%       75%       max  \n",
       "age_group group                                   \n",
       "1         control_1   6292.0   6844.50   63037.0  \n",
       "          control_2   6292.0   6454.50   10608.0  \n",
       "          test        8632.0   9187.75   24531.0  \n",
       "2         control_1   6292.0   6292.00   12844.0  \n",
       "          control_2   6292.0   6292.00   81796.0  \n",
       "          test        8268.0  12597.00  113477.0  \n",
       "3         control_1   6292.0   6292.00    6448.0  \n",
       "          control_2   6292.0   6448.00   12688.0  \n",
       "          test        7774.0  11856.00  113477.0  \n",
       "4         control_1   6292.0   6292.00    7332.0  \n",
       "          control_2   6292.0   6308.25    6357.0  \n",
       "          test       12597.0  16952.00   21307.0  "
      ]
     },
     "execution_count": 162,
     "metadata": {},
     "output_type": "execute_result"
    }
   ],
   "source": [
    "all_transactions.groupby(['age_group', 'group']).revenue.describe()"
   ]
  },
  {
   "cell_type": "code",
   "execution_count": null,
   "metadata": {},
   "outputs": [],
   "source": [
    "# по точечным оценкам видно что в первой группе наше среднее значение в тестовой группе ниже чем в контроле\n",
    "# но медианное значение выше\n",
    "# для остальных групп как среднее так и медиана существенно отличаются"
   ]
  },
  {
   "cell_type": "code",
   "execution_count": 163,
   "metadata": {},
   "outputs": [
    {
     "data": {
      "text/plain": [
       "<AxesSubplot:xlabel='age_group', ylabel='revenue'>"
      ]
     },
     "execution_count": 163,
     "metadata": {},
     "output_type": "execute_result"
    },
    {
     "data": {
      "image/png": "[encoded data removed]",
      "text/plain": [
       "<Figure size 864x576 with 1 Axes>"
      ]
     },
     "metadata": {},
     "output_type": "display_data"
    }
   ],
   "source": [
    "# простроим график враимосвязи факторов\n",
    "plt.figure(figsize=(12,8))\n",
    "sns.pointplot(x='age_group', y='revenue', data=all_transactions, hue='group', capsize= .1)"
   ]
  },
  {
   "cell_type": "code",
   "execution_count": null,
   "metadata": {},
   "outputs": [],
   "source": [
    "#  как видно из графика хотя средние величины в тестовой группе и выше\n",
    "# но доверительные интервалы достаочно широкие и в некоторых случаях пересекаются\n",
    "# поэтому проверим стат значимость этих изменений"
   ]
  },
  {
   "cell_type": "code",
   "execution_count": 164,
   "metadata": {},
   "outputs": [
    {
     "name": "stdout",
     "output_type": "stream",
     "text": [
      "MannwhitneyuResult(statistic=156.0, pvalue=0.015558004784218817)\n",
      "MannwhitneyuResult(statistic=163.5, pvalue=0.01157082354410298)\n"
     ]
    }
   ],
   "source": [
    "print(mannwhitneyu(all_transactions.query('group == \"test\" &  age_group == \"1\"').revenue, \n",
    "             all_transactions.query('group == \"control_1\" & age_group == \"1\"').revenue))\n",
    "print(mannwhitneyu(all_transactions.query('group == \"test\" &  age_group == \"1\"').revenue, \n",
    "             all_transactions.query('group == \"control_2\" & age_group == \"1\"').revenue))"
   ]
  },
  {
   "cell_type": "code",
   "execution_count": 165,
   "metadata": {},
   "outputs": [
    {
     "name": "stdout",
     "output_type": "stream",
     "text": [
      "MannwhitneyuResult(statistic=184.5, pvalue=1.7815818754640425e-05)\n",
      "MannwhitneyuResult(statistic=211.5, pvalue=2.315689623203144e-05)\n"
     ]
    }
   ],
   "source": [
    "print(mannwhitneyu(all_transactions.query('group == \"test\" &  age_group == \"2\"').revenue, \n",
    "             all_transactions.query('group == \"control_1\" & age_group == \"2\"').revenue))\n",
    "print(mannwhitneyu(all_transactions.query('group == \"test\" &  age_group == \"2\"').revenue, \n",
    "             all_transactions.query('group == \"control_2\" & age_group == \"2\"').revenue))"
   ]
  },
  {
   "cell_type": "code",
   "execution_count": 166,
   "metadata": {},
   "outputs": [
    {
     "name": "stdout",
     "output_type": "stream",
     "text": [
      "MannwhitneyuResult(statistic=141.5, pvalue=0.00869938699701136)\n",
      "MannwhitneyuResult(statistic=187.0, pvalue=0.06596215064248918)\n"
     ]
    }
   ],
   "source": [
    "print(mannwhitneyu(all_transactions.query('group == \"test\" &  age_group == \"3\"').revenue, \n",
    "             all_transactions.query('group == \"control_1\" & age_group == \"3\"').revenue))\n",
    "print(mannwhitneyu(all_transactions.query('group == \"test\" &  age_group == \"3\"').revenue, \n",
    "             all_transactions.query('group == \"control_2\" & age_group == \"3\"').revenue))"
   ]
  },
  {
   "cell_type": "code",
   "execution_count": 167,
   "metadata": {},
   "outputs": [
    {
     "name": "stdout",
     "output_type": "stream",
     "text": [
      "MannwhitneyuResult(statistic=0.0, pvalue=0.0103187791219861)\n",
      "MannwhitneyuResult(statistic=0.0, pvalue=0.020793170616093072)\n"
     ]
    }
   ],
   "source": [
    "print(mannwhitneyu(all_transactions.query('group == \"test\" &  age_group == \"4\"').revenue, \n",
    "             all_transactions.query('group == \"control_1\" & age_group == \"4\"').revenue))\n",
    "print(mannwhitneyu(all_transactions.query('group == \"test\" &  age_group == \"4\"').revenue, \n",
    "             all_transactions.query('group == \"control_2\" & age_group == \"4\"').revenue))"
   ]
  },
  {
   "cell_type": "code",
   "execution_count": null,
   "metadata": {},
   "outputs": [],
   "source": [
    "# как видно из тестов для 1, 2 и 4 возрастных групп подстверждается статистическая значимость изменений в тесте\n",
    "# для 3 группы стат значимость в сравнении со 2 контрольной группой не подстверждается\n",
    "# таким образом, если мы будем применять результаты теста на всю нашу аудитори\n",
    "# мы должны особенно внимательно следить за группой молодежи до 25 лет, так как среднее значение для нее снизилось"
   ]
  },
  {
   "cell_type": "code",
   "execution_count": null,
   "metadata": {},
   "outputs": [],
   "source": []
  },
  {
   "cell_type": "code",
   "execution_count": null,
   "metadata": {},
   "outputs": [],
   "source": [
    "# дополнительно, для оценки наших рисков, проведем анализ retention, чтобы оценить отток пользователей в тесте и контроле"
   ]
  },
  {
   "cell_type": "code",
   "execution_count": null,
   "metadata": {},
   "outputs": [],
   "source": [
    "# определим функцию, которая будет считать retention на основании даты регистрации и информации о днях посещения"
   ]
  },
  {
   "cell_type": "code",
   "execution_count": 170,
   "metadata": {},
   "outputs": [],
   "source": [
    "def retetion_table(users_df, transactions_df):\n",
    "    activity = users_df[['uid','visit_days']]\\\n",
    "                        .merge(transactions_df.drop_duplicates(subset=['uid'])[['uid', 'joined_at']]\n",
    "                               , how='left', on='uid')\\\n",
    "                        .dropna(subset=['visit_days', 'joined_at'])\n",
    "    activity['joined_at'] = pd.to_datetime(activity.joined_at.dt.strftime('%Y-%m-%d'))\n",
    "    activity['visit_days'] = activity.visit_days.str.split(',')\n",
    "    transform = pd.DataFrame(columns=['uid','joined_at','visit_day'])\n",
    "    for row in activity.itertuples():\n",
    "        days = row.visit_days\n",
    "        for num_day in days:\n",
    "            visit_day = row.joined_at + timedelta(days=int(num_day))\n",
    "            new_row = pd.DataFrame({'uid':row.uid, 'joined_at':row.joined_at, 'visit_day':visit_day}, index=[1])\n",
    "            transform = pd.concat([transform, new_row])\n",
    "    transform['visit_month'] = pd.to_datetime(transform.visit_day.dt.strftime('%Y-%m'))\n",
    "    transform['joined_at'] = pd.to_datetime(transform.joined_at.dt.strftime('%Y-%m'))\n",
    "    transform['month_retention'] = transform.visit_month.dt.month - transform.joined_at.dt.month\n",
    "    table_retention = (transform.groupby(['joined_at', 'month_retention'], as_index = False)\n",
    "                   .agg({'uid': 'nunique'})\n",
    "                   .pivot(index='joined_at', columns='month_retention', values='uid'))\n",
    "    table_retention = table_retention.div(table_retention.loc[:,0], axis=0)\n",
    "    ur_style = (table_retention\n",
    "            .style\n",
    "            .set_caption('User retention by cohort')\n",
    "            .highlight_null('white')\n",
    "            .format(\"{:.2%}\", na_rep=\"\"))\n",
    "    return ur_style"
   ]
  },
  {
   "cell_type": "code",
   "execution_count": 171,
   "metadata": {},
   "outputs": [
    {
     "data": {
      "text/html": [
       "<style  type=\"text/css\" >\n",
       "#T_1204a868_b5cd_11ec_9c38_1856807aed14row0_col1,#T_1204a868_b5cd_11ec_9c38_1856807aed14row0_col2,#T_1204a868_b5cd_11ec_9c38_1856807aed14row1_col1,#T_1204a868_b5cd_11ec_9c38_1856807aed14row1_col2,#T_1204a868_b5cd_11ec_9c38_1856807aed14row2_col1,#T_1204a868_b5cd_11ec_9c38_1856807aed14row2_col2,#T_1204a868_b5cd_11ec_9c38_1856807aed14row3_col1,#T_1204a868_b5cd_11ec_9c38_1856807aed14row3_col2,#T_1204a868_b5cd_11ec_9c38_1856807aed14row4_col1,#T_1204a868_b5cd_11ec_9c38_1856807aed14row4_col2,#T_1204a868_b5cd_11ec_9c38_1856807aed14row5_col1,#T_1204a868_b5cd_11ec_9c38_1856807aed14row5_col2,#T_1204a868_b5cd_11ec_9c38_1856807aed14row6_col1,#T_1204a868_b5cd_11ec_9c38_1856807aed14row6_col2,#T_1204a868_b5cd_11ec_9c38_1856807aed14row7_col1,#T_1204a868_b5cd_11ec_9c38_1856807aed14row7_col2{\n",
       "            background-color:  white;\n",
       "        }</style><table id=\"T_1204a868_b5cd_11ec_9c38_1856807aed14\" ><caption>User retention by cohort</caption><thead>    <tr>        <th class=\"index_name level0\" >month_retention</th>        <th class=\"col_heading level0 col0\" >0</th>        <th class=\"col_heading level0 col1\" >1</th>        <th class=\"col_heading level0 col2\" >2</th>    </tr>    <tr>        <th class=\"index_name level0\" >joined_at</th>        <th class=\"blank\" ></th>        <th class=\"blank\" ></th>        <th class=\"blank\" ></th>    </tr></thead><tbody>\n",
       "                <tr>\n",
       "                        <th id=\"T_1204a868_b5cd_11ec_9c38_1856807aed14level0_row0\" class=\"row_heading level0 row0\" >2017-01-01 00:00:00</th>\n",
       "                        <td id=\"T_1204a868_b5cd_11ec_9c38_1856807aed14row0_col0\" class=\"data row0 col0\" >100.00%</td>\n",
       "                        <td id=\"T_1204a868_b5cd_11ec_9c38_1856807aed14row0_col1\" class=\"data row0 col1\" ></td>\n",
       "                        <td id=\"T_1204a868_b5cd_11ec_9c38_1856807aed14row0_col2\" class=\"data row0 col2\" ></td>\n",
       "            </tr>\n",
       "            <tr>\n",
       "                        <th id=\"T_1204a868_b5cd_11ec_9c38_1856807aed14level0_row1\" class=\"row_heading level0 row1\" >2017-02-01 00:00:00</th>\n",
       "                        <td id=\"T_1204a868_b5cd_11ec_9c38_1856807aed14row1_col0\" class=\"data row1 col0\" >100.00%</td>\n",
       "                        <td id=\"T_1204a868_b5cd_11ec_9c38_1856807aed14row1_col1\" class=\"data row1 col1\" ></td>\n",
       "                        <td id=\"T_1204a868_b5cd_11ec_9c38_1856807aed14row1_col2\" class=\"data row1 col2\" ></td>\n",
       "            </tr>\n",
       "            <tr>\n",
       "                        <th id=\"T_1204a868_b5cd_11ec_9c38_1856807aed14level0_row2\" class=\"row_heading level0 row2\" >2017-03-01 00:00:00</th>\n",
       "                        <td id=\"T_1204a868_b5cd_11ec_9c38_1856807aed14row2_col0\" class=\"data row2 col0\" >100.00%</td>\n",
       "                        <td id=\"T_1204a868_b5cd_11ec_9c38_1856807aed14row2_col1\" class=\"data row2 col1\" ></td>\n",
       "                        <td id=\"T_1204a868_b5cd_11ec_9c38_1856807aed14row2_col2\" class=\"data row2 col2\" ></td>\n",
       "            </tr>\n",
       "            <tr>\n",
       "                        <th id=\"T_1204a868_b5cd_11ec_9c38_1856807aed14level0_row3\" class=\"row_heading level0 row3\" >2017-04-01 00:00:00</th>\n",
       "                        <td id=\"T_1204a868_b5cd_11ec_9c38_1856807aed14row3_col0\" class=\"data row3 col0\" >100.00%</td>\n",
       "                        <td id=\"T_1204a868_b5cd_11ec_9c38_1856807aed14row3_col1\" class=\"data row3 col1\" ></td>\n",
       "                        <td id=\"T_1204a868_b5cd_11ec_9c38_1856807aed14row3_col2\" class=\"data row3 col2\" ></td>\n",
       "            </tr>\n",
       "            <tr>\n",
       "                        <th id=\"T_1204a868_b5cd_11ec_9c38_1856807aed14level0_row4\" class=\"row_heading level0 row4\" >2017-05-01 00:00:00</th>\n",
       "                        <td id=\"T_1204a868_b5cd_11ec_9c38_1856807aed14row4_col0\" class=\"data row4 col0\" >100.00%</td>\n",
       "                        <td id=\"T_1204a868_b5cd_11ec_9c38_1856807aed14row4_col1\" class=\"data row4 col1\" ></td>\n",
       "                        <td id=\"T_1204a868_b5cd_11ec_9c38_1856807aed14row4_col2\" class=\"data row4 col2\" ></td>\n",
       "            </tr>\n",
       "            <tr>\n",
       "                        <th id=\"T_1204a868_b5cd_11ec_9c38_1856807aed14level0_row5\" class=\"row_heading level0 row5\" >2017-06-01 00:00:00</th>\n",
       "                        <td id=\"T_1204a868_b5cd_11ec_9c38_1856807aed14row5_col0\" class=\"data row5 col0\" >100.00%</td>\n",
       "                        <td id=\"T_1204a868_b5cd_11ec_9c38_1856807aed14row5_col1\" class=\"data row5 col1\" ></td>\n",
       "                        <td id=\"T_1204a868_b5cd_11ec_9c38_1856807aed14row5_col2\" class=\"data row5 col2\" ></td>\n",
       "            </tr>\n",
       "            <tr>\n",
       "                        <th id=\"T_1204a868_b5cd_11ec_9c38_1856807aed14level0_row6\" class=\"row_heading level0 row6\" >2017-07-01 00:00:00</th>\n",
       "                        <td id=\"T_1204a868_b5cd_11ec_9c38_1856807aed14row6_col0\" class=\"data row6 col0\" >100.00%</td>\n",
       "                        <td id=\"T_1204a868_b5cd_11ec_9c38_1856807aed14row6_col1\" class=\"data row6 col1\" ></td>\n",
       "                        <td id=\"T_1204a868_b5cd_11ec_9c38_1856807aed14row6_col2\" class=\"data row6 col2\" ></td>\n",
       "            </tr>\n",
       "            <tr>\n",
       "                        <th id=\"T_1204a868_b5cd_11ec_9c38_1856807aed14level0_row7\" class=\"row_heading level0 row7\" >2017-08-01 00:00:00</th>\n",
       "                        <td id=\"T_1204a868_b5cd_11ec_9c38_1856807aed14row7_col0\" class=\"data row7 col0\" >100.00%</td>\n",
       "                        <td id=\"T_1204a868_b5cd_11ec_9c38_1856807aed14row7_col1\" class=\"data row7 col1\" ></td>\n",
       "                        <td id=\"T_1204a868_b5cd_11ec_9c38_1856807aed14row7_col2\" class=\"data row7 col2\" ></td>\n",
       "            </tr>\n",
       "            <tr>\n",
       "                        <th id=\"T_1204a868_b5cd_11ec_9c38_1856807aed14level0_row8\" class=\"row_heading level0 row8\" >2017-10-01 00:00:00</th>\n",
       "                        <td id=\"T_1204a868_b5cd_11ec_9c38_1856807aed14row8_col0\" class=\"data row8 col0\" >100.00%</td>\n",
       "                        <td id=\"T_1204a868_b5cd_11ec_9c38_1856807aed14row8_col1\" class=\"data row8 col1\" >73.68%</td>\n",
       "                        <td id=\"T_1204a868_b5cd_11ec_9c38_1856807aed14row8_col2\" class=\"data row8 col2\" >2.63%</td>\n",
       "            </tr>\n",
       "    </tbody></table>"
      ],
      "text/plain": [
       "<pandas.io.formats.style.Styler at 0x1f1fa9af280>"
      ]
     },
     "execution_count": 171,
     "metadata": {},
     "output_type": "execute_result"
    }
   ],
   "source": [
    "retetion_table(users_test, transactions_test)"
   ]
  },
  {
   "cell_type": "code",
   "execution_count": 172,
   "metadata": {},
   "outputs": [
    {
     "data": {
      "text/html": [
       "<style  type=\"text/css\" >\n",
       "#T_161bc2a6_b5cd_11ec_83de_1856807aed14row0_col1,#T_161bc2a6_b5cd_11ec_83de_1856807aed14row0_col2,#T_161bc2a6_b5cd_11ec_83de_1856807aed14row1_col1,#T_161bc2a6_b5cd_11ec_83de_1856807aed14row1_col2,#T_161bc2a6_b5cd_11ec_83de_1856807aed14row2_col1,#T_161bc2a6_b5cd_11ec_83de_1856807aed14row2_col2,#T_161bc2a6_b5cd_11ec_83de_1856807aed14row3_col1,#T_161bc2a6_b5cd_11ec_83de_1856807aed14row3_col2,#T_161bc2a6_b5cd_11ec_83de_1856807aed14row4_col1,#T_161bc2a6_b5cd_11ec_83de_1856807aed14row4_col2,#T_161bc2a6_b5cd_11ec_83de_1856807aed14row5_col1,#T_161bc2a6_b5cd_11ec_83de_1856807aed14row5_col2,#T_161bc2a6_b5cd_11ec_83de_1856807aed14row6_col1,#T_161bc2a6_b5cd_11ec_83de_1856807aed14row6_col2,#T_161bc2a6_b5cd_11ec_83de_1856807aed14row7_col1,#T_161bc2a6_b5cd_11ec_83de_1856807aed14row7_col2,#T_161bc2a6_b5cd_11ec_83de_1856807aed14row8_col1,#T_161bc2a6_b5cd_11ec_83de_1856807aed14row8_col2{\n",
       "            background-color:  white;\n",
       "        }</style><table id=\"T_161bc2a6_b5cd_11ec_83de_1856807aed14\" ><caption>User retention by cohort</caption><thead>    <tr>        <th class=\"index_name level0\" >month_retention</th>        <th class=\"col_heading level0 col0\" >0</th>        <th class=\"col_heading level0 col1\" >1</th>        <th class=\"col_heading level0 col2\" >2</th>    </tr>    <tr>        <th class=\"index_name level0\" >joined_at</th>        <th class=\"blank\" ></th>        <th class=\"blank\" ></th>        <th class=\"blank\" ></th>    </tr></thead><tbody>\n",
       "                <tr>\n",
       "                        <th id=\"T_161bc2a6_b5cd_11ec_83de_1856807aed14level0_row0\" class=\"row_heading level0 row0\" >2017-01-01 00:00:00</th>\n",
       "                        <td id=\"T_161bc2a6_b5cd_11ec_83de_1856807aed14row0_col0\" class=\"data row0 col0\" >100.00%</td>\n",
       "                        <td id=\"T_161bc2a6_b5cd_11ec_83de_1856807aed14row0_col1\" class=\"data row0 col1\" ></td>\n",
       "                        <td id=\"T_161bc2a6_b5cd_11ec_83de_1856807aed14row0_col2\" class=\"data row0 col2\" ></td>\n",
       "            </tr>\n",
       "            <tr>\n",
       "                        <th id=\"T_161bc2a6_b5cd_11ec_83de_1856807aed14level0_row1\" class=\"row_heading level0 row1\" >2017-02-01 00:00:00</th>\n",
       "                        <td id=\"T_161bc2a6_b5cd_11ec_83de_1856807aed14row1_col0\" class=\"data row1 col0\" >100.00%</td>\n",
       "                        <td id=\"T_161bc2a6_b5cd_11ec_83de_1856807aed14row1_col1\" class=\"data row1 col1\" ></td>\n",
       "                        <td id=\"T_161bc2a6_b5cd_11ec_83de_1856807aed14row1_col2\" class=\"data row1 col2\" ></td>\n",
       "            </tr>\n",
       "            <tr>\n",
       "                        <th id=\"T_161bc2a6_b5cd_11ec_83de_1856807aed14level0_row2\" class=\"row_heading level0 row2\" >2017-03-01 00:00:00</th>\n",
       "                        <td id=\"T_161bc2a6_b5cd_11ec_83de_1856807aed14row2_col0\" class=\"data row2 col0\" >100.00%</td>\n",
       "                        <td id=\"T_161bc2a6_b5cd_11ec_83de_1856807aed14row2_col1\" class=\"data row2 col1\" ></td>\n",
       "                        <td id=\"T_161bc2a6_b5cd_11ec_83de_1856807aed14row2_col2\" class=\"data row2 col2\" ></td>\n",
       "            </tr>\n",
       "            <tr>\n",
       "                        <th id=\"T_161bc2a6_b5cd_11ec_83de_1856807aed14level0_row3\" class=\"row_heading level0 row3\" >2017-04-01 00:00:00</th>\n",
       "                        <td id=\"T_161bc2a6_b5cd_11ec_83de_1856807aed14row3_col0\" class=\"data row3 col0\" >100.00%</td>\n",
       "                        <td id=\"T_161bc2a6_b5cd_11ec_83de_1856807aed14row3_col1\" class=\"data row3 col1\" ></td>\n",
       "                        <td id=\"T_161bc2a6_b5cd_11ec_83de_1856807aed14row3_col2\" class=\"data row3 col2\" ></td>\n",
       "            </tr>\n",
       "            <tr>\n",
       "                        <th id=\"T_161bc2a6_b5cd_11ec_83de_1856807aed14level0_row4\" class=\"row_heading level0 row4\" >2017-05-01 00:00:00</th>\n",
       "                        <td id=\"T_161bc2a6_b5cd_11ec_83de_1856807aed14row4_col0\" class=\"data row4 col0\" >100.00%</td>\n",
       "                        <td id=\"T_161bc2a6_b5cd_11ec_83de_1856807aed14row4_col1\" class=\"data row4 col1\" ></td>\n",
       "                        <td id=\"T_161bc2a6_b5cd_11ec_83de_1856807aed14row4_col2\" class=\"data row4 col2\" ></td>\n",
       "            </tr>\n",
       "            <tr>\n",
       "                        <th id=\"T_161bc2a6_b5cd_11ec_83de_1856807aed14level0_row5\" class=\"row_heading level0 row5\" >2017-06-01 00:00:00</th>\n",
       "                        <td id=\"T_161bc2a6_b5cd_11ec_83de_1856807aed14row5_col0\" class=\"data row5 col0\" >100.00%</td>\n",
       "                        <td id=\"T_161bc2a6_b5cd_11ec_83de_1856807aed14row5_col1\" class=\"data row5 col1\" ></td>\n",
       "                        <td id=\"T_161bc2a6_b5cd_11ec_83de_1856807aed14row5_col2\" class=\"data row5 col2\" ></td>\n",
       "            </tr>\n",
       "            <tr>\n",
       "                        <th id=\"T_161bc2a6_b5cd_11ec_83de_1856807aed14level0_row6\" class=\"row_heading level0 row6\" >2017-07-01 00:00:00</th>\n",
       "                        <td id=\"T_161bc2a6_b5cd_11ec_83de_1856807aed14row6_col0\" class=\"data row6 col0\" >100.00%</td>\n",
       "                        <td id=\"T_161bc2a6_b5cd_11ec_83de_1856807aed14row6_col1\" class=\"data row6 col1\" ></td>\n",
       "                        <td id=\"T_161bc2a6_b5cd_11ec_83de_1856807aed14row6_col2\" class=\"data row6 col2\" ></td>\n",
       "            </tr>\n",
       "            <tr>\n",
       "                        <th id=\"T_161bc2a6_b5cd_11ec_83de_1856807aed14level0_row7\" class=\"row_heading level0 row7\" >2017-08-01 00:00:00</th>\n",
       "                        <td id=\"T_161bc2a6_b5cd_11ec_83de_1856807aed14row7_col0\" class=\"data row7 col0\" >100.00%</td>\n",
       "                        <td id=\"T_161bc2a6_b5cd_11ec_83de_1856807aed14row7_col1\" class=\"data row7 col1\" ></td>\n",
       "                        <td id=\"T_161bc2a6_b5cd_11ec_83de_1856807aed14row7_col2\" class=\"data row7 col2\" ></td>\n",
       "            </tr>\n",
       "            <tr>\n",
       "                        <th id=\"T_161bc2a6_b5cd_11ec_83de_1856807aed14level0_row8\" class=\"row_heading level0 row8\" >2017-09-01 00:00:00</th>\n",
       "                        <td id=\"T_161bc2a6_b5cd_11ec_83de_1856807aed14row8_col0\" class=\"data row8 col0\" >100.00%</td>\n",
       "                        <td id=\"T_161bc2a6_b5cd_11ec_83de_1856807aed14row8_col1\" class=\"data row8 col1\" ></td>\n",
       "                        <td id=\"T_161bc2a6_b5cd_11ec_83de_1856807aed14row8_col2\" class=\"data row8 col2\" ></td>\n",
       "            </tr>\n",
       "            <tr>\n",
       "                        <th id=\"T_161bc2a6_b5cd_11ec_83de_1856807aed14level0_row9\" class=\"row_heading level0 row9\" >2017-10-01 00:00:00</th>\n",
       "                        <td id=\"T_161bc2a6_b5cd_11ec_83de_1856807aed14row9_col0\" class=\"data row9 col0\" >100.00%</td>\n",
       "                        <td id=\"T_161bc2a6_b5cd_11ec_83de_1856807aed14row9_col1\" class=\"data row9 col1\" >72.12%</td>\n",
       "                        <td id=\"T_161bc2a6_b5cd_11ec_83de_1856807aed14row9_col2\" class=\"data row9 col2\" >3.85%</td>\n",
       "            </tr>\n",
       "    </tbody></table>"
      ],
      "text/plain": [
       "<pandas.io.formats.style.Styler at 0x1f1fd02fa30>"
      ]
     },
     "execution_count": 172,
     "metadata": {},
     "output_type": "execute_result"
    }
   ],
   "source": [
    "retetion_table(users_control_1, transactions_control_1)"
   ]
  },
  {
   "cell_type": "code",
   "execution_count": 173,
   "metadata": {},
   "outputs": [
    {
     "data": {
      "text/html": [
       "<style  type=\"text/css\" >\n",
       "#T_199c3e69_b5cd_11ec_8573_1856807aed14row0_col1,#T_199c3e69_b5cd_11ec_8573_1856807aed14row0_col2,#T_199c3e69_b5cd_11ec_8573_1856807aed14row1_col1,#T_199c3e69_b5cd_11ec_8573_1856807aed14row1_col2,#T_199c3e69_b5cd_11ec_8573_1856807aed14row2_col1,#T_199c3e69_b5cd_11ec_8573_1856807aed14row2_col2,#T_199c3e69_b5cd_11ec_8573_1856807aed14row3_col1,#T_199c3e69_b5cd_11ec_8573_1856807aed14row3_col2,#T_199c3e69_b5cd_11ec_8573_1856807aed14row4_col1,#T_199c3e69_b5cd_11ec_8573_1856807aed14row4_col2,#T_199c3e69_b5cd_11ec_8573_1856807aed14row5_col1,#T_199c3e69_b5cd_11ec_8573_1856807aed14row5_col2,#T_199c3e69_b5cd_11ec_8573_1856807aed14row6_col1,#T_199c3e69_b5cd_11ec_8573_1856807aed14row6_col2,#T_199c3e69_b5cd_11ec_8573_1856807aed14row7_col1,#T_199c3e69_b5cd_11ec_8573_1856807aed14row7_col2,#T_199c3e69_b5cd_11ec_8573_1856807aed14row8_col1,#T_199c3e69_b5cd_11ec_8573_1856807aed14row8_col2{\n",
       "            background-color:  white;\n",
       "        }</style><table id=\"T_199c3e69_b5cd_11ec_8573_1856807aed14\" ><caption>User retention by cohort</caption><thead>    <tr>        <th class=\"index_name level0\" >month_retention</th>        <th class=\"col_heading level0 col0\" >0</th>        <th class=\"col_heading level0 col1\" >1</th>        <th class=\"col_heading level0 col2\" >2</th>    </tr>    <tr>        <th class=\"index_name level0\" >joined_at</th>        <th class=\"blank\" ></th>        <th class=\"blank\" ></th>        <th class=\"blank\" ></th>    </tr></thead><tbody>\n",
       "                <tr>\n",
       "                        <th id=\"T_199c3e69_b5cd_11ec_8573_1856807aed14level0_row0\" class=\"row_heading level0 row0\" >2017-01-01 00:00:00</th>\n",
       "                        <td id=\"T_199c3e69_b5cd_11ec_8573_1856807aed14row0_col0\" class=\"data row0 col0\" >100.00%</td>\n",
       "                        <td id=\"T_199c3e69_b5cd_11ec_8573_1856807aed14row0_col1\" class=\"data row0 col1\" ></td>\n",
       "                        <td id=\"T_199c3e69_b5cd_11ec_8573_1856807aed14row0_col2\" class=\"data row0 col2\" ></td>\n",
       "            </tr>\n",
       "            <tr>\n",
       "                        <th id=\"T_199c3e69_b5cd_11ec_8573_1856807aed14level0_row1\" class=\"row_heading level0 row1\" >2017-02-01 00:00:00</th>\n",
       "                        <td id=\"T_199c3e69_b5cd_11ec_8573_1856807aed14row1_col0\" class=\"data row1 col0\" >100.00%</td>\n",
       "                        <td id=\"T_199c3e69_b5cd_11ec_8573_1856807aed14row1_col1\" class=\"data row1 col1\" ></td>\n",
       "                        <td id=\"T_199c3e69_b5cd_11ec_8573_1856807aed14row1_col2\" class=\"data row1 col2\" ></td>\n",
       "            </tr>\n",
       "            <tr>\n",
       "                        <th id=\"T_199c3e69_b5cd_11ec_8573_1856807aed14level0_row2\" class=\"row_heading level0 row2\" >2017-03-01 00:00:00</th>\n",
       "                        <td id=\"T_199c3e69_b5cd_11ec_8573_1856807aed14row2_col0\" class=\"data row2 col0\" >100.00%</td>\n",
       "                        <td id=\"T_199c3e69_b5cd_11ec_8573_1856807aed14row2_col1\" class=\"data row2 col1\" ></td>\n",
       "                        <td id=\"T_199c3e69_b5cd_11ec_8573_1856807aed14row2_col2\" class=\"data row2 col2\" ></td>\n",
       "            </tr>\n",
       "            <tr>\n",
       "                        <th id=\"T_199c3e69_b5cd_11ec_8573_1856807aed14level0_row3\" class=\"row_heading level0 row3\" >2017-04-01 00:00:00</th>\n",
       "                        <td id=\"T_199c3e69_b5cd_11ec_8573_1856807aed14row3_col0\" class=\"data row3 col0\" >100.00%</td>\n",
       "                        <td id=\"T_199c3e69_b5cd_11ec_8573_1856807aed14row3_col1\" class=\"data row3 col1\" ></td>\n",
       "                        <td id=\"T_199c3e69_b5cd_11ec_8573_1856807aed14row3_col2\" class=\"data row3 col2\" ></td>\n",
       "            </tr>\n",
       "            <tr>\n",
       "                        <th id=\"T_199c3e69_b5cd_11ec_8573_1856807aed14level0_row4\" class=\"row_heading level0 row4\" >2017-05-01 00:00:00</th>\n",
       "                        <td id=\"T_199c3e69_b5cd_11ec_8573_1856807aed14row4_col0\" class=\"data row4 col0\" >100.00%</td>\n",
       "                        <td id=\"T_199c3e69_b5cd_11ec_8573_1856807aed14row4_col1\" class=\"data row4 col1\" ></td>\n",
       "                        <td id=\"T_199c3e69_b5cd_11ec_8573_1856807aed14row4_col2\" class=\"data row4 col2\" ></td>\n",
       "            </tr>\n",
       "            <tr>\n",
       "                        <th id=\"T_199c3e69_b5cd_11ec_8573_1856807aed14level0_row5\" class=\"row_heading level0 row5\" >2017-06-01 00:00:00</th>\n",
       "                        <td id=\"T_199c3e69_b5cd_11ec_8573_1856807aed14row5_col0\" class=\"data row5 col0\" >100.00%</td>\n",
       "                        <td id=\"T_199c3e69_b5cd_11ec_8573_1856807aed14row5_col1\" class=\"data row5 col1\" ></td>\n",
       "                        <td id=\"T_199c3e69_b5cd_11ec_8573_1856807aed14row5_col2\" class=\"data row5 col2\" ></td>\n",
       "            </tr>\n",
       "            <tr>\n",
       "                        <th id=\"T_199c3e69_b5cd_11ec_8573_1856807aed14level0_row6\" class=\"row_heading level0 row6\" >2017-07-01 00:00:00</th>\n",
       "                        <td id=\"T_199c3e69_b5cd_11ec_8573_1856807aed14row6_col0\" class=\"data row6 col0\" >100.00%</td>\n",
       "                        <td id=\"T_199c3e69_b5cd_11ec_8573_1856807aed14row6_col1\" class=\"data row6 col1\" ></td>\n",
       "                        <td id=\"T_199c3e69_b5cd_11ec_8573_1856807aed14row6_col2\" class=\"data row6 col2\" ></td>\n",
       "            </tr>\n",
       "            <tr>\n",
       "                        <th id=\"T_199c3e69_b5cd_11ec_8573_1856807aed14level0_row7\" class=\"row_heading level0 row7\" >2017-08-01 00:00:00</th>\n",
       "                        <td id=\"T_199c3e69_b5cd_11ec_8573_1856807aed14row7_col0\" class=\"data row7 col0\" >100.00%</td>\n",
       "                        <td id=\"T_199c3e69_b5cd_11ec_8573_1856807aed14row7_col1\" class=\"data row7 col1\" ></td>\n",
       "                        <td id=\"T_199c3e69_b5cd_11ec_8573_1856807aed14row7_col2\" class=\"data row7 col2\" ></td>\n",
       "            </tr>\n",
       "            <tr>\n",
       "                        <th id=\"T_199c3e69_b5cd_11ec_8573_1856807aed14level0_row8\" class=\"row_heading level0 row8\" >2017-09-01 00:00:00</th>\n",
       "                        <td id=\"T_199c3e69_b5cd_11ec_8573_1856807aed14row8_col0\" class=\"data row8 col0\" >100.00%</td>\n",
       "                        <td id=\"T_199c3e69_b5cd_11ec_8573_1856807aed14row8_col1\" class=\"data row8 col1\" ></td>\n",
       "                        <td id=\"T_199c3e69_b5cd_11ec_8573_1856807aed14row8_col2\" class=\"data row8 col2\" ></td>\n",
       "            </tr>\n",
       "            <tr>\n",
       "                        <th id=\"T_199c3e69_b5cd_11ec_8573_1856807aed14level0_row9\" class=\"row_heading level0 row9\" >2017-10-01 00:00:00</th>\n",
       "                        <td id=\"T_199c3e69_b5cd_11ec_8573_1856807aed14row9_col0\" class=\"data row9 col0\" >100.00%</td>\n",
       "                        <td id=\"T_199c3e69_b5cd_11ec_8573_1856807aed14row9_col1\" class=\"data row9 col1\" >73.28%</td>\n",
       "                        <td id=\"T_199c3e69_b5cd_11ec_8573_1856807aed14row9_col2\" class=\"data row9 col2\" >1.72%</td>\n",
       "            </tr>\n",
       "    </tbody></table>"
      ],
      "text/plain": [
       "<pandas.io.formats.style.Styler at 0x1f1fc926100>"
      ]
     },
     "execution_count": 173,
     "metadata": {},
     "output_type": "execute_result"
    }
   ],
   "source": [
    "retetion_table(users_control_2, transactions_control_2)"
   ]
  },
  {
   "cell_type": "code",
   "execution_count": null,
   "metadata": {},
   "outputs": [],
   "source": [
    "# как видно ни в одной из групп удержание до октября не привышает одного месяца\n",
    "# это можно обьяснить либо тем, что мы собирали данные только об активности в первый месяц\n",
    "# либо тем, что в наших данных была поломка\n",
    "# следует отдельно исследовать эту ситуацию"
   ]
  },
  {
   "cell_type": "code",
   "execution_count": null,
   "metadata": {},
   "outputs": [],
   "source": [
    "# так как не возможно сделать адекватных выводов на основании информации о посещении приложения\n",
    "# попробуем определить ретеншен на основании и регистрации и частоты покупок"
   ]
  },
  {
   "cell_type": "code",
   "execution_count": 174,
   "metadata": {},
   "outputs": [],
   "source": [
    "def retetion_table_by_transactions(transactions_df):\n",
    "    activity = transactions_df[['uid', 'joined_at', 'paid_at']]\n",
    "    activity['joined_at'] = pd.to_datetime(activity.joined_at.dt.strftime('%Y-%m')).copy()\n",
    "    activity['paid_at'] = pd.to_datetime(activity.paid_at.dt.strftime('%Y-%m'))\n",
    "    activity['month_retention'] = activity.paid_at.dt.month - activity.joined_at.dt.month\n",
    "    table_retention = activity.groupby(['joined_at', 'month_retention'], as_index = False)\\\n",
    "                    .agg({'uid': 'nunique'})\\\n",
    "                    .pivot(index='joined_at', columns='month_retention', values='uid')\n",
    "    table_retention = table_retention.div(table_retention.loc[:,0], axis=0)\n",
    "    ur_style = (table_retention\n",
    "            .style\n",
    "            .set_caption('User retention by cohort')\n",
    "            .highlight_null('white')\n",
    "            .format(\"{:.2%}\", na_rep=\"\"))\n",
    "    return ur_style"
   ]
  },
  {
   "cell_type": "code",
   "execution_count": 175,
   "metadata": {},
   "outputs": [
    {
     "name": "stderr",
     "output_type": "stream",
     "text": [
      "<ipython-input-174-55d0d70e39ec>:3: SettingWithCopyWarning: \n",
      "A value is trying to be set on a copy of a slice from a DataFrame.\n",
      "Try using .loc[row_indexer,col_indexer] = value instead\n",
      "\n",
      "See the caveats in the documentation: https://pandas.pydata.org/pandas-docs/stable/user_guide/indexing.html#returning-a-view-versus-a-copy\n",
      "  activity['joined_at'] = pd.to_datetime(activity.joined_at.dt.strftime('%Y-%m')).copy()\n",
      "<ipython-input-174-55d0d70e39ec>:4: SettingWithCopyWarning: \n",
      "A value is trying to be set on a copy of a slice from a DataFrame.\n",
      "Try using .loc[row_indexer,col_indexer] = value instead\n",
      "\n",
      "See the caveats in the documentation: https://pandas.pydata.org/pandas-docs/stable/user_guide/indexing.html#returning-a-view-versus-a-copy\n",
      "  activity['paid_at'] = pd.to_datetime(activity.paid_at.dt.strftime('%Y-%m'))\n",
      "<ipython-input-174-55d0d70e39ec>:5: SettingWithCopyWarning: \n",
      "A value is trying to be set on a copy of a slice from a DataFrame.\n",
      "Try using .loc[row_indexer,col_indexer] = value instead\n",
      "\n",
      "See the caveats in the documentation: https://pandas.pydata.org/pandas-docs/stable/user_guide/indexing.html#returning-a-view-versus-a-copy\n",
      "  activity['month_retention'] = activity.paid_at.dt.month - activity.joined_at.dt.month\n"
     ]
    },
    {
     "data": {
      "text/html": [
       "<style  type=\"text/css\" >\n",
       "#T_1d51ca1f_b5cd_11ec_9925_1856807aed14row0_col0,#T_1d51ca1f_b5cd_11ec_9925_1856807aed14row0_col1,#T_1d51ca1f_b5cd_11ec_9925_1856807aed14row0_col2,#T_1d51ca1f_b5cd_11ec_9925_1856807aed14row0_col3,#T_1d51ca1f_b5cd_11ec_9925_1856807aed14row0_col4,#T_1d51ca1f_b5cd_11ec_9925_1856807aed14row0_col5,#T_1d51ca1f_b5cd_11ec_9925_1856807aed14row0_col6,#T_1d51ca1f_b5cd_11ec_9925_1856807aed14row0_col7,#T_1d51ca1f_b5cd_11ec_9925_1856807aed14row0_col8,#T_1d51ca1f_b5cd_11ec_9925_1856807aed14row0_col9,#T_1d51ca1f_b5cd_11ec_9925_1856807aed14row0_col10,#T_1d51ca1f_b5cd_11ec_9925_1856807aed14row0_col11,#T_1d51ca1f_b5cd_11ec_9925_1856807aed14row0_col12,#T_1d51ca1f_b5cd_11ec_9925_1856807aed14row0_col13,#T_1d51ca1f_b5cd_11ec_9925_1856807aed14row0_col14,#T_1d51ca1f_b5cd_11ec_9925_1856807aed14row0_col15,#T_1d51ca1f_b5cd_11ec_9925_1856807aed14row0_col16,#T_1d51ca1f_b5cd_11ec_9925_1856807aed14row0_col17,#T_1d51ca1f_b5cd_11ec_9925_1856807aed14row0_col18,#T_1d51ca1f_b5cd_11ec_9925_1856807aed14row0_col19,#T_1d51ca1f_b5cd_11ec_9925_1856807aed14row1_col0,#T_1d51ca1f_b5cd_11ec_9925_1856807aed14row1_col1,#T_1d51ca1f_b5cd_11ec_9925_1856807aed14row1_col2,#T_1d51ca1f_b5cd_11ec_9925_1856807aed14row1_col3,#T_1d51ca1f_b5cd_11ec_9925_1856807aed14row1_col4,#T_1d51ca1f_b5cd_11ec_9925_1856807aed14row1_col5,#T_1d51ca1f_b5cd_11ec_9925_1856807aed14row1_col6,#T_1d51ca1f_b5cd_11ec_9925_1856807aed14row1_col7,#T_1d51ca1f_b5cd_11ec_9925_1856807aed14row1_col8,#T_1d51ca1f_b5cd_11ec_9925_1856807aed14row1_col11,#T_1d51ca1f_b5cd_11ec_9925_1856807aed14row1_col13,#T_1d51ca1f_b5cd_11ec_9925_1856807aed14row1_col14,#T_1d51ca1f_b5cd_11ec_9925_1856807aed14row1_col15,#T_1d51ca1f_b5cd_11ec_9925_1856807aed14row1_col16,#T_1d51ca1f_b5cd_11ec_9925_1856807aed14row1_col17,#T_1d51ca1f_b5cd_11ec_9925_1856807aed14row2_col0,#T_1d51ca1f_b5cd_11ec_9925_1856807aed14row2_col1,#T_1d51ca1f_b5cd_11ec_9925_1856807aed14row2_col2,#T_1d51ca1f_b5cd_11ec_9925_1856807aed14row2_col3,#T_1d51ca1f_b5cd_11ec_9925_1856807aed14row2_col4,#T_1d51ca1f_b5cd_11ec_9925_1856807aed14row2_col5,#T_1d51ca1f_b5cd_11ec_9925_1856807aed14row2_col6,#T_1d51ca1f_b5cd_11ec_9925_1856807aed14row2_col7,#T_1d51ca1f_b5cd_11ec_9925_1856807aed14row2_col8,#T_1d51ca1f_b5cd_11ec_9925_1856807aed14row2_col11,#T_1d51ca1f_b5cd_11ec_9925_1856807aed14row2_col12,#T_1d51ca1f_b5cd_11ec_9925_1856807aed14row2_col13,#T_1d51ca1f_b5cd_11ec_9925_1856807aed14row2_col14,#T_1d51ca1f_b5cd_11ec_9925_1856807aed14row2_col15,#T_1d51ca1f_b5cd_11ec_9925_1856807aed14row2_col18,#T_1d51ca1f_b5cd_11ec_9925_1856807aed14row2_col19,#T_1d51ca1f_b5cd_11ec_9925_1856807aed14row3_col0,#T_1d51ca1f_b5cd_11ec_9925_1856807aed14row3_col1,#T_1d51ca1f_b5cd_11ec_9925_1856807aed14row3_col2,#T_1d51ca1f_b5cd_11ec_9925_1856807aed14row3_col3,#T_1d51ca1f_b5cd_11ec_9925_1856807aed14row3_col4,#T_1d51ca1f_b5cd_11ec_9925_1856807aed14row3_col5,#T_1d51ca1f_b5cd_11ec_9925_1856807aed14row3_col6,#T_1d51ca1f_b5cd_11ec_9925_1856807aed14row3_col7,#T_1d51ca1f_b5cd_11ec_9925_1856807aed14row3_col8,#T_1d51ca1f_b5cd_11ec_9925_1856807aed14row3_col11,#T_1d51ca1f_b5cd_11ec_9925_1856807aed14row3_col12,#T_1d51ca1f_b5cd_11ec_9925_1856807aed14row3_col13,#T_1d51ca1f_b5cd_11ec_9925_1856807aed14row3_col14,#T_1d51ca1f_b5cd_11ec_9925_1856807aed14row3_col15,#T_1d51ca1f_b5cd_11ec_9925_1856807aed14row3_col17,#T_1d51ca1f_b5cd_11ec_9925_1856807aed14row3_col18,#T_1d51ca1f_b5cd_11ec_9925_1856807aed14row3_col19,#T_1d51ca1f_b5cd_11ec_9925_1856807aed14row4_col0,#T_1d51ca1f_b5cd_11ec_9925_1856807aed14row4_col1,#T_1d51ca1f_b5cd_11ec_9925_1856807aed14row4_col2,#T_1d51ca1f_b5cd_11ec_9925_1856807aed14row4_col3,#T_1d51ca1f_b5cd_11ec_9925_1856807aed14row4_col4,#T_1d51ca1f_b5cd_11ec_9925_1856807aed14row4_col5,#T_1d51ca1f_b5cd_11ec_9925_1856807aed14row4_col6,#T_1d51ca1f_b5cd_11ec_9925_1856807aed14row4_col7,#T_1d51ca1f_b5cd_11ec_9925_1856807aed14row4_col8,#T_1d51ca1f_b5cd_11ec_9925_1856807aed14row4_col12,#T_1d51ca1f_b5cd_11ec_9925_1856807aed14row4_col17,#T_1d51ca1f_b5cd_11ec_9925_1856807aed14row4_col18,#T_1d51ca1f_b5cd_11ec_9925_1856807aed14row4_col19,#T_1d51ca1f_b5cd_11ec_9925_1856807aed14row5_col0,#T_1d51ca1f_b5cd_11ec_9925_1856807aed14row5_col1,#T_1d51ca1f_b5cd_11ec_9925_1856807aed14row5_col2,#T_1d51ca1f_b5cd_11ec_9925_1856807aed14row5_col3,#T_1d51ca1f_b5cd_11ec_9925_1856807aed14row5_col4,#T_1d51ca1f_b5cd_11ec_9925_1856807aed14row5_col5,#T_1d51ca1f_b5cd_11ec_9925_1856807aed14row5_col6,#T_1d51ca1f_b5cd_11ec_9925_1856807aed14row5_col7,#T_1d51ca1f_b5cd_11ec_9925_1856807aed14row5_col8,#T_1d51ca1f_b5cd_11ec_9925_1856807aed14row5_col11,#T_1d51ca1f_b5cd_11ec_9925_1856807aed14row5_col12,#T_1d51ca1f_b5cd_11ec_9925_1856807aed14row5_col13,#T_1d51ca1f_b5cd_11ec_9925_1856807aed14row5_col15,#T_1d51ca1f_b5cd_11ec_9925_1856807aed14row5_col16,#T_1d51ca1f_b5cd_11ec_9925_1856807aed14row5_col17,#T_1d51ca1f_b5cd_11ec_9925_1856807aed14row5_col18,#T_1d51ca1f_b5cd_11ec_9925_1856807aed14row5_col19,#T_1d51ca1f_b5cd_11ec_9925_1856807aed14row6_col0,#T_1d51ca1f_b5cd_11ec_9925_1856807aed14row6_col1,#T_1d51ca1f_b5cd_11ec_9925_1856807aed14row6_col2,#T_1d51ca1f_b5cd_11ec_9925_1856807aed14row6_col3,#T_1d51ca1f_b5cd_11ec_9925_1856807aed14row6_col4,#T_1d51ca1f_b5cd_11ec_9925_1856807aed14row6_col5,#T_1d51ca1f_b5cd_11ec_9925_1856807aed14row6_col6,#T_1d51ca1f_b5cd_11ec_9925_1856807aed14row6_col7,#T_1d51ca1f_b5cd_11ec_9925_1856807aed14row6_col8,#T_1d51ca1f_b5cd_11ec_9925_1856807aed14row6_col10,#T_1d51ca1f_b5cd_11ec_9925_1856807aed14row6_col11,#T_1d51ca1f_b5cd_11ec_9925_1856807aed14row6_col12,#T_1d51ca1f_b5cd_11ec_9925_1856807aed14row6_col14,#T_1d51ca1f_b5cd_11ec_9925_1856807aed14row6_col15,#T_1d51ca1f_b5cd_11ec_9925_1856807aed14row6_col16,#T_1d51ca1f_b5cd_11ec_9925_1856807aed14row6_col17,#T_1d51ca1f_b5cd_11ec_9925_1856807aed14row6_col18,#T_1d51ca1f_b5cd_11ec_9925_1856807aed14row6_col19,#T_1d51ca1f_b5cd_11ec_9925_1856807aed14row7_col0,#T_1d51ca1f_b5cd_11ec_9925_1856807aed14row7_col1,#T_1d51ca1f_b5cd_11ec_9925_1856807aed14row7_col2,#T_1d51ca1f_b5cd_11ec_9925_1856807aed14row7_col3,#T_1d51ca1f_b5cd_11ec_9925_1856807aed14row7_col4,#T_1d51ca1f_b5cd_11ec_9925_1856807aed14row7_col5,#T_1d51ca1f_b5cd_11ec_9925_1856807aed14row7_col6,#T_1d51ca1f_b5cd_11ec_9925_1856807aed14row7_col7,#T_1d51ca1f_b5cd_11ec_9925_1856807aed14row7_col8,#T_1d51ca1f_b5cd_11ec_9925_1856807aed14row7_col13,#T_1d51ca1f_b5cd_11ec_9925_1856807aed14row7_col14,#T_1d51ca1f_b5cd_11ec_9925_1856807aed14row7_col15,#T_1d51ca1f_b5cd_11ec_9925_1856807aed14row7_col16,#T_1d51ca1f_b5cd_11ec_9925_1856807aed14row7_col17,#T_1d51ca1f_b5cd_11ec_9925_1856807aed14row7_col18,#T_1d51ca1f_b5cd_11ec_9925_1856807aed14row7_col19,#T_1d51ca1f_b5cd_11ec_9925_1856807aed14row8_col12,#T_1d51ca1f_b5cd_11ec_9925_1856807aed14row8_col13,#T_1d51ca1f_b5cd_11ec_9925_1856807aed14row8_col14,#T_1d51ca1f_b5cd_11ec_9925_1856807aed14row8_col15,#T_1d51ca1f_b5cd_11ec_9925_1856807aed14row8_col16,#T_1d51ca1f_b5cd_11ec_9925_1856807aed14row8_col17,#T_1d51ca1f_b5cd_11ec_9925_1856807aed14row8_col18,#T_1d51ca1f_b5cd_11ec_9925_1856807aed14row8_col19{\n",
       "            background-color:  white;\n",
       "        }</style><table id=\"T_1d51ca1f_b5cd_11ec_9925_1856807aed14\" ><caption>User retention by cohort</caption><thead>    <tr>        <th class=\"index_name level0\" >month_retention</th>        <th class=\"col_heading level0 col0\" >-9</th>        <th class=\"col_heading level0 col1\" >-8</th>        <th class=\"col_heading level0 col2\" >-7</th>        <th class=\"col_heading level0 col3\" >-6</th>        <th class=\"col_heading level0 col4\" >-5</th>        <th class=\"col_heading level0 col5\" >-4</th>        <th class=\"col_heading level0 col6\" >-3</th>        <th class=\"col_heading level0 col7\" >-2</th>        <th class=\"col_heading level0 col8\" >-1</th>        <th class=\"col_heading level0 col9\" >0</th>        <th class=\"col_heading level0 col10\" >1</th>        <th class=\"col_heading level0 col11\" >2</th>        <th class=\"col_heading level0 col12\" >3</th>        <th class=\"col_heading level0 col13\" >4</th>        <th class=\"col_heading level0 col14\" >5</th>        <th class=\"col_heading level0 col15\" >6</th>        <th class=\"col_heading level0 col16\" >7</th>        <th class=\"col_heading level0 col17\" >8</th>        <th class=\"col_heading level0 col18\" >9</th>        <th class=\"col_heading level0 col19\" >10</th>    </tr>    <tr>        <th class=\"index_name level0\" >joined_at</th>        <th class=\"blank\" ></th>        <th class=\"blank\" ></th>        <th class=\"blank\" ></th>        <th class=\"blank\" ></th>        <th class=\"blank\" ></th>        <th class=\"blank\" ></th>        <th class=\"blank\" ></th>        <th class=\"blank\" ></th>        <th class=\"blank\" ></th>        <th class=\"blank\" ></th>        <th class=\"blank\" ></th>        <th class=\"blank\" ></th>        <th class=\"blank\" ></th>        <th class=\"blank\" ></th>        <th class=\"blank\" ></th>        <th class=\"blank\" ></th>        <th class=\"blank\" ></th>        <th class=\"blank\" ></th>        <th class=\"blank\" ></th>        <th class=\"blank\" ></th>    </tr></thead><tbody>\n",
       "                <tr>\n",
       "                        <th id=\"T_1d51ca1f_b5cd_11ec_9925_1856807aed14level0_row0\" class=\"row_heading level0 row0\" >2017-01-01 00:00:00</th>\n",
       "                        <td id=\"T_1d51ca1f_b5cd_11ec_9925_1856807aed14row0_col0\" class=\"data row0 col0\" ></td>\n",
       "                        <td id=\"T_1d51ca1f_b5cd_11ec_9925_1856807aed14row0_col1\" class=\"data row0 col1\" ></td>\n",
       "                        <td id=\"T_1d51ca1f_b5cd_11ec_9925_1856807aed14row0_col2\" class=\"data row0 col2\" ></td>\n",
       "                        <td id=\"T_1d51ca1f_b5cd_11ec_9925_1856807aed14row0_col3\" class=\"data row0 col3\" ></td>\n",
       "                        <td id=\"T_1d51ca1f_b5cd_11ec_9925_1856807aed14row0_col4\" class=\"data row0 col4\" ></td>\n",
       "                        <td id=\"T_1d51ca1f_b5cd_11ec_9925_1856807aed14row0_col5\" class=\"data row0 col5\" ></td>\n",
       "                        <td id=\"T_1d51ca1f_b5cd_11ec_9925_1856807aed14row0_col6\" class=\"data row0 col6\" ></td>\n",
       "                        <td id=\"T_1d51ca1f_b5cd_11ec_9925_1856807aed14row0_col7\" class=\"data row0 col7\" ></td>\n",
       "                        <td id=\"T_1d51ca1f_b5cd_11ec_9925_1856807aed14row0_col8\" class=\"data row0 col8\" ></td>\n",
       "                        <td id=\"T_1d51ca1f_b5cd_11ec_9925_1856807aed14row0_col9\" class=\"data row0 col9\" ></td>\n",
       "                        <td id=\"T_1d51ca1f_b5cd_11ec_9925_1856807aed14row0_col10\" class=\"data row0 col10\" ></td>\n",
       "                        <td id=\"T_1d51ca1f_b5cd_11ec_9925_1856807aed14row0_col11\" class=\"data row0 col11\" ></td>\n",
       "                        <td id=\"T_1d51ca1f_b5cd_11ec_9925_1856807aed14row0_col12\" class=\"data row0 col12\" ></td>\n",
       "                        <td id=\"T_1d51ca1f_b5cd_11ec_9925_1856807aed14row0_col13\" class=\"data row0 col13\" ></td>\n",
       "                        <td id=\"T_1d51ca1f_b5cd_11ec_9925_1856807aed14row0_col14\" class=\"data row0 col14\" ></td>\n",
       "                        <td id=\"T_1d51ca1f_b5cd_11ec_9925_1856807aed14row0_col15\" class=\"data row0 col15\" ></td>\n",
       "                        <td id=\"T_1d51ca1f_b5cd_11ec_9925_1856807aed14row0_col16\" class=\"data row0 col16\" ></td>\n",
       "                        <td id=\"T_1d51ca1f_b5cd_11ec_9925_1856807aed14row0_col17\" class=\"data row0 col17\" ></td>\n",
       "                        <td id=\"T_1d51ca1f_b5cd_11ec_9925_1856807aed14row0_col18\" class=\"data row0 col18\" ></td>\n",
       "                        <td id=\"T_1d51ca1f_b5cd_11ec_9925_1856807aed14row0_col19\" class=\"data row0 col19\" ></td>\n",
       "            </tr>\n",
       "            <tr>\n",
       "                        <th id=\"T_1d51ca1f_b5cd_11ec_9925_1856807aed14level0_row1\" class=\"row_heading level0 row1\" >2017-02-01 00:00:00</th>\n",
       "                        <td id=\"T_1d51ca1f_b5cd_11ec_9925_1856807aed14row1_col0\" class=\"data row1 col0\" ></td>\n",
       "                        <td id=\"T_1d51ca1f_b5cd_11ec_9925_1856807aed14row1_col1\" class=\"data row1 col1\" ></td>\n",
       "                        <td id=\"T_1d51ca1f_b5cd_11ec_9925_1856807aed14row1_col2\" class=\"data row1 col2\" ></td>\n",
       "                        <td id=\"T_1d51ca1f_b5cd_11ec_9925_1856807aed14row1_col3\" class=\"data row1 col3\" ></td>\n",
       "                        <td id=\"T_1d51ca1f_b5cd_11ec_9925_1856807aed14row1_col4\" class=\"data row1 col4\" ></td>\n",
       "                        <td id=\"T_1d51ca1f_b5cd_11ec_9925_1856807aed14row1_col5\" class=\"data row1 col5\" ></td>\n",
       "                        <td id=\"T_1d51ca1f_b5cd_11ec_9925_1856807aed14row1_col6\" class=\"data row1 col6\" ></td>\n",
       "                        <td id=\"T_1d51ca1f_b5cd_11ec_9925_1856807aed14row1_col7\" class=\"data row1 col7\" ></td>\n",
       "                        <td id=\"T_1d51ca1f_b5cd_11ec_9925_1856807aed14row1_col8\" class=\"data row1 col8\" ></td>\n",
       "                        <td id=\"T_1d51ca1f_b5cd_11ec_9925_1856807aed14row1_col9\" class=\"data row1 col9\" >100.00%</td>\n",
       "                        <td id=\"T_1d51ca1f_b5cd_11ec_9925_1856807aed14row1_col10\" class=\"data row1 col10\" >50.00%</td>\n",
       "                        <td id=\"T_1d51ca1f_b5cd_11ec_9925_1856807aed14row1_col11\" class=\"data row1 col11\" ></td>\n",
       "                        <td id=\"T_1d51ca1f_b5cd_11ec_9925_1856807aed14row1_col12\" class=\"data row1 col12\" >100.00%</td>\n",
       "                        <td id=\"T_1d51ca1f_b5cd_11ec_9925_1856807aed14row1_col13\" class=\"data row1 col13\" ></td>\n",
       "                        <td id=\"T_1d51ca1f_b5cd_11ec_9925_1856807aed14row1_col14\" class=\"data row1 col14\" ></td>\n",
       "                        <td id=\"T_1d51ca1f_b5cd_11ec_9925_1856807aed14row1_col15\" class=\"data row1 col15\" ></td>\n",
       "                        <td id=\"T_1d51ca1f_b5cd_11ec_9925_1856807aed14row1_col16\" class=\"data row1 col16\" ></td>\n",
       "                        <td id=\"T_1d51ca1f_b5cd_11ec_9925_1856807aed14row1_col17\" class=\"data row1 col17\" ></td>\n",
       "                        <td id=\"T_1d51ca1f_b5cd_11ec_9925_1856807aed14row1_col18\" class=\"data row1 col18\" >100.00%</td>\n",
       "                        <td id=\"T_1d51ca1f_b5cd_11ec_9925_1856807aed14row1_col19\" class=\"data row1 col19\" >50.00%</td>\n",
       "            </tr>\n",
       "            <tr>\n",
       "                        <th id=\"T_1d51ca1f_b5cd_11ec_9925_1856807aed14level0_row2\" class=\"row_heading level0 row2\" >2017-03-01 00:00:00</th>\n",
       "                        <td id=\"T_1d51ca1f_b5cd_11ec_9925_1856807aed14row2_col0\" class=\"data row2 col0\" ></td>\n",
       "                        <td id=\"T_1d51ca1f_b5cd_11ec_9925_1856807aed14row2_col1\" class=\"data row2 col1\" ></td>\n",
       "                        <td id=\"T_1d51ca1f_b5cd_11ec_9925_1856807aed14row2_col2\" class=\"data row2 col2\" ></td>\n",
       "                        <td id=\"T_1d51ca1f_b5cd_11ec_9925_1856807aed14row2_col3\" class=\"data row2 col3\" ></td>\n",
       "                        <td id=\"T_1d51ca1f_b5cd_11ec_9925_1856807aed14row2_col4\" class=\"data row2 col4\" ></td>\n",
       "                        <td id=\"T_1d51ca1f_b5cd_11ec_9925_1856807aed14row2_col5\" class=\"data row2 col5\" ></td>\n",
       "                        <td id=\"T_1d51ca1f_b5cd_11ec_9925_1856807aed14row2_col6\" class=\"data row2 col6\" ></td>\n",
       "                        <td id=\"T_1d51ca1f_b5cd_11ec_9925_1856807aed14row2_col7\" class=\"data row2 col7\" ></td>\n",
       "                        <td id=\"T_1d51ca1f_b5cd_11ec_9925_1856807aed14row2_col8\" class=\"data row2 col8\" ></td>\n",
       "                        <td id=\"T_1d51ca1f_b5cd_11ec_9925_1856807aed14row2_col9\" class=\"data row2 col9\" >100.00%</td>\n",
       "                        <td id=\"T_1d51ca1f_b5cd_11ec_9925_1856807aed14row2_col10\" class=\"data row2 col10\" >50.00%</td>\n",
       "                        <td id=\"T_1d51ca1f_b5cd_11ec_9925_1856807aed14row2_col11\" class=\"data row2 col11\" ></td>\n",
       "                        <td id=\"T_1d51ca1f_b5cd_11ec_9925_1856807aed14row2_col12\" class=\"data row2 col12\" ></td>\n",
       "                        <td id=\"T_1d51ca1f_b5cd_11ec_9925_1856807aed14row2_col13\" class=\"data row2 col13\" ></td>\n",
       "                        <td id=\"T_1d51ca1f_b5cd_11ec_9925_1856807aed14row2_col14\" class=\"data row2 col14\" ></td>\n",
       "                        <td id=\"T_1d51ca1f_b5cd_11ec_9925_1856807aed14row2_col15\" class=\"data row2 col15\" ></td>\n",
       "                        <td id=\"T_1d51ca1f_b5cd_11ec_9925_1856807aed14row2_col16\" class=\"data row2 col16\" >50.00%</td>\n",
       "                        <td id=\"T_1d51ca1f_b5cd_11ec_9925_1856807aed14row2_col17\" class=\"data row2 col17\" >50.00%</td>\n",
       "                        <td id=\"T_1d51ca1f_b5cd_11ec_9925_1856807aed14row2_col18\" class=\"data row2 col18\" ></td>\n",
       "                        <td id=\"T_1d51ca1f_b5cd_11ec_9925_1856807aed14row2_col19\" class=\"data row2 col19\" ></td>\n",
       "            </tr>\n",
       "            <tr>\n",
       "                        <th id=\"T_1d51ca1f_b5cd_11ec_9925_1856807aed14level0_row3\" class=\"row_heading level0 row3\" >2017-04-01 00:00:00</th>\n",
       "                        <td id=\"T_1d51ca1f_b5cd_11ec_9925_1856807aed14row3_col0\" class=\"data row3 col0\" ></td>\n",
       "                        <td id=\"T_1d51ca1f_b5cd_11ec_9925_1856807aed14row3_col1\" class=\"data row3 col1\" ></td>\n",
       "                        <td id=\"T_1d51ca1f_b5cd_11ec_9925_1856807aed14row3_col2\" class=\"data row3 col2\" ></td>\n",
       "                        <td id=\"T_1d51ca1f_b5cd_11ec_9925_1856807aed14row3_col3\" class=\"data row3 col3\" ></td>\n",
       "                        <td id=\"T_1d51ca1f_b5cd_11ec_9925_1856807aed14row3_col4\" class=\"data row3 col4\" ></td>\n",
       "                        <td id=\"T_1d51ca1f_b5cd_11ec_9925_1856807aed14row3_col5\" class=\"data row3 col5\" ></td>\n",
       "                        <td id=\"T_1d51ca1f_b5cd_11ec_9925_1856807aed14row3_col6\" class=\"data row3 col6\" ></td>\n",
       "                        <td id=\"T_1d51ca1f_b5cd_11ec_9925_1856807aed14row3_col7\" class=\"data row3 col7\" ></td>\n",
       "                        <td id=\"T_1d51ca1f_b5cd_11ec_9925_1856807aed14row3_col8\" class=\"data row3 col8\" ></td>\n",
       "                        <td id=\"T_1d51ca1f_b5cd_11ec_9925_1856807aed14row3_col9\" class=\"data row3 col9\" >100.00%</td>\n",
       "                        <td id=\"T_1d51ca1f_b5cd_11ec_9925_1856807aed14row3_col10\" class=\"data row3 col10\" >25.00%</td>\n",
       "                        <td id=\"T_1d51ca1f_b5cd_11ec_9925_1856807aed14row3_col11\" class=\"data row3 col11\" ></td>\n",
       "                        <td id=\"T_1d51ca1f_b5cd_11ec_9925_1856807aed14row3_col12\" class=\"data row3 col12\" ></td>\n",
       "                        <td id=\"T_1d51ca1f_b5cd_11ec_9925_1856807aed14row3_col13\" class=\"data row3 col13\" ></td>\n",
       "                        <td id=\"T_1d51ca1f_b5cd_11ec_9925_1856807aed14row3_col14\" class=\"data row3 col14\" ></td>\n",
       "                        <td id=\"T_1d51ca1f_b5cd_11ec_9925_1856807aed14row3_col15\" class=\"data row3 col15\" ></td>\n",
       "                        <td id=\"T_1d51ca1f_b5cd_11ec_9925_1856807aed14row3_col16\" class=\"data row3 col16\" >50.00%</td>\n",
       "                        <td id=\"T_1d51ca1f_b5cd_11ec_9925_1856807aed14row3_col17\" class=\"data row3 col17\" ></td>\n",
       "                        <td id=\"T_1d51ca1f_b5cd_11ec_9925_1856807aed14row3_col18\" class=\"data row3 col18\" ></td>\n",
       "                        <td id=\"T_1d51ca1f_b5cd_11ec_9925_1856807aed14row3_col19\" class=\"data row3 col19\" ></td>\n",
       "            </tr>\n",
       "            <tr>\n",
       "                        <th id=\"T_1d51ca1f_b5cd_11ec_9925_1856807aed14level0_row4\" class=\"row_heading level0 row4\" >2017-05-01 00:00:00</th>\n",
       "                        <td id=\"T_1d51ca1f_b5cd_11ec_9925_1856807aed14row4_col0\" class=\"data row4 col0\" ></td>\n",
       "                        <td id=\"T_1d51ca1f_b5cd_11ec_9925_1856807aed14row4_col1\" class=\"data row4 col1\" ></td>\n",
       "                        <td id=\"T_1d51ca1f_b5cd_11ec_9925_1856807aed14row4_col2\" class=\"data row4 col2\" ></td>\n",
       "                        <td id=\"T_1d51ca1f_b5cd_11ec_9925_1856807aed14row4_col3\" class=\"data row4 col3\" ></td>\n",
       "                        <td id=\"T_1d51ca1f_b5cd_11ec_9925_1856807aed14row4_col4\" class=\"data row4 col4\" ></td>\n",
       "                        <td id=\"T_1d51ca1f_b5cd_11ec_9925_1856807aed14row4_col5\" class=\"data row4 col5\" ></td>\n",
       "                        <td id=\"T_1d51ca1f_b5cd_11ec_9925_1856807aed14row4_col6\" class=\"data row4 col6\" ></td>\n",
       "                        <td id=\"T_1d51ca1f_b5cd_11ec_9925_1856807aed14row4_col7\" class=\"data row4 col7\" ></td>\n",
       "                        <td id=\"T_1d51ca1f_b5cd_11ec_9925_1856807aed14row4_col8\" class=\"data row4 col8\" ></td>\n",
       "                        <td id=\"T_1d51ca1f_b5cd_11ec_9925_1856807aed14row4_col9\" class=\"data row4 col9\" >100.00%</td>\n",
       "                        <td id=\"T_1d51ca1f_b5cd_11ec_9925_1856807aed14row4_col10\" class=\"data row4 col10\" >20.00%</td>\n",
       "                        <td id=\"T_1d51ca1f_b5cd_11ec_9925_1856807aed14row4_col11\" class=\"data row4 col11\" >40.00%</td>\n",
       "                        <td id=\"T_1d51ca1f_b5cd_11ec_9925_1856807aed14row4_col12\" class=\"data row4 col12\" ></td>\n",
       "                        <td id=\"T_1d51ca1f_b5cd_11ec_9925_1856807aed14row4_col13\" class=\"data row4 col13\" >20.00%</td>\n",
       "                        <td id=\"T_1d51ca1f_b5cd_11ec_9925_1856807aed14row4_col14\" class=\"data row4 col14\" >20.00%</td>\n",
       "                        <td id=\"T_1d51ca1f_b5cd_11ec_9925_1856807aed14row4_col15\" class=\"data row4 col15\" >60.00%</td>\n",
       "                        <td id=\"T_1d51ca1f_b5cd_11ec_9925_1856807aed14row4_col16\" class=\"data row4 col16\" >80.00%</td>\n",
       "                        <td id=\"T_1d51ca1f_b5cd_11ec_9925_1856807aed14row4_col17\" class=\"data row4 col17\" ></td>\n",
       "                        <td id=\"T_1d51ca1f_b5cd_11ec_9925_1856807aed14row4_col18\" class=\"data row4 col18\" ></td>\n",
       "                        <td id=\"T_1d51ca1f_b5cd_11ec_9925_1856807aed14row4_col19\" class=\"data row4 col19\" ></td>\n",
       "            </tr>\n",
       "            <tr>\n",
       "                        <th id=\"T_1d51ca1f_b5cd_11ec_9925_1856807aed14level0_row5\" class=\"row_heading level0 row5\" >2017-06-01 00:00:00</th>\n",
       "                        <td id=\"T_1d51ca1f_b5cd_11ec_9925_1856807aed14row5_col0\" class=\"data row5 col0\" ></td>\n",
       "                        <td id=\"T_1d51ca1f_b5cd_11ec_9925_1856807aed14row5_col1\" class=\"data row5 col1\" ></td>\n",
       "                        <td id=\"T_1d51ca1f_b5cd_11ec_9925_1856807aed14row5_col2\" class=\"data row5 col2\" ></td>\n",
       "                        <td id=\"T_1d51ca1f_b5cd_11ec_9925_1856807aed14row5_col3\" class=\"data row5 col3\" ></td>\n",
       "                        <td id=\"T_1d51ca1f_b5cd_11ec_9925_1856807aed14row5_col4\" class=\"data row5 col4\" ></td>\n",
       "                        <td id=\"T_1d51ca1f_b5cd_11ec_9925_1856807aed14row5_col5\" class=\"data row5 col5\" ></td>\n",
       "                        <td id=\"T_1d51ca1f_b5cd_11ec_9925_1856807aed14row5_col6\" class=\"data row5 col6\" ></td>\n",
       "                        <td id=\"T_1d51ca1f_b5cd_11ec_9925_1856807aed14row5_col7\" class=\"data row5 col7\" ></td>\n",
       "                        <td id=\"T_1d51ca1f_b5cd_11ec_9925_1856807aed14row5_col8\" class=\"data row5 col8\" ></td>\n",
       "                        <td id=\"T_1d51ca1f_b5cd_11ec_9925_1856807aed14row5_col9\" class=\"data row5 col9\" >100.00%</td>\n",
       "                        <td id=\"T_1d51ca1f_b5cd_11ec_9925_1856807aed14row5_col10\" class=\"data row5 col10\" >200.00%</td>\n",
       "                        <td id=\"T_1d51ca1f_b5cd_11ec_9925_1856807aed14row5_col11\" class=\"data row5 col11\" ></td>\n",
       "                        <td id=\"T_1d51ca1f_b5cd_11ec_9925_1856807aed14row5_col12\" class=\"data row5 col12\" ></td>\n",
       "                        <td id=\"T_1d51ca1f_b5cd_11ec_9925_1856807aed14row5_col13\" class=\"data row5 col13\" ></td>\n",
       "                        <td id=\"T_1d51ca1f_b5cd_11ec_9925_1856807aed14row5_col14\" class=\"data row5 col14\" >400.00%</td>\n",
       "                        <td id=\"T_1d51ca1f_b5cd_11ec_9925_1856807aed14row5_col15\" class=\"data row5 col15\" ></td>\n",
       "                        <td id=\"T_1d51ca1f_b5cd_11ec_9925_1856807aed14row5_col16\" class=\"data row5 col16\" ></td>\n",
       "                        <td id=\"T_1d51ca1f_b5cd_11ec_9925_1856807aed14row5_col17\" class=\"data row5 col17\" ></td>\n",
       "                        <td id=\"T_1d51ca1f_b5cd_11ec_9925_1856807aed14row5_col18\" class=\"data row5 col18\" ></td>\n",
       "                        <td id=\"T_1d51ca1f_b5cd_11ec_9925_1856807aed14row5_col19\" class=\"data row5 col19\" ></td>\n",
       "            </tr>\n",
       "            <tr>\n",
       "                        <th id=\"T_1d51ca1f_b5cd_11ec_9925_1856807aed14level0_row6\" class=\"row_heading level0 row6\" >2017-07-01 00:00:00</th>\n",
       "                        <td id=\"T_1d51ca1f_b5cd_11ec_9925_1856807aed14row6_col0\" class=\"data row6 col0\" ></td>\n",
       "                        <td id=\"T_1d51ca1f_b5cd_11ec_9925_1856807aed14row6_col1\" class=\"data row6 col1\" ></td>\n",
       "                        <td id=\"T_1d51ca1f_b5cd_11ec_9925_1856807aed14row6_col2\" class=\"data row6 col2\" ></td>\n",
       "                        <td id=\"T_1d51ca1f_b5cd_11ec_9925_1856807aed14row6_col3\" class=\"data row6 col3\" ></td>\n",
       "                        <td id=\"T_1d51ca1f_b5cd_11ec_9925_1856807aed14row6_col4\" class=\"data row6 col4\" ></td>\n",
       "                        <td id=\"T_1d51ca1f_b5cd_11ec_9925_1856807aed14row6_col5\" class=\"data row6 col5\" ></td>\n",
       "                        <td id=\"T_1d51ca1f_b5cd_11ec_9925_1856807aed14row6_col6\" class=\"data row6 col6\" ></td>\n",
       "                        <td id=\"T_1d51ca1f_b5cd_11ec_9925_1856807aed14row6_col7\" class=\"data row6 col7\" ></td>\n",
       "                        <td id=\"T_1d51ca1f_b5cd_11ec_9925_1856807aed14row6_col8\" class=\"data row6 col8\" ></td>\n",
       "                        <td id=\"T_1d51ca1f_b5cd_11ec_9925_1856807aed14row6_col9\" class=\"data row6 col9\" >100.00%</td>\n",
       "                        <td id=\"T_1d51ca1f_b5cd_11ec_9925_1856807aed14row6_col10\" class=\"data row6 col10\" ></td>\n",
       "                        <td id=\"T_1d51ca1f_b5cd_11ec_9925_1856807aed14row6_col11\" class=\"data row6 col11\" ></td>\n",
       "                        <td id=\"T_1d51ca1f_b5cd_11ec_9925_1856807aed14row6_col12\" class=\"data row6 col12\" ></td>\n",
       "                        <td id=\"T_1d51ca1f_b5cd_11ec_9925_1856807aed14row6_col13\" class=\"data row6 col13\" >600.00%</td>\n",
       "                        <td id=\"T_1d51ca1f_b5cd_11ec_9925_1856807aed14row6_col14\" class=\"data row6 col14\" ></td>\n",
       "                        <td id=\"T_1d51ca1f_b5cd_11ec_9925_1856807aed14row6_col15\" class=\"data row6 col15\" ></td>\n",
       "                        <td id=\"T_1d51ca1f_b5cd_11ec_9925_1856807aed14row6_col16\" class=\"data row6 col16\" ></td>\n",
       "                        <td id=\"T_1d51ca1f_b5cd_11ec_9925_1856807aed14row6_col17\" class=\"data row6 col17\" ></td>\n",
       "                        <td id=\"T_1d51ca1f_b5cd_11ec_9925_1856807aed14row6_col18\" class=\"data row6 col18\" ></td>\n",
       "                        <td id=\"T_1d51ca1f_b5cd_11ec_9925_1856807aed14row6_col19\" class=\"data row6 col19\" ></td>\n",
       "            </tr>\n",
       "            <tr>\n",
       "                        <th id=\"T_1d51ca1f_b5cd_11ec_9925_1856807aed14level0_row7\" class=\"row_heading level0 row7\" >2017-08-01 00:00:00</th>\n",
       "                        <td id=\"T_1d51ca1f_b5cd_11ec_9925_1856807aed14row7_col0\" class=\"data row7 col0\" ></td>\n",
       "                        <td id=\"T_1d51ca1f_b5cd_11ec_9925_1856807aed14row7_col1\" class=\"data row7 col1\" ></td>\n",
       "                        <td id=\"T_1d51ca1f_b5cd_11ec_9925_1856807aed14row7_col2\" class=\"data row7 col2\" ></td>\n",
       "                        <td id=\"T_1d51ca1f_b5cd_11ec_9925_1856807aed14row7_col3\" class=\"data row7 col3\" ></td>\n",
       "                        <td id=\"T_1d51ca1f_b5cd_11ec_9925_1856807aed14row7_col4\" class=\"data row7 col4\" ></td>\n",
       "                        <td id=\"T_1d51ca1f_b5cd_11ec_9925_1856807aed14row7_col5\" class=\"data row7 col5\" ></td>\n",
       "                        <td id=\"T_1d51ca1f_b5cd_11ec_9925_1856807aed14row7_col6\" class=\"data row7 col6\" ></td>\n",
       "                        <td id=\"T_1d51ca1f_b5cd_11ec_9925_1856807aed14row7_col7\" class=\"data row7 col7\" ></td>\n",
       "                        <td id=\"T_1d51ca1f_b5cd_11ec_9925_1856807aed14row7_col8\" class=\"data row7 col8\" ></td>\n",
       "                        <td id=\"T_1d51ca1f_b5cd_11ec_9925_1856807aed14row7_col9\" class=\"data row7 col9\" >100.00%</td>\n",
       "                        <td id=\"T_1d51ca1f_b5cd_11ec_9925_1856807aed14row7_col10\" class=\"data row7 col10\" >300.00%</td>\n",
       "                        <td id=\"T_1d51ca1f_b5cd_11ec_9925_1856807aed14row7_col11\" class=\"data row7 col11\" >200.00%</td>\n",
       "                        <td id=\"T_1d51ca1f_b5cd_11ec_9925_1856807aed14row7_col12\" class=\"data row7 col12\" >200.00%</td>\n",
       "                        <td id=\"T_1d51ca1f_b5cd_11ec_9925_1856807aed14row7_col13\" class=\"data row7 col13\" ></td>\n",
       "                        <td id=\"T_1d51ca1f_b5cd_11ec_9925_1856807aed14row7_col14\" class=\"data row7 col14\" ></td>\n",
       "                        <td id=\"T_1d51ca1f_b5cd_11ec_9925_1856807aed14row7_col15\" class=\"data row7 col15\" ></td>\n",
       "                        <td id=\"T_1d51ca1f_b5cd_11ec_9925_1856807aed14row7_col16\" class=\"data row7 col16\" ></td>\n",
       "                        <td id=\"T_1d51ca1f_b5cd_11ec_9925_1856807aed14row7_col17\" class=\"data row7 col17\" ></td>\n",
       "                        <td id=\"T_1d51ca1f_b5cd_11ec_9925_1856807aed14row7_col18\" class=\"data row7 col18\" ></td>\n",
       "                        <td id=\"T_1d51ca1f_b5cd_11ec_9925_1856807aed14row7_col19\" class=\"data row7 col19\" ></td>\n",
       "            </tr>\n",
       "            <tr>\n",
       "                        <th id=\"T_1d51ca1f_b5cd_11ec_9925_1856807aed14level0_row8\" class=\"row_heading level0 row8\" >2017-10-01 00:00:00</th>\n",
       "                        <td id=\"T_1d51ca1f_b5cd_11ec_9925_1856807aed14row8_col0\" class=\"data row8 col0\" >5.06%</td>\n",
       "                        <td id=\"T_1d51ca1f_b5cd_11ec_9925_1856807aed14row8_col1\" class=\"data row8 col1\" >6.33%</td>\n",
       "                        <td id=\"T_1d51ca1f_b5cd_11ec_9925_1856807aed14row8_col2\" class=\"data row8 col2\" >10.13%</td>\n",
       "                        <td id=\"T_1d51ca1f_b5cd_11ec_9925_1856807aed14row8_col3\" class=\"data row8 col3\" >8.86%</td>\n",
       "                        <td id=\"T_1d51ca1f_b5cd_11ec_9925_1856807aed14row8_col4\" class=\"data row8 col4\" >5.06%</td>\n",
       "                        <td id=\"T_1d51ca1f_b5cd_11ec_9925_1856807aed14row8_col5\" class=\"data row8 col5\" >5.06%</td>\n",
       "                        <td id=\"T_1d51ca1f_b5cd_11ec_9925_1856807aed14row8_col6\" class=\"data row8 col6\" >2.53%</td>\n",
       "                        <td id=\"T_1d51ca1f_b5cd_11ec_9925_1856807aed14row8_col7\" class=\"data row8 col7\" >3.80%</td>\n",
       "                        <td id=\"T_1d51ca1f_b5cd_11ec_9925_1856807aed14row8_col8\" class=\"data row8 col8\" >5.06%</td>\n",
       "                        <td id=\"T_1d51ca1f_b5cd_11ec_9925_1856807aed14row8_col9\" class=\"data row8 col9\" >100.00%</td>\n",
       "                        <td id=\"T_1d51ca1f_b5cd_11ec_9925_1856807aed14row8_col10\" class=\"data row8 col10\" >7.59%</td>\n",
       "                        <td id=\"T_1d51ca1f_b5cd_11ec_9925_1856807aed14row8_col11\" class=\"data row8 col11\" >3.80%</td>\n",
       "                        <td id=\"T_1d51ca1f_b5cd_11ec_9925_1856807aed14row8_col12\" class=\"data row8 col12\" ></td>\n",
       "                        <td id=\"T_1d51ca1f_b5cd_11ec_9925_1856807aed14row8_col13\" class=\"data row8 col13\" ></td>\n",
       "                        <td id=\"T_1d51ca1f_b5cd_11ec_9925_1856807aed14row8_col14\" class=\"data row8 col14\" ></td>\n",
       "                        <td id=\"T_1d51ca1f_b5cd_11ec_9925_1856807aed14row8_col15\" class=\"data row8 col15\" ></td>\n",
       "                        <td id=\"T_1d51ca1f_b5cd_11ec_9925_1856807aed14row8_col16\" class=\"data row8 col16\" ></td>\n",
       "                        <td id=\"T_1d51ca1f_b5cd_11ec_9925_1856807aed14row8_col17\" class=\"data row8 col17\" ></td>\n",
       "                        <td id=\"T_1d51ca1f_b5cd_11ec_9925_1856807aed14row8_col18\" class=\"data row8 col18\" ></td>\n",
       "                        <td id=\"T_1d51ca1f_b5cd_11ec_9925_1856807aed14row8_col19\" class=\"data row8 col19\" ></td>\n",
       "            </tr>\n",
       "    </tbody></table>"
      ],
      "text/plain": [
       "<pandas.io.formats.style.Styler at 0x1f1fd02ffd0>"
      ]
     },
     "execution_count": 175,
     "metadata": {},
     "output_type": "execute_result"
    }
   ],
   "source": [
    "retetion_table_by_transactions(transactions_test)"
   ]
  },
  {
   "cell_type": "code",
   "execution_count": 176,
   "metadata": {},
   "outputs": [
    {
     "name": "stderr",
     "output_type": "stream",
     "text": [
      "<ipython-input-174-55d0d70e39ec>:3: SettingWithCopyWarning: \n",
      "A value is trying to be set on a copy of a slice from a DataFrame.\n",
      "Try using .loc[row_indexer,col_indexer] = value instead\n",
      "\n",
      "See the caveats in the documentation: https://pandas.pydata.org/pandas-docs/stable/user_guide/indexing.html#returning-a-view-versus-a-copy\n",
      "  activity['joined_at'] = pd.to_datetime(activity.joined_at.dt.strftime('%Y-%m')).copy()\n",
      "<ipython-input-174-55d0d70e39ec>:4: SettingWithCopyWarning: \n",
      "A value is trying to be set on a copy of a slice from a DataFrame.\n",
      "Try using .loc[row_indexer,col_indexer] = value instead\n",
      "\n",
      "See the caveats in the documentation: https://pandas.pydata.org/pandas-docs/stable/user_guide/indexing.html#returning-a-view-versus-a-copy\n",
      "  activity['paid_at'] = pd.to_datetime(activity.paid_at.dt.strftime('%Y-%m'))\n",
      "<ipython-input-174-55d0d70e39ec>:5: SettingWithCopyWarning: \n",
      "A value is trying to be set on a copy of a slice from a DataFrame.\n",
      "Try using .loc[row_indexer,col_indexer] = value instead\n",
      "\n",
      "See the caveats in the documentation: https://pandas.pydata.org/pandas-docs/stable/user_guide/indexing.html#returning-a-view-versus-a-copy\n",
      "  activity['month_retention'] = activity.paid_at.dt.month - activity.joined_at.dt.month\n"
     ]
    },
    {
     "data": {
      "text/html": [
       "<style  type=\"text/css\" >\n",
       "#T_1ea308c7_b5cd_11ec_aa4a_1856807aed14row0_col0,#T_1ea308c7_b5cd_11ec_aa4a_1856807aed14row0_col1,#T_1ea308c7_b5cd_11ec_aa4a_1856807aed14row0_col2,#T_1ea308c7_b5cd_11ec_aa4a_1856807aed14row0_col3,#T_1ea308c7_b5cd_11ec_aa4a_1856807aed14row0_col4,#T_1ea308c7_b5cd_11ec_aa4a_1856807aed14row0_col5,#T_1ea308c7_b5cd_11ec_aa4a_1856807aed14row0_col6,#T_1ea308c7_b5cd_11ec_aa4a_1856807aed14row0_col7,#T_1ea308c7_b5cd_11ec_aa4a_1856807aed14row0_col8,#T_1ea308c7_b5cd_11ec_aa4a_1856807aed14row0_col10,#T_1ea308c7_b5cd_11ec_aa4a_1856807aed14row0_col11,#T_1ea308c7_b5cd_11ec_aa4a_1856807aed14row0_col14,#T_1ea308c7_b5cd_11ec_aa4a_1856807aed14row0_col15,#T_1ea308c7_b5cd_11ec_aa4a_1856807aed14row1_col0,#T_1ea308c7_b5cd_11ec_aa4a_1856807aed14row1_col1,#T_1ea308c7_b5cd_11ec_aa4a_1856807aed14row1_col2,#T_1ea308c7_b5cd_11ec_aa4a_1856807aed14row1_col3,#T_1ea308c7_b5cd_11ec_aa4a_1856807aed14row1_col4,#T_1ea308c7_b5cd_11ec_aa4a_1856807aed14row1_col5,#T_1ea308c7_b5cd_11ec_aa4a_1856807aed14row1_col6,#T_1ea308c7_b5cd_11ec_aa4a_1856807aed14row1_col7,#T_1ea308c7_b5cd_11ec_aa4a_1856807aed14row1_col8,#T_1ea308c7_b5cd_11ec_aa4a_1856807aed14row1_col13,#T_1ea308c7_b5cd_11ec_aa4a_1856807aed14row1_col15,#T_1ea308c7_b5cd_11ec_aa4a_1856807aed14row1_col17,#T_1ea308c7_b5cd_11ec_aa4a_1856807aed14row1_col18,#T_1ea308c7_b5cd_11ec_aa4a_1856807aed14row2_col0,#T_1ea308c7_b5cd_11ec_aa4a_1856807aed14row2_col1,#T_1ea308c7_b5cd_11ec_aa4a_1856807aed14row2_col2,#T_1ea308c7_b5cd_11ec_aa4a_1856807aed14row2_col3,#T_1ea308c7_b5cd_11ec_aa4a_1856807aed14row2_col4,#T_1ea308c7_b5cd_11ec_aa4a_1856807aed14row2_col5,#T_1ea308c7_b5cd_11ec_aa4a_1856807aed14row2_col6,#T_1ea308c7_b5cd_11ec_aa4a_1856807aed14row2_col7,#T_1ea308c7_b5cd_11ec_aa4a_1856807aed14row2_col8,#T_1ea308c7_b5cd_11ec_aa4a_1856807aed14row2_col12,#T_1ea308c7_b5cd_11ec_aa4a_1856807aed14row2_col13,#T_1ea308c7_b5cd_11ec_aa4a_1856807aed14row2_col14,#T_1ea308c7_b5cd_11ec_aa4a_1856807aed14row2_col15,#T_1ea308c7_b5cd_11ec_aa4a_1856807aed14row2_col18,#T_1ea308c7_b5cd_11ec_aa4a_1856807aed14row3_col0,#T_1ea308c7_b5cd_11ec_aa4a_1856807aed14row3_col1,#T_1ea308c7_b5cd_11ec_aa4a_1856807aed14row3_col2,#T_1ea308c7_b5cd_11ec_aa4a_1856807aed14row3_col3,#T_1ea308c7_b5cd_11ec_aa4a_1856807aed14row3_col4,#T_1ea308c7_b5cd_11ec_aa4a_1856807aed14row3_col5,#T_1ea308c7_b5cd_11ec_aa4a_1856807aed14row3_col6,#T_1ea308c7_b5cd_11ec_aa4a_1856807aed14row3_col7,#T_1ea308c7_b5cd_11ec_aa4a_1856807aed14row3_col8,#T_1ea308c7_b5cd_11ec_aa4a_1856807aed14row3_col11,#T_1ea308c7_b5cd_11ec_aa4a_1856807aed14row3_col12,#T_1ea308c7_b5cd_11ec_aa4a_1856807aed14row3_col13,#T_1ea308c7_b5cd_11ec_aa4a_1856807aed14row3_col14,#T_1ea308c7_b5cd_11ec_aa4a_1856807aed14row3_col15,#T_1ea308c7_b5cd_11ec_aa4a_1856807aed14row3_col18,#T_1ea308c7_b5cd_11ec_aa4a_1856807aed14row4_col0,#T_1ea308c7_b5cd_11ec_aa4a_1856807aed14row4_col1,#T_1ea308c7_b5cd_11ec_aa4a_1856807aed14row4_col2,#T_1ea308c7_b5cd_11ec_aa4a_1856807aed14row4_col3,#T_1ea308c7_b5cd_11ec_aa4a_1856807aed14row4_col4,#T_1ea308c7_b5cd_11ec_aa4a_1856807aed14row4_col5,#T_1ea308c7_b5cd_11ec_aa4a_1856807aed14row4_col6,#T_1ea308c7_b5cd_11ec_aa4a_1856807aed14row4_col7,#T_1ea308c7_b5cd_11ec_aa4a_1856807aed14row4_col8,#T_1ea308c7_b5cd_11ec_aa4a_1856807aed14row4_col12,#T_1ea308c7_b5cd_11ec_aa4a_1856807aed14row4_col13,#T_1ea308c7_b5cd_11ec_aa4a_1856807aed14row4_col17,#T_1ea308c7_b5cd_11ec_aa4a_1856807aed14row4_col18,#T_1ea308c7_b5cd_11ec_aa4a_1856807aed14row5_col0,#T_1ea308c7_b5cd_11ec_aa4a_1856807aed14row5_col1,#T_1ea308c7_b5cd_11ec_aa4a_1856807aed14row5_col2,#T_1ea308c7_b5cd_11ec_aa4a_1856807aed14row5_col3,#T_1ea308c7_b5cd_11ec_aa4a_1856807aed14row5_col4,#T_1ea308c7_b5cd_11ec_aa4a_1856807aed14row5_col5,#T_1ea308c7_b5cd_11ec_aa4a_1856807aed14row5_col6,#T_1ea308c7_b5cd_11ec_aa4a_1856807aed14row5_col7,#T_1ea308c7_b5cd_11ec_aa4a_1856807aed14row5_col8,#T_1ea308c7_b5cd_11ec_aa4a_1856807aed14row5_col15,#T_1ea308c7_b5cd_11ec_aa4a_1856807aed14row5_col16,#T_1ea308c7_b5cd_11ec_aa4a_1856807aed14row5_col17,#T_1ea308c7_b5cd_11ec_aa4a_1856807aed14row5_col18,#T_1ea308c7_b5cd_11ec_aa4a_1856807aed14row6_col0,#T_1ea308c7_b5cd_11ec_aa4a_1856807aed14row6_col1,#T_1ea308c7_b5cd_11ec_aa4a_1856807aed14row6_col2,#T_1ea308c7_b5cd_11ec_aa4a_1856807aed14row6_col3,#T_1ea308c7_b5cd_11ec_aa4a_1856807aed14row6_col4,#T_1ea308c7_b5cd_11ec_aa4a_1856807aed14row6_col5,#T_1ea308c7_b5cd_11ec_aa4a_1856807aed14row6_col6,#T_1ea308c7_b5cd_11ec_aa4a_1856807aed14row6_col7,#T_1ea308c7_b5cd_11ec_aa4a_1856807aed14row6_col8,#T_1ea308c7_b5cd_11ec_aa4a_1856807aed14row6_col10,#T_1ea308c7_b5cd_11ec_aa4a_1856807aed14row6_col11,#T_1ea308c7_b5cd_11ec_aa4a_1856807aed14row6_col14,#T_1ea308c7_b5cd_11ec_aa4a_1856807aed14row6_col15,#T_1ea308c7_b5cd_11ec_aa4a_1856807aed14row6_col16,#T_1ea308c7_b5cd_11ec_aa4a_1856807aed14row6_col17,#T_1ea308c7_b5cd_11ec_aa4a_1856807aed14row6_col18,#T_1ea308c7_b5cd_11ec_aa4a_1856807aed14row7_col0,#T_1ea308c7_b5cd_11ec_aa4a_1856807aed14row7_col1,#T_1ea308c7_b5cd_11ec_aa4a_1856807aed14row7_col2,#T_1ea308c7_b5cd_11ec_aa4a_1856807aed14row7_col3,#T_1ea308c7_b5cd_11ec_aa4a_1856807aed14row7_col4,#T_1ea308c7_b5cd_11ec_aa4a_1856807aed14row7_col5,#T_1ea308c7_b5cd_11ec_aa4a_1856807aed14row7_col6,#T_1ea308c7_b5cd_11ec_aa4a_1856807aed14row7_col7,#T_1ea308c7_b5cd_11ec_aa4a_1856807aed14row7_col8,#T_1ea308c7_b5cd_11ec_aa4a_1856807aed14row7_col10,#T_1ea308c7_b5cd_11ec_aa4a_1856807aed14row7_col13,#T_1ea308c7_b5cd_11ec_aa4a_1856807aed14row7_col14,#T_1ea308c7_b5cd_11ec_aa4a_1856807aed14row7_col15,#T_1ea308c7_b5cd_11ec_aa4a_1856807aed14row7_col16,#T_1ea308c7_b5cd_11ec_aa4a_1856807aed14row7_col17,#T_1ea308c7_b5cd_11ec_aa4a_1856807aed14row7_col18,#T_1ea308c7_b5cd_11ec_aa4a_1856807aed14row8_col0,#T_1ea308c7_b5cd_11ec_aa4a_1856807aed14row8_col1,#T_1ea308c7_b5cd_11ec_aa4a_1856807aed14row8_col2,#T_1ea308c7_b5cd_11ec_aa4a_1856807aed14row8_col3,#T_1ea308c7_b5cd_11ec_aa4a_1856807aed14row8_col4,#T_1ea308c7_b5cd_11ec_aa4a_1856807aed14row8_col5,#T_1ea308c7_b5cd_11ec_aa4a_1856807aed14row8_col6,#T_1ea308c7_b5cd_11ec_aa4a_1856807aed14row8_col7,#T_1ea308c7_b5cd_11ec_aa4a_1856807aed14row8_col8,#T_1ea308c7_b5cd_11ec_aa4a_1856807aed14row8_col12,#T_1ea308c7_b5cd_11ec_aa4a_1856807aed14row8_col13,#T_1ea308c7_b5cd_11ec_aa4a_1856807aed14row8_col14,#T_1ea308c7_b5cd_11ec_aa4a_1856807aed14row8_col15,#T_1ea308c7_b5cd_11ec_aa4a_1856807aed14row8_col16,#T_1ea308c7_b5cd_11ec_aa4a_1856807aed14row8_col17,#T_1ea308c7_b5cd_11ec_aa4a_1856807aed14row8_col18,#T_1ea308c7_b5cd_11ec_aa4a_1856807aed14row9_col12,#T_1ea308c7_b5cd_11ec_aa4a_1856807aed14row9_col13,#T_1ea308c7_b5cd_11ec_aa4a_1856807aed14row9_col14,#T_1ea308c7_b5cd_11ec_aa4a_1856807aed14row9_col15,#T_1ea308c7_b5cd_11ec_aa4a_1856807aed14row9_col16,#T_1ea308c7_b5cd_11ec_aa4a_1856807aed14row9_col17,#T_1ea308c7_b5cd_11ec_aa4a_1856807aed14row9_col18{\n",
       "            background-color:  white;\n",
       "        }</style><table id=\"T_1ea308c7_b5cd_11ec_aa4a_1856807aed14\" ><caption>User retention by cohort</caption><thead>    <tr>        <th class=\"index_name level0\" >month_retention</th>        <th class=\"col_heading level0 col0\" >-9</th>        <th class=\"col_heading level0 col1\" >-8</th>        <th class=\"col_heading level0 col2\" >-7</th>        <th class=\"col_heading level0 col3\" >-6</th>        <th class=\"col_heading level0 col4\" >-5</th>        <th class=\"col_heading level0 col5\" >-4</th>        <th class=\"col_heading level0 col6\" >-3</th>        <th class=\"col_heading level0 col7\" >-2</th>        <th class=\"col_heading level0 col8\" >-1</th>        <th class=\"col_heading level0 col9\" >0</th>        <th class=\"col_heading level0 col10\" >1</th>        <th class=\"col_heading level0 col11\" >2</th>        <th class=\"col_heading level0 col12\" >3</th>        <th class=\"col_heading level0 col13\" >4</th>        <th class=\"col_heading level0 col14\" >5</th>        <th class=\"col_heading level0 col15\" >6</th>        <th class=\"col_heading level0 col16\" >7</th>        <th class=\"col_heading level0 col17\" >8</th>        <th class=\"col_heading level0 col18\" >10</th>    </tr>    <tr>        <th class=\"index_name level0\" >joined_at</th>        <th class=\"blank\" ></th>        <th class=\"blank\" ></th>        <th class=\"blank\" ></th>        <th class=\"blank\" ></th>        <th class=\"blank\" ></th>        <th class=\"blank\" ></th>        <th class=\"blank\" ></th>        <th class=\"blank\" ></th>        <th class=\"blank\" ></th>        <th class=\"blank\" ></th>        <th class=\"blank\" ></th>        <th class=\"blank\" ></th>        <th class=\"blank\" ></th>        <th class=\"blank\" ></th>        <th class=\"blank\" ></th>        <th class=\"blank\" ></th>        <th class=\"blank\" ></th>        <th class=\"blank\" ></th>        <th class=\"blank\" ></th>    </tr></thead><tbody>\n",
       "                <tr>\n",
       "                        <th id=\"T_1ea308c7_b5cd_11ec_aa4a_1856807aed14level0_row0\" class=\"row_heading level0 row0\" >2017-01-01 00:00:00</th>\n",
       "                        <td id=\"T_1ea308c7_b5cd_11ec_aa4a_1856807aed14row0_col0\" class=\"data row0 col0\" ></td>\n",
       "                        <td id=\"T_1ea308c7_b5cd_11ec_aa4a_1856807aed14row0_col1\" class=\"data row0 col1\" ></td>\n",
       "                        <td id=\"T_1ea308c7_b5cd_11ec_aa4a_1856807aed14row0_col2\" class=\"data row0 col2\" ></td>\n",
       "                        <td id=\"T_1ea308c7_b5cd_11ec_aa4a_1856807aed14row0_col3\" class=\"data row0 col3\" ></td>\n",
       "                        <td id=\"T_1ea308c7_b5cd_11ec_aa4a_1856807aed14row0_col4\" class=\"data row0 col4\" ></td>\n",
       "                        <td id=\"T_1ea308c7_b5cd_11ec_aa4a_1856807aed14row0_col5\" class=\"data row0 col5\" ></td>\n",
       "                        <td id=\"T_1ea308c7_b5cd_11ec_aa4a_1856807aed14row0_col6\" class=\"data row0 col6\" ></td>\n",
       "                        <td id=\"T_1ea308c7_b5cd_11ec_aa4a_1856807aed14row0_col7\" class=\"data row0 col7\" ></td>\n",
       "                        <td id=\"T_1ea308c7_b5cd_11ec_aa4a_1856807aed14row0_col8\" class=\"data row0 col8\" ></td>\n",
       "                        <td id=\"T_1ea308c7_b5cd_11ec_aa4a_1856807aed14row0_col9\" class=\"data row0 col9\" >100.00%</td>\n",
       "                        <td id=\"T_1ea308c7_b5cd_11ec_aa4a_1856807aed14row0_col10\" class=\"data row0 col10\" ></td>\n",
       "                        <td id=\"T_1ea308c7_b5cd_11ec_aa4a_1856807aed14row0_col11\" class=\"data row0 col11\" ></td>\n",
       "                        <td id=\"T_1ea308c7_b5cd_11ec_aa4a_1856807aed14row0_col12\" class=\"data row0 col12\" >33.33%</td>\n",
       "                        <td id=\"T_1ea308c7_b5cd_11ec_aa4a_1856807aed14row0_col13\" class=\"data row0 col13\" >33.33%</td>\n",
       "                        <td id=\"T_1ea308c7_b5cd_11ec_aa4a_1856807aed14row0_col14\" class=\"data row0 col14\" ></td>\n",
       "                        <td id=\"T_1ea308c7_b5cd_11ec_aa4a_1856807aed14row0_col15\" class=\"data row0 col15\" ></td>\n",
       "                        <td id=\"T_1ea308c7_b5cd_11ec_aa4a_1856807aed14row0_col16\" class=\"data row0 col16\" >66.67%</td>\n",
       "                        <td id=\"T_1ea308c7_b5cd_11ec_aa4a_1856807aed14row0_col17\" class=\"data row0 col17\" >33.33%</td>\n",
       "                        <td id=\"T_1ea308c7_b5cd_11ec_aa4a_1856807aed14row0_col18\" class=\"data row0 col18\" >33.33%</td>\n",
       "            </tr>\n",
       "            <tr>\n",
       "                        <th id=\"T_1ea308c7_b5cd_11ec_aa4a_1856807aed14level0_row1\" class=\"row_heading level0 row1\" >2017-02-01 00:00:00</th>\n",
       "                        <td id=\"T_1ea308c7_b5cd_11ec_aa4a_1856807aed14row1_col0\" class=\"data row1 col0\" ></td>\n",
       "                        <td id=\"T_1ea308c7_b5cd_11ec_aa4a_1856807aed14row1_col1\" class=\"data row1 col1\" ></td>\n",
       "                        <td id=\"T_1ea308c7_b5cd_11ec_aa4a_1856807aed14row1_col2\" class=\"data row1 col2\" ></td>\n",
       "                        <td id=\"T_1ea308c7_b5cd_11ec_aa4a_1856807aed14row1_col3\" class=\"data row1 col3\" ></td>\n",
       "                        <td id=\"T_1ea308c7_b5cd_11ec_aa4a_1856807aed14row1_col4\" class=\"data row1 col4\" ></td>\n",
       "                        <td id=\"T_1ea308c7_b5cd_11ec_aa4a_1856807aed14row1_col5\" class=\"data row1 col5\" ></td>\n",
       "                        <td id=\"T_1ea308c7_b5cd_11ec_aa4a_1856807aed14row1_col6\" class=\"data row1 col6\" ></td>\n",
       "                        <td id=\"T_1ea308c7_b5cd_11ec_aa4a_1856807aed14row1_col7\" class=\"data row1 col7\" ></td>\n",
       "                        <td id=\"T_1ea308c7_b5cd_11ec_aa4a_1856807aed14row1_col8\" class=\"data row1 col8\" ></td>\n",
       "                        <td id=\"T_1ea308c7_b5cd_11ec_aa4a_1856807aed14row1_col9\" class=\"data row1 col9\" >100.00%</td>\n",
       "                        <td id=\"T_1ea308c7_b5cd_11ec_aa4a_1856807aed14row1_col10\" class=\"data row1 col10\" >50.00%</td>\n",
       "                        <td id=\"T_1ea308c7_b5cd_11ec_aa4a_1856807aed14row1_col11\" class=\"data row1 col11\" >100.00%</td>\n",
       "                        <td id=\"T_1ea308c7_b5cd_11ec_aa4a_1856807aed14row1_col12\" class=\"data row1 col12\" >50.00%</td>\n",
       "                        <td id=\"T_1ea308c7_b5cd_11ec_aa4a_1856807aed14row1_col13\" class=\"data row1 col13\" ></td>\n",
       "                        <td id=\"T_1ea308c7_b5cd_11ec_aa4a_1856807aed14row1_col14\" class=\"data row1 col14\" >50.00%</td>\n",
       "                        <td id=\"T_1ea308c7_b5cd_11ec_aa4a_1856807aed14row1_col15\" class=\"data row1 col15\" ></td>\n",
       "                        <td id=\"T_1ea308c7_b5cd_11ec_aa4a_1856807aed14row1_col16\" class=\"data row1 col16\" >50.00%</td>\n",
       "                        <td id=\"T_1ea308c7_b5cd_11ec_aa4a_1856807aed14row1_col17\" class=\"data row1 col17\" ></td>\n",
       "                        <td id=\"T_1ea308c7_b5cd_11ec_aa4a_1856807aed14row1_col18\" class=\"data row1 col18\" ></td>\n",
       "            </tr>\n",
       "            <tr>\n",
       "                        <th id=\"T_1ea308c7_b5cd_11ec_aa4a_1856807aed14level0_row2\" class=\"row_heading level0 row2\" >2017-03-01 00:00:00</th>\n",
       "                        <td id=\"T_1ea308c7_b5cd_11ec_aa4a_1856807aed14row2_col0\" class=\"data row2 col0\" ></td>\n",
       "                        <td id=\"T_1ea308c7_b5cd_11ec_aa4a_1856807aed14row2_col1\" class=\"data row2 col1\" ></td>\n",
       "                        <td id=\"T_1ea308c7_b5cd_11ec_aa4a_1856807aed14row2_col2\" class=\"data row2 col2\" ></td>\n",
       "                        <td id=\"T_1ea308c7_b5cd_11ec_aa4a_1856807aed14row2_col3\" class=\"data row2 col3\" ></td>\n",
       "                        <td id=\"T_1ea308c7_b5cd_11ec_aa4a_1856807aed14row2_col4\" class=\"data row2 col4\" ></td>\n",
       "                        <td id=\"T_1ea308c7_b5cd_11ec_aa4a_1856807aed14row2_col5\" class=\"data row2 col5\" ></td>\n",
       "                        <td id=\"T_1ea308c7_b5cd_11ec_aa4a_1856807aed14row2_col6\" class=\"data row2 col6\" ></td>\n",
       "                        <td id=\"T_1ea308c7_b5cd_11ec_aa4a_1856807aed14row2_col7\" class=\"data row2 col7\" ></td>\n",
       "                        <td id=\"T_1ea308c7_b5cd_11ec_aa4a_1856807aed14row2_col8\" class=\"data row2 col8\" ></td>\n",
       "                        <td id=\"T_1ea308c7_b5cd_11ec_aa4a_1856807aed14row2_col9\" class=\"data row2 col9\" >100.00%</td>\n",
       "                        <td id=\"T_1ea308c7_b5cd_11ec_aa4a_1856807aed14row2_col10\" class=\"data row2 col10\" >300.00%</td>\n",
       "                        <td id=\"T_1ea308c7_b5cd_11ec_aa4a_1856807aed14row2_col11\" class=\"data row2 col11\" >100.00%</td>\n",
       "                        <td id=\"T_1ea308c7_b5cd_11ec_aa4a_1856807aed14row2_col12\" class=\"data row2 col12\" ></td>\n",
       "                        <td id=\"T_1ea308c7_b5cd_11ec_aa4a_1856807aed14row2_col13\" class=\"data row2 col13\" ></td>\n",
       "                        <td id=\"T_1ea308c7_b5cd_11ec_aa4a_1856807aed14row2_col14\" class=\"data row2 col14\" ></td>\n",
       "                        <td id=\"T_1ea308c7_b5cd_11ec_aa4a_1856807aed14row2_col15\" class=\"data row2 col15\" ></td>\n",
       "                        <td id=\"T_1ea308c7_b5cd_11ec_aa4a_1856807aed14row2_col16\" class=\"data row2 col16\" >200.00%</td>\n",
       "                        <td id=\"T_1ea308c7_b5cd_11ec_aa4a_1856807aed14row2_col17\" class=\"data row2 col17\" >200.00%</td>\n",
       "                        <td id=\"T_1ea308c7_b5cd_11ec_aa4a_1856807aed14row2_col18\" class=\"data row2 col18\" ></td>\n",
       "            </tr>\n",
       "            <tr>\n",
       "                        <th id=\"T_1ea308c7_b5cd_11ec_aa4a_1856807aed14level0_row3\" class=\"row_heading level0 row3\" >2017-04-01 00:00:00</th>\n",
       "                        <td id=\"T_1ea308c7_b5cd_11ec_aa4a_1856807aed14row3_col0\" class=\"data row3 col0\" ></td>\n",
       "                        <td id=\"T_1ea308c7_b5cd_11ec_aa4a_1856807aed14row3_col1\" class=\"data row3 col1\" ></td>\n",
       "                        <td id=\"T_1ea308c7_b5cd_11ec_aa4a_1856807aed14row3_col2\" class=\"data row3 col2\" ></td>\n",
       "                        <td id=\"T_1ea308c7_b5cd_11ec_aa4a_1856807aed14row3_col3\" class=\"data row3 col3\" ></td>\n",
       "                        <td id=\"T_1ea308c7_b5cd_11ec_aa4a_1856807aed14row3_col4\" class=\"data row3 col4\" ></td>\n",
       "                        <td id=\"T_1ea308c7_b5cd_11ec_aa4a_1856807aed14row3_col5\" class=\"data row3 col5\" ></td>\n",
       "                        <td id=\"T_1ea308c7_b5cd_11ec_aa4a_1856807aed14row3_col6\" class=\"data row3 col6\" ></td>\n",
       "                        <td id=\"T_1ea308c7_b5cd_11ec_aa4a_1856807aed14row3_col7\" class=\"data row3 col7\" ></td>\n",
       "                        <td id=\"T_1ea308c7_b5cd_11ec_aa4a_1856807aed14row3_col8\" class=\"data row3 col8\" ></td>\n",
       "                        <td id=\"T_1ea308c7_b5cd_11ec_aa4a_1856807aed14row3_col9\" class=\"data row3 col9\" >100.00%</td>\n",
       "                        <td id=\"T_1ea308c7_b5cd_11ec_aa4a_1856807aed14row3_col10\" class=\"data row3 col10\" >33.33%</td>\n",
       "                        <td id=\"T_1ea308c7_b5cd_11ec_aa4a_1856807aed14row3_col11\" class=\"data row3 col11\" ></td>\n",
       "                        <td id=\"T_1ea308c7_b5cd_11ec_aa4a_1856807aed14row3_col12\" class=\"data row3 col12\" ></td>\n",
       "                        <td id=\"T_1ea308c7_b5cd_11ec_aa4a_1856807aed14row3_col13\" class=\"data row3 col13\" ></td>\n",
       "                        <td id=\"T_1ea308c7_b5cd_11ec_aa4a_1856807aed14row3_col14\" class=\"data row3 col14\" ></td>\n",
       "                        <td id=\"T_1ea308c7_b5cd_11ec_aa4a_1856807aed14row3_col15\" class=\"data row3 col15\" ></td>\n",
       "                        <td id=\"T_1ea308c7_b5cd_11ec_aa4a_1856807aed14row3_col16\" class=\"data row3 col16\" >33.33%</td>\n",
       "                        <td id=\"T_1ea308c7_b5cd_11ec_aa4a_1856807aed14row3_col17\" class=\"data row3 col17\" >33.33%</td>\n",
       "                        <td id=\"T_1ea308c7_b5cd_11ec_aa4a_1856807aed14row3_col18\" class=\"data row3 col18\" ></td>\n",
       "            </tr>\n",
       "            <tr>\n",
       "                        <th id=\"T_1ea308c7_b5cd_11ec_aa4a_1856807aed14level0_row4\" class=\"row_heading level0 row4\" >2017-05-01 00:00:00</th>\n",
       "                        <td id=\"T_1ea308c7_b5cd_11ec_aa4a_1856807aed14row4_col0\" class=\"data row4 col0\" ></td>\n",
       "                        <td id=\"T_1ea308c7_b5cd_11ec_aa4a_1856807aed14row4_col1\" class=\"data row4 col1\" ></td>\n",
       "                        <td id=\"T_1ea308c7_b5cd_11ec_aa4a_1856807aed14row4_col2\" class=\"data row4 col2\" ></td>\n",
       "                        <td id=\"T_1ea308c7_b5cd_11ec_aa4a_1856807aed14row4_col3\" class=\"data row4 col3\" ></td>\n",
       "                        <td id=\"T_1ea308c7_b5cd_11ec_aa4a_1856807aed14row4_col4\" class=\"data row4 col4\" ></td>\n",
       "                        <td id=\"T_1ea308c7_b5cd_11ec_aa4a_1856807aed14row4_col5\" class=\"data row4 col5\" ></td>\n",
       "                        <td id=\"T_1ea308c7_b5cd_11ec_aa4a_1856807aed14row4_col6\" class=\"data row4 col6\" ></td>\n",
       "                        <td id=\"T_1ea308c7_b5cd_11ec_aa4a_1856807aed14row4_col7\" class=\"data row4 col7\" ></td>\n",
       "                        <td id=\"T_1ea308c7_b5cd_11ec_aa4a_1856807aed14row4_col8\" class=\"data row4 col8\" ></td>\n",
       "                        <td id=\"T_1ea308c7_b5cd_11ec_aa4a_1856807aed14row4_col9\" class=\"data row4 col9\" >100.00%</td>\n",
       "                        <td id=\"T_1ea308c7_b5cd_11ec_aa4a_1856807aed14row4_col10\" class=\"data row4 col10\" >80.00%</td>\n",
       "                        <td id=\"T_1ea308c7_b5cd_11ec_aa4a_1856807aed14row4_col11\" class=\"data row4 col11\" >40.00%</td>\n",
       "                        <td id=\"T_1ea308c7_b5cd_11ec_aa4a_1856807aed14row4_col12\" class=\"data row4 col12\" ></td>\n",
       "                        <td id=\"T_1ea308c7_b5cd_11ec_aa4a_1856807aed14row4_col13\" class=\"data row4 col13\" ></td>\n",
       "                        <td id=\"T_1ea308c7_b5cd_11ec_aa4a_1856807aed14row4_col14\" class=\"data row4 col14\" >40.00%</td>\n",
       "                        <td id=\"T_1ea308c7_b5cd_11ec_aa4a_1856807aed14row4_col15\" class=\"data row4 col15\" >20.00%</td>\n",
       "                        <td id=\"T_1ea308c7_b5cd_11ec_aa4a_1856807aed14row4_col16\" class=\"data row4 col16\" >160.00%</td>\n",
       "                        <td id=\"T_1ea308c7_b5cd_11ec_aa4a_1856807aed14row4_col17\" class=\"data row4 col17\" ></td>\n",
       "                        <td id=\"T_1ea308c7_b5cd_11ec_aa4a_1856807aed14row4_col18\" class=\"data row4 col18\" ></td>\n",
       "            </tr>\n",
       "            <tr>\n",
       "                        <th id=\"T_1ea308c7_b5cd_11ec_aa4a_1856807aed14level0_row5\" class=\"row_heading level0 row5\" >2017-06-01 00:00:00</th>\n",
       "                        <td id=\"T_1ea308c7_b5cd_11ec_aa4a_1856807aed14row5_col0\" class=\"data row5 col0\" ></td>\n",
       "                        <td id=\"T_1ea308c7_b5cd_11ec_aa4a_1856807aed14row5_col1\" class=\"data row5 col1\" ></td>\n",
       "                        <td id=\"T_1ea308c7_b5cd_11ec_aa4a_1856807aed14row5_col2\" class=\"data row5 col2\" ></td>\n",
       "                        <td id=\"T_1ea308c7_b5cd_11ec_aa4a_1856807aed14row5_col3\" class=\"data row5 col3\" ></td>\n",
       "                        <td id=\"T_1ea308c7_b5cd_11ec_aa4a_1856807aed14row5_col4\" class=\"data row5 col4\" ></td>\n",
       "                        <td id=\"T_1ea308c7_b5cd_11ec_aa4a_1856807aed14row5_col5\" class=\"data row5 col5\" ></td>\n",
       "                        <td id=\"T_1ea308c7_b5cd_11ec_aa4a_1856807aed14row5_col6\" class=\"data row5 col6\" ></td>\n",
       "                        <td id=\"T_1ea308c7_b5cd_11ec_aa4a_1856807aed14row5_col7\" class=\"data row5 col7\" ></td>\n",
       "                        <td id=\"T_1ea308c7_b5cd_11ec_aa4a_1856807aed14row5_col8\" class=\"data row5 col8\" ></td>\n",
       "                        <td id=\"T_1ea308c7_b5cd_11ec_aa4a_1856807aed14row5_col9\" class=\"data row5 col9\" >100.00%</td>\n",
       "                        <td id=\"T_1ea308c7_b5cd_11ec_aa4a_1856807aed14row5_col10\" class=\"data row5 col10\" >16.67%</td>\n",
       "                        <td id=\"T_1ea308c7_b5cd_11ec_aa4a_1856807aed14row5_col11\" class=\"data row5 col11\" >66.67%</td>\n",
       "                        <td id=\"T_1ea308c7_b5cd_11ec_aa4a_1856807aed14row5_col12\" class=\"data row5 col12\" >50.00%</td>\n",
       "                        <td id=\"T_1ea308c7_b5cd_11ec_aa4a_1856807aed14row5_col13\" class=\"data row5 col13\" >33.33%</td>\n",
       "                        <td id=\"T_1ea308c7_b5cd_11ec_aa4a_1856807aed14row5_col14\" class=\"data row5 col14\" >100.00%</td>\n",
       "                        <td id=\"T_1ea308c7_b5cd_11ec_aa4a_1856807aed14row5_col15\" class=\"data row5 col15\" ></td>\n",
       "                        <td id=\"T_1ea308c7_b5cd_11ec_aa4a_1856807aed14row5_col16\" class=\"data row5 col16\" ></td>\n",
       "                        <td id=\"T_1ea308c7_b5cd_11ec_aa4a_1856807aed14row5_col17\" class=\"data row5 col17\" ></td>\n",
       "                        <td id=\"T_1ea308c7_b5cd_11ec_aa4a_1856807aed14row5_col18\" class=\"data row5 col18\" ></td>\n",
       "            </tr>\n",
       "            <tr>\n",
       "                        <th id=\"T_1ea308c7_b5cd_11ec_aa4a_1856807aed14level0_row6\" class=\"row_heading level0 row6\" >2017-07-01 00:00:00</th>\n",
       "                        <td id=\"T_1ea308c7_b5cd_11ec_aa4a_1856807aed14row6_col0\" class=\"data row6 col0\" ></td>\n",
       "                        <td id=\"T_1ea308c7_b5cd_11ec_aa4a_1856807aed14row6_col1\" class=\"data row6 col1\" ></td>\n",
       "                        <td id=\"T_1ea308c7_b5cd_11ec_aa4a_1856807aed14row6_col2\" class=\"data row6 col2\" ></td>\n",
       "                        <td id=\"T_1ea308c7_b5cd_11ec_aa4a_1856807aed14row6_col3\" class=\"data row6 col3\" ></td>\n",
       "                        <td id=\"T_1ea308c7_b5cd_11ec_aa4a_1856807aed14row6_col4\" class=\"data row6 col4\" ></td>\n",
       "                        <td id=\"T_1ea308c7_b5cd_11ec_aa4a_1856807aed14row6_col5\" class=\"data row6 col5\" ></td>\n",
       "                        <td id=\"T_1ea308c7_b5cd_11ec_aa4a_1856807aed14row6_col6\" class=\"data row6 col6\" ></td>\n",
       "                        <td id=\"T_1ea308c7_b5cd_11ec_aa4a_1856807aed14row6_col7\" class=\"data row6 col7\" ></td>\n",
       "                        <td id=\"T_1ea308c7_b5cd_11ec_aa4a_1856807aed14row6_col8\" class=\"data row6 col8\" ></td>\n",
       "                        <td id=\"T_1ea308c7_b5cd_11ec_aa4a_1856807aed14row6_col9\" class=\"data row6 col9\" >100.00%</td>\n",
       "                        <td id=\"T_1ea308c7_b5cd_11ec_aa4a_1856807aed14row6_col10\" class=\"data row6 col10\" ></td>\n",
       "                        <td id=\"T_1ea308c7_b5cd_11ec_aa4a_1856807aed14row6_col11\" class=\"data row6 col11\" ></td>\n",
       "                        <td id=\"T_1ea308c7_b5cd_11ec_aa4a_1856807aed14row6_col12\" class=\"data row6 col12\" >100.00%</td>\n",
       "                        <td id=\"T_1ea308c7_b5cd_11ec_aa4a_1856807aed14row6_col13\" class=\"data row6 col13\" >50.00%</td>\n",
       "                        <td id=\"T_1ea308c7_b5cd_11ec_aa4a_1856807aed14row6_col14\" class=\"data row6 col14\" ></td>\n",
       "                        <td id=\"T_1ea308c7_b5cd_11ec_aa4a_1856807aed14row6_col15\" class=\"data row6 col15\" ></td>\n",
       "                        <td id=\"T_1ea308c7_b5cd_11ec_aa4a_1856807aed14row6_col16\" class=\"data row6 col16\" ></td>\n",
       "                        <td id=\"T_1ea308c7_b5cd_11ec_aa4a_1856807aed14row6_col17\" class=\"data row6 col17\" ></td>\n",
       "                        <td id=\"T_1ea308c7_b5cd_11ec_aa4a_1856807aed14row6_col18\" class=\"data row6 col18\" ></td>\n",
       "            </tr>\n",
       "            <tr>\n",
       "                        <th id=\"T_1ea308c7_b5cd_11ec_aa4a_1856807aed14level0_row7\" class=\"row_heading level0 row7\" >2017-08-01 00:00:00</th>\n",
       "                        <td id=\"T_1ea308c7_b5cd_11ec_aa4a_1856807aed14row7_col0\" class=\"data row7 col0\" ></td>\n",
       "                        <td id=\"T_1ea308c7_b5cd_11ec_aa4a_1856807aed14row7_col1\" class=\"data row7 col1\" ></td>\n",
       "                        <td id=\"T_1ea308c7_b5cd_11ec_aa4a_1856807aed14row7_col2\" class=\"data row7 col2\" ></td>\n",
       "                        <td id=\"T_1ea308c7_b5cd_11ec_aa4a_1856807aed14row7_col3\" class=\"data row7 col3\" ></td>\n",
       "                        <td id=\"T_1ea308c7_b5cd_11ec_aa4a_1856807aed14row7_col4\" class=\"data row7 col4\" ></td>\n",
       "                        <td id=\"T_1ea308c7_b5cd_11ec_aa4a_1856807aed14row7_col5\" class=\"data row7 col5\" ></td>\n",
       "                        <td id=\"T_1ea308c7_b5cd_11ec_aa4a_1856807aed14row7_col6\" class=\"data row7 col6\" ></td>\n",
       "                        <td id=\"T_1ea308c7_b5cd_11ec_aa4a_1856807aed14row7_col7\" class=\"data row7 col7\" ></td>\n",
       "                        <td id=\"T_1ea308c7_b5cd_11ec_aa4a_1856807aed14row7_col8\" class=\"data row7 col8\" ></td>\n",
       "                        <td id=\"T_1ea308c7_b5cd_11ec_aa4a_1856807aed14row7_col9\" class=\"data row7 col9\" >100.00%</td>\n",
       "                        <td id=\"T_1ea308c7_b5cd_11ec_aa4a_1856807aed14row7_col10\" class=\"data row7 col10\" ></td>\n",
       "                        <td id=\"T_1ea308c7_b5cd_11ec_aa4a_1856807aed14row7_col11\" class=\"data row7 col11\" >100.00%</td>\n",
       "                        <td id=\"T_1ea308c7_b5cd_11ec_aa4a_1856807aed14row7_col12\" class=\"data row7 col12\" >200.00%</td>\n",
       "                        <td id=\"T_1ea308c7_b5cd_11ec_aa4a_1856807aed14row7_col13\" class=\"data row7 col13\" ></td>\n",
       "                        <td id=\"T_1ea308c7_b5cd_11ec_aa4a_1856807aed14row7_col14\" class=\"data row7 col14\" ></td>\n",
       "                        <td id=\"T_1ea308c7_b5cd_11ec_aa4a_1856807aed14row7_col15\" class=\"data row7 col15\" ></td>\n",
       "                        <td id=\"T_1ea308c7_b5cd_11ec_aa4a_1856807aed14row7_col16\" class=\"data row7 col16\" ></td>\n",
       "                        <td id=\"T_1ea308c7_b5cd_11ec_aa4a_1856807aed14row7_col17\" class=\"data row7 col17\" ></td>\n",
       "                        <td id=\"T_1ea308c7_b5cd_11ec_aa4a_1856807aed14row7_col18\" class=\"data row7 col18\" ></td>\n",
       "            </tr>\n",
       "            <tr>\n",
       "                        <th id=\"T_1ea308c7_b5cd_11ec_aa4a_1856807aed14level0_row8\" class=\"row_heading level0 row8\" >2017-09-01 00:00:00</th>\n",
       "                        <td id=\"T_1ea308c7_b5cd_11ec_aa4a_1856807aed14row8_col0\" class=\"data row8 col0\" ></td>\n",
       "                        <td id=\"T_1ea308c7_b5cd_11ec_aa4a_1856807aed14row8_col1\" class=\"data row8 col1\" ></td>\n",
       "                        <td id=\"T_1ea308c7_b5cd_11ec_aa4a_1856807aed14row8_col2\" class=\"data row8 col2\" ></td>\n",
       "                        <td id=\"T_1ea308c7_b5cd_11ec_aa4a_1856807aed14row8_col3\" class=\"data row8 col3\" ></td>\n",
       "                        <td id=\"T_1ea308c7_b5cd_11ec_aa4a_1856807aed14row8_col4\" class=\"data row8 col4\" ></td>\n",
       "                        <td id=\"T_1ea308c7_b5cd_11ec_aa4a_1856807aed14row8_col5\" class=\"data row8 col5\" ></td>\n",
       "                        <td id=\"T_1ea308c7_b5cd_11ec_aa4a_1856807aed14row8_col6\" class=\"data row8 col6\" ></td>\n",
       "                        <td id=\"T_1ea308c7_b5cd_11ec_aa4a_1856807aed14row8_col7\" class=\"data row8 col7\" ></td>\n",
       "                        <td id=\"T_1ea308c7_b5cd_11ec_aa4a_1856807aed14row8_col8\" class=\"data row8 col8\" ></td>\n",
       "                        <td id=\"T_1ea308c7_b5cd_11ec_aa4a_1856807aed14row8_col9\" class=\"data row8 col9\" >100.00%</td>\n",
       "                        <td id=\"T_1ea308c7_b5cd_11ec_aa4a_1856807aed14row8_col10\" class=\"data row8 col10\" >200.00%</td>\n",
       "                        <td id=\"T_1ea308c7_b5cd_11ec_aa4a_1856807aed14row8_col11\" class=\"data row8 col11\" >100.00%</td>\n",
       "                        <td id=\"T_1ea308c7_b5cd_11ec_aa4a_1856807aed14row8_col12\" class=\"data row8 col12\" ></td>\n",
       "                        <td id=\"T_1ea308c7_b5cd_11ec_aa4a_1856807aed14row8_col13\" class=\"data row8 col13\" ></td>\n",
       "                        <td id=\"T_1ea308c7_b5cd_11ec_aa4a_1856807aed14row8_col14\" class=\"data row8 col14\" ></td>\n",
       "                        <td id=\"T_1ea308c7_b5cd_11ec_aa4a_1856807aed14row8_col15\" class=\"data row8 col15\" ></td>\n",
       "                        <td id=\"T_1ea308c7_b5cd_11ec_aa4a_1856807aed14row8_col16\" class=\"data row8 col16\" ></td>\n",
       "                        <td id=\"T_1ea308c7_b5cd_11ec_aa4a_1856807aed14row8_col17\" class=\"data row8 col17\" ></td>\n",
       "                        <td id=\"T_1ea308c7_b5cd_11ec_aa4a_1856807aed14row8_col18\" class=\"data row8 col18\" ></td>\n",
       "            </tr>\n",
       "            <tr>\n",
       "                        <th id=\"T_1ea308c7_b5cd_11ec_aa4a_1856807aed14level0_row9\" class=\"row_heading level0 row9\" >2017-10-01 00:00:00</th>\n",
       "                        <td id=\"T_1ea308c7_b5cd_11ec_aa4a_1856807aed14row9_col0\" class=\"data row9 col0\" >6.74%</td>\n",
       "                        <td id=\"T_1ea308c7_b5cd_11ec_aa4a_1856807aed14row9_col1\" class=\"data row9 col1\" >5.62%</td>\n",
       "                        <td id=\"T_1ea308c7_b5cd_11ec_aa4a_1856807aed14row9_col2\" class=\"data row9 col2\" >2.25%</td>\n",
       "                        <td id=\"T_1ea308c7_b5cd_11ec_aa4a_1856807aed14row9_col3\" class=\"data row9 col3\" >5.62%</td>\n",
       "                        <td id=\"T_1ea308c7_b5cd_11ec_aa4a_1856807aed14row9_col4\" class=\"data row9 col4\" >7.87%</td>\n",
       "                        <td id=\"T_1ea308c7_b5cd_11ec_aa4a_1856807aed14row9_col5\" class=\"data row9 col5\" >6.74%</td>\n",
       "                        <td id=\"T_1ea308c7_b5cd_11ec_aa4a_1856807aed14row9_col6\" class=\"data row9 col6\" >5.62%</td>\n",
       "                        <td id=\"T_1ea308c7_b5cd_11ec_aa4a_1856807aed14row9_col7\" class=\"data row9 col7\" >3.37%</td>\n",
       "                        <td id=\"T_1ea308c7_b5cd_11ec_aa4a_1856807aed14row9_col8\" class=\"data row9 col8\" >3.37%</td>\n",
       "                        <td id=\"T_1ea308c7_b5cd_11ec_aa4a_1856807aed14row9_col9\" class=\"data row9 col9\" >100.00%</td>\n",
       "                        <td id=\"T_1ea308c7_b5cd_11ec_aa4a_1856807aed14row9_col10\" class=\"data row9 col10\" >7.87%</td>\n",
       "                        <td id=\"T_1ea308c7_b5cd_11ec_aa4a_1856807aed14row9_col11\" class=\"data row9 col11\" >5.62%</td>\n",
       "                        <td id=\"T_1ea308c7_b5cd_11ec_aa4a_1856807aed14row9_col12\" class=\"data row9 col12\" ></td>\n",
       "                        <td id=\"T_1ea308c7_b5cd_11ec_aa4a_1856807aed14row9_col13\" class=\"data row9 col13\" ></td>\n",
       "                        <td id=\"T_1ea308c7_b5cd_11ec_aa4a_1856807aed14row9_col14\" class=\"data row9 col14\" ></td>\n",
       "                        <td id=\"T_1ea308c7_b5cd_11ec_aa4a_1856807aed14row9_col15\" class=\"data row9 col15\" ></td>\n",
       "                        <td id=\"T_1ea308c7_b5cd_11ec_aa4a_1856807aed14row9_col16\" class=\"data row9 col16\" ></td>\n",
       "                        <td id=\"T_1ea308c7_b5cd_11ec_aa4a_1856807aed14row9_col17\" class=\"data row9 col17\" ></td>\n",
       "                        <td id=\"T_1ea308c7_b5cd_11ec_aa4a_1856807aed14row9_col18\" class=\"data row9 col18\" ></td>\n",
       "            </tr>\n",
       "    </tbody></table>"
      ],
      "text/plain": [
       "<pandas.io.formats.style.Styler at 0x1f1fc991370>"
      ]
     },
     "execution_count": 176,
     "metadata": {},
     "output_type": "execute_result"
    }
   ],
   "source": [
    "retetion_table_by_transactions(transactions_control_1)"
   ]
  },
  {
   "cell_type": "code",
   "execution_count": 177,
   "metadata": {},
   "outputs": [
    {
     "name": "stderr",
     "output_type": "stream",
     "text": [
      "<ipython-input-174-55d0d70e39ec>:3: SettingWithCopyWarning: \n",
      "A value is trying to be set on a copy of a slice from a DataFrame.\n",
      "Try using .loc[row_indexer,col_indexer] = value instead\n",
      "\n",
      "See the caveats in the documentation: https://pandas.pydata.org/pandas-docs/stable/user_guide/indexing.html#returning-a-view-versus-a-copy\n",
      "  activity['joined_at'] = pd.to_datetime(activity.joined_at.dt.strftime('%Y-%m')).copy()\n",
      "<ipython-input-174-55d0d70e39ec>:4: SettingWithCopyWarning: \n",
      "A value is trying to be set on a copy of a slice from a DataFrame.\n",
      "Try using .loc[row_indexer,col_indexer] = value instead\n",
      "\n",
      "See the caveats in the documentation: https://pandas.pydata.org/pandas-docs/stable/user_guide/indexing.html#returning-a-view-versus-a-copy\n",
      "  activity['paid_at'] = pd.to_datetime(activity.paid_at.dt.strftime('%Y-%m'))\n",
      "<ipython-input-174-55d0d70e39ec>:5: SettingWithCopyWarning: \n",
      "A value is trying to be set on a copy of a slice from a DataFrame.\n",
      "Try using .loc[row_indexer,col_indexer] = value instead\n",
      "\n",
      "See the caveats in the documentation: https://pandas.pydata.org/pandas-docs/stable/user_guide/indexing.html#returning-a-view-versus-a-copy\n",
      "  activity['month_retention'] = activity.paid_at.dt.month - activity.joined_at.dt.month\n"
     ]
    },
    {
     "data": {
      "text/html": [
       "<style  type=\"text/css\" >\n",
       "#T_1f8cf67d_b5cd_11ec_b561_1856807aed14row0_col0,#T_1f8cf67d_b5cd_11ec_b561_1856807aed14row0_col1,#T_1f8cf67d_b5cd_11ec_b561_1856807aed14row0_col2,#T_1f8cf67d_b5cd_11ec_b561_1856807aed14row0_col3,#T_1f8cf67d_b5cd_11ec_b561_1856807aed14row0_col4,#T_1f8cf67d_b5cd_11ec_b561_1856807aed14row0_col5,#T_1f8cf67d_b5cd_11ec_b561_1856807aed14row0_col6,#T_1f8cf67d_b5cd_11ec_b561_1856807aed14row0_col7,#T_1f8cf67d_b5cd_11ec_b561_1856807aed14row0_col8,#T_1f8cf67d_b5cd_11ec_b561_1856807aed14row0_col9,#T_1f8cf67d_b5cd_11ec_b561_1856807aed14row0_col10,#T_1f8cf67d_b5cd_11ec_b561_1856807aed14row0_col11,#T_1f8cf67d_b5cd_11ec_b561_1856807aed14row0_col12,#T_1f8cf67d_b5cd_11ec_b561_1856807aed14row0_col13,#T_1f8cf67d_b5cd_11ec_b561_1856807aed14row0_col14,#T_1f8cf67d_b5cd_11ec_b561_1856807aed14row0_col15,#T_1f8cf67d_b5cd_11ec_b561_1856807aed14row0_col16,#T_1f8cf67d_b5cd_11ec_b561_1856807aed14row1_col0,#T_1f8cf67d_b5cd_11ec_b561_1856807aed14row1_col1,#T_1f8cf67d_b5cd_11ec_b561_1856807aed14row1_col2,#T_1f8cf67d_b5cd_11ec_b561_1856807aed14row1_col3,#T_1f8cf67d_b5cd_11ec_b561_1856807aed14row1_col4,#T_1f8cf67d_b5cd_11ec_b561_1856807aed14row1_col5,#T_1f8cf67d_b5cd_11ec_b561_1856807aed14row1_col6,#T_1f8cf67d_b5cd_11ec_b561_1856807aed14row1_col7,#T_1f8cf67d_b5cd_11ec_b561_1856807aed14row1_col8,#T_1f8cf67d_b5cd_11ec_b561_1856807aed14row1_col10,#T_1f8cf67d_b5cd_11ec_b561_1856807aed14row1_col11,#T_1f8cf67d_b5cd_11ec_b561_1856807aed14row1_col13,#T_1f8cf67d_b5cd_11ec_b561_1856807aed14row1_col14,#T_1f8cf67d_b5cd_11ec_b561_1856807aed14row2_col0,#T_1f8cf67d_b5cd_11ec_b561_1856807aed14row2_col1,#T_1f8cf67d_b5cd_11ec_b561_1856807aed14row2_col2,#T_1f8cf67d_b5cd_11ec_b561_1856807aed14row2_col3,#T_1f8cf67d_b5cd_11ec_b561_1856807aed14row2_col4,#T_1f8cf67d_b5cd_11ec_b561_1856807aed14row2_col5,#T_1f8cf67d_b5cd_11ec_b561_1856807aed14row2_col6,#T_1f8cf67d_b5cd_11ec_b561_1856807aed14row2_col7,#T_1f8cf67d_b5cd_11ec_b561_1856807aed14row2_col8,#T_1f8cf67d_b5cd_11ec_b561_1856807aed14row2_col12,#T_1f8cf67d_b5cd_11ec_b561_1856807aed14row2_col14,#T_1f8cf67d_b5cd_11ec_b561_1856807aed14row2_col15,#T_1f8cf67d_b5cd_11ec_b561_1856807aed14row3_col0,#T_1f8cf67d_b5cd_11ec_b561_1856807aed14row3_col1,#T_1f8cf67d_b5cd_11ec_b561_1856807aed14row3_col2,#T_1f8cf67d_b5cd_11ec_b561_1856807aed14row3_col3,#T_1f8cf67d_b5cd_11ec_b561_1856807aed14row3_col4,#T_1f8cf67d_b5cd_11ec_b561_1856807aed14row3_col5,#T_1f8cf67d_b5cd_11ec_b561_1856807aed14row3_col6,#T_1f8cf67d_b5cd_11ec_b561_1856807aed14row3_col7,#T_1f8cf67d_b5cd_11ec_b561_1856807aed14row3_col8,#T_1f8cf67d_b5cd_11ec_b561_1856807aed14row3_col10,#T_1f8cf67d_b5cd_11ec_b561_1856807aed14row3_col11,#T_1f8cf67d_b5cd_11ec_b561_1856807aed14row3_col12,#T_1f8cf67d_b5cd_11ec_b561_1856807aed14row3_col13,#T_1f8cf67d_b5cd_11ec_b561_1856807aed14row3_col14,#T_1f8cf67d_b5cd_11ec_b561_1856807aed14row3_col15,#T_1f8cf67d_b5cd_11ec_b561_1856807aed14row3_col16,#T_1f8cf67d_b5cd_11ec_b561_1856807aed14row4_col0,#T_1f8cf67d_b5cd_11ec_b561_1856807aed14row4_col1,#T_1f8cf67d_b5cd_11ec_b561_1856807aed14row4_col2,#T_1f8cf67d_b5cd_11ec_b561_1856807aed14row4_col3,#T_1f8cf67d_b5cd_11ec_b561_1856807aed14row4_col4,#T_1f8cf67d_b5cd_11ec_b561_1856807aed14row4_col5,#T_1f8cf67d_b5cd_11ec_b561_1856807aed14row4_col6,#T_1f8cf67d_b5cd_11ec_b561_1856807aed14row4_col7,#T_1f8cf67d_b5cd_11ec_b561_1856807aed14row4_col8,#T_1f8cf67d_b5cd_11ec_b561_1856807aed14row4_col11,#T_1f8cf67d_b5cd_11ec_b561_1856807aed14row4_col12,#T_1f8cf67d_b5cd_11ec_b561_1856807aed14row4_col14,#T_1f8cf67d_b5cd_11ec_b561_1856807aed14row5_col0,#T_1f8cf67d_b5cd_11ec_b561_1856807aed14row5_col1,#T_1f8cf67d_b5cd_11ec_b561_1856807aed14row5_col2,#T_1f8cf67d_b5cd_11ec_b561_1856807aed14row5_col3,#T_1f8cf67d_b5cd_11ec_b561_1856807aed14row5_col4,#T_1f8cf67d_b5cd_11ec_b561_1856807aed14row5_col5,#T_1f8cf67d_b5cd_11ec_b561_1856807aed14row5_col6,#T_1f8cf67d_b5cd_11ec_b561_1856807aed14row5_col7,#T_1f8cf67d_b5cd_11ec_b561_1856807aed14row5_col8,#T_1f8cf67d_b5cd_11ec_b561_1856807aed14row5_col15,#T_1f8cf67d_b5cd_11ec_b561_1856807aed14row5_col16,#T_1f8cf67d_b5cd_11ec_b561_1856807aed14row6_col0,#T_1f8cf67d_b5cd_11ec_b561_1856807aed14row6_col1,#T_1f8cf67d_b5cd_11ec_b561_1856807aed14row6_col2,#T_1f8cf67d_b5cd_11ec_b561_1856807aed14row6_col3,#T_1f8cf67d_b5cd_11ec_b561_1856807aed14row6_col4,#T_1f8cf67d_b5cd_11ec_b561_1856807aed14row6_col5,#T_1f8cf67d_b5cd_11ec_b561_1856807aed14row6_col6,#T_1f8cf67d_b5cd_11ec_b561_1856807aed14row6_col7,#T_1f8cf67d_b5cd_11ec_b561_1856807aed14row6_col8,#T_1f8cf67d_b5cd_11ec_b561_1856807aed14row6_col12,#T_1f8cf67d_b5cd_11ec_b561_1856807aed14row6_col14,#T_1f8cf67d_b5cd_11ec_b561_1856807aed14row6_col15,#T_1f8cf67d_b5cd_11ec_b561_1856807aed14row6_col16,#T_1f8cf67d_b5cd_11ec_b561_1856807aed14row7_col0,#T_1f8cf67d_b5cd_11ec_b561_1856807aed14row7_col1,#T_1f8cf67d_b5cd_11ec_b561_1856807aed14row7_col2,#T_1f8cf67d_b5cd_11ec_b561_1856807aed14row7_col3,#T_1f8cf67d_b5cd_11ec_b561_1856807aed14row7_col4,#T_1f8cf67d_b5cd_11ec_b561_1856807aed14row7_col5,#T_1f8cf67d_b5cd_11ec_b561_1856807aed14row7_col6,#T_1f8cf67d_b5cd_11ec_b561_1856807aed14row7_col7,#T_1f8cf67d_b5cd_11ec_b561_1856807aed14row7_col8,#T_1f8cf67d_b5cd_11ec_b561_1856807aed14row7_col10,#T_1f8cf67d_b5cd_11ec_b561_1856807aed14row7_col11,#T_1f8cf67d_b5cd_11ec_b561_1856807aed14row7_col13,#T_1f8cf67d_b5cd_11ec_b561_1856807aed14row7_col14,#T_1f8cf67d_b5cd_11ec_b561_1856807aed14row7_col15,#T_1f8cf67d_b5cd_11ec_b561_1856807aed14row7_col16,#T_1f8cf67d_b5cd_11ec_b561_1856807aed14row8_col0,#T_1f8cf67d_b5cd_11ec_b561_1856807aed14row8_col1,#T_1f8cf67d_b5cd_11ec_b561_1856807aed14row8_col2,#T_1f8cf67d_b5cd_11ec_b561_1856807aed14row8_col3,#T_1f8cf67d_b5cd_11ec_b561_1856807aed14row8_col4,#T_1f8cf67d_b5cd_11ec_b561_1856807aed14row8_col5,#T_1f8cf67d_b5cd_11ec_b561_1856807aed14row8_col6,#T_1f8cf67d_b5cd_11ec_b561_1856807aed14row8_col7,#T_1f8cf67d_b5cd_11ec_b561_1856807aed14row8_col8,#T_1f8cf67d_b5cd_11ec_b561_1856807aed14row8_col9,#T_1f8cf67d_b5cd_11ec_b561_1856807aed14row8_col10,#T_1f8cf67d_b5cd_11ec_b561_1856807aed14row8_col11,#T_1f8cf67d_b5cd_11ec_b561_1856807aed14row8_col12,#T_1f8cf67d_b5cd_11ec_b561_1856807aed14row8_col13,#T_1f8cf67d_b5cd_11ec_b561_1856807aed14row8_col14,#T_1f8cf67d_b5cd_11ec_b561_1856807aed14row8_col15,#T_1f8cf67d_b5cd_11ec_b561_1856807aed14row8_col16,#T_1f8cf67d_b5cd_11ec_b561_1856807aed14row9_col12,#T_1f8cf67d_b5cd_11ec_b561_1856807aed14row9_col13,#T_1f8cf67d_b5cd_11ec_b561_1856807aed14row9_col14,#T_1f8cf67d_b5cd_11ec_b561_1856807aed14row9_col15,#T_1f8cf67d_b5cd_11ec_b561_1856807aed14row9_col16{\n",
       "            background-color:  white;\n",
       "        }</style><table id=\"T_1f8cf67d_b5cd_11ec_b561_1856807aed14\" ><caption>User retention by cohort</caption><thead>    <tr>        <th class=\"index_name level0\" >month_retention</th>        <th class=\"col_heading level0 col0\" >-9</th>        <th class=\"col_heading level0 col1\" >-8</th>        <th class=\"col_heading level0 col2\" >-7</th>        <th class=\"col_heading level0 col3\" >-6</th>        <th class=\"col_heading level0 col4\" >-5</th>        <th class=\"col_heading level0 col5\" >-4</th>        <th class=\"col_heading level0 col6\" >-3</th>        <th class=\"col_heading level0 col7\" >-2</th>        <th class=\"col_heading level0 col8\" >-1</th>        <th class=\"col_heading level0 col9\" >0</th>        <th class=\"col_heading level0 col10\" >1</th>        <th class=\"col_heading level0 col11\" >2</th>        <th class=\"col_heading level0 col12\" >3</th>        <th class=\"col_heading level0 col13\" >4</th>        <th class=\"col_heading level0 col14\" >5</th>        <th class=\"col_heading level0 col15\" >6</th>        <th class=\"col_heading level0 col16\" >7</th>    </tr>    <tr>        <th class=\"index_name level0\" >joined_at</th>        <th class=\"blank\" ></th>        <th class=\"blank\" ></th>        <th class=\"blank\" ></th>        <th class=\"blank\" ></th>        <th class=\"blank\" ></th>        <th class=\"blank\" ></th>        <th class=\"blank\" ></th>        <th class=\"blank\" ></th>        <th class=\"blank\" ></th>        <th class=\"blank\" ></th>        <th class=\"blank\" ></th>        <th class=\"blank\" ></th>        <th class=\"blank\" ></th>        <th class=\"blank\" ></th>        <th class=\"blank\" ></th>        <th class=\"blank\" ></th>        <th class=\"blank\" ></th>    </tr></thead><tbody>\n",
       "                <tr>\n",
       "                        <th id=\"T_1f8cf67d_b5cd_11ec_b561_1856807aed14level0_row0\" class=\"row_heading level0 row0\" >2017-01-01 00:00:00</th>\n",
       "                        <td id=\"T_1f8cf67d_b5cd_11ec_b561_1856807aed14row0_col0\" class=\"data row0 col0\" ></td>\n",
       "                        <td id=\"T_1f8cf67d_b5cd_11ec_b561_1856807aed14row0_col1\" class=\"data row0 col1\" ></td>\n",
       "                        <td id=\"T_1f8cf67d_b5cd_11ec_b561_1856807aed14row0_col2\" class=\"data row0 col2\" ></td>\n",
       "                        <td id=\"T_1f8cf67d_b5cd_11ec_b561_1856807aed14row0_col3\" class=\"data row0 col3\" ></td>\n",
       "                        <td id=\"T_1f8cf67d_b5cd_11ec_b561_1856807aed14row0_col4\" class=\"data row0 col4\" ></td>\n",
       "                        <td id=\"T_1f8cf67d_b5cd_11ec_b561_1856807aed14row0_col5\" class=\"data row0 col5\" ></td>\n",
       "                        <td id=\"T_1f8cf67d_b5cd_11ec_b561_1856807aed14row0_col6\" class=\"data row0 col6\" ></td>\n",
       "                        <td id=\"T_1f8cf67d_b5cd_11ec_b561_1856807aed14row0_col7\" class=\"data row0 col7\" ></td>\n",
       "                        <td id=\"T_1f8cf67d_b5cd_11ec_b561_1856807aed14row0_col8\" class=\"data row0 col8\" ></td>\n",
       "                        <td id=\"T_1f8cf67d_b5cd_11ec_b561_1856807aed14row0_col9\" class=\"data row0 col9\" ></td>\n",
       "                        <td id=\"T_1f8cf67d_b5cd_11ec_b561_1856807aed14row0_col10\" class=\"data row0 col10\" ></td>\n",
       "                        <td id=\"T_1f8cf67d_b5cd_11ec_b561_1856807aed14row0_col11\" class=\"data row0 col11\" ></td>\n",
       "                        <td id=\"T_1f8cf67d_b5cd_11ec_b561_1856807aed14row0_col12\" class=\"data row0 col12\" ></td>\n",
       "                        <td id=\"T_1f8cf67d_b5cd_11ec_b561_1856807aed14row0_col13\" class=\"data row0 col13\" ></td>\n",
       "                        <td id=\"T_1f8cf67d_b5cd_11ec_b561_1856807aed14row0_col14\" class=\"data row0 col14\" ></td>\n",
       "                        <td id=\"T_1f8cf67d_b5cd_11ec_b561_1856807aed14row0_col15\" class=\"data row0 col15\" ></td>\n",
       "                        <td id=\"T_1f8cf67d_b5cd_11ec_b561_1856807aed14row0_col16\" class=\"data row0 col16\" ></td>\n",
       "            </tr>\n",
       "            <tr>\n",
       "                        <th id=\"T_1f8cf67d_b5cd_11ec_b561_1856807aed14level0_row1\" class=\"row_heading level0 row1\" >2017-02-01 00:00:00</th>\n",
       "                        <td id=\"T_1f8cf67d_b5cd_11ec_b561_1856807aed14row1_col0\" class=\"data row1 col0\" ></td>\n",
       "                        <td id=\"T_1f8cf67d_b5cd_11ec_b561_1856807aed14row1_col1\" class=\"data row1 col1\" ></td>\n",
       "                        <td id=\"T_1f8cf67d_b5cd_11ec_b561_1856807aed14row1_col2\" class=\"data row1 col2\" ></td>\n",
       "                        <td id=\"T_1f8cf67d_b5cd_11ec_b561_1856807aed14row1_col3\" class=\"data row1 col3\" ></td>\n",
       "                        <td id=\"T_1f8cf67d_b5cd_11ec_b561_1856807aed14row1_col4\" class=\"data row1 col4\" ></td>\n",
       "                        <td id=\"T_1f8cf67d_b5cd_11ec_b561_1856807aed14row1_col5\" class=\"data row1 col5\" ></td>\n",
       "                        <td id=\"T_1f8cf67d_b5cd_11ec_b561_1856807aed14row1_col6\" class=\"data row1 col6\" ></td>\n",
       "                        <td id=\"T_1f8cf67d_b5cd_11ec_b561_1856807aed14row1_col7\" class=\"data row1 col7\" ></td>\n",
       "                        <td id=\"T_1f8cf67d_b5cd_11ec_b561_1856807aed14row1_col8\" class=\"data row1 col8\" ></td>\n",
       "                        <td id=\"T_1f8cf67d_b5cd_11ec_b561_1856807aed14row1_col9\" class=\"data row1 col9\" >100.00%</td>\n",
       "                        <td id=\"T_1f8cf67d_b5cd_11ec_b561_1856807aed14row1_col10\" class=\"data row1 col10\" ></td>\n",
       "                        <td id=\"T_1f8cf67d_b5cd_11ec_b561_1856807aed14row1_col11\" class=\"data row1 col11\" ></td>\n",
       "                        <td id=\"T_1f8cf67d_b5cd_11ec_b561_1856807aed14row1_col12\" class=\"data row1 col12\" >100.00%</td>\n",
       "                        <td id=\"T_1f8cf67d_b5cd_11ec_b561_1856807aed14row1_col13\" class=\"data row1 col13\" ></td>\n",
       "                        <td id=\"T_1f8cf67d_b5cd_11ec_b561_1856807aed14row1_col14\" class=\"data row1 col14\" ></td>\n",
       "                        <td id=\"T_1f8cf67d_b5cd_11ec_b561_1856807aed14row1_col15\" class=\"data row1 col15\" >100.00%</td>\n",
       "                        <td id=\"T_1f8cf67d_b5cd_11ec_b561_1856807aed14row1_col16\" class=\"data row1 col16\" >400.00%</td>\n",
       "            </tr>\n",
       "            <tr>\n",
       "                        <th id=\"T_1f8cf67d_b5cd_11ec_b561_1856807aed14level0_row2\" class=\"row_heading level0 row2\" >2017-03-01 00:00:00</th>\n",
       "                        <td id=\"T_1f8cf67d_b5cd_11ec_b561_1856807aed14row2_col0\" class=\"data row2 col0\" ></td>\n",
       "                        <td id=\"T_1f8cf67d_b5cd_11ec_b561_1856807aed14row2_col1\" class=\"data row2 col1\" ></td>\n",
       "                        <td id=\"T_1f8cf67d_b5cd_11ec_b561_1856807aed14row2_col2\" class=\"data row2 col2\" ></td>\n",
       "                        <td id=\"T_1f8cf67d_b5cd_11ec_b561_1856807aed14row2_col3\" class=\"data row2 col3\" ></td>\n",
       "                        <td id=\"T_1f8cf67d_b5cd_11ec_b561_1856807aed14row2_col4\" class=\"data row2 col4\" ></td>\n",
       "                        <td id=\"T_1f8cf67d_b5cd_11ec_b561_1856807aed14row2_col5\" class=\"data row2 col5\" ></td>\n",
       "                        <td id=\"T_1f8cf67d_b5cd_11ec_b561_1856807aed14row2_col6\" class=\"data row2 col6\" ></td>\n",
       "                        <td id=\"T_1f8cf67d_b5cd_11ec_b561_1856807aed14row2_col7\" class=\"data row2 col7\" ></td>\n",
       "                        <td id=\"T_1f8cf67d_b5cd_11ec_b561_1856807aed14row2_col8\" class=\"data row2 col8\" ></td>\n",
       "                        <td id=\"T_1f8cf67d_b5cd_11ec_b561_1856807aed14row2_col9\" class=\"data row2 col9\" >100.00%</td>\n",
       "                        <td id=\"T_1f8cf67d_b5cd_11ec_b561_1856807aed14row2_col10\" class=\"data row2 col10\" >50.00%</td>\n",
       "                        <td id=\"T_1f8cf67d_b5cd_11ec_b561_1856807aed14row2_col11\" class=\"data row2 col11\" >50.00%</td>\n",
       "                        <td id=\"T_1f8cf67d_b5cd_11ec_b561_1856807aed14row2_col12\" class=\"data row2 col12\" ></td>\n",
       "                        <td id=\"T_1f8cf67d_b5cd_11ec_b561_1856807aed14row2_col13\" class=\"data row2 col13\" >50.00%</td>\n",
       "                        <td id=\"T_1f8cf67d_b5cd_11ec_b561_1856807aed14row2_col14\" class=\"data row2 col14\" ></td>\n",
       "                        <td id=\"T_1f8cf67d_b5cd_11ec_b561_1856807aed14row2_col15\" class=\"data row2 col15\" ></td>\n",
       "                        <td id=\"T_1f8cf67d_b5cd_11ec_b561_1856807aed14row2_col16\" class=\"data row2 col16\" >100.00%</td>\n",
       "            </tr>\n",
       "            <tr>\n",
       "                        <th id=\"T_1f8cf67d_b5cd_11ec_b561_1856807aed14level0_row3\" class=\"row_heading level0 row3\" >2017-04-01 00:00:00</th>\n",
       "                        <td id=\"T_1f8cf67d_b5cd_11ec_b561_1856807aed14row3_col0\" class=\"data row3 col0\" ></td>\n",
       "                        <td id=\"T_1f8cf67d_b5cd_11ec_b561_1856807aed14row3_col1\" class=\"data row3 col1\" ></td>\n",
       "                        <td id=\"T_1f8cf67d_b5cd_11ec_b561_1856807aed14row3_col2\" class=\"data row3 col2\" ></td>\n",
       "                        <td id=\"T_1f8cf67d_b5cd_11ec_b561_1856807aed14row3_col3\" class=\"data row3 col3\" ></td>\n",
       "                        <td id=\"T_1f8cf67d_b5cd_11ec_b561_1856807aed14row3_col4\" class=\"data row3 col4\" ></td>\n",
       "                        <td id=\"T_1f8cf67d_b5cd_11ec_b561_1856807aed14row3_col5\" class=\"data row3 col5\" ></td>\n",
       "                        <td id=\"T_1f8cf67d_b5cd_11ec_b561_1856807aed14row3_col6\" class=\"data row3 col6\" ></td>\n",
       "                        <td id=\"T_1f8cf67d_b5cd_11ec_b561_1856807aed14row3_col7\" class=\"data row3 col7\" ></td>\n",
       "                        <td id=\"T_1f8cf67d_b5cd_11ec_b561_1856807aed14row3_col8\" class=\"data row3 col8\" ></td>\n",
       "                        <td id=\"T_1f8cf67d_b5cd_11ec_b561_1856807aed14row3_col9\" class=\"data row3 col9\" >100.00%</td>\n",
       "                        <td id=\"T_1f8cf67d_b5cd_11ec_b561_1856807aed14row3_col10\" class=\"data row3 col10\" ></td>\n",
       "                        <td id=\"T_1f8cf67d_b5cd_11ec_b561_1856807aed14row3_col11\" class=\"data row3 col11\" ></td>\n",
       "                        <td id=\"T_1f8cf67d_b5cd_11ec_b561_1856807aed14row3_col12\" class=\"data row3 col12\" ></td>\n",
       "                        <td id=\"T_1f8cf67d_b5cd_11ec_b561_1856807aed14row3_col13\" class=\"data row3 col13\" ></td>\n",
       "                        <td id=\"T_1f8cf67d_b5cd_11ec_b561_1856807aed14row3_col14\" class=\"data row3 col14\" ></td>\n",
       "                        <td id=\"T_1f8cf67d_b5cd_11ec_b561_1856807aed14row3_col15\" class=\"data row3 col15\" ></td>\n",
       "                        <td id=\"T_1f8cf67d_b5cd_11ec_b561_1856807aed14row3_col16\" class=\"data row3 col16\" ></td>\n",
       "            </tr>\n",
       "            <tr>\n",
       "                        <th id=\"T_1f8cf67d_b5cd_11ec_b561_1856807aed14level0_row4\" class=\"row_heading level0 row4\" >2017-05-01 00:00:00</th>\n",
       "                        <td id=\"T_1f8cf67d_b5cd_11ec_b561_1856807aed14row4_col0\" class=\"data row4 col0\" ></td>\n",
       "                        <td id=\"T_1f8cf67d_b5cd_11ec_b561_1856807aed14row4_col1\" class=\"data row4 col1\" ></td>\n",
       "                        <td id=\"T_1f8cf67d_b5cd_11ec_b561_1856807aed14row4_col2\" class=\"data row4 col2\" ></td>\n",
       "                        <td id=\"T_1f8cf67d_b5cd_11ec_b561_1856807aed14row4_col3\" class=\"data row4 col3\" ></td>\n",
       "                        <td id=\"T_1f8cf67d_b5cd_11ec_b561_1856807aed14row4_col4\" class=\"data row4 col4\" ></td>\n",
       "                        <td id=\"T_1f8cf67d_b5cd_11ec_b561_1856807aed14row4_col5\" class=\"data row4 col5\" ></td>\n",
       "                        <td id=\"T_1f8cf67d_b5cd_11ec_b561_1856807aed14row4_col6\" class=\"data row4 col6\" ></td>\n",
       "                        <td id=\"T_1f8cf67d_b5cd_11ec_b561_1856807aed14row4_col7\" class=\"data row4 col7\" ></td>\n",
       "                        <td id=\"T_1f8cf67d_b5cd_11ec_b561_1856807aed14row4_col8\" class=\"data row4 col8\" ></td>\n",
       "                        <td id=\"T_1f8cf67d_b5cd_11ec_b561_1856807aed14row4_col9\" class=\"data row4 col9\" >100.00%</td>\n",
       "                        <td id=\"T_1f8cf67d_b5cd_11ec_b561_1856807aed14row4_col10\" class=\"data row4 col10\" >100.00%</td>\n",
       "                        <td id=\"T_1f8cf67d_b5cd_11ec_b561_1856807aed14row4_col11\" class=\"data row4 col11\" ></td>\n",
       "                        <td id=\"T_1f8cf67d_b5cd_11ec_b561_1856807aed14row4_col12\" class=\"data row4 col12\" ></td>\n",
       "                        <td id=\"T_1f8cf67d_b5cd_11ec_b561_1856807aed14row4_col13\" class=\"data row4 col13\" >25.00%</td>\n",
       "                        <td id=\"T_1f8cf67d_b5cd_11ec_b561_1856807aed14row4_col14\" class=\"data row4 col14\" ></td>\n",
       "                        <td id=\"T_1f8cf67d_b5cd_11ec_b561_1856807aed14row4_col15\" class=\"data row4 col15\" >75.00%</td>\n",
       "                        <td id=\"T_1f8cf67d_b5cd_11ec_b561_1856807aed14row4_col16\" class=\"data row4 col16\" >50.00%</td>\n",
       "            </tr>\n",
       "            <tr>\n",
       "                        <th id=\"T_1f8cf67d_b5cd_11ec_b561_1856807aed14level0_row5\" class=\"row_heading level0 row5\" >2017-06-01 00:00:00</th>\n",
       "                        <td id=\"T_1f8cf67d_b5cd_11ec_b561_1856807aed14row5_col0\" class=\"data row5 col0\" ></td>\n",
       "                        <td id=\"T_1f8cf67d_b5cd_11ec_b561_1856807aed14row5_col1\" class=\"data row5 col1\" ></td>\n",
       "                        <td id=\"T_1f8cf67d_b5cd_11ec_b561_1856807aed14row5_col2\" class=\"data row5 col2\" ></td>\n",
       "                        <td id=\"T_1f8cf67d_b5cd_11ec_b561_1856807aed14row5_col3\" class=\"data row5 col3\" ></td>\n",
       "                        <td id=\"T_1f8cf67d_b5cd_11ec_b561_1856807aed14row5_col4\" class=\"data row5 col4\" ></td>\n",
       "                        <td id=\"T_1f8cf67d_b5cd_11ec_b561_1856807aed14row5_col5\" class=\"data row5 col5\" ></td>\n",
       "                        <td id=\"T_1f8cf67d_b5cd_11ec_b561_1856807aed14row5_col6\" class=\"data row5 col6\" ></td>\n",
       "                        <td id=\"T_1f8cf67d_b5cd_11ec_b561_1856807aed14row5_col7\" class=\"data row5 col7\" ></td>\n",
       "                        <td id=\"T_1f8cf67d_b5cd_11ec_b561_1856807aed14row5_col8\" class=\"data row5 col8\" ></td>\n",
       "                        <td id=\"T_1f8cf67d_b5cd_11ec_b561_1856807aed14row5_col9\" class=\"data row5 col9\" >100.00%</td>\n",
       "                        <td id=\"T_1f8cf67d_b5cd_11ec_b561_1856807aed14row5_col10\" class=\"data row5 col10\" >75.00%</td>\n",
       "                        <td id=\"T_1f8cf67d_b5cd_11ec_b561_1856807aed14row5_col11\" class=\"data row5 col11\" >25.00%</td>\n",
       "                        <td id=\"T_1f8cf67d_b5cd_11ec_b561_1856807aed14row5_col12\" class=\"data row5 col12\" >50.00%</td>\n",
       "                        <td id=\"T_1f8cf67d_b5cd_11ec_b561_1856807aed14row5_col13\" class=\"data row5 col13\" >25.00%</td>\n",
       "                        <td id=\"T_1f8cf67d_b5cd_11ec_b561_1856807aed14row5_col14\" class=\"data row5 col14\" >25.00%</td>\n",
       "                        <td id=\"T_1f8cf67d_b5cd_11ec_b561_1856807aed14row5_col15\" class=\"data row5 col15\" ></td>\n",
       "                        <td id=\"T_1f8cf67d_b5cd_11ec_b561_1856807aed14row5_col16\" class=\"data row5 col16\" ></td>\n",
       "            </tr>\n",
       "            <tr>\n",
       "                        <th id=\"T_1f8cf67d_b5cd_11ec_b561_1856807aed14level0_row6\" class=\"row_heading level0 row6\" >2017-07-01 00:00:00</th>\n",
       "                        <td id=\"T_1f8cf67d_b5cd_11ec_b561_1856807aed14row6_col0\" class=\"data row6 col0\" ></td>\n",
       "                        <td id=\"T_1f8cf67d_b5cd_11ec_b561_1856807aed14row6_col1\" class=\"data row6 col1\" ></td>\n",
       "                        <td id=\"T_1f8cf67d_b5cd_11ec_b561_1856807aed14row6_col2\" class=\"data row6 col2\" ></td>\n",
       "                        <td id=\"T_1f8cf67d_b5cd_11ec_b561_1856807aed14row6_col3\" class=\"data row6 col3\" ></td>\n",
       "                        <td id=\"T_1f8cf67d_b5cd_11ec_b561_1856807aed14row6_col4\" class=\"data row6 col4\" ></td>\n",
       "                        <td id=\"T_1f8cf67d_b5cd_11ec_b561_1856807aed14row6_col5\" class=\"data row6 col5\" ></td>\n",
       "                        <td id=\"T_1f8cf67d_b5cd_11ec_b561_1856807aed14row6_col6\" class=\"data row6 col6\" ></td>\n",
       "                        <td id=\"T_1f8cf67d_b5cd_11ec_b561_1856807aed14row6_col7\" class=\"data row6 col7\" ></td>\n",
       "                        <td id=\"T_1f8cf67d_b5cd_11ec_b561_1856807aed14row6_col8\" class=\"data row6 col8\" ></td>\n",
       "                        <td id=\"T_1f8cf67d_b5cd_11ec_b561_1856807aed14row6_col9\" class=\"data row6 col9\" >100.00%</td>\n",
       "                        <td id=\"T_1f8cf67d_b5cd_11ec_b561_1856807aed14row6_col10\" class=\"data row6 col10\" >33.33%</td>\n",
       "                        <td id=\"T_1f8cf67d_b5cd_11ec_b561_1856807aed14row6_col11\" class=\"data row6 col11\" >33.33%</td>\n",
       "                        <td id=\"T_1f8cf67d_b5cd_11ec_b561_1856807aed14row6_col12\" class=\"data row6 col12\" ></td>\n",
       "                        <td id=\"T_1f8cf67d_b5cd_11ec_b561_1856807aed14row6_col13\" class=\"data row6 col13\" >33.33%</td>\n",
       "                        <td id=\"T_1f8cf67d_b5cd_11ec_b561_1856807aed14row6_col14\" class=\"data row6 col14\" ></td>\n",
       "                        <td id=\"T_1f8cf67d_b5cd_11ec_b561_1856807aed14row6_col15\" class=\"data row6 col15\" ></td>\n",
       "                        <td id=\"T_1f8cf67d_b5cd_11ec_b561_1856807aed14row6_col16\" class=\"data row6 col16\" ></td>\n",
       "            </tr>\n",
       "            <tr>\n",
       "                        <th id=\"T_1f8cf67d_b5cd_11ec_b561_1856807aed14level0_row7\" class=\"row_heading level0 row7\" >2017-08-01 00:00:00</th>\n",
       "                        <td id=\"T_1f8cf67d_b5cd_11ec_b561_1856807aed14row7_col0\" class=\"data row7 col0\" ></td>\n",
       "                        <td id=\"T_1f8cf67d_b5cd_11ec_b561_1856807aed14row7_col1\" class=\"data row7 col1\" ></td>\n",
       "                        <td id=\"T_1f8cf67d_b5cd_11ec_b561_1856807aed14row7_col2\" class=\"data row7 col2\" ></td>\n",
       "                        <td id=\"T_1f8cf67d_b5cd_11ec_b561_1856807aed14row7_col3\" class=\"data row7 col3\" ></td>\n",
       "                        <td id=\"T_1f8cf67d_b5cd_11ec_b561_1856807aed14row7_col4\" class=\"data row7 col4\" ></td>\n",
       "                        <td id=\"T_1f8cf67d_b5cd_11ec_b561_1856807aed14row7_col5\" class=\"data row7 col5\" ></td>\n",
       "                        <td id=\"T_1f8cf67d_b5cd_11ec_b561_1856807aed14row7_col6\" class=\"data row7 col6\" ></td>\n",
       "                        <td id=\"T_1f8cf67d_b5cd_11ec_b561_1856807aed14row7_col7\" class=\"data row7 col7\" ></td>\n",
       "                        <td id=\"T_1f8cf67d_b5cd_11ec_b561_1856807aed14row7_col8\" class=\"data row7 col8\" ></td>\n",
       "                        <td id=\"T_1f8cf67d_b5cd_11ec_b561_1856807aed14row7_col9\" class=\"data row7 col9\" >100.00%</td>\n",
       "                        <td id=\"T_1f8cf67d_b5cd_11ec_b561_1856807aed14row7_col10\" class=\"data row7 col10\" ></td>\n",
       "                        <td id=\"T_1f8cf67d_b5cd_11ec_b561_1856807aed14row7_col11\" class=\"data row7 col11\" ></td>\n",
       "                        <td id=\"T_1f8cf67d_b5cd_11ec_b561_1856807aed14row7_col12\" class=\"data row7 col12\" >33.33%</td>\n",
       "                        <td id=\"T_1f8cf67d_b5cd_11ec_b561_1856807aed14row7_col13\" class=\"data row7 col13\" ></td>\n",
       "                        <td id=\"T_1f8cf67d_b5cd_11ec_b561_1856807aed14row7_col14\" class=\"data row7 col14\" ></td>\n",
       "                        <td id=\"T_1f8cf67d_b5cd_11ec_b561_1856807aed14row7_col15\" class=\"data row7 col15\" ></td>\n",
       "                        <td id=\"T_1f8cf67d_b5cd_11ec_b561_1856807aed14row7_col16\" class=\"data row7 col16\" ></td>\n",
       "            </tr>\n",
       "            <tr>\n",
       "                        <th id=\"T_1f8cf67d_b5cd_11ec_b561_1856807aed14level0_row8\" class=\"row_heading level0 row8\" >2017-09-01 00:00:00</th>\n",
       "                        <td id=\"T_1f8cf67d_b5cd_11ec_b561_1856807aed14row8_col0\" class=\"data row8 col0\" ></td>\n",
       "                        <td id=\"T_1f8cf67d_b5cd_11ec_b561_1856807aed14row8_col1\" class=\"data row8 col1\" ></td>\n",
       "                        <td id=\"T_1f8cf67d_b5cd_11ec_b561_1856807aed14row8_col2\" class=\"data row8 col2\" ></td>\n",
       "                        <td id=\"T_1f8cf67d_b5cd_11ec_b561_1856807aed14row8_col3\" class=\"data row8 col3\" ></td>\n",
       "                        <td id=\"T_1f8cf67d_b5cd_11ec_b561_1856807aed14row8_col4\" class=\"data row8 col4\" ></td>\n",
       "                        <td id=\"T_1f8cf67d_b5cd_11ec_b561_1856807aed14row8_col5\" class=\"data row8 col5\" ></td>\n",
       "                        <td id=\"T_1f8cf67d_b5cd_11ec_b561_1856807aed14row8_col6\" class=\"data row8 col6\" ></td>\n",
       "                        <td id=\"T_1f8cf67d_b5cd_11ec_b561_1856807aed14row8_col7\" class=\"data row8 col7\" ></td>\n",
       "                        <td id=\"T_1f8cf67d_b5cd_11ec_b561_1856807aed14row8_col8\" class=\"data row8 col8\" ></td>\n",
       "                        <td id=\"T_1f8cf67d_b5cd_11ec_b561_1856807aed14row8_col9\" class=\"data row8 col9\" ></td>\n",
       "                        <td id=\"T_1f8cf67d_b5cd_11ec_b561_1856807aed14row8_col10\" class=\"data row8 col10\" ></td>\n",
       "                        <td id=\"T_1f8cf67d_b5cd_11ec_b561_1856807aed14row8_col11\" class=\"data row8 col11\" ></td>\n",
       "                        <td id=\"T_1f8cf67d_b5cd_11ec_b561_1856807aed14row8_col12\" class=\"data row8 col12\" ></td>\n",
       "                        <td id=\"T_1f8cf67d_b5cd_11ec_b561_1856807aed14row8_col13\" class=\"data row8 col13\" ></td>\n",
       "                        <td id=\"T_1f8cf67d_b5cd_11ec_b561_1856807aed14row8_col14\" class=\"data row8 col14\" ></td>\n",
       "                        <td id=\"T_1f8cf67d_b5cd_11ec_b561_1856807aed14row8_col15\" class=\"data row8 col15\" ></td>\n",
       "                        <td id=\"T_1f8cf67d_b5cd_11ec_b561_1856807aed14row8_col16\" class=\"data row8 col16\" ></td>\n",
       "            </tr>\n",
       "            <tr>\n",
       "                        <th id=\"T_1f8cf67d_b5cd_11ec_b561_1856807aed14level0_row9\" class=\"row_heading level0 row9\" >2017-10-01 00:00:00</th>\n",
       "                        <td id=\"T_1f8cf67d_b5cd_11ec_b561_1856807aed14row9_col0\" class=\"data row9 col0\" >3.00%</td>\n",
       "                        <td id=\"T_1f8cf67d_b5cd_11ec_b561_1856807aed14row9_col1\" class=\"data row9 col1\" >8.00%</td>\n",
       "                        <td id=\"T_1f8cf67d_b5cd_11ec_b561_1856807aed14row9_col2\" class=\"data row9 col2\" >6.00%</td>\n",
       "                        <td id=\"T_1f8cf67d_b5cd_11ec_b561_1856807aed14row9_col3\" class=\"data row9 col3\" >7.00%</td>\n",
       "                        <td id=\"T_1f8cf67d_b5cd_11ec_b561_1856807aed14row9_col4\" class=\"data row9 col4\" >7.00%</td>\n",
       "                        <td id=\"T_1f8cf67d_b5cd_11ec_b561_1856807aed14row9_col5\" class=\"data row9 col5\" >7.00%</td>\n",
       "                        <td id=\"T_1f8cf67d_b5cd_11ec_b561_1856807aed14row9_col6\" class=\"data row9 col6\" >2.00%</td>\n",
       "                        <td id=\"T_1f8cf67d_b5cd_11ec_b561_1856807aed14row9_col7\" class=\"data row9 col7\" >5.00%</td>\n",
       "                        <td id=\"T_1f8cf67d_b5cd_11ec_b561_1856807aed14row9_col8\" class=\"data row9 col8\" >2.00%</td>\n",
       "                        <td id=\"T_1f8cf67d_b5cd_11ec_b561_1856807aed14row9_col9\" class=\"data row9 col9\" >100.00%</td>\n",
       "                        <td id=\"T_1f8cf67d_b5cd_11ec_b561_1856807aed14row9_col10\" class=\"data row9 col10\" >9.00%</td>\n",
       "                        <td id=\"T_1f8cf67d_b5cd_11ec_b561_1856807aed14row9_col11\" class=\"data row9 col11\" >3.00%</td>\n",
       "                        <td id=\"T_1f8cf67d_b5cd_11ec_b561_1856807aed14row9_col12\" class=\"data row9 col12\" ></td>\n",
       "                        <td id=\"T_1f8cf67d_b5cd_11ec_b561_1856807aed14row9_col13\" class=\"data row9 col13\" ></td>\n",
       "                        <td id=\"T_1f8cf67d_b5cd_11ec_b561_1856807aed14row9_col14\" class=\"data row9 col14\" ></td>\n",
       "                        <td id=\"T_1f8cf67d_b5cd_11ec_b561_1856807aed14row9_col15\" class=\"data row9 col15\" ></td>\n",
       "                        <td id=\"T_1f8cf67d_b5cd_11ec_b561_1856807aed14row9_col16\" class=\"data row9 col16\" ></td>\n",
       "            </tr>\n",
       "    </tbody></table>"
      ],
      "text/plain": [
       "<pandas.io.formats.style.Styler at 0x1f1fc94c8b0>"
      ]
     },
     "execution_count": 177,
     "metadata": {},
     "output_type": "execute_result"
    }
   ],
   "source": [
    "retetion_table_by_transactions(transactions_control_2)"
   ]
  },
  {
   "cell_type": "code",
   "execution_count": null,
   "metadata": {},
   "outputs": [],
   "source": [
    "# как видно из полученных данных у нас есть поломка\n",
    "# для части пользователей дата регистрации указана позже чем дата покупки\n",
    "# попробуем разобраться в чем причина"
   ]
  },
  {
   "cell_type": "code",
   "execution_count": 178,
   "metadata": {
    "scrolled": true
   },
   "outputs": [
    {
     "data": {
      "text/plain": [
       "46"
      ]
     },
     "execution_count": 178,
     "metadata": {},
     "output_type": "execute_result"
    }
   ],
   "source": [
    "transactions_test.query('joined_at > paid_at').shape[0]"
   ]
  },
  {
   "cell_type": "code",
   "execution_count": 179,
   "metadata": {},
   "outputs": [],
   "source": [
    "id_test_bug = transactions_test.query('joined_at > paid_at').uid.unique().tolist()"
   ]
  },
  {
   "cell_type": "code",
   "execution_count": 180,
   "metadata": {
    "scrolled": true
   },
   "outputs": [
    {
     "data": {
      "text/html": [
       "<div>\n",
       "<style scoped>\n",
       "    .dataframe tbody tr th:only-of-type {\n",
       "        vertical-align: middle;\n",
       "    }\n",
       "\n",
       "    .dataframe tbody tr th {\n",
       "        vertical-align: top;\n",
       "    }\n",
       "\n",
       "    .dataframe thead th {\n",
       "        text-align: right;\n",
       "    }\n",
       "</style>\n",
       "<table border=\"1\" class=\"dataframe\">\n",
       "  <thead>\n",
       "    <tr style=\"text-align: right;\">\n",
       "      <th></th>\n",
       "      <th>joined_at</th>\n",
       "      <th>paid_at</th>\n",
       "    </tr>\n",
       "    <tr>\n",
       "      <th>uid</th>\n",
       "      <th></th>\n",
       "      <th></th>\n",
       "    </tr>\n",
       "  </thead>\n",
       "  <tbody>\n",
       "    <tr>\n",
       "      <th>891572565</th>\n",
       "      <td>2017-10-31 20:40:00</td>\n",
       "      <td>2017-05-11 13:32:00</td>\n",
       "    </tr>\n",
       "    <tr>\n",
       "      <th>891589239</th>\n",
       "      <td>2017-10-31 14:16:00</td>\n",
       "      <td>2017-02-11 11:45:00</td>\n",
       "    </tr>\n",
       "    <tr>\n",
       "      <th>891600819</th>\n",
       "      <td>2017-10-31 08:41:00</td>\n",
       "      <td>2017-03-11 15:17:00</td>\n",
       "    </tr>\n",
       "    <tr>\n",
       "      <th>891603810</th>\n",
       "      <td>2017-10-31 06:36:00</td>\n",
       "      <td>2017-04-11 09:25:00</td>\n",
       "    </tr>\n",
       "    <tr>\n",
       "      <th>891640689</th>\n",
       "      <td>2017-10-30 13:47:00</td>\n",
       "      <td>2017-06-11 17:31:00</td>\n",
       "    </tr>\n",
       "    <tr>\n",
       "      <th>891651711</th>\n",
       "      <td>2017-10-30 07:50:00</td>\n",
       "      <td>2017-09-11 19:12:00</td>\n",
       "    </tr>\n",
       "    <tr>\n",
       "      <th>891654012</th>\n",
       "      <td>2017-10-30 06:05:00</td>\n",
       "      <td>2017-06-11 08:08:00</td>\n",
       "    </tr>\n",
       "    <tr>\n",
       "      <th>891654090</th>\n",
       "      <td>2017-10-30 05:59:00</td>\n",
       "      <td>2017-07-11 07:38:00</td>\n",
       "    </tr>\n",
       "    <tr>\n",
       "      <th>891700323</th>\n",
       "      <td>2017-10-29 13:19:00</td>\n",
       "      <td>2017-05-11 15:20:00</td>\n",
       "    </tr>\n",
       "    <tr>\n",
       "      <th>891718167</th>\n",
       "      <td>2017-10-29 05:42:00</td>\n",
       "      <td>2017-06-11 23:11:00</td>\n",
       "    </tr>\n",
       "    <tr>\n",
       "      <th>891764031</th>\n",
       "      <td>2017-10-28 06:09:00</td>\n",
       "      <td>2017-04-11 11:09:00</td>\n",
       "    </tr>\n",
       "    <tr>\n",
       "      <th>891769893</th>\n",
       "      <td>2017-10-28 01:09:00</td>\n",
       "      <td>2017-04-11 03:09:00</td>\n",
       "    </tr>\n",
       "    <tr>\n",
       "      <th>891777708</th>\n",
       "      <td>2017-10-27 21:48:00</td>\n",
       "      <td>2017-03-11 03:36:00</td>\n",
       "    </tr>\n",
       "    <tr>\n",
       "      <th>891786216</th>\n",
       "      <td>2017-10-27 18:20:00</td>\n",
       "      <td>2017-03-11 20:20:00</td>\n",
       "    </tr>\n",
       "    <tr>\n",
       "      <th>891806280</th>\n",
       "      <td>2017-10-27 08:56:00</td>\n",
       "      <td>2017-03-11 10:57:00</td>\n",
       "    </tr>\n",
       "    <tr>\n",
       "      <th>891818670</th>\n",
       "      <td>2017-10-27 00:09:00</td>\n",
       "      <td>2017-03-11 02:09:00</td>\n",
       "    </tr>\n",
       "    <tr>\n",
       "      <th>891854907</th>\n",
       "      <td>2017-10-26 08:09:00</td>\n",
       "      <td>2017-02-11 10:09:00</td>\n",
       "    </tr>\n",
       "    <tr>\n",
       "      <th>891861048</th>\n",
       "      <td>2017-10-26 02:55:00</td>\n",
       "      <td>2017-01-11 07:13:00</td>\n",
       "    </tr>\n",
       "    <tr>\n",
       "      <th>891861489</th>\n",
       "      <td>2017-10-26 02:31:00</td>\n",
       "      <td>2017-04-11 02:04:00</td>\n",
       "    </tr>\n",
       "    <tr>\n",
       "      <th>891861594</th>\n",
       "      <td>2017-10-26 02:25:00</td>\n",
       "      <td>2017-01-11 04:37:00</td>\n",
       "    </tr>\n",
       "    <tr>\n",
       "      <th>891867288</th>\n",
       "      <td>2017-10-25 23:23:00</td>\n",
       "      <td>2017-02-11 01:23:00</td>\n",
       "    </tr>\n",
       "    <tr>\n",
       "      <th>891867477</th>\n",
       "      <td>2017-10-25 23:18:00</td>\n",
       "      <td>2017-03-11 19:02:00</td>\n",
       "    </tr>\n",
       "    <tr>\n",
       "      <th>891872313</th>\n",
       "      <td>2017-10-25 21:35:00</td>\n",
       "      <td>2017-01-11 23:36:00</td>\n",
       "    </tr>\n",
       "    <tr>\n",
       "      <th>891882681</th>\n",
       "      <td>2017-10-25 17:25:00</td>\n",
       "      <td>2017-04-11 10:26:00</td>\n",
       "    </tr>\n",
       "    <tr>\n",
       "      <th>891904293</th>\n",
       "      <td>2017-10-25 06:16:00</td>\n",
       "      <td>2017-02-11 08:16:00</td>\n",
       "    </tr>\n",
       "    <tr>\n",
       "      <th>891986289</th>\n",
       "      <td>2017-10-23 13:08:00</td>\n",
       "      <td>2017-08-11 13:22:00</td>\n",
       "    </tr>\n",
       "    <tr>\n",
       "      <th>892018248</th>\n",
       "      <td>2017-10-22 19:50:00</td>\n",
       "      <td>2017-01-11 13:42:00</td>\n",
       "    </tr>\n",
       "    <tr>\n",
       "      <th>892037613</th>\n",
       "      <td>2017-10-22 11:48:00</td>\n",
       "      <td>2017-04-11 00:59:00</td>\n",
       "    </tr>\n",
       "    <tr>\n",
       "      <th>892057347</th>\n",
       "      <td>2017-10-21 23:15:00</td>\n",
       "      <td>2017-03-11 03:11:00</td>\n",
       "    </tr>\n",
       "    <tr>\n",
       "      <th>892065108</th>\n",
       "      <td>2017-10-21 20:40:00</td>\n",
       "      <td>2017-08-11 22:45:00</td>\n",
       "    </tr>\n",
       "    <tr>\n",
       "      <th>892205850</th>\n",
       "      <td>2017-10-18 19:20:00</td>\n",
       "      <td>2017-02-11 00:13:00</td>\n",
       "    </tr>\n",
       "    <tr>\n",
       "      <th>892225122</th>\n",
       "      <td>2017-10-18 10:11:00</td>\n",
       "      <td>2017-03-11 14:53:00</td>\n",
       "    </tr>\n",
       "    <tr>\n",
       "      <th>892261437</th>\n",
       "      <td>2017-10-17 14:22:00</td>\n",
       "      <td>2017-06-11 11:51:00</td>\n",
       "    </tr>\n",
       "    <tr>\n",
       "      <th>892339626</th>\n",
       "      <td>2017-10-15 23:21:00</td>\n",
       "      <td>2017-05-11 00:19:00</td>\n",
       "    </tr>\n",
       "  </tbody>\n",
       "</table>\n",
       "</div>"
      ],
      "text/plain": [
       "                    joined_at             paid_at\n",
       "uid                                              \n",
       "891572565 2017-10-31 20:40:00 2017-05-11 13:32:00\n",
       "891589239 2017-10-31 14:16:00 2017-02-11 11:45:00\n",
       "891600819 2017-10-31 08:41:00 2017-03-11 15:17:00\n",
       "891603810 2017-10-31 06:36:00 2017-04-11 09:25:00\n",
       "891640689 2017-10-30 13:47:00 2017-06-11 17:31:00\n",
       "891651711 2017-10-30 07:50:00 2017-09-11 19:12:00\n",
       "891654012 2017-10-30 06:05:00 2017-06-11 08:08:00\n",
       "891654090 2017-10-30 05:59:00 2017-07-11 07:38:00\n",
       "891700323 2017-10-29 13:19:00 2017-05-11 15:20:00\n",
       "891718167 2017-10-29 05:42:00 2017-06-11 23:11:00\n",
       "891764031 2017-10-28 06:09:00 2017-04-11 11:09:00\n",
       "891769893 2017-10-28 01:09:00 2017-04-11 03:09:00\n",
       "891777708 2017-10-27 21:48:00 2017-03-11 03:36:00\n",
       "891786216 2017-10-27 18:20:00 2017-03-11 20:20:00\n",
       "891806280 2017-10-27 08:56:00 2017-03-11 10:57:00\n",
       "891818670 2017-10-27 00:09:00 2017-03-11 02:09:00\n",
       "891854907 2017-10-26 08:09:00 2017-02-11 10:09:00\n",
       "891861048 2017-10-26 02:55:00 2017-01-11 07:13:00\n",
       "891861489 2017-10-26 02:31:00 2017-04-11 02:04:00\n",
       "891861594 2017-10-26 02:25:00 2017-01-11 04:37:00\n",
       "891867288 2017-10-25 23:23:00 2017-02-11 01:23:00\n",
       "891867477 2017-10-25 23:18:00 2017-03-11 19:02:00\n",
       "891872313 2017-10-25 21:35:00 2017-01-11 23:36:00\n",
       "891882681 2017-10-25 17:25:00 2017-04-11 10:26:00\n",
       "891904293 2017-10-25 06:16:00 2017-02-11 08:16:00\n",
       "891986289 2017-10-23 13:08:00 2017-08-11 13:22:00\n",
       "892018248 2017-10-22 19:50:00 2017-01-11 13:42:00\n",
       "892037613 2017-10-22 11:48:00 2017-04-11 00:59:00\n",
       "892057347 2017-10-21 23:15:00 2017-03-11 03:11:00\n",
       "892065108 2017-10-21 20:40:00 2017-08-11 22:45:00\n",
       "892205850 2017-10-18 19:20:00 2017-02-11 00:13:00\n",
       "892225122 2017-10-18 10:11:00 2017-03-11 14:53:00\n",
       "892261437 2017-10-17 14:22:00 2017-06-11 11:51:00\n",
       "892339626 2017-10-15 23:21:00 2017-05-11 00:19:00"
      ]
     },
     "execution_count": 180,
     "metadata": {},
     "output_type": "execute_result"
    }
   ],
   "source": [
    "transactions_test.query('uid in @id_test_bug')\\\n",
    "                 .groupby('uid').agg({'joined_at': 'min', 'paid_at': 'min'})\\\n",
    "                 .sort_values('uid')"
   ]
  },
  {
   "cell_type": "code",
   "execution_count": null,
   "metadata": {},
   "outputs": [],
   "source": [
    "# как видно все пользователи, у которых ошибочно указана дата регистрации\n",
    "# совершили первую покупку 11 числа разных месяцев\n",
    "# проверим верно ли, что у всех пользоветелей, которые совершили покупку 11 числа неверно указаны даты регистрации"
   ]
  },
  {
   "cell_type": "code",
   "execution_count": 181,
   "metadata": {
    "scrolled": true
   },
   "outputs": [],
   "source": [
    "id_fist_pay_11 = transactions_test.groupby('uid')\\\n",
    "                 .agg({'paid_at': 'min'})\\\n",
    "                 .paid_at.dt.day.reset_index()\\\n",
    "                 .query('paid_at == 11').uid.to_list()"
   ]
  },
  {
   "cell_type": "code",
   "execution_count": 182,
   "metadata": {},
   "outputs": [],
   "source": [
    "is_fist_pay_11_not_bug = np.setdiff1d(id_fist_pay_11, id_test_bug)"
   ]
  },
  {
   "cell_type": "code",
   "execution_count": 183,
   "metadata": {},
   "outputs": [
    {
     "data": {
      "text/html": [
       "<div>\n",
       "<style scoped>\n",
       "    .dataframe tbody tr th:only-of-type {\n",
       "        vertical-align: middle;\n",
       "    }\n",
       "\n",
       "    .dataframe tbody tr th {\n",
       "        vertical-align: top;\n",
       "    }\n",
       "\n",
       "    .dataframe thead th {\n",
       "        text-align: right;\n",
       "    }\n",
       "</style>\n",
       "<table border=\"1\" class=\"dataframe\">\n",
       "  <thead>\n",
       "    <tr style=\"text-align: right;\">\n",
       "      <th></th>\n",
       "      <th>joined_at</th>\n",
       "      <th>paid_at</th>\n",
       "    </tr>\n",
       "    <tr>\n",
       "      <th>uid</th>\n",
       "      <th></th>\n",
       "      <th></th>\n",
       "    </tr>\n",
       "  </thead>\n",
       "  <tbody>\n",
       "    <tr>\n",
       "      <th>891545874</th>\n",
       "      <td>2017-01-11 12:50:00</td>\n",
       "      <td>2017-02-11 13:43:00</td>\n",
       "    </tr>\n",
       "    <tr>\n",
       "      <th>891499359</th>\n",
       "      <td>2017-02-11 14:25:00</td>\n",
       "      <td>2017-02-11 14:30:00</td>\n",
       "    </tr>\n",
       "    <tr>\n",
       "      <th>891531897</th>\n",
       "      <td>2017-01-11 19:07:00</td>\n",
       "      <td>2017-02-11 16:37:00</td>\n",
       "    </tr>\n",
       "    <tr>\n",
       "      <th>891508155</th>\n",
       "      <td>2017-02-11 09:46:00</td>\n",
       "      <td>2017-02-11 17:34:00</td>\n",
       "    </tr>\n",
       "    <tr>\n",
       "      <th>891448377</th>\n",
       "      <td>2017-03-11 16:33:00</td>\n",
       "      <td>2017-03-11 16:46:00</td>\n",
       "    </tr>\n",
       "    <tr>\n",
       "      <th>891447105</th>\n",
       "      <td>2017-03-11 17:05:00</td>\n",
       "      <td>2017-03-11 17:18:00</td>\n",
       "    </tr>\n",
       "    <tr>\n",
       "      <th>891426960</th>\n",
       "      <td>2017-04-11 00:36:00</td>\n",
       "      <td>2017-04-11 00:51:00</td>\n",
       "    </tr>\n",
       "    <tr>\n",
       "      <th>891414915</th>\n",
       "      <td>2017-04-11 09:06:00</td>\n",
       "      <td>2017-04-11 09:56:00</td>\n",
       "    </tr>\n",
       "    <tr>\n",
       "      <th>891406224</th>\n",
       "      <td>2017-04-11 12:56:00</td>\n",
       "      <td>2017-04-11 13:35:00</td>\n",
       "    </tr>\n",
       "    <tr>\n",
       "      <th>891375585</th>\n",
       "      <td>2017-04-11 23:07:00</td>\n",
       "      <td>2017-04-11 23:22:00</td>\n",
       "    </tr>\n",
       "    <tr>\n",
       "      <th>891497073</th>\n",
       "      <td>2017-02-11 15:33:00</td>\n",
       "      <td>2017-05-11 04:06:00</td>\n",
       "    </tr>\n",
       "    <tr>\n",
       "      <th>891352467</th>\n",
       "      <td>2017-05-11 10:48:00</td>\n",
       "      <td>2017-05-11 10:54:00</td>\n",
       "    </tr>\n",
       "    <tr>\n",
       "      <th>891343671</th>\n",
       "      <td>2017-05-11 13:42:00</td>\n",
       "      <td>2017-05-11 14:02:00</td>\n",
       "    </tr>\n",
       "    <tr>\n",
       "      <th>891346269</th>\n",
       "      <td>2017-05-11 12:55:00</td>\n",
       "      <td>2017-05-11 15:26:00</td>\n",
       "    </tr>\n",
       "    <tr>\n",
       "      <th>891325683</th>\n",
       "      <td>2017-05-11 18:30:00</td>\n",
       "      <td>2017-05-11 19:15:00</td>\n",
       "    </tr>\n",
       "    <tr>\n",
       "      <th>891318459</th>\n",
       "      <td>2017-05-11 20:08:00</td>\n",
       "      <td>2017-05-11 21:45:00</td>\n",
       "    </tr>\n",
       "    <tr>\n",
       "      <th>891282045</th>\n",
       "      <td>2017-06-11 09:33:00</td>\n",
       "      <td>2017-06-11 15:43:00</td>\n",
       "    </tr>\n",
       "    <tr>\n",
       "      <th>891222282</th>\n",
       "      <td>2017-07-11 09:26:00</td>\n",
       "      <td>2017-07-11 09:38:00</td>\n",
       "    </tr>\n",
       "    <tr>\n",
       "      <th>891242403</th>\n",
       "      <td>2017-06-11 22:47:00</td>\n",
       "      <td>2017-07-11 19:22:00</td>\n",
       "    </tr>\n",
       "    <tr>\n",
       "      <th>891291531</th>\n",
       "      <td>2017-06-11 04:34:00</td>\n",
       "      <td>2017-07-11 21:25:00</td>\n",
       "    </tr>\n",
       "    <tr>\n",
       "      <th>891174411</th>\n",
       "      <td>2017-08-11 07:24:00</td>\n",
       "      <td>2017-08-11 07:30:00</td>\n",
       "    </tr>\n",
       "    <tr>\n",
       "      <th>891555327</th>\n",
       "      <td>2017-01-11 06:46:00</td>\n",
       "      <td>2017-08-11 08:46:00</td>\n",
       "    </tr>\n",
       "    <tr>\n",
       "      <th>891347046</th>\n",
       "      <td>2017-05-11 12:38:00</td>\n",
       "      <td>2017-09-11 04:27:00</td>\n",
       "    </tr>\n",
       "    <tr>\n",
       "      <th>891175326</th>\n",
       "      <td>2017-08-11 06:41:00</td>\n",
       "      <td>2017-09-11 04:33:00</td>\n",
       "    </tr>\n",
       "    <tr>\n",
       "      <th>891178380</th>\n",
       "      <td>2017-08-11 03:54:00</td>\n",
       "      <td>2017-09-11 21:53:00</td>\n",
       "    </tr>\n",
       "    <tr>\n",
       "      <th>891558921</th>\n",
       "      <td>2017-01-11 03:07:00</td>\n",
       "      <td>2017-10-11 09:05:00</td>\n",
       "    </tr>\n",
       "    <tr>\n",
       "      <th>891152790</th>\n",
       "      <td>2017-08-11 18:39:00</td>\n",
       "      <td>2017-10-11 11:29:00</td>\n",
       "    </tr>\n",
       "    <tr>\n",
       "      <th>891071157</th>\n",
       "      <td>2017-10-11 10:20:00</td>\n",
       "      <td>2017-10-11 16:37:00</td>\n",
       "    </tr>\n",
       "    <tr>\n",
       "      <th>891312873</th>\n",
       "      <td>2017-05-11 21:22:00</td>\n",
       "      <td>2017-10-11 21:51:00</td>\n",
       "    </tr>\n",
       "    <tr>\n",
       "      <th>891419625</th>\n",
       "      <td>2017-04-11 05:58:00</td>\n",
       "      <td>2017-11-11 08:33:00</td>\n",
       "    </tr>\n",
       "    <tr>\n",
       "      <th>891714291</th>\n",
       "      <td>2017-10-29 08:03:00</td>\n",
       "      <td>2017-11-11 12:48:00</td>\n",
       "    </tr>\n",
       "    <tr>\n",
       "      <th>891499695</th>\n",
       "      <td>2017-02-11 14:14:00</td>\n",
       "      <td>2017-11-11 20:13:00</td>\n",
       "    </tr>\n",
       "    <tr>\n",
       "      <th>891387087</th>\n",
       "      <td>2017-04-11 19:34:00</td>\n",
       "      <td>2017-11-11 21:35:00</td>\n",
       "    </tr>\n",
       "    <tr>\n",
       "      <th>891478452</th>\n",
       "      <td>2017-02-11 23:29:00</td>\n",
       "      <td>2017-12-11 00:11:00</td>\n",
       "    </tr>\n",
       "    <tr>\n",
       "      <th>891359901</th>\n",
       "      <td>2017-05-11 07:43:00</td>\n",
       "      <td>2017-12-11 17:26:00</td>\n",
       "    </tr>\n",
       "    <tr>\n",
       "      <th>891322086</th>\n",
       "      <td>2017-05-11 19:20:00</td>\n",
       "      <td>2017-12-11 21:20:00</td>\n",
       "    </tr>\n",
       "  </tbody>\n",
       "</table>\n",
       "</div>"
      ],
      "text/plain": [
       "                    joined_at             paid_at\n",
       "uid                                              \n",
       "891545874 2017-01-11 12:50:00 2017-02-11 13:43:00\n",
       "891499359 2017-02-11 14:25:00 2017-02-11 14:30:00\n",
       "891531897 2017-01-11 19:07:00 2017-02-11 16:37:00\n",
       "891508155 2017-02-11 09:46:00 2017-02-11 17:34:00\n",
       "891448377 2017-03-11 16:33:00 2017-03-11 16:46:00\n",
       "891447105 2017-03-11 17:05:00 2017-03-11 17:18:00\n",
       "891426960 2017-04-11 00:36:00 2017-04-11 00:51:00\n",
       "891414915 2017-04-11 09:06:00 2017-04-11 09:56:00\n",
       "891406224 2017-04-11 12:56:00 2017-04-11 13:35:00\n",
       "891375585 2017-04-11 23:07:00 2017-04-11 23:22:00\n",
       "891497073 2017-02-11 15:33:00 2017-05-11 04:06:00\n",
       "891352467 2017-05-11 10:48:00 2017-05-11 10:54:00\n",
       "891343671 2017-05-11 13:42:00 2017-05-11 14:02:00\n",
       "891346269 2017-05-11 12:55:00 2017-05-11 15:26:00\n",
       "891325683 2017-05-11 18:30:00 2017-05-11 19:15:00\n",
       "891318459 2017-05-11 20:08:00 2017-05-11 21:45:00\n",
       "891282045 2017-06-11 09:33:00 2017-06-11 15:43:00\n",
       "891222282 2017-07-11 09:26:00 2017-07-11 09:38:00\n",
       "891242403 2017-06-11 22:47:00 2017-07-11 19:22:00\n",
       "891291531 2017-06-11 04:34:00 2017-07-11 21:25:00\n",
       "891174411 2017-08-11 07:24:00 2017-08-11 07:30:00\n",
       "891555327 2017-01-11 06:46:00 2017-08-11 08:46:00\n",
       "891347046 2017-05-11 12:38:00 2017-09-11 04:27:00\n",
       "891175326 2017-08-11 06:41:00 2017-09-11 04:33:00\n",
       "891178380 2017-08-11 03:54:00 2017-09-11 21:53:00\n",
       "891558921 2017-01-11 03:07:00 2017-10-11 09:05:00\n",
       "891152790 2017-08-11 18:39:00 2017-10-11 11:29:00\n",
       "891071157 2017-10-11 10:20:00 2017-10-11 16:37:00\n",
       "891312873 2017-05-11 21:22:00 2017-10-11 21:51:00\n",
       "891419625 2017-04-11 05:58:00 2017-11-11 08:33:00\n",
       "891714291 2017-10-29 08:03:00 2017-11-11 12:48:00\n",
       "891499695 2017-02-11 14:14:00 2017-11-11 20:13:00\n",
       "891387087 2017-04-11 19:34:00 2017-11-11 21:35:00\n",
       "891478452 2017-02-11 23:29:00 2017-12-11 00:11:00\n",
       "891359901 2017-05-11 07:43:00 2017-12-11 17:26:00\n",
       "891322086 2017-05-11 19:20:00 2017-12-11 21:20:00"
      ]
     },
     "execution_count": 183,
     "metadata": {},
     "output_type": "execute_result"
    }
   ],
   "source": [
    "transactions_test.query('uid in @is_fist_pay_11_not_bug')\\\n",
    "                 .groupby('uid').agg({'joined_at': 'min', 'paid_at': 'min'})\\\n",
    "                 .sort_values('paid_at')"
   ]
  },
  {
   "cell_type": "code",
   "execution_count": null,
   "metadata": {},
   "outputs": [],
   "source": [
    "# как видно наше предположение не оправдалось\n",
    "# необходимо дополнительно исследовать причину поломки даты регистрации"
   ]
  },
  {
   "cell_type": "code",
   "execution_count": null,
   "metadata": {},
   "outputs": [],
   "source": [
    "# так как определение когорт на основании даты регистрации невозможно\n",
    "# определим функию, которая будет считать retention на основании даты первой покупки"
   ]
  },
  {
   "cell_type": "code",
   "execution_count": 184,
   "metadata": {},
   "outputs": [],
   "source": [
    "def retetion_table_by_transactions_v2(transactions_df):\n",
    "    activity = transactions_df[['uid', 'paid_at']]\n",
    "    activity = transactions_df.merge(transactions_df.groupby('uid', as_index=False)\n",
    "                                                    .agg({'paid_at': 'min'})\n",
    "                                                    .rename(columns={'paid_at':'fist_pay'}),\n",
    "                                    how='left', on='uid')\n",
    "    activity['fist_pay'] = pd.to_datetime(activity.fist_pay.dt.strftime('%Y-%m'))\n",
    "    activity['paid_at'] = pd.to_datetime(activity.paid_at.dt.strftime('%Y-%m'))\n",
    "    activity['month_retention'] = activity.paid_at.dt.month - activity.fist_pay.dt.month\n",
    "    table_retention = activity.groupby(['fist_pay', 'month_retention'], as_index = False)\\\n",
    "                    .agg({'uid': 'nunique'})\\\n",
    "                    .pivot(index='fist_pay', columns='month_retention', values='uid')\n",
    "    table_retention = table_retention.div(table_retention.loc[:,0], axis=0)\n",
    "    ur_style = (table_retention\n",
    "            .style\n",
    "            .set_caption('User retention by cohort')\n",
    "            .highlight_null('white')\n",
    "            .format(\"{:.2%}\", na_rep=\"\"))\n",
    "    return ur_style"
   ]
  },
  {
   "cell_type": "code",
   "execution_count": 185,
   "metadata": {},
   "outputs": [
    {
     "data": {
      "text/html": [
       "<style  type=\"text/css\" >\n",
       "#T_2a0e7afc_b5cd_11ec_87e6_1856807aed14row0_col1,#T_2a0e7afc_b5cd_11ec_87e6_1856807aed14row0_col2,#T_2a0e7afc_b5cd_11ec_87e6_1856807aed14row0_col3,#T_2a0e7afc_b5cd_11ec_87e6_1856807aed14row0_col4,#T_2a0e7afc_b5cd_11ec_87e6_1856807aed14row0_col5,#T_2a0e7afc_b5cd_11ec_87e6_1856807aed14row0_col6,#T_2a0e7afc_b5cd_11ec_87e6_1856807aed14row0_col7,#T_2a0e7afc_b5cd_11ec_87e6_1856807aed14row1_col4,#T_2a0e7afc_b5cd_11ec_87e6_1856807aed14row1_col5,#T_2a0e7afc_b5cd_11ec_87e6_1856807aed14row1_col6,#T_2a0e7afc_b5cd_11ec_87e6_1856807aed14row1_col10,#T_2a0e7afc_b5cd_11ec_87e6_1856807aed14row2_col3,#T_2a0e7afc_b5cd_11ec_87e6_1856807aed14row2_col6,#T_2a0e7afc_b5cd_11ec_87e6_1856807aed14row2_col9,#T_2a0e7afc_b5cd_11ec_87e6_1856807aed14row2_col10,#T_2a0e7afc_b5cd_11ec_87e6_1856807aed14row3_col2,#T_2a0e7afc_b5cd_11ec_87e6_1856807aed14row3_col3,#T_2a0e7afc_b5cd_11ec_87e6_1856807aed14row3_col4,#T_2a0e7afc_b5cd_11ec_87e6_1856807aed14row3_col5,#T_2a0e7afc_b5cd_11ec_87e6_1856807aed14row3_col8,#T_2a0e7afc_b5cd_11ec_87e6_1856807aed14row3_col9,#T_2a0e7afc_b5cd_11ec_87e6_1856807aed14row3_col10,#T_2a0e7afc_b5cd_11ec_87e6_1856807aed14row4_col3,#T_2a0e7afc_b5cd_11ec_87e6_1856807aed14row4_col4,#T_2a0e7afc_b5cd_11ec_87e6_1856807aed14row4_col8,#T_2a0e7afc_b5cd_11ec_87e6_1856807aed14row4_col9,#T_2a0e7afc_b5cd_11ec_87e6_1856807aed14row4_col10,#T_2a0e7afc_b5cd_11ec_87e6_1856807aed14row5_col1,#T_2a0e7afc_b5cd_11ec_87e6_1856807aed14row5_col2,#T_2a0e7afc_b5cd_11ec_87e6_1856807aed14row5_col3,#T_2a0e7afc_b5cd_11ec_87e6_1856807aed14row5_col5,#T_2a0e7afc_b5cd_11ec_87e6_1856807aed14row5_col6,#T_2a0e7afc_b5cd_11ec_87e6_1856807aed14row5_col7,#T_2a0e7afc_b5cd_11ec_87e6_1856807aed14row5_col8,#T_2a0e7afc_b5cd_11ec_87e6_1856807aed14row5_col9,#T_2a0e7afc_b5cd_11ec_87e6_1856807aed14row5_col10,#T_2a0e7afc_b5cd_11ec_87e6_1856807aed14row6_col1,#T_2a0e7afc_b5cd_11ec_87e6_1856807aed14row6_col2,#T_2a0e7afc_b5cd_11ec_87e6_1856807aed14row6_col5,#T_2a0e7afc_b5cd_11ec_87e6_1856807aed14row6_col6,#T_2a0e7afc_b5cd_11ec_87e6_1856807aed14row6_col7,#T_2a0e7afc_b5cd_11ec_87e6_1856807aed14row6_col8,#T_2a0e7afc_b5cd_11ec_87e6_1856807aed14row6_col9,#T_2a0e7afc_b5cd_11ec_87e6_1856807aed14row6_col10,#T_2a0e7afc_b5cd_11ec_87e6_1856807aed14row7_col5,#T_2a0e7afc_b5cd_11ec_87e6_1856807aed14row7_col6,#T_2a0e7afc_b5cd_11ec_87e6_1856807aed14row7_col7,#T_2a0e7afc_b5cd_11ec_87e6_1856807aed14row7_col8,#T_2a0e7afc_b5cd_11ec_87e6_1856807aed14row7_col9,#T_2a0e7afc_b5cd_11ec_87e6_1856807aed14row7_col10,#T_2a0e7afc_b5cd_11ec_87e6_1856807aed14row8_col1,#T_2a0e7afc_b5cd_11ec_87e6_1856807aed14row8_col3,#T_2a0e7afc_b5cd_11ec_87e6_1856807aed14row8_col4,#T_2a0e7afc_b5cd_11ec_87e6_1856807aed14row8_col5,#T_2a0e7afc_b5cd_11ec_87e6_1856807aed14row8_col6,#T_2a0e7afc_b5cd_11ec_87e6_1856807aed14row8_col7,#T_2a0e7afc_b5cd_11ec_87e6_1856807aed14row8_col8,#T_2a0e7afc_b5cd_11ec_87e6_1856807aed14row8_col9,#T_2a0e7afc_b5cd_11ec_87e6_1856807aed14row8_col10,#T_2a0e7afc_b5cd_11ec_87e6_1856807aed14row9_col3,#T_2a0e7afc_b5cd_11ec_87e6_1856807aed14row9_col4,#T_2a0e7afc_b5cd_11ec_87e6_1856807aed14row9_col5,#T_2a0e7afc_b5cd_11ec_87e6_1856807aed14row9_col6,#T_2a0e7afc_b5cd_11ec_87e6_1856807aed14row9_col7,#T_2a0e7afc_b5cd_11ec_87e6_1856807aed14row9_col8,#T_2a0e7afc_b5cd_11ec_87e6_1856807aed14row9_col9,#T_2a0e7afc_b5cd_11ec_87e6_1856807aed14row9_col10,#T_2a0e7afc_b5cd_11ec_87e6_1856807aed14row10_col1,#T_2a0e7afc_b5cd_11ec_87e6_1856807aed14row10_col2,#T_2a0e7afc_b5cd_11ec_87e6_1856807aed14row10_col3,#T_2a0e7afc_b5cd_11ec_87e6_1856807aed14row10_col4,#T_2a0e7afc_b5cd_11ec_87e6_1856807aed14row10_col5,#T_2a0e7afc_b5cd_11ec_87e6_1856807aed14row10_col6,#T_2a0e7afc_b5cd_11ec_87e6_1856807aed14row10_col7,#T_2a0e7afc_b5cd_11ec_87e6_1856807aed14row10_col8,#T_2a0e7afc_b5cd_11ec_87e6_1856807aed14row10_col9,#T_2a0e7afc_b5cd_11ec_87e6_1856807aed14row10_col10,#T_2a0e7afc_b5cd_11ec_87e6_1856807aed14row11_col1,#T_2a0e7afc_b5cd_11ec_87e6_1856807aed14row11_col2,#T_2a0e7afc_b5cd_11ec_87e6_1856807aed14row11_col3,#T_2a0e7afc_b5cd_11ec_87e6_1856807aed14row11_col4,#T_2a0e7afc_b5cd_11ec_87e6_1856807aed14row11_col5,#T_2a0e7afc_b5cd_11ec_87e6_1856807aed14row11_col6,#T_2a0e7afc_b5cd_11ec_87e6_1856807aed14row11_col7,#T_2a0e7afc_b5cd_11ec_87e6_1856807aed14row11_col8,#T_2a0e7afc_b5cd_11ec_87e6_1856807aed14row11_col9,#T_2a0e7afc_b5cd_11ec_87e6_1856807aed14row11_col10{\n",
       "            background-color:  white;\n",
       "        }</style><table id=\"T_2a0e7afc_b5cd_11ec_87e6_1856807aed14\" ><caption>User retention by cohort</caption><thead>    <tr>        <th class=\"index_name level0\" >month_retention</th>        <th class=\"col_heading level0 col0\" >0</th>        <th class=\"col_heading level0 col1\" >1</th>        <th class=\"col_heading level0 col2\" >2</th>        <th class=\"col_heading level0 col3\" >3</th>        <th class=\"col_heading level0 col4\" >4</th>        <th class=\"col_heading level0 col5\" >5</th>        <th class=\"col_heading level0 col6\" >6</th>        <th class=\"col_heading level0 col7\" >7</th>        <th class=\"col_heading level0 col8\" >8</th>        <th class=\"col_heading level0 col9\" >9</th>        <th class=\"col_heading level0 col10\" >11</th>    </tr>    <tr>        <th class=\"index_name level0\" >fist_pay</th>        <th class=\"blank\" ></th>        <th class=\"blank\" ></th>        <th class=\"blank\" ></th>        <th class=\"blank\" ></th>        <th class=\"blank\" ></th>        <th class=\"blank\" ></th>        <th class=\"blank\" ></th>        <th class=\"blank\" ></th>        <th class=\"blank\" ></th>        <th class=\"blank\" ></th>        <th class=\"blank\" ></th>    </tr></thead><tbody>\n",
       "                <tr>\n",
       "                        <th id=\"T_2a0e7afc_b5cd_11ec_87e6_1856807aed14level0_row0\" class=\"row_heading level0 row0\" >2017-01-01 00:00:00</th>\n",
       "                        <td id=\"T_2a0e7afc_b5cd_11ec_87e6_1856807aed14row0_col0\" class=\"data row0 col0\" >100.00%</td>\n",
       "                        <td id=\"T_2a0e7afc_b5cd_11ec_87e6_1856807aed14row0_col1\" class=\"data row0 col1\" ></td>\n",
       "                        <td id=\"T_2a0e7afc_b5cd_11ec_87e6_1856807aed14row0_col2\" class=\"data row0 col2\" ></td>\n",
       "                        <td id=\"T_2a0e7afc_b5cd_11ec_87e6_1856807aed14row0_col3\" class=\"data row0 col3\" ></td>\n",
       "                        <td id=\"T_2a0e7afc_b5cd_11ec_87e6_1856807aed14row0_col4\" class=\"data row0 col4\" ></td>\n",
       "                        <td id=\"T_2a0e7afc_b5cd_11ec_87e6_1856807aed14row0_col5\" class=\"data row0 col5\" ></td>\n",
       "                        <td id=\"T_2a0e7afc_b5cd_11ec_87e6_1856807aed14row0_col6\" class=\"data row0 col6\" ></td>\n",
       "                        <td id=\"T_2a0e7afc_b5cd_11ec_87e6_1856807aed14row0_col7\" class=\"data row0 col7\" ></td>\n",
       "                        <td id=\"T_2a0e7afc_b5cd_11ec_87e6_1856807aed14row0_col8\" class=\"data row0 col8\" >25.00%</td>\n",
       "                        <td id=\"T_2a0e7afc_b5cd_11ec_87e6_1856807aed14row0_col9\" class=\"data row0 col9\" >75.00%</td>\n",
       "                        <td id=\"T_2a0e7afc_b5cd_11ec_87e6_1856807aed14row0_col10\" class=\"data row0 col10\" >25.00%</td>\n",
       "            </tr>\n",
       "            <tr>\n",
       "                        <th id=\"T_2a0e7afc_b5cd_11ec_87e6_1856807aed14level0_row1\" class=\"row_heading level0 row1\" >2017-02-01 00:00:00</th>\n",
       "                        <td id=\"T_2a0e7afc_b5cd_11ec_87e6_1856807aed14row1_col0\" class=\"data row1 col0\" >100.00%</td>\n",
       "                        <td id=\"T_2a0e7afc_b5cd_11ec_87e6_1856807aed14row1_col1\" class=\"data row1 col1\" >11.11%</td>\n",
       "                        <td id=\"T_2a0e7afc_b5cd_11ec_87e6_1856807aed14row1_col2\" class=\"data row1 col2\" >11.11%</td>\n",
       "                        <td id=\"T_2a0e7afc_b5cd_11ec_87e6_1856807aed14row1_col3\" class=\"data row1 col3\" >11.11%</td>\n",
       "                        <td id=\"T_2a0e7afc_b5cd_11ec_87e6_1856807aed14row1_col4\" class=\"data row1 col4\" ></td>\n",
       "                        <td id=\"T_2a0e7afc_b5cd_11ec_87e6_1856807aed14row1_col5\" class=\"data row1 col5\" ></td>\n",
       "                        <td id=\"T_2a0e7afc_b5cd_11ec_87e6_1856807aed14row1_col6\" class=\"data row1 col6\" ></td>\n",
       "                        <td id=\"T_2a0e7afc_b5cd_11ec_87e6_1856807aed14row1_col7\" class=\"data row1 col7\" >11.11%</td>\n",
       "                        <td id=\"T_2a0e7afc_b5cd_11ec_87e6_1856807aed14row1_col8\" class=\"data row1 col8\" >22.22%</td>\n",
       "                        <td id=\"T_2a0e7afc_b5cd_11ec_87e6_1856807aed14row1_col9\" class=\"data row1 col9\" >11.11%</td>\n",
       "                        <td id=\"T_2a0e7afc_b5cd_11ec_87e6_1856807aed14row1_col10\" class=\"data row1 col10\" ></td>\n",
       "            </tr>\n",
       "            <tr>\n",
       "                        <th id=\"T_2a0e7afc_b5cd_11ec_87e6_1856807aed14level0_row2\" class=\"row_heading level0 row2\" >2017-03-01 00:00:00</th>\n",
       "                        <td id=\"T_2a0e7afc_b5cd_11ec_87e6_1856807aed14row2_col0\" class=\"data row2 col0\" >100.00%</td>\n",
       "                        <td id=\"T_2a0e7afc_b5cd_11ec_87e6_1856807aed14row2_col1\" class=\"data row2 col1\" >10.00%</td>\n",
       "                        <td id=\"T_2a0e7afc_b5cd_11ec_87e6_1856807aed14row2_col2\" class=\"data row2 col2\" >10.00%</td>\n",
       "                        <td id=\"T_2a0e7afc_b5cd_11ec_87e6_1856807aed14row2_col3\" class=\"data row2 col3\" ></td>\n",
       "                        <td id=\"T_2a0e7afc_b5cd_11ec_87e6_1856807aed14row2_col4\" class=\"data row2 col4\" >10.00%</td>\n",
       "                        <td id=\"T_2a0e7afc_b5cd_11ec_87e6_1856807aed14row2_col5\" class=\"data row2 col5\" >10.00%</td>\n",
       "                        <td id=\"T_2a0e7afc_b5cd_11ec_87e6_1856807aed14row2_col6\" class=\"data row2 col6\" ></td>\n",
       "                        <td id=\"T_2a0e7afc_b5cd_11ec_87e6_1856807aed14row2_col7\" class=\"data row2 col7\" >30.00%</td>\n",
       "                        <td id=\"T_2a0e7afc_b5cd_11ec_87e6_1856807aed14row2_col8\" class=\"data row2 col8\" >10.00%</td>\n",
       "                        <td id=\"T_2a0e7afc_b5cd_11ec_87e6_1856807aed14row2_col9\" class=\"data row2 col9\" ></td>\n",
       "                        <td id=\"T_2a0e7afc_b5cd_11ec_87e6_1856807aed14row2_col10\" class=\"data row2 col10\" ></td>\n",
       "            </tr>\n",
       "            <tr>\n",
       "                        <th id=\"T_2a0e7afc_b5cd_11ec_87e6_1856807aed14level0_row3\" class=\"row_heading level0 row3\" >2017-04-01 00:00:00</th>\n",
       "                        <td id=\"T_2a0e7afc_b5cd_11ec_87e6_1856807aed14row3_col0\" class=\"data row3 col0\" >100.00%</td>\n",
       "                        <td id=\"T_2a0e7afc_b5cd_11ec_87e6_1856807aed14row3_col1\" class=\"data row3 col1\" >10.00%</td>\n",
       "                        <td id=\"T_2a0e7afc_b5cd_11ec_87e6_1856807aed14row3_col2\" class=\"data row3 col2\" ></td>\n",
       "                        <td id=\"T_2a0e7afc_b5cd_11ec_87e6_1856807aed14row3_col3\" class=\"data row3 col3\" ></td>\n",
       "                        <td id=\"T_2a0e7afc_b5cd_11ec_87e6_1856807aed14row3_col4\" class=\"data row3 col4\" ></td>\n",
       "                        <td id=\"T_2a0e7afc_b5cd_11ec_87e6_1856807aed14row3_col5\" class=\"data row3 col5\" ></td>\n",
       "                        <td id=\"T_2a0e7afc_b5cd_11ec_87e6_1856807aed14row3_col6\" class=\"data row3 col6\" >30.00%</td>\n",
       "                        <td id=\"T_2a0e7afc_b5cd_11ec_87e6_1856807aed14row3_col7\" class=\"data row3 col7\" >10.00%</td>\n",
       "                        <td id=\"T_2a0e7afc_b5cd_11ec_87e6_1856807aed14row3_col8\" class=\"data row3 col8\" ></td>\n",
       "                        <td id=\"T_2a0e7afc_b5cd_11ec_87e6_1856807aed14row3_col9\" class=\"data row3 col9\" ></td>\n",
       "                        <td id=\"T_2a0e7afc_b5cd_11ec_87e6_1856807aed14row3_col10\" class=\"data row3 col10\" ></td>\n",
       "            </tr>\n",
       "            <tr>\n",
       "                        <th id=\"T_2a0e7afc_b5cd_11ec_87e6_1856807aed14level0_row4\" class=\"row_heading level0 row4\" >2017-05-01 00:00:00</th>\n",
       "                        <td id=\"T_2a0e7afc_b5cd_11ec_87e6_1856807aed14row4_col0\" class=\"data row4 col0\" >100.00%</td>\n",
       "                        <td id=\"T_2a0e7afc_b5cd_11ec_87e6_1856807aed14row4_col1\" class=\"data row4 col1\" >11.11%</td>\n",
       "                        <td id=\"T_2a0e7afc_b5cd_11ec_87e6_1856807aed14row4_col2\" class=\"data row4 col2\" >22.22%</td>\n",
       "                        <td id=\"T_2a0e7afc_b5cd_11ec_87e6_1856807aed14row4_col3\" class=\"data row4 col3\" ></td>\n",
       "                        <td id=\"T_2a0e7afc_b5cd_11ec_87e6_1856807aed14row4_col4\" class=\"data row4 col4\" ></td>\n",
       "                        <td id=\"T_2a0e7afc_b5cd_11ec_87e6_1856807aed14row4_col5\" class=\"data row4 col5\" >11.11%</td>\n",
       "                        <td id=\"T_2a0e7afc_b5cd_11ec_87e6_1856807aed14row4_col6\" class=\"data row4 col6\" >11.11%</td>\n",
       "                        <td id=\"T_2a0e7afc_b5cd_11ec_87e6_1856807aed14row4_col7\" class=\"data row4 col7\" >11.11%</td>\n",
       "                        <td id=\"T_2a0e7afc_b5cd_11ec_87e6_1856807aed14row4_col8\" class=\"data row4 col8\" ></td>\n",
       "                        <td id=\"T_2a0e7afc_b5cd_11ec_87e6_1856807aed14row4_col9\" class=\"data row4 col9\" ></td>\n",
       "                        <td id=\"T_2a0e7afc_b5cd_11ec_87e6_1856807aed14row4_col10\" class=\"data row4 col10\" ></td>\n",
       "            </tr>\n",
       "            <tr>\n",
       "                        <th id=\"T_2a0e7afc_b5cd_11ec_87e6_1856807aed14level0_row5\" class=\"row_heading level0 row5\" >2017-06-01 00:00:00</th>\n",
       "                        <td id=\"T_2a0e7afc_b5cd_11ec_87e6_1856807aed14row5_col0\" class=\"data row5 col0\" >100.00%</td>\n",
       "                        <td id=\"T_2a0e7afc_b5cd_11ec_87e6_1856807aed14row5_col1\" class=\"data row5 col1\" ></td>\n",
       "                        <td id=\"T_2a0e7afc_b5cd_11ec_87e6_1856807aed14row5_col2\" class=\"data row5 col2\" ></td>\n",
       "                        <td id=\"T_2a0e7afc_b5cd_11ec_87e6_1856807aed14row5_col3\" class=\"data row5 col3\" ></td>\n",
       "                        <td id=\"T_2a0e7afc_b5cd_11ec_87e6_1856807aed14row5_col4\" class=\"data row5 col4\" >20.00%</td>\n",
       "                        <td id=\"T_2a0e7afc_b5cd_11ec_87e6_1856807aed14row5_col5\" class=\"data row5 col5\" ></td>\n",
       "                        <td id=\"T_2a0e7afc_b5cd_11ec_87e6_1856807aed14row5_col6\" class=\"data row5 col6\" ></td>\n",
       "                        <td id=\"T_2a0e7afc_b5cd_11ec_87e6_1856807aed14row5_col7\" class=\"data row5 col7\" ></td>\n",
       "                        <td id=\"T_2a0e7afc_b5cd_11ec_87e6_1856807aed14row5_col8\" class=\"data row5 col8\" ></td>\n",
       "                        <td id=\"T_2a0e7afc_b5cd_11ec_87e6_1856807aed14row5_col9\" class=\"data row5 col9\" ></td>\n",
       "                        <td id=\"T_2a0e7afc_b5cd_11ec_87e6_1856807aed14row5_col10\" class=\"data row5 col10\" ></td>\n",
       "            </tr>\n",
       "            <tr>\n",
       "                        <th id=\"T_2a0e7afc_b5cd_11ec_87e6_1856807aed14level0_row6\" class=\"row_heading level0 row6\" >2017-07-01 00:00:00</th>\n",
       "                        <td id=\"T_2a0e7afc_b5cd_11ec_87e6_1856807aed14row6_col0\" class=\"data row6 col0\" >100.00%</td>\n",
       "                        <td id=\"T_2a0e7afc_b5cd_11ec_87e6_1856807aed14row6_col1\" class=\"data row6 col1\" ></td>\n",
       "                        <td id=\"T_2a0e7afc_b5cd_11ec_87e6_1856807aed14row6_col2\" class=\"data row6 col2\" ></td>\n",
       "                        <td id=\"T_2a0e7afc_b5cd_11ec_87e6_1856807aed14row6_col3\" class=\"data row6 col3\" >25.00%</td>\n",
       "                        <td id=\"T_2a0e7afc_b5cd_11ec_87e6_1856807aed14row6_col4\" class=\"data row6 col4\" >25.00%</td>\n",
       "                        <td id=\"T_2a0e7afc_b5cd_11ec_87e6_1856807aed14row6_col5\" class=\"data row6 col5\" ></td>\n",
       "                        <td id=\"T_2a0e7afc_b5cd_11ec_87e6_1856807aed14row6_col6\" class=\"data row6 col6\" ></td>\n",
       "                        <td id=\"T_2a0e7afc_b5cd_11ec_87e6_1856807aed14row6_col7\" class=\"data row6 col7\" ></td>\n",
       "                        <td id=\"T_2a0e7afc_b5cd_11ec_87e6_1856807aed14row6_col8\" class=\"data row6 col8\" ></td>\n",
       "                        <td id=\"T_2a0e7afc_b5cd_11ec_87e6_1856807aed14row6_col9\" class=\"data row6 col9\" ></td>\n",
       "                        <td id=\"T_2a0e7afc_b5cd_11ec_87e6_1856807aed14row6_col10\" class=\"data row6 col10\" ></td>\n",
       "            </tr>\n",
       "            <tr>\n",
       "                        <th id=\"T_2a0e7afc_b5cd_11ec_87e6_1856807aed14level0_row7\" class=\"row_heading level0 row7\" >2017-08-01 00:00:00</th>\n",
       "                        <td id=\"T_2a0e7afc_b5cd_11ec_87e6_1856807aed14row7_col0\" class=\"data row7 col0\" >100.00%</td>\n",
       "                        <td id=\"T_2a0e7afc_b5cd_11ec_87e6_1856807aed14row7_col1\" class=\"data row7 col1\" >50.00%</td>\n",
       "                        <td id=\"T_2a0e7afc_b5cd_11ec_87e6_1856807aed14row7_col2\" class=\"data row7 col2\" >75.00%</td>\n",
       "                        <td id=\"T_2a0e7afc_b5cd_11ec_87e6_1856807aed14row7_col3\" class=\"data row7 col3\" >50.00%</td>\n",
       "                        <td id=\"T_2a0e7afc_b5cd_11ec_87e6_1856807aed14row7_col4\" class=\"data row7 col4\" >25.00%</td>\n",
       "                        <td id=\"T_2a0e7afc_b5cd_11ec_87e6_1856807aed14row7_col5\" class=\"data row7 col5\" ></td>\n",
       "                        <td id=\"T_2a0e7afc_b5cd_11ec_87e6_1856807aed14row7_col6\" class=\"data row7 col6\" ></td>\n",
       "                        <td id=\"T_2a0e7afc_b5cd_11ec_87e6_1856807aed14row7_col7\" class=\"data row7 col7\" ></td>\n",
       "                        <td id=\"T_2a0e7afc_b5cd_11ec_87e6_1856807aed14row7_col8\" class=\"data row7 col8\" ></td>\n",
       "                        <td id=\"T_2a0e7afc_b5cd_11ec_87e6_1856807aed14row7_col9\" class=\"data row7 col9\" ></td>\n",
       "                        <td id=\"T_2a0e7afc_b5cd_11ec_87e6_1856807aed14row7_col10\" class=\"data row7 col10\" ></td>\n",
       "            </tr>\n",
       "            <tr>\n",
       "                        <th id=\"T_2a0e7afc_b5cd_11ec_87e6_1856807aed14level0_row8\" class=\"row_heading level0 row8\" >2017-09-01 00:00:00</th>\n",
       "                        <td id=\"T_2a0e7afc_b5cd_11ec_87e6_1856807aed14row8_col0\" class=\"data row8 col0\" >100.00%</td>\n",
       "                        <td id=\"T_2a0e7afc_b5cd_11ec_87e6_1856807aed14row8_col1\" class=\"data row8 col1\" ></td>\n",
       "                        <td id=\"T_2a0e7afc_b5cd_11ec_87e6_1856807aed14row8_col2\" class=\"data row8 col2\" >25.00%</td>\n",
       "                        <td id=\"T_2a0e7afc_b5cd_11ec_87e6_1856807aed14row8_col3\" class=\"data row8 col3\" ></td>\n",
       "                        <td id=\"T_2a0e7afc_b5cd_11ec_87e6_1856807aed14row8_col4\" class=\"data row8 col4\" ></td>\n",
       "                        <td id=\"T_2a0e7afc_b5cd_11ec_87e6_1856807aed14row8_col5\" class=\"data row8 col5\" ></td>\n",
       "                        <td id=\"T_2a0e7afc_b5cd_11ec_87e6_1856807aed14row8_col6\" class=\"data row8 col6\" ></td>\n",
       "                        <td id=\"T_2a0e7afc_b5cd_11ec_87e6_1856807aed14row8_col7\" class=\"data row8 col7\" ></td>\n",
       "                        <td id=\"T_2a0e7afc_b5cd_11ec_87e6_1856807aed14row8_col8\" class=\"data row8 col8\" ></td>\n",
       "                        <td id=\"T_2a0e7afc_b5cd_11ec_87e6_1856807aed14row8_col9\" class=\"data row8 col9\" ></td>\n",
       "                        <td id=\"T_2a0e7afc_b5cd_11ec_87e6_1856807aed14row8_col10\" class=\"data row8 col10\" ></td>\n",
       "            </tr>\n",
       "            <tr>\n",
       "                        <th id=\"T_2a0e7afc_b5cd_11ec_87e6_1856807aed14level0_row9\" class=\"row_heading level0 row9\" >2017-10-01 00:00:00</th>\n",
       "                        <td id=\"T_2a0e7afc_b5cd_11ec_87e6_1856807aed14row9_col0\" class=\"data row9 col0\" >100.00%</td>\n",
       "                        <td id=\"T_2a0e7afc_b5cd_11ec_87e6_1856807aed14row9_col1\" class=\"data row9 col1\" >1.49%</td>\n",
       "                        <td id=\"T_2a0e7afc_b5cd_11ec_87e6_1856807aed14row9_col2\" class=\"data row9 col2\" >2.99%</td>\n",
       "                        <td id=\"T_2a0e7afc_b5cd_11ec_87e6_1856807aed14row9_col3\" class=\"data row9 col3\" ></td>\n",
       "                        <td id=\"T_2a0e7afc_b5cd_11ec_87e6_1856807aed14row9_col4\" class=\"data row9 col4\" ></td>\n",
       "                        <td id=\"T_2a0e7afc_b5cd_11ec_87e6_1856807aed14row9_col5\" class=\"data row9 col5\" ></td>\n",
       "                        <td id=\"T_2a0e7afc_b5cd_11ec_87e6_1856807aed14row9_col6\" class=\"data row9 col6\" ></td>\n",
       "                        <td id=\"T_2a0e7afc_b5cd_11ec_87e6_1856807aed14row9_col7\" class=\"data row9 col7\" ></td>\n",
       "                        <td id=\"T_2a0e7afc_b5cd_11ec_87e6_1856807aed14row9_col8\" class=\"data row9 col8\" ></td>\n",
       "                        <td id=\"T_2a0e7afc_b5cd_11ec_87e6_1856807aed14row9_col9\" class=\"data row9 col9\" ></td>\n",
       "                        <td id=\"T_2a0e7afc_b5cd_11ec_87e6_1856807aed14row9_col10\" class=\"data row9 col10\" ></td>\n",
       "            </tr>\n",
       "            <tr>\n",
       "                        <th id=\"T_2a0e7afc_b5cd_11ec_87e6_1856807aed14level0_row10\" class=\"row_heading level0 row10\" >2017-11-01 00:00:00</th>\n",
       "                        <td id=\"T_2a0e7afc_b5cd_11ec_87e6_1856807aed14row10_col0\" class=\"data row10 col0\" >100.00%</td>\n",
       "                        <td id=\"T_2a0e7afc_b5cd_11ec_87e6_1856807aed14row10_col1\" class=\"data row10 col1\" ></td>\n",
       "                        <td id=\"T_2a0e7afc_b5cd_11ec_87e6_1856807aed14row10_col2\" class=\"data row10 col2\" ></td>\n",
       "                        <td id=\"T_2a0e7afc_b5cd_11ec_87e6_1856807aed14row10_col3\" class=\"data row10 col3\" ></td>\n",
       "                        <td id=\"T_2a0e7afc_b5cd_11ec_87e6_1856807aed14row10_col4\" class=\"data row10 col4\" ></td>\n",
       "                        <td id=\"T_2a0e7afc_b5cd_11ec_87e6_1856807aed14row10_col5\" class=\"data row10 col5\" ></td>\n",
       "                        <td id=\"T_2a0e7afc_b5cd_11ec_87e6_1856807aed14row10_col6\" class=\"data row10 col6\" ></td>\n",
       "                        <td id=\"T_2a0e7afc_b5cd_11ec_87e6_1856807aed14row10_col7\" class=\"data row10 col7\" ></td>\n",
       "                        <td id=\"T_2a0e7afc_b5cd_11ec_87e6_1856807aed14row10_col8\" class=\"data row10 col8\" ></td>\n",
       "                        <td id=\"T_2a0e7afc_b5cd_11ec_87e6_1856807aed14row10_col9\" class=\"data row10 col9\" ></td>\n",
       "                        <td id=\"T_2a0e7afc_b5cd_11ec_87e6_1856807aed14row10_col10\" class=\"data row10 col10\" ></td>\n",
       "            </tr>\n",
       "            <tr>\n",
       "                        <th id=\"T_2a0e7afc_b5cd_11ec_87e6_1856807aed14level0_row11\" class=\"row_heading level0 row11\" >2017-12-01 00:00:00</th>\n",
       "                        <td id=\"T_2a0e7afc_b5cd_11ec_87e6_1856807aed14row11_col0\" class=\"data row11 col0\" >100.00%</td>\n",
       "                        <td id=\"T_2a0e7afc_b5cd_11ec_87e6_1856807aed14row11_col1\" class=\"data row11 col1\" ></td>\n",
       "                        <td id=\"T_2a0e7afc_b5cd_11ec_87e6_1856807aed14row11_col2\" class=\"data row11 col2\" ></td>\n",
       "                        <td id=\"T_2a0e7afc_b5cd_11ec_87e6_1856807aed14row11_col3\" class=\"data row11 col3\" ></td>\n",
       "                        <td id=\"T_2a0e7afc_b5cd_11ec_87e6_1856807aed14row11_col4\" class=\"data row11 col4\" ></td>\n",
       "                        <td id=\"T_2a0e7afc_b5cd_11ec_87e6_1856807aed14row11_col5\" class=\"data row11 col5\" ></td>\n",
       "                        <td id=\"T_2a0e7afc_b5cd_11ec_87e6_1856807aed14row11_col6\" class=\"data row11 col6\" ></td>\n",
       "                        <td id=\"T_2a0e7afc_b5cd_11ec_87e6_1856807aed14row11_col7\" class=\"data row11 col7\" ></td>\n",
       "                        <td id=\"T_2a0e7afc_b5cd_11ec_87e6_1856807aed14row11_col8\" class=\"data row11 col8\" ></td>\n",
       "                        <td id=\"T_2a0e7afc_b5cd_11ec_87e6_1856807aed14row11_col9\" class=\"data row11 col9\" ></td>\n",
       "                        <td id=\"T_2a0e7afc_b5cd_11ec_87e6_1856807aed14row11_col10\" class=\"data row11 col10\" ></td>\n",
       "            </tr>\n",
       "    </tbody></table>"
      ],
      "text/plain": [
       "<pandas.io.formats.style.Styler at 0x1f1fd055d60>"
      ]
     },
     "execution_count": 185,
     "metadata": {},
     "output_type": "execute_result"
    }
   ],
   "source": [
    "retetion_table_by_transactions_v2(transactions_test)"
   ]
  },
  {
   "cell_type": "code",
   "execution_count": 186,
   "metadata": {},
   "outputs": [],
   "source": [
    "transactions_control = pd.concat([transactions_control_1, transactions_control_2])"
   ]
  },
  {
   "cell_type": "code",
   "execution_count": 187,
   "metadata": {
    "scrolled": false
   },
   "outputs": [
    {
     "data": {
      "text/html": [
       "<style  type=\"text/css\" >\n",
       "#T_2c8954df_b5cd_11ec_a457_1856807aed14row0_col1,#T_2c8954df_b5cd_11ec_a457_1856807aed14row0_col4,#T_2c8954df_b5cd_11ec_a457_1856807aed14row0_col8,#T_2c8954df_b5cd_11ec_a457_1856807aed14row1_col1,#T_2c8954df_b5cd_11ec_a457_1856807aed14row1_col3,#T_2c8954df_b5cd_11ec_a457_1856807aed14row1_col4,#T_2c8954df_b5cd_11ec_a457_1856807aed14row1_col5,#T_2c8954df_b5cd_11ec_a457_1856807aed14row1_col6,#T_2c8954df_b5cd_11ec_a457_1856807aed14row1_col7,#T_2c8954df_b5cd_11ec_a457_1856807aed14row1_col10,#T_2c8954df_b5cd_11ec_a457_1856807aed14row2_col6,#T_2c8954df_b5cd_11ec_a457_1856807aed14row2_col10,#T_2c8954df_b5cd_11ec_a457_1856807aed14row3_col1,#T_2c8954df_b5cd_11ec_a457_1856807aed14row3_col3,#T_2c8954df_b5cd_11ec_a457_1856807aed14row3_col4,#T_2c8954df_b5cd_11ec_a457_1856807aed14row3_col5,#T_2c8954df_b5cd_11ec_a457_1856807aed14row3_col8,#T_2c8954df_b5cd_11ec_a457_1856807aed14row3_col9,#T_2c8954df_b5cd_11ec_a457_1856807aed14row3_col10,#T_2c8954df_b5cd_11ec_a457_1856807aed14row4_col8,#T_2c8954df_b5cd_11ec_a457_1856807aed14row4_col9,#T_2c8954df_b5cd_11ec_a457_1856807aed14row4_col10,#T_2c8954df_b5cd_11ec_a457_1856807aed14row5_col5,#T_2c8954df_b5cd_11ec_a457_1856807aed14row5_col6,#T_2c8954df_b5cd_11ec_a457_1856807aed14row5_col7,#T_2c8954df_b5cd_11ec_a457_1856807aed14row5_col8,#T_2c8954df_b5cd_11ec_a457_1856807aed14row5_col9,#T_2c8954df_b5cd_11ec_a457_1856807aed14row5_col10,#T_2c8954df_b5cd_11ec_a457_1856807aed14row6_col4,#T_2c8954df_b5cd_11ec_a457_1856807aed14row6_col5,#T_2c8954df_b5cd_11ec_a457_1856807aed14row6_col6,#T_2c8954df_b5cd_11ec_a457_1856807aed14row6_col7,#T_2c8954df_b5cd_11ec_a457_1856807aed14row6_col8,#T_2c8954df_b5cd_11ec_a457_1856807aed14row6_col9,#T_2c8954df_b5cd_11ec_a457_1856807aed14row6_col10,#T_2c8954df_b5cd_11ec_a457_1856807aed14row7_col2,#T_2c8954df_b5cd_11ec_a457_1856807aed14row7_col3,#T_2c8954df_b5cd_11ec_a457_1856807aed14row7_col5,#T_2c8954df_b5cd_11ec_a457_1856807aed14row7_col6,#T_2c8954df_b5cd_11ec_a457_1856807aed14row7_col7,#T_2c8954df_b5cd_11ec_a457_1856807aed14row7_col8,#T_2c8954df_b5cd_11ec_a457_1856807aed14row7_col9,#T_2c8954df_b5cd_11ec_a457_1856807aed14row7_col10,#T_2c8954df_b5cd_11ec_a457_1856807aed14row8_col3,#T_2c8954df_b5cd_11ec_a457_1856807aed14row8_col4,#T_2c8954df_b5cd_11ec_a457_1856807aed14row8_col5,#T_2c8954df_b5cd_11ec_a457_1856807aed14row8_col6,#T_2c8954df_b5cd_11ec_a457_1856807aed14row8_col7,#T_2c8954df_b5cd_11ec_a457_1856807aed14row8_col8,#T_2c8954df_b5cd_11ec_a457_1856807aed14row8_col9,#T_2c8954df_b5cd_11ec_a457_1856807aed14row8_col10,#T_2c8954df_b5cd_11ec_a457_1856807aed14row9_col2,#T_2c8954df_b5cd_11ec_a457_1856807aed14row9_col3,#T_2c8954df_b5cd_11ec_a457_1856807aed14row9_col4,#T_2c8954df_b5cd_11ec_a457_1856807aed14row9_col5,#T_2c8954df_b5cd_11ec_a457_1856807aed14row9_col6,#T_2c8954df_b5cd_11ec_a457_1856807aed14row9_col7,#T_2c8954df_b5cd_11ec_a457_1856807aed14row9_col8,#T_2c8954df_b5cd_11ec_a457_1856807aed14row9_col9,#T_2c8954df_b5cd_11ec_a457_1856807aed14row9_col10,#T_2c8954df_b5cd_11ec_a457_1856807aed14row10_col2,#T_2c8954df_b5cd_11ec_a457_1856807aed14row10_col3,#T_2c8954df_b5cd_11ec_a457_1856807aed14row10_col4,#T_2c8954df_b5cd_11ec_a457_1856807aed14row10_col5,#T_2c8954df_b5cd_11ec_a457_1856807aed14row10_col6,#T_2c8954df_b5cd_11ec_a457_1856807aed14row10_col7,#T_2c8954df_b5cd_11ec_a457_1856807aed14row10_col8,#T_2c8954df_b5cd_11ec_a457_1856807aed14row10_col9,#T_2c8954df_b5cd_11ec_a457_1856807aed14row10_col10,#T_2c8954df_b5cd_11ec_a457_1856807aed14row11_col1,#T_2c8954df_b5cd_11ec_a457_1856807aed14row11_col2,#T_2c8954df_b5cd_11ec_a457_1856807aed14row11_col3,#T_2c8954df_b5cd_11ec_a457_1856807aed14row11_col4,#T_2c8954df_b5cd_11ec_a457_1856807aed14row11_col5,#T_2c8954df_b5cd_11ec_a457_1856807aed14row11_col6,#T_2c8954df_b5cd_11ec_a457_1856807aed14row11_col7,#T_2c8954df_b5cd_11ec_a457_1856807aed14row11_col8,#T_2c8954df_b5cd_11ec_a457_1856807aed14row11_col9,#T_2c8954df_b5cd_11ec_a457_1856807aed14row11_col10{\n",
       "            background-color:  white;\n",
       "        }</style><table id=\"T_2c8954df_b5cd_11ec_a457_1856807aed14\" ><caption>User retention by cohort</caption><thead>    <tr>        <th class=\"index_name level0\" >month_retention</th>        <th class=\"col_heading level0 col0\" >0</th>        <th class=\"col_heading level0 col1\" >1</th>        <th class=\"col_heading level0 col2\" >2</th>        <th class=\"col_heading level0 col3\" >3</th>        <th class=\"col_heading level0 col4\" >4</th>        <th class=\"col_heading level0 col5\" >5</th>        <th class=\"col_heading level0 col6\" >6</th>        <th class=\"col_heading level0 col7\" >7</th>        <th class=\"col_heading level0 col8\" >8</th>        <th class=\"col_heading level0 col9\" >9</th>        <th class=\"col_heading level0 col10\" >11</th>    </tr>    <tr>        <th class=\"index_name level0\" >fist_pay</th>        <th class=\"blank\" ></th>        <th class=\"blank\" ></th>        <th class=\"blank\" ></th>        <th class=\"blank\" ></th>        <th class=\"blank\" ></th>        <th class=\"blank\" ></th>        <th class=\"blank\" ></th>        <th class=\"blank\" ></th>        <th class=\"blank\" ></th>        <th class=\"blank\" ></th>        <th class=\"blank\" ></th>    </tr></thead><tbody>\n",
       "                <tr>\n",
       "                        <th id=\"T_2c8954df_b5cd_11ec_a457_1856807aed14level0_row0\" class=\"row_heading level0 row0\" >2017-01-01 00:00:00</th>\n",
       "                        <td id=\"T_2c8954df_b5cd_11ec_a457_1856807aed14row0_col0\" class=\"data row0 col0\" >100.00%</td>\n",
       "                        <td id=\"T_2c8954df_b5cd_11ec_a457_1856807aed14row0_col1\" class=\"data row0 col1\" ></td>\n",
       "                        <td id=\"T_2c8954df_b5cd_11ec_a457_1856807aed14row0_col2\" class=\"data row0 col2\" >8.33%</td>\n",
       "                        <td id=\"T_2c8954df_b5cd_11ec_a457_1856807aed14row0_col3\" class=\"data row0 col3\" >8.33%</td>\n",
       "                        <td id=\"T_2c8954df_b5cd_11ec_a457_1856807aed14row0_col4\" class=\"data row0 col4\" ></td>\n",
       "                        <td id=\"T_2c8954df_b5cd_11ec_a457_1856807aed14row0_col5\" class=\"data row0 col5\" >8.33%</td>\n",
       "                        <td id=\"T_2c8954df_b5cd_11ec_a457_1856807aed14row0_col6\" class=\"data row0 col6\" >8.33%</td>\n",
       "                        <td id=\"T_2c8954df_b5cd_11ec_a457_1856807aed14row0_col7\" class=\"data row0 col7\" >8.33%</td>\n",
       "                        <td id=\"T_2c8954df_b5cd_11ec_a457_1856807aed14row0_col8\" class=\"data row0 col8\" ></td>\n",
       "                        <td id=\"T_2c8954df_b5cd_11ec_a457_1856807aed14row0_col9\" class=\"data row0 col9\" >25.00%</td>\n",
       "                        <td id=\"T_2c8954df_b5cd_11ec_a457_1856807aed14row0_col10\" class=\"data row0 col10\" >16.67%</td>\n",
       "            </tr>\n",
       "            <tr>\n",
       "                        <th id=\"T_2c8954df_b5cd_11ec_a457_1856807aed14level0_row1\" class=\"row_heading level0 row1\" >2017-02-01 00:00:00</th>\n",
       "                        <td id=\"T_2c8954df_b5cd_11ec_a457_1856807aed14row1_col0\" class=\"data row1 col0\" >100.00%</td>\n",
       "                        <td id=\"T_2c8954df_b5cd_11ec_a457_1856807aed14row1_col1\" class=\"data row1 col1\" ></td>\n",
       "                        <td id=\"T_2c8954df_b5cd_11ec_a457_1856807aed14row1_col2\" class=\"data row1 col2\" >6.25%</td>\n",
       "                        <td id=\"T_2c8954df_b5cd_11ec_a457_1856807aed14row1_col3\" class=\"data row1 col3\" ></td>\n",
       "                        <td id=\"T_2c8954df_b5cd_11ec_a457_1856807aed14row1_col4\" class=\"data row1 col4\" ></td>\n",
       "                        <td id=\"T_2c8954df_b5cd_11ec_a457_1856807aed14row1_col5\" class=\"data row1 col5\" ></td>\n",
       "                        <td id=\"T_2c8954df_b5cd_11ec_a457_1856807aed14row1_col6\" class=\"data row1 col6\" ></td>\n",
       "                        <td id=\"T_2c8954df_b5cd_11ec_a457_1856807aed14row1_col7\" class=\"data row1 col7\" ></td>\n",
       "                        <td id=\"T_2c8954df_b5cd_11ec_a457_1856807aed14row1_col8\" class=\"data row1 col8\" >31.25%</td>\n",
       "                        <td id=\"T_2c8954df_b5cd_11ec_a457_1856807aed14row1_col9\" class=\"data row1 col9\" >6.25%</td>\n",
       "                        <td id=\"T_2c8954df_b5cd_11ec_a457_1856807aed14row1_col10\" class=\"data row1 col10\" ></td>\n",
       "            </tr>\n",
       "            <tr>\n",
       "                        <th id=\"T_2c8954df_b5cd_11ec_a457_1856807aed14level0_row2\" class=\"row_heading level0 row2\" >2017-03-01 00:00:00</th>\n",
       "                        <td id=\"T_2c8954df_b5cd_11ec_a457_1856807aed14row2_col0\" class=\"data row2 col0\" >100.00%</td>\n",
       "                        <td id=\"T_2c8954df_b5cd_11ec_a457_1856807aed14row2_col1\" class=\"data row2 col1\" >41.67%</td>\n",
       "                        <td id=\"T_2c8954df_b5cd_11ec_a457_1856807aed14row2_col2\" class=\"data row2 col2\" >16.67%</td>\n",
       "                        <td id=\"T_2c8954df_b5cd_11ec_a457_1856807aed14row2_col3\" class=\"data row2 col3\" >8.33%</td>\n",
       "                        <td id=\"T_2c8954df_b5cd_11ec_a457_1856807aed14row2_col4\" class=\"data row2 col4\" >8.33%</td>\n",
       "                        <td id=\"T_2c8954df_b5cd_11ec_a457_1856807aed14row2_col5\" class=\"data row2 col5\" >8.33%</td>\n",
       "                        <td id=\"T_2c8954df_b5cd_11ec_a457_1856807aed14row2_col6\" class=\"data row2 col6\" ></td>\n",
       "                        <td id=\"T_2c8954df_b5cd_11ec_a457_1856807aed14row2_col7\" class=\"data row2 col7\" >25.00%</td>\n",
       "                        <td id=\"T_2c8954df_b5cd_11ec_a457_1856807aed14row2_col8\" class=\"data row2 col8\" >8.33%</td>\n",
       "                        <td id=\"T_2c8954df_b5cd_11ec_a457_1856807aed14row2_col9\" class=\"data row2 col9\" >8.33%</td>\n",
       "                        <td id=\"T_2c8954df_b5cd_11ec_a457_1856807aed14row2_col10\" class=\"data row2 col10\" ></td>\n",
       "            </tr>\n",
       "            <tr>\n",
       "                        <th id=\"T_2c8954df_b5cd_11ec_a457_1856807aed14level0_row3\" class=\"row_heading level0 row3\" >2017-04-01 00:00:00</th>\n",
       "                        <td id=\"T_2c8954df_b5cd_11ec_a457_1856807aed14row3_col0\" class=\"data row3 col0\" >100.00%</td>\n",
       "                        <td id=\"T_2c8954df_b5cd_11ec_a457_1856807aed14row3_col1\" class=\"data row3 col1\" ></td>\n",
       "                        <td id=\"T_2c8954df_b5cd_11ec_a457_1856807aed14row3_col2\" class=\"data row3 col2\" >5.56%</td>\n",
       "                        <td id=\"T_2c8954df_b5cd_11ec_a457_1856807aed14row3_col3\" class=\"data row3 col3\" ></td>\n",
       "                        <td id=\"T_2c8954df_b5cd_11ec_a457_1856807aed14row3_col4\" class=\"data row3 col4\" ></td>\n",
       "                        <td id=\"T_2c8954df_b5cd_11ec_a457_1856807aed14row3_col5\" class=\"data row3 col5\" ></td>\n",
       "                        <td id=\"T_2c8954df_b5cd_11ec_a457_1856807aed14row3_col6\" class=\"data row3 col6\" >11.11%</td>\n",
       "                        <td id=\"T_2c8954df_b5cd_11ec_a457_1856807aed14row3_col7\" class=\"data row3 col7\" >5.56%</td>\n",
       "                        <td id=\"T_2c8954df_b5cd_11ec_a457_1856807aed14row3_col8\" class=\"data row3 col8\" ></td>\n",
       "                        <td id=\"T_2c8954df_b5cd_11ec_a457_1856807aed14row3_col9\" class=\"data row3 col9\" ></td>\n",
       "                        <td id=\"T_2c8954df_b5cd_11ec_a457_1856807aed14row3_col10\" class=\"data row3 col10\" ></td>\n",
       "            </tr>\n",
       "            <tr>\n",
       "                        <th id=\"T_2c8954df_b5cd_11ec_a457_1856807aed14level0_row4\" class=\"row_heading level0 row4\" >2017-05-01 00:00:00</th>\n",
       "                        <td id=\"T_2c8954df_b5cd_11ec_a457_1856807aed14row4_col0\" class=\"data row4 col0\" >100.00%</td>\n",
       "                        <td id=\"T_2c8954df_b5cd_11ec_a457_1856807aed14row4_col1\" class=\"data row4 col1\" >7.41%</td>\n",
       "                        <td id=\"T_2c8954df_b5cd_11ec_a457_1856807aed14row4_col2\" class=\"data row4 col2\" >3.70%</td>\n",
       "                        <td id=\"T_2c8954df_b5cd_11ec_a457_1856807aed14row4_col3\" class=\"data row4 col3\" >3.70%</td>\n",
       "                        <td id=\"T_2c8954df_b5cd_11ec_a457_1856807aed14row4_col4\" class=\"data row4 col4\" >3.70%</td>\n",
       "                        <td id=\"T_2c8954df_b5cd_11ec_a457_1856807aed14row4_col5\" class=\"data row4 col5\" >7.41%</td>\n",
       "                        <td id=\"T_2c8954df_b5cd_11ec_a457_1856807aed14row4_col6\" class=\"data row4 col6\" >11.11%</td>\n",
       "                        <td id=\"T_2c8954df_b5cd_11ec_a457_1856807aed14row4_col7\" class=\"data row4 col7\" >7.41%</td>\n",
       "                        <td id=\"T_2c8954df_b5cd_11ec_a457_1856807aed14row4_col8\" class=\"data row4 col8\" ></td>\n",
       "                        <td id=\"T_2c8954df_b5cd_11ec_a457_1856807aed14row4_col9\" class=\"data row4 col9\" ></td>\n",
       "                        <td id=\"T_2c8954df_b5cd_11ec_a457_1856807aed14row4_col10\" class=\"data row4 col10\" ></td>\n",
       "            </tr>\n",
       "            <tr>\n",
       "                        <th id=\"T_2c8954df_b5cd_11ec_a457_1856807aed14level0_row5\" class=\"row_heading level0 row5\" >2017-06-01 00:00:00</th>\n",
       "                        <td id=\"T_2c8954df_b5cd_11ec_a457_1856807aed14row5_col0\" class=\"data row5 col0\" >100.00%</td>\n",
       "                        <td id=\"T_2c8954df_b5cd_11ec_a457_1856807aed14row5_col1\" class=\"data row5 col1\" >7.14%</td>\n",
       "                        <td id=\"T_2c8954df_b5cd_11ec_a457_1856807aed14row5_col2\" class=\"data row5 col2\" >7.14%</td>\n",
       "                        <td id=\"T_2c8954df_b5cd_11ec_a457_1856807aed14row5_col3\" class=\"data row5 col3\" >3.57%</td>\n",
       "                        <td id=\"T_2c8954df_b5cd_11ec_a457_1856807aed14row5_col4\" class=\"data row5 col4\" >14.29%</td>\n",
       "                        <td id=\"T_2c8954df_b5cd_11ec_a457_1856807aed14row5_col5\" class=\"data row5 col5\" ></td>\n",
       "                        <td id=\"T_2c8954df_b5cd_11ec_a457_1856807aed14row5_col6\" class=\"data row5 col6\" ></td>\n",
       "                        <td id=\"T_2c8954df_b5cd_11ec_a457_1856807aed14row5_col7\" class=\"data row5 col7\" ></td>\n",
       "                        <td id=\"T_2c8954df_b5cd_11ec_a457_1856807aed14row5_col8\" class=\"data row5 col8\" ></td>\n",
       "                        <td id=\"T_2c8954df_b5cd_11ec_a457_1856807aed14row5_col9\" class=\"data row5 col9\" ></td>\n",
       "                        <td id=\"T_2c8954df_b5cd_11ec_a457_1856807aed14row5_col10\" class=\"data row5 col10\" ></td>\n",
       "            </tr>\n",
       "            <tr>\n",
       "                        <th id=\"T_2c8954df_b5cd_11ec_a457_1856807aed14level0_row6\" class=\"row_heading level0 row6\" >2017-07-01 00:00:00</th>\n",
       "                        <td id=\"T_2c8954df_b5cd_11ec_a457_1856807aed14row6_col0\" class=\"data row6 col0\" >100.00%</td>\n",
       "                        <td id=\"T_2c8954df_b5cd_11ec_a457_1856807aed14row6_col1\" class=\"data row6 col1\" >6.67%</td>\n",
       "                        <td id=\"T_2c8954df_b5cd_11ec_a457_1856807aed14row6_col2\" class=\"data row6 col2\" >6.67%</td>\n",
       "                        <td id=\"T_2c8954df_b5cd_11ec_a457_1856807aed14row6_col3\" class=\"data row6 col3\" >6.67%</td>\n",
       "                        <td id=\"T_2c8954df_b5cd_11ec_a457_1856807aed14row6_col4\" class=\"data row6 col4\" ></td>\n",
       "                        <td id=\"T_2c8954df_b5cd_11ec_a457_1856807aed14row6_col5\" class=\"data row6 col5\" ></td>\n",
       "                        <td id=\"T_2c8954df_b5cd_11ec_a457_1856807aed14row6_col6\" class=\"data row6 col6\" ></td>\n",
       "                        <td id=\"T_2c8954df_b5cd_11ec_a457_1856807aed14row6_col7\" class=\"data row6 col7\" ></td>\n",
       "                        <td id=\"T_2c8954df_b5cd_11ec_a457_1856807aed14row6_col8\" class=\"data row6 col8\" ></td>\n",
       "                        <td id=\"T_2c8954df_b5cd_11ec_a457_1856807aed14row6_col9\" class=\"data row6 col9\" ></td>\n",
       "                        <td id=\"T_2c8954df_b5cd_11ec_a457_1856807aed14row6_col10\" class=\"data row6 col10\" ></td>\n",
       "            </tr>\n",
       "            <tr>\n",
       "                        <th id=\"T_2c8954df_b5cd_11ec_a457_1856807aed14level0_row7\" class=\"row_heading level0 row7\" >2017-08-01 00:00:00</th>\n",
       "                        <td id=\"T_2c8954df_b5cd_11ec_a457_1856807aed14row7_col0\" class=\"data row7 col0\" >100.00%</td>\n",
       "                        <td id=\"T_2c8954df_b5cd_11ec_a457_1856807aed14row7_col1\" class=\"data row7 col1\" >20.00%</td>\n",
       "                        <td id=\"T_2c8954df_b5cd_11ec_a457_1856807aed14row7_col2\" class=\"data row7 col2\" ></td>\n",
       "                        <td id=\"T_2c8954df_b5cd_11ec_a457_1856807aed14row7_col3\" class=\"data row7 col3\" ></td>\n",
       "                        <td id=\"T_2c8954df_b5cd_11ec_a457_1856807aed14row7_col4\" class=\"data row7 col4\" >6.67%</td>\n",
       "                        <td id=\"T_2c8954df_b5cd_11ec_a457_1856807aed14row7_col5\" class=\"data row7 col5\" ></td>\n",
       "                        <td id=\"T_2c8954df_b5cd_11ec_a457_1856807aed14row7_col6\" class=\"data row7 col6\" ></td>\n",
       "                        <td id=\"T_2c8954df_b5cd_11ec_a457_1856807aed14row7_col7\" class=\"data row7 col7\" ></td>\n",
       "                        <td id=\"T_2c8954df_b5cd_11ec_a457_1856807aed14row7_col8\" class=\"data row7 col8\" ></td>\n",
       "                        <td id=\"T_2c8954df_b5cd_11ec_a457_1856807aed14row7_col9\" class=\"data row7 col9\" ></td>\n",
       "                        <td id=\"T_2c8954df_b5cd_11ec_a457_1856807aed14row7_col10\" class=\"data row7 col10\" ></td>\n",
       "            </tr>\n",
       "            <tr>\n",
       "                        <th id=\"T_2c8954df_b5cd_11ec_a457_1856807aed14level0_row8\" class=\"row_heading level0 row8\" >2017-09-01 00:00:00</th>\n",
       "                        <td id=\"T_2c8954df_b5cd_11ec_a457_1856807aed14row8_col0\" class=\"data row8 col0\" >100.00%</td>\n",
       "                        <td id=\"T_2c8954df_b5cd_11ec_a457_1856807aed14row8_col1\" class=\"data row8 col1\" >28.57%</td>\n",
       "                        <td id=\"T_2c8954df_b5cd_11ec_a457_1856807aed14row8_col2\" class=\"data row8 col2\" >14.29%</td>\n",
       "                        <td id=\"T_2c8954df_b5cd_11ec_a457_1856807aed14row8_col3\" class=\"data row8 col3\" ></td>\n",
       "                        <td id=\"T_2c8954df_b5cd_11ec_a457_1856807aed14row8_col4\" class=\"data row8 col4\" ></td>\n",
       "                        <td id=\"T_2c8954df_b5cd_11ec_a457_1856807aed14row8_col5\" class=\"data row8 col5\" ></td>\n",
       "                        <td id=\"T_2c8954df_b5cd_11ec_a457_1856807aed14row8_col6\" class=\"data row8 col6\" ></td>\n",
       "                        <td id=\"T_2c8954df_b5cd_11ec_a457_1856807aed14row8_col7\" class=\"data row8 col7\" ></td>\n",
       "                        <td id=\"T_2c8954df_b5cd_11ec_a457_1856807aed14row8_col8\" class=\"data row8 col8\" ></td>\n",
       "                        <td id=\"T_2c8954df_b5cd_11ec_a457_1856807aed14row8_col9\" class=\"data row8 col9\" ></td>\n",
       "                        <td id=\"T_2c8954df_b5cd_11ec_a457_1856807aed14row8_col10\" class=\"data row8 col10\" ></td>\n",
       "            </tr>\n",
       "            <tr>\n",
       "                        <th id=\"T_2c8954df_b5cd_11ec_a457_1856807aed14level0_row9\" class=\"row_heading level0 row9\" >2017-10-01 00:00:00</th>\n",
       "                        <td id=\"T_2c8954df_b5cd_11ec_a457_1856807aed14row9_col0\" class=\"data row9 col0\" >100.00%</td>\n",
       "                        <td id=\"T_2c8954df_b5cd_11ec_a457_1856807aed14row9_col1\" class=\"data row9 col1\" >1.66%</td>\n",
       "                        <td id=\"T_2c8954df_b5cd_11ec_a457_1856807aed14row9_col2\" class=\"data row9 col2\" ></td>\n",
       "                        <td id=\"T_2c8954df_b5cd_11ec_a457_1856807aed14row9_col3\" class=\"data row9 col3\" ></td>\n",
       "                        <td id=\"T_2c8954df_b5cd_11ec_a457_1856807aed14row9_col4\" class=\"data row9 col4\" ></td>\n",
       "                        <td id=\"T_2c8954df_b5cd_11ec_a457_1856807aed14row9_col5\" class=\"data row9 col5\" ></td>\n",
       "                        <td id=\"T_2c8954df_b5cd_11ec_a457_1856807aed14row9_col6\" class=\"data row9 col6\" ></td>\n",
       "                        <td id=\"T_2c8954df_b5cd_11ec_a457_1856807aed14row9_col7\" class=\"data row9 col7\" ></td>\n",
       "                        <td id=\"T_2c8954df_b5cd_11ec_a457_1856807aed14row9_col8\" class=\"data row9 col8\" ></td>\n",
       "                        <td id=\"T_2c8954df_b5cd_11ec_a457_1856807aed14row9_col9\" class=\"data row9 col9\" ></td>\n",
       "                        <td id=\"T_2c8954df_b5cd_11ec_a457_1856807aed14row9_col10\" class=\"data row9 col10\" ></td>\n",
       "            </tr>\n",
       "            <tr>\n",
       "                        <th id=\"T_2c8954df_b5cd_11ec_a457_1856807aed14level0_row10\" class=\"row_heading level0 row10\" >2017-11-01 00:00:00</th>\n",
       "                        <td id=\"T_2c8954df_b5cd_11ec_a457_1856807aed14row10_col0\" class=\"data row10 col0\" >100.00%</td>\n",
       "                        <td id=\"T_2c8954df_b5cd_11ec_a457_1856807aed14row10_col1\" class=\"data row10 col1\" >16.67%</td>\n",
       "                        <td id=\"T_2c8954df_b5cd_11ec_a457_1856807aed14row10_col2\" class=\"data row10 col2\" ></td>\n",
       "                        <td id=\"T_2c8954df_b5cd_11ec_a457_1856807aed14row10_col3\" class=\"data row10 col3\" ></td>\n",
       "                        <td id=\"T_2c8954df_b5cd_11ec_a457_1856807aed14row10_col4\" class=\"data row10 col4\" ></td>\n",
       "                        <td id=\"T_2c8954df_b5cd_11ec_a457_1856807aed14row10_col5\" class=\"data row10 col5\" ></td>\n",
       "                        <td id=\"T_2c8954df_b5cd_11ec_a457_1856807aed14row10_col6\" class=\"data row10 col6\" ></td>\n",
       "                        <td id=\"T_2c8954df_b5cd_11ec_a457_1856807aed14row10_col7\" class=\"data row10 col7\" ></td>\n",
       "                        <td id=\"T_2c8954df_b5cd_11ec_a457_1856807aed14row10_col8\" class=\"data row10 col8\" ></td>\n",
       "                        <td id=\"T_2c8954df_b5cd_11ec_a457_1856807aed14row10_col9\" class=\"data row10 col9\" ></td>\n",
       "                        <td id=\"T_2c8954df_b5cd_11ec_a457_1856807aed14row10_col10\" class=\"data row10 col10\" ></td>\n",
       "            </tr>\n",
       "            <tr>\n",
       "                        <th id=\"T_2c8954df_b5cd_11ec_a457_1856807aed14level0_row11\" class=\"row_heading level0 row11\" >2017-12-01 00:00:00</th>\n",
       "                        <td id=\"T_2c8954df_b5cd_11ec_a457_1856807aed14row11_col0\" class=\"data row11 col0\" >100.00%</td>\n",
       "                        <td id=\"T_2c8954df_b5cd_11ec_a457_1856807aed14row11_col1\" class=\"data row11 col1\" ></td>\n",
       "                        <td id=\"T_2c8954df_b5cd_11ec_a457_1856807aed14row11_col2\" class=\"data row11 col2\" ></td>\n",
       "                        <td id=\"T_2c8954df_b5cd_11ec_a457_1856807aed14row11_col3\" class=\"data row11 col3\" ></td>\n",
       "                        <td id=\"T_2c8954df_b5cd_11ec_a457_1856807aed14row11_col4\" class=\"data row11 col4\" ></td>\n",
       "                        <td id=\"T_2c8954df_b5cd_11ec_a457_1856807aed14row11_col5\" class=\"data row11 col5\" ></td>\n",
       "                        <td id=\"T_2c8954df_b5cd_11ec_a457_1856807aed14row11_col6\" class=\"data row11 col6\" ></td>\n",
       "                        <td id=\"T_2c8954df_b5cd_11ec_a457_1856807aed14row11_col7\" class=\"data row11 col7\" ></td>\n",
       "                        <td id=\"T_2c8954df_b5cd_11ec_a457_1856807aed14row11_col8\" class=\"data row11 col8\" ></td>\n",
       "                        <td id=\"T_2c8954df_b5cd_11ec_a457_1856807aed14row11_col9\" class=\"data row11 col9\" ></td>\n",
       "                        <td id=\"T_2c8954df_b5cd_11ec_a457_1856807aed14row11_col10\" class=\"data row11 col10\" ></td>\n",
       "            </tr>\n",
       "    </tbody></table>"
      ],
      "text/plain": [
       "<pandas.io.formats.style.Styler at 0x1f1fd045370>"
      ]
     },
     "execution_count": 187,
     "metadata": {},
     "output_type": "execute_result"
    }
   ],
   "source": [
    "retetion_table_by_transactions_v2(transactions_control)"
   ]
  },
  {
   "cell_type": "code",
   "execution_count": null,
   "metadata": {},
   "outputs": [],
   "source": [
    "#  как видно из сравнения данных о тестовой группе и о контрольных, в тестовой группе не наблюдается существенного оттока.\n",
    "#  что ещё раз подтвержает, то что эксперемент можно считать удачнымюё"
   ]
  },
  {
   "cell_type": "code",
   "execution_count": null,
   "metadata": {},
   "outputs": [],
   "source": []
  },
  {
   "cell_type": "markdown",
   "metadata": {},
   "source": [
    "# Выводы"
   ]
  },
  {
   "cell_type": "markdown",
   "metadata": {},
   "source": [
    "На основании проведенных тестов можно сделать вывод, что наш эксперимент был в целом удачным. Значения ARPU и величина медианного чека выросли по отношению к обоим контрольным группа.\n",
    "Доля платежей продукта \"premium_no_trial\" статистически не изменилась, то есть пользователи не стали чаще подписываться на premium.\n",
    "Стоит обратить внимание, что величина повторных покупок тарифа premium в тестовой группе возросла. В сравнении с первой контрольной группой это изменение нельзя считать статистически значимым, а в сранение со второй можно.\n",
    "Сравнение анализа retention в тестовой и контрольной группе не показывает снижения удержания пользователей в тестовой группе.\n",
    "Анализ эффективности эксперимента в различных регионах нельзя однонозначно интерпретировать из-за маленькой величины выборок. Статистически значимы изменения в Европе и Северной Америкею\n",
    "Анализ эффективности эксперимента в различных возростных группах подствержден почти для всех групп. Для группы от 35 до 50 не подтверждена стат значимость со второй контрольной группой. Также если будет принято решение применить изменения на всю аудиторию, нужно обратить отдельное внимание на группу молодежи до 25 лет, так как средние значения для неё снизилось, а медианное возросло.\n"
   ]
  },
  {
   "cell_type": "markdown",
   "metadata": {},
   "source": [
    "# Замечания"
   ]
  },
  {
   "cell_type": "markdown",
   "metadata": {},
   "source": [
    "В данных обнаружено несколько существенных проблем:\n",
    "1. Существенный дисбаланс по половому признаку. Доля gender = 1 составляет более 95%\n",
    "2. В данных об активности пользователей отсутсвует информация о посещениях свыше месяца\n",
    "3. Для части пользователей совершивших оплату 11 числа любого месяца дата регистрации отображена неверно."
   ]
  },
  {
   "cell_type": "code",
   "execution_count": null,
   "metadata": {},
   "outputs": [],
   "source": []
  }
 ],
 "metadata": {
  "kernelspec": {
   "display_name": "Python 3",
   "language": "python",
   "name": "python3"
  },
  "language_info": {
   "codemirror_mode": {
    "name": "ipython",
    "version": 3
   },
   "file_extension": ".py",
   "mimetype": "text/x-python",
   "name": "python",
   "nbconvert_exporter": "python",
   "pygments_lexer": "ipython3",
   "version": "3.8.5"
  }
 },
 "nbformat": 4,
 "nbformat_minor": 4
}
